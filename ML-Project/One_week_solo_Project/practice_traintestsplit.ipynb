{
 "cells": [
  {
   "cell_type": "code",
   "execution_count": 179,
   "metadata": {},
   "outputs": [],
   "source": [
    "import numpy as np\n",
    "import pandas as pd"
   ]
  },
  {
   "cell_type": "code",
   "execution_count": 180,
   "metadata": {},
   "outputs": [
    {
     "data": {
      "text/html": [
       "<div>\n",
       "<style scoped>\n",
       "    .dataframe tbody tr th:only-of-type {\n",
       "        vertical-align: middle;\n",
       "    }\n",
       "\n",
       "    .dataframe tbody tr th {\n",
       "        vertical-align: top;\n",
       "    }\n",
       "\n",
       "    .dataframe thead th {\n",
       "        text-align: right;\n",
       "    }\n",
       "</style>\n",
       "<table border=\"1\" class=\"dataframe\">\n",
       "  <thead>\n",
       "    <tr style=\"text-align: right;\">\n",
       "      <th></th>\n",
       "      <th>name</th>\n",
       "      <th>lastname</th>\n",
       "      <th>number</th>\n",
       "      <th>arranged number</th>\n",
       "    </tr>\n",
       "  </thead>\n",
       "  <tbody>\n",
       "    <tr>\n",
       "      <th>0</th>\n",
       "      <td>Anwer</td>\n",
       "      <td>Mukhtar</td>\n",
       "      <td>4892ru209</td>\n",
       "      <td>1</td>\n",
       "    </tr>\n",
       "    <tr>\n",
       "      <th>1</th>\n",
       "      <td>Alia</td>\n",
       "      <td>Anwer</td>\n",
       "      <td>824020</td>\n",
       "      <td>2</td>\n",
       "    </tr>\n",
       "    <tr>\n",
       "      <th>2</th>\n",
       "      <td>Muhammad</td>\n",
       "      <td>Shahiq</td>\n",
       "      <td>4242525</td>\n",
       "      <td>3</td>\n",
       "    </tr>\n",
       "    <tr>\n",
       "      <th>3</th>\n",
       "      <td>Sumaid</td>\n",
       "      <td>Mukhtar</td>\n",
       "      <td>5389538952</td>\n",
       "      <td>4</td>\n",
       "    </tr>\n",
       "    <tr>\n",
       "      <th>4</th>\n",
       "      <td>Areeb</td>\n",
       "      <td>Anwer</td>\n",
       "      <td>58u384280</td>\n",
       "      <td>5</td>\n",
       "    </tr>\n",
       "    <tr>\n",
       "      <th>5</th>\n",
       "      <td>A</td>\n",
       "      <td>Aliza</td>\n",
       "      <td>538953875</td>\n",
       "      <td>6</td>\n",
       "    </tr>\n",
       "  </tbody>\n",
       "</table>\n",
       "</div>"
      ],
      "text/plain": [
       "       name lastname      number  arranged number\n",
       "0     Anwer  Mukhtar   4892ru209                1\n",
       "1      Alia    Anwer      824020                2\n",
       "2  Muhammad   Shahiq     4242525                3\n",
       "3    Sumaid  Mukhtar  5389538952                4\n",
       "4     Areeb    Anwer   58u384280                5\n",
       "5         A    Aliza   538953875                6"
      ]
     },
     "execution_count": 180,
     "metadata": {},
     "output_type": "execute_result"
    }
   ],
   "source": [
    "def load_dataset(csv_path):\n",
    "    open_dataset = pd.read_csv(csv_path)\n",
    "    return open_dataset"
   ]
  },
  {
   "cell_type": "code",
   "execution_count": 186,
   "metadata": {},
   "outputs": [],
   "source": [
    "def split_data(data,validation_ratio,test_ratio):\n",
    "\n",
    "    shuffle_rows = np.random.permutation(len(data))\n",
    "\n",
    "    validation_set_size = int(len(data)*validation_ratio)\n",
    "\n",
    "    validation_indices = shuffle_rows[:validation_set_size]\n",
    "\n",
    "    test_set_size = int(len(data)*test_ratio)\n",
    "\n",
    "    test_indices = shuffle_rows[validation_set_size:test_set_size+validation_set_size]\n",
    "\n",
    "    train_indices =shuffle_rows[test_set_size:]\n",
    "\n",
    "    train_set = data.iloc[train_indices]\n",
    "\n",
    "    validation_set = data.iloc[validation_indices]\n",
    "\n",
    "    test_set = data.iloc[test_indices]\n",
    "\n",
    "    return train_set,validation_set,test_set"
   ]
  },
  {
   "cell_type": "code",
   "execution_count": 188,
   "metadata": {},
   "outputs": [],
   "source": [
    "train_set,validation_set,test_set=split_data(load_dataset('my.csv'),validation_ratio=0.1,test_ratio=0.2)"
   ]
  },
  {
   "cell_type": "code",
   "execution_count": 136,
   "metadata": {},
   "outputs": [],
   "source": [
    "def write_csv(name_train,name_validation,name_test):   \n",
    "\n",
    "    train_set_csv = train_set.to_csv(name_train,index=False)\n",
    "\n",
    "    validation_set_csv = validation_set.to_csv(name_validation,index=False)\n",
    "\n",
    "    test_set_csv = test_set.to_csv(name_test,index=False)\n",
    "    \n",
    "    return train_set_csv,validation_set_csv,test_set_csv\n",
    "\n",
    "write_csv(name_train='train.csv',name_validation='validation.csv',name_test='test.csv');"
   ]
  }
 ],
 "metadata": {
  "interpreter": {
   "hash": "7016010205a98451d52b0c4cab227365108095c7ad70437c80600f3976844f69"
  },
  "kernelspec": {
   "display_name": "Python 3.9.4 ('strive')",
   "language": "python",
   "name": "python3"
  },
  "language_info": {
   "codemirror_mode": {
    "name": "ipython",
    "version": 3
   },
   "file_extension": ".py",
   "mimetype": "text/x-python",
   "name": "python",
   "nbconvert_exporter": "python",
   "pygments_lexer": "ipython3",
   "version": "3.9.7"
  },
  "orig_nbformat": 4
 },
 "nbformat": 4,
 "nbformat_minor": 2
}
