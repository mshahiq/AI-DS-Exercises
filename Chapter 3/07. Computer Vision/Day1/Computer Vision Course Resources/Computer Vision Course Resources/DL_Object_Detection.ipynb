{
 "cells": [
  {
   "cell_type": "code",
   "execution_count": 2,
   "metadata": {
    "ExecuteTime": {
     "end_time": "2021-11-24T21:48:16.253952Z",
     "start_time": "2021-11-24T21:48:16.218352Z"
    }
   },
   "outputs": [],
   "source": [
    "import numpy as np\n",
    "import cv2\n",
    "import matplotlib.pyplot as plt\n",
    "from dataPath import DATA_PATH\n",
    "from dataPath import MODEL_PATH\n",
    "%matplotlib inline"
   ]
  },
  {
   "cell_type": "code",
   "execution_count": 3,
   "metadata": {
    "ExecuteTime": {
     "end_time": "2021-11-24T21:48:28.187577Z",
     "start_time": "2021-11-24T21:48:28.177970Z"
    }
   },
   "outputs": [],
   "source": [
    "import matplotlib\n",
    "matplotlib.rcParams['figure.figsize'] = (8.0,8.0)\n",
    "matplotlib.rcParams['image.cmap'] = 'gray'"
   ]
  },
  {
   "cell_type": "code",
   "execution_count": 4,
   "metadata": {
    "ExecuteTime": {
     "end_time": "2021-11-24T21:48:56.625413Z",
     "start_time": "2021-11-24T21:48:56.618646Z"
    }
   },
   "outputs": [],
   "source": [
    "MODEL_PATH = 'models/'\n",
    "modelFile = MODEL_PATH + \"ssd_mobilenet_v2_coco_2018_03_29/frozen_inference_graph.pb\"\n",
    "configFile = MODEL_PATH + \"ssd_mobilenet_v2_coco_2018_03_29.pbtxt\"\n",
    "classFile = MODEL_PATH + \"coco_class_labels.txt\""
   ]
  },
  {
   "cell_type": "code",
   "execution_count": 5,
   "metadata": {
    "ExecuteTime": {
     "end_time": "2021-11-24T21:49:23.732693Z",
     "start_time": "2021-11-24T21:49:22.313179Z"
    }
   },
   "outputs": [],
   "source": [
    "# Read the Tensorflow network\n",
    "net = cv2.dnn.readNetFromTensorflow(modelFile, configFile)"
   ]
  },
  {
   "cell_type": "code",
   "execution_count": 7,
   "metadata": {
    "ExecuteTime": {
     "end_time": "2021-11-24T21:49:34.805611Z",
     "start_time": "2021-11-24T21:49:34.801168Z"
    },
    "slideshow": {
     "slide_type": "-"
    }
   },
   "outputs": [],
   "source": [
    "with open(classFile) as fp:\n",
    "    labels = fp.read().split(\"\\n\")\n"
   ]
  },
  {
   "cell_type": "code",
   "execution_count": 8,
   "metadata": {
    "ExecuteTime": {
     "end_time": "2021-11-24T21:51:51.139116Z",
     "start_time": "2021-11-24T21:51:51.101804Z"
    },
    "scrolled": false
   },
   "outputs": [],
   "source": [
    "# For ach file in the directory\n",
    "def detect_objects(net, im):\n",
    "    # Blob dimension (dim x dim)\n",
    "    dim = 300\n",
    "\n",
    "    mean = (127.5, 127.5, 127.5)\n",
    "    \n",
    "    # The blobFromImage functions will use True for swapRB flag. \n",
    "    # This is because Tensorflow uses RGB format whereas Caffe and OpenCV use BGR format.\n",
    "    swap_rgb = True\n",
    "    \n",
    "    # Create a blob from the image\n",
    "    blob = cv2.dnn.blobFromImage(im, 1.0/127.5, (dim, dim), mean, swap_rgb)\n",
    "    \n",
    "\n",
    "    # Pass blob to the network\n",
    "    net.setInput(blob)\n",
    "    \n",
    "    # Peform Prediction\n",
    "    objects = net.forward()\n",
    "    return objects\n"
   ]
  },
  {
   "cell_type": "code",
   "execution_count": 9,
   "metadata": {
    "ExecuteTime": {
     "end_time": "2021-11-24T21:51:57.761255Z",
     "start_time": "2021-11-24T21:51:57.753873Z"
    },
    "slideshow": {
     "slide_type": "skip"
    }
   },
   "outputs": [],
   "source": [
    "def display_text(im, text, x, y):\n",
    "    \n",
    "    # Get text size \n",
    "    textSize = cv2.getTextSize(text, FONTFACE, FONT_SCALE, THICKNESS)\n",
    "    dim = textSize[0]\n",
    "    baseline = textSize[1]\n",
    "            \n",
    "    # Use text size to create a black rectangle    \n",
    "    cv2.rectangle(im, (x,y-dim[1] - baseline), (x + dim[0], y + baseline), (0,0,0), cv2.FILLED);\n",
    "    # Display text inside the rectangle\n",
    "    cv2.putText(im, text, (x, y-5 ), FONTFACE, FONT_SCALE, (0, 255, 255), THICKNESS, cv2.LINE_AA)\n"
   ]
  },
  {
   "cell_type": "code",
   "execution_count": null,
   "metadata": {
    "ExecuteTime": {
     "end_time": "2021-11-24T21:40:08.800261Z",
     "start_time": "2021-11-24T21:40:08.791975Z"
    },
    "slideshow": {
     "slide_type": "-"
    }
   },
   "outputs": [],
   "source": [
    "FONTFACE = cv2.FONT_HERSHEY_SIMPLEX\n",
    "FONT_SCALE = 0.7\n",
    "THICKNESS = 1\n",
    "\n",
    "def display_objects(im, objects, threshold = 0.25):\n",
    "\n",
    "    rows = im.shape[0]; cols = im.shape[1]\n",
    "\n",
    "    # For every Detected Object\n",
    "    for i in range(objects.shape[2]):\n",
    "        # Find the class and confidence \n",
    "        classId = int(objects[0, 0, i, 1])\n",
    "        score = float(objects[0, 0, i, 2])\n",
    "        \n",
    "        # Recover original cordinates from normalized coordinates\n",
    "        x = int(objects[0, 0, i, 3] * cols)\n",
    "        y = int(objects[0, 0, i, 4] * rows)\n",
    "        w = int(objects[0, 0, i, 5] * cols - x)\n",
    "        h = int(objects[0, 0, i, 6] * rows - y)\n",
    "        \n",
    "        # Check if the detection is of good quality\n",
    "        if score > threshold:\n",
    "            display_text(im, \"{}\".format(labels[classId]), x, y)\n",
    "            cv2.rectangle(im, (x, y), (x + w, y + h), (255, 255, 255), 2)\n",
    "    \n",
    "    # Convert Image to RGB since we are using Matplotlib for displaying image\n",
    "    mp_img = cv2.cvtColor(im, cv2.COLOR_BGR2RGB)\n",
    "    plt.figure(figsize=(30,10)); plt.imshow(mp_img); plt.show();"
   ]
  },
  {
   "cell_type": "code",
   "execution_count": null,
   "metadata": {
    "ExecuteTime": {
     "end_time": "2021-11-24T21:40:09.091133Z",
     "start_time": "2021-11-24T21:40:08.953691Z"
    }
   },
   "outputs": [],
   "source": [
    "! ls data/images"
   ]
  },
  {
   "cell_type": "code",
   "execution_count": null,
   "metadata": {
    "ExecuteTime": {
     "end_time": "2021-11-24T21:40:09.818020Z",
     "start_time": "2021-11-24T21:40:09.102171Z"
    }
   },
   "outputs": [],
   "source": [
    "im = cv2.imread('data/images/street.jpg')\n",
    "objects = detect_objects(net, im)\n",
    "display_objects(im, objects)"
   ]
  },
  {
   "cell_type": "code",
   "execution_count": null,
   "metadata": {
    "ExecuteTime": {
     "end_time": "2021-11-24T21:40:10.702216Z",
     "start_time": "2021-11-24T21:40:09.820098Z"
    },
    "slideshow": {
     "slide_type": "slide"
    }
   },
   "outputs": [],
   "source": [
    "im = cv2.imread('data/images/baseball.jpg')\n",
    "objects = detect_objects(net, im)\n",
    "display_objects(im, objects, 0.2)"
   ]
  },
  {
   "cell_type": "code",
   "execution_count": null,
   "metadata": {
    "ExecuteTime": {
     "end_time": "2021-11-24T21:40:11.863633Z",
     "start_time": "2021-11-24T21:40:10.704936Z"
    },
    "slideshow": {
     "slide_type": "-"
    }
   },
   "outputs": [],
   "source": [
    "im = cv2.imread('data/images/soccer.jpg')\n",
    "objects = detect_objects(net, im)\n",
    "display_objects(im, objects)"
   ]
  }
 ],
 "metadata": {
  "kernelspec": {
   "display_name": "openCV4.5",
   "language": "python",
   "name": "opencv"
  },
  "language_info": {
   "codemirror_mode": {
    "name": "ipython",
    "version": 3
   },
   "file_extension": ".py",
   "mimetype": "text/x-python",
   "name": "python",
   "nbconvert_exporter": "python",
   "pygments_lexer": "ipython3",
   "version": "3.8.5"
  }
 },
 "nbformat": 4,
 "nbformat_minor": 2
}
