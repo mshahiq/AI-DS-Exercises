{
 "cells": [
  {
   "cell_type": "code",
   "execution_count": 5,
   "metadata": {},
   "outputs": [],
   "source": [
    "import cv2\n",
    "import matplotlib.pyplot as plt"
   ]
  },
  {
   "cell_type": "code",
   "execution_count": 8,
   "metadata": {},
   "outputs": [
    {
     "name": "stdout",
     "output_type": "stream",
     "text": [
      "QR DETECTED\n",
      "https://qrco.de/bckoD2\n"
     ]
    }
   ],
   "source": [
    "image = cv2.imread('img/qrcode.jpg')\n",
    "\n",
    "copy_image = image.copy()\n",
    "\n",
    "qrcode_reader = cv2.QRCodeDetector()\n",
    "\n",
    "retval, points, straight_qrcode = qrcode_reader.detectAndDecode(copy_image)\n",
    "\n",
    "if len(retval)>0:\n",
    "    print(\"QR DETECTED\")\n",
    "    print(retval)\n",
    "\n",
    "select_qrcode = cv2.rectangle(copy_image,tuple(points[0][0].astype(int)), tuple(points[0][2].astype(int)),(0,0,255),4)\n",
    "\n",
    "cv2.imshow('indicate_qrcode', copy_image)\n",
    "\n",
    "cv2.waitKey(0)\n",
    "cv2.destroyAllWindows()\n",
    "    "
   ]
  }
 ],
 "metadata": {
  "interpreter": {
   "hash": "7956be55f0a4d1a227c03ac5fe68bdfad7f8e04e8027233117b9a005aabf0adf"
  },
  "kernelspec": {
   "display_name": "Python 3.8.12 ('openCV')",
   "language": "python",
   "name": "python3"
  },
  "language_info": {
   "codemirror_mode": {
    "name": "ipython",
    "version": 3
   },
   "file_extension": ".py",
   "mimetype": "text/x-python",
   "name": "python",
   "nbconvert_exporter": "python",
   "pygments_lexer": "ipython3",
   "version": "3.8.12"
  },
  "orig_nbformat": 4
 },
 "nbformat": 4,
 "nbformat_minor": 2
}
