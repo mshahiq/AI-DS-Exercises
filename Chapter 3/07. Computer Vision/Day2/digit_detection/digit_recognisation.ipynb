{
 "cells": [
  {
   "cell_type": "markdown",
   "metadata": {},
   "source": [
    "Imports"
   ]
  },
  {
   "cell_type": "code",
   "execution_count": 2,
   "metadata": {},
   "outputs": [],
   "source": [
    "import cv2\n",
    "import matplotlib.pyplot as plt\n",
    "import numpy as np\n",
    "\n",
    "import torch\n",
    "import torch.nn as nn\n",
    "import torch.nn.functional as F\n",
    "from torchvision import transforms"
   ]
  },
  {
   "cell_type": "markdown",
   "metadata": {},
   "source": [
    "Neural Network"
   ]
  },
  {
   "cell_type": "code",
   "execution_count": 3,
   "metadata": {},
   "outputs": [],
   "source": [
    "def my_model():\n",
    "    input_size = 784\n",
    "    hidden_sizes = [128, 64]\n",
    "    output_size = 10\n",
    "\n",
    "    model = nn.Sequential(nn.Linear(input_size, hidden_sizes[0]),\n",
    "                          nn.ReLU(),\n",
    "                          nn.Linear(hidden_sizes[0], hidden_sizes[1]),\n",
    "                          nn.ReLU(),\n",
    "                          nn.Linear(hidden_sizes[1], output_size),\n",
    "                          nn.LogSoftmax(dim=1))\n",
    "    return model"
   ]
  },
  {
   "cell_type": "markdown",
   "metadata": {},
   "source": [
    "Preprocessing Function"
   ]
  },
  {
   "cell_type": "code",
   "execution_count": 4,
   "metadata": {},
   "outputs": [],
   "source": [
    "def img_preprocessing(image):\n",
    "    img = cv2.imread(image)\n",
    "    img_rgb = cv2.cvtColor(img, cv2.COLOR_BGR2RGB)\n",
    "    img_gray = cv2.imread(image, cv2.IMREAD_GRAYSCALE)\n",
    "    ret, dst = cv2.threshold(img_gray, 130, 255, cv2.THRESH_BINARY_INV)\n",
    "    kernel = np.ones((2,2),np.uint8)\n",
    "    dst = cv2.dilate(dst, kernel)\n",
    "    re_rgb = cv2.resize(img_rgb, (28, 28))\n",
    "    re_dst = cv2.resize(dst, (28, 28))\n",
    "    return re_rgb, re_dst"
   ]
  },
  {
   "cell_type": "markdown",
   "metadata": {},
   "source": [
    "Visualisation of the image"
   ]
  },
  {
   "cell_type": "code",
   "execution_count": 5,
   "metadata": {},
   "outputs": [],
   "source": [
    "def view_classify(img1, img2, ps):\n",
    "    ps = F.softmax(ps,dim=1)\n",
    "    ps = ps.data.detach().numpy().squeeze()\n",
    "    fig, (ax1, ax2, ax3) = plt.subplots(figsize=(15, 10), ncols=3)\n",
    "    ax1.imshow(img1)\n",
    "    ax1.set_title('Original Image')\n",
    "    ax2.imshow(img2, cmap='gray')\n",
    "    ax2.set_title('Binary Image')\n",
    "    ax3.barh(np.arange(10), ps)\n",
    "    ax3.set_aspect(0.1)\n",
    "    ax3.set_yticks(np.arange(10))\n",
    "    ax3.set_title('Probability')\n",
    "    ax3.set_xlim(0, 1)"
   ]
  },
  {
   "cell_type": "markdown",
   "metadata": {},
   "source": [
    "Importing and reading the image"
   ]
  },
  {
   "cell_type": "code",
   "execution_count": 18,
   "metadata": {},
   "outputs": [
    {
     "data": {
      "image/png": "[encoded data removed]",
      "text/plain": [
       "<Figure size 1080x720 with 3 Axes>"
      ]
     },
     "metadata": {
      "needs_background": "light"
     },
     "output_type": "display_data"
    }
   ],
   "source": [
    "image_path = 'images/3.png'\n",
    "image = cv2.imread(image_path)\n",
    "\n",
    "model_path = 'digits-model.pth'\n",
    "model = my_model()\n",
    "\n",
    "model.load_state_dict(torch.load(model_path))\n",
    "\n",
    "re_rgb, re_dst = img_preprocessing(image_path)\n",
    "\n",
    "set_tensor = transforms.Compose([transforms.ToTensor()])\n",
    "img_tensor = set_tensor(re_dst)\n",
    "\n",
    "img = img_tensor.view(img_tensor.shape[0], -1)\n",
    "\n",
    "# Prediction\n",
    "prediction = model(img)\n",
    "label = prediction.argmax(dim=1).item()\n",
    "\n",
    "view_classify(re_rgb, re_dst, prediction)\n"
   ]
  }
 ],
 "metadata": {
  "interpreter": {
   "hash": "2a136b98596916a9fced8d013399397d75a11ee2601f2ee1b13714ddc0972e81"
  },
  "kernelspec": {
   "display_name": "Python 3.8.12 ('deeplearning')",
   "language": "python",
   "name": "python3"
  },
  "language_info": {
   "codemirror_mode": {
    "name": "ipython",
    "version": 3
   },
   "file_extension": ".py",
   "mimetype": "text/x-python",
   "name": "python",
   "nbconvert_exporter": "python",
   "pygments_lexer": "ipython3",
   "version": "3.8.12"
  },
  "orig_nbformat": 4
 },
 "nbformat": 4,
 "nbformat_minor": 2
}
