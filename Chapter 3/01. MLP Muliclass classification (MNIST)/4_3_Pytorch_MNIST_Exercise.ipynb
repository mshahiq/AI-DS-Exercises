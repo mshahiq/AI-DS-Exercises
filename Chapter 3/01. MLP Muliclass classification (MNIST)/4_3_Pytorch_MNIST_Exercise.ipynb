{
  "nbformat": 4,
  "nbformat_minor": 0,
  "metadata": {
    "colab": {
      "name": "4_3_Pytorch_MNIST_Exercise.ipynb",
      "provenance": [],
      "collapsed_sections": []
    },
    "kernelspec": {
      "display_name": "Python 3",
      "language": "python",
      "name": "python3"
    },
    "language_info": {
      "codemirror_mode": {
        "name": "ipython",
        "version": 3
      },
      "file_extension": ".py",
      "mimetype": "text/x-python",
      "name": "python",
      "nbconvert_exporter": "python",
      "pygments_lexer": "ipython3",
      "version": "3.9.4"
    },
    "widgets": {
      "application/vnd.jupyter.widget-state+json": {
        "f1b6b30742c44735a774f06097fd4c81": {
          "model_module": "@jupyter-widgets/controls",
          "model_name": "HBoxModel",
          "model_module_version": "1.5.0",
          "state": {
            "_view_name": "HBoxView",
            "_dom_classes": [],
            "_model_name": "HBoxModel",
            "_view_module": "@jupyter-widgets/controls",
            "_model_module_version": "1.5.0",
            "_view_count": null,
            "_view_module_version": "1.5.0",
            "box_style": "",
            "layout": "IPY_MODEL_25534febc32e4a86879949cba07e421a",
            "_model_module": "@jupyter-widgets/controls",
            "children": [
              "IPY_MODEL_11ca616f6909437583135817329fdb00",
              "IPY_MODEL_89e4420504094c98819df7ea9700be98",
              "IPY_MODEL_e634dcc5dbf5489ab5831b7cd2014f5a"
            ]
          }
        },
        "25534febc32e4a86879949cba07e421a": {
          "model_module": "@jupyter-widgets/base",
          "model_name": "LayoutModel",
          "model_module_version": "1.2.0",
          "state": {
            "_view_name": "LayoutView",
            "grid_template_rows": null,
            "right": null,
            "justify_content": null,
            "_view_module": "@jupyter-widgets/base",
            "overflow": null,
            "_model_module_version": "1.2.0",
            "_view_count": null,
            "flex_flow": null,
            "width": null,
            "min_width": null,
            "border": null,
            "align_items": null,
            "bottom": null,
            "_model_module": "@jupyter-widgets/base",
            "top": null,
            "grid_column": null,
            "overflow_y": null,
            "overflow_x": null,
            "grid_auto_flow": null,
            "grid_area": null,
            "grid_template_columns": null,
            "flex": null,
            "_model_name": "LayoutModel",
            "justify_items": null,
            "grid_row": null,
            "max_height": null,
            "align_content": null,
            "visibility": null,
            "align_self": null,
            "height": null,
            "min_height": null,
            "padding": null,
            "grid_auto_rows": null,
            "grid_gap": null,
            "max_width": null,
            "order": null,
            "_view_module_version": "1.2.0",
            "grid_template_areas": null,
            "object_position": null,
            "object_fit": null,
            "grid_auto_columns": null,
            "margin": null,
            "display": null,
            "left": null
          }
        },
        "11ca616f6909437583135817329fdb00": {
          "model_module": "@jupyter-widgets/controls",
          "model_name": "HTMLModel",
          "model_module_version": "1.5.0",
          "state": {
            "_view_name": "HTMLView",
            "style": "IPY_MODEL_5daa0006dc4442e79d18486a3489df9e",
            "_dom_classes": [],
            "description": "",
            "_model_name": "HTMLModel",
            "placeholder": "​",
            "_view_module": "@jupyter-widgets/controls",
            "_model_module_version": "1.5.0",
            "value": "",
            "_view_count": null,
            "_view_module_version": "1.5.0",
            "description_tooltip": null,
            "_model_module": "@jupyter-widgets/controls",
            "layout": "IPY_MODEL_ab27a84439ed44fcbb5192bb7b8658a3"
          }
        },
        "89e4420504094c98819df7ea9700be98": {
          "model_module": "@jupyter-widgets/controls",
          "model_name": "FloatProgressModel",
          "model_module_version": "1.5.0",
          "state": {
            "_view_name": "ProgressView",
            "style": "IPY_MODEL_821c254682aa4a68a72817f31c7ae6c6",
            "_dom_classes": [],
            "description": "",
            "_model_name": "FloatProgressModel",
            "bar_style": "success",
            "max": 9912422,
            "_view_module": "@jupyter-widgets/controls",
            "_model_module_version": "1.5.0",
            "value": 9912422,
            "_view_count": null,
            "_view_module_version": "1.5.0",
            "orientation": "horizontal",
            "min": 0,
            "description_tooltip": null,
            "_model_module": "@jupyter-widgets/controls",
            "layout": "IPY_MODEL_6e33d0db099946b190bd1dd6a3d1eb2e"
          }
        },
        "e634dcc5dbf5489ab5831b7cd2014f5a": {
          "model_module": "@jupyter-widgets/controls",
          "model_name": "HTMLModel",
          "model_module_version": "1.5.0",
          "state": {
            "_view_name": "HTMLView",
            "style": "IPY_MODEL_10d70e6ffe3b4c9bb39d75bbf1c41097",
            "_dom_classes": [],
            "description": "",
            "_model_name": "HTMLModel",
            "placeholder": "​",
            "_view_module": "@jupyter-widgets/controls",
            "_model_module_version": "1.5.0",
            "value": " 9913344/? [00:00&lt;00:00, 19191268.83it/s]",
            "_view_count": null,
            "_view_module_version": "1.5.0",
            "description_tooltip": null,
            "_model_module": "@jupyter-widgets/controls",
            "layout": "IPY_MODEL_1df98a44c5a84c8d9353aced7db28299"
          }
        },
        "5daa0006dc4442e79d18486a3489df9e": {
          "model_module": "@jupyter-widgets/controls",
          "model_name": "DescriptionStyleModel",
          "model_module_version": "1.5.0",
          "state": {
            "_view_name": "StyleView",
            "_model_name": "DescriptionStyleModel",
            "description_width": "",
            "_view_module": "@jupyter-widgets/base",
            "_model_module_version": "1.5.0",
            "_view_count": null,
            "_view_module_version": "1.2.0",
            "_model_module": "@jupyter-widgets/controls"
          }
        },
        "ab27a84439ed44fcbb5192bb7b8658a3": {
          "model_module": "@jupyter-widgets/base",
          "model_name": "LayoutModel",
          "model_module_version": "1.2.0",
          "state": {
            "_view_name": "LayoutView",
            "grid_template_rows": null,
            "right": null,
            "justify_content": null,
            "_view_module": "@jupyter-widgets/base",
            "overflow": null,
            "_model_module_version": "1.2.0",
            "_view_count": null,
            "flex_flow": null,
            "width": null,
            "min_width": null,
            "border": null,
            "align_items": null,
            "bottom": null,
            "_model_module": "@jupyter-widgets/base",
            "top": null,
            "grid_column": null,
            "overflow_y": null,
            "overflow_x": null,
            "grid_auto_flow": null,
            "grid_area": null,
            "grid_template_columns": null,
            "flex": null,
            "_model_name": "LayoutModel",
            "justify_items": null,
            "grid_row": null,
            "max_height": null,
            "align_content": null,
            "visibility": null,
            "align_self": null,
            "height": null,
            "min_height": null,
            "padding": null,
            "grid_auto_rows": null,
            "grid_gap": null,
            "max_width": null,
            "order": null,
            "_view_module_version": "1.2.0",
            "grid_template_areas": null,
            "object_position": null,
            "object_fit": null,
            "grid_auto_columns": null,
            "margin": null,
            "display": null,
            "left": null
          }
        },
        "821c254682aa4a68a72817f31c7ae6c6": {
          "model_module": "@jupyter-widgets/controls",
          "model_name": "ProgressStyleModel",
          "model_module_version": "1.5.0",
          "state": {
            "_view_name": "StyleView",
            "_model_name": "ProgressStyleModel",
            "description_width": "",
            "_view_module": "@jupyter-widgets/base",
            "_model_module_version": "1.5.0",
            "_view_count": null,
            "_view_module_version": "1.2.0",
            "bar_color": null,
            "_model_module": "@jupyter-widgets/controls"
          }
        },
        "6e33d0db099946b190bd1dd6a3d1eb2e": {
          "model_module": "@jupyter-widgets/base",
          "model_name": "LayoutModel",
          "model_module_version": "1.2.0",
          "state": {
            "_view_name": "LayoutView",
            "grid_template_rows": null,
            "right": null,
            "justify_content": null,
            "_view_module": "@jupyter-widgets/base",
            "overflow": null,
            "_model_module_version": "1.2.0",
            "_view_count": null,
            "flex_flow": null,
            "width": null,
            "min_width": null,
            "border": null,
            "align_items": null,
            "bottom": null,
            "_model_module": "@jupyter-widgets/base",
            "top": null,
            "grid_column": null,
            "overflow_y": null,
            "overflow_x": null,
            "grid_auto_flow": null,
            "grid_area": null,
            "grid_template_columns": null,
            "flex": null,
            "_model_name": "LayoutModel",
            "justify_items": null,
            "grid_row": null,
            "max_height": null,
            "align_content": null,
            "visibility": null,
            "align_self": null,
            "height": null,
            "min_height": null,
            "padding": null,
            "grid_auto_rows": null,
            "grid_gap": null,
            "max_width": null,
            "order": null,
            "_view_module_version": "1.2.0",
            "grid_template_areas": null,
            "object_position": null,
            "object_fit": null,
            "grid_auto_columns": null,
            "margin": null,
            "display": null,
            "left": null
          }
        },
        "10d70e6ffe3b4c9bb39d75bbf1c41097": {
          "model_module": "@jupyter-widgets/controls",
          "model_name": "DescriptionStyleModel",
          "model_module_version": "1.5.0",
          "state": {
            "_view_name": "StyleView",
            "_model_name": "DescriptionStyleModel",
            "description_width": "",
            "_view_module": "@jupyter-widgets/base",
            "_model_module_version": "1.5.0",
            "_view_count": null,
            "_view_module_version": "1.2.0",
            "_model_module": "@jupyter-widgets/controls"
          }
        },
        "1df98a44c5a84c8d9353aced7db28299": {
          "model_module": "@jupyter-widgets/base",
          "model_name": "LayoutModel",
          "model_module_version": "1.2.0",
          "state": {
            "_view_name": "LayoutView",
            "grid_template_rows": null,
            "right": null,
            "justify_content": null,
            "_view_module": "@jupyter-widgets/base",
            "overflow": null,
            "_model_module_version": "1.2.0",
            "_view_count": null,
            "flex_flow": null,
            "width": null,
            "min_width": null,
            "border": null,
            "align_items": null,
            "bottom": null,
            "_model_module": "@jupyter-widgets/base",
            "top": null,
            "grid_column": null,
            "overflow_y": null,
            "overflow_x": null,
            "grid_auto_flow": null,
            "grid_area": null,
            "grid_template_columns": null,
            "flex": null,
            "_model_name": "LayoutModel",
            "justify_items": null,
            "grid_row": null,
            "max_height": null,
            "align_content": null,
            "visibility": null,
            "align_self": null,
            "height": null,
            "min_height": null,
            "padding": null,
            "grid_auto_rows": null,
            "grid_gap": null,
            "max_width": null,
            "order": null,
            "_view_module_version": "1.2.0",
            "grid_template_areas": null,
            "object_position": null,
            "object_fit": null,
            "grid_auto_columns": null,
            "margin": null,
            "display": null,
            "left": null
          }
        },
        "c5cdcd4f8b764c918a82389db733924c": {
          "model_module": "@jupyter-widgets/controls",
          "model_name": "HBoxModel",
          "model_module_version": "1.5.0",
          "state": {
            "_view_name": "HBoxView",
            "_dom_classes": [],
            "_model_name": "HBoxModel",
            "_view_module": "@jupyter-widgets/controls",
            "_model_module_version": "1.5.0",
            "_view_count": null,
            "_view_module_version": "1.5.0",
            "box_style": "",
            "layout": "IPY_MODEL_32fac0728f024fc197b3c5c599bb8ed8",
            "_model_module": "@jupyter-widgets/controls",
            "children": [
              "IPY_MODEL_af423d73848a40f2b830d7d4f6a548de",
              "IPY_MODEL_78472710110c4532b984d5efcc02bb8f",
              "IPY_MODEL_2d25e8adba984e07b985da1f2232d968"
            ]
          }
        },
        "32fac0728f024fc197b3c5c599bb8ed8": {
          "model_module": "@jupyter-widgets/base",
          "model_name": "LayoutModel",
          "model_module_version": "1.2.0",
          "state": {
            "_view_name": "LayoutView",
            "grid_template_rows": null,
            "right": null,
            "justify_content": null,
            "_view_module": "@jupyter-widgets/base",
            "overflow": null,
            "_model_module_version": "1.2.0",
            "_view_count": null,
            "flex_flow": null,
            "width": null,
            "min_width": null,
            "border": null,
            "align_items": null,
            "bottom": null,
            "_model_module": "@jupyter-widgets/base",
            "top": null,
            "grid_column": null,
            "overflow_y": null,
            "overflow_x": null,
            "grid_auto_flow": null,
            "grid_area": null,
            "grid_template_columns": null,
            "flex": null,
            "_model_name": "LayoutModel",
            "justify_items": null,
            "grid_row": null,
            "max_height": null,
            "align_content": null,
            "visibility": null,
            "align_self": null,
            "height": null,
            "min_height": null,
            "padding": null,
            "grid_auto_rows": null,
            "grid_gap": null,
            "max_width": null,
            "order": null,
            "_view_module_version": "1.2.0",
            "grid_template_areas": null,
            "object_position": null,
            "object_fit": null,
            "grid_auto_columns": null,
            "margin": null,
            "display": null,
            "left": null
          }
        },
        "af423d73848a40f2b830d7d4f6a548de": {
          "model_module": "@jupyter-widgets/controls",
          "model_name": "HTMLModel",
          "model_module_version": "1.5.0",
          "state": {
            "_view_name": "HTMLView",
            "style": "IPY_MODEL_034fc5e28a1d469eb0a77bc1a122abd9",
            "_dom_classes": [],
            "description": "",
            "_model_name": "HTMLModel",
            "placeholder": "​",
            "_view_module": "@jupyter-widgets/controls",
            "_model_module_version": "1.5.0",
            "value": "",
            "_view_count": null,
            "_view_module_version": "1.5.0",
            "description_tooltip": null,
            "_model_module": "@jupyter-widgets/controls",
            "layout": "IPY_MODEL_49e79ff69ded4850a717d0ed963f887e"
          }
        },
        "78472710110c4532b984d5efcc02bb8f": {
          "model_module": "@jupyter-widgets/controls",
          "model_name": "FloatProgressModel",
          "model_module_version": "1.5.0",
          "state": {
            "_view_name": "ProgressView",
            "style": "IPY_MODEL_99e3c7e693b44a1f9b3f209dde20206a",
            "_dom_classes": [],
            "description": "",
            "_model_name": "FloatProgressModel",
            "bar_style": "success",
            "max": 28881,
            "_view_module": "@jupyter-widgets/controls",
            "_model_module_version": "1.5.0",
            "value": 28881,
            "_view_count": null,
            "_view_module_version": "1.5.0",
            "orientation": "horizontal",
            "min": 0,
            "description_tooltip": null,
            "_model_module": "@jupyter-widgets/controls",
            "layout": "IPY_MODEL_472d0d945d8f4401bfc7d28fb4d9adfc"
          }
        },
        "2d25e8adba984e07b985da1f2232d968": {
          "model_module": "@jupyter-widgets/controls",
          "model_name": "HTMLModel",
          "model_module_version": "1.5.0",
          "state": {
            "_view_name": "HTMLView",
            "style": "IPY_MODEL_86be6ff951714cba91795377f28101c3",
            "_dom_classes": [],
            "description": "",
            "_model_name": "HTMLModel",
            "placeholder": "​",
            "_view_module": "@jupyter-widgets/controls",
            "_model_module_version": "1.5.0",
            "value": " 29696/? [00:00&lt;00:00, 635343.71it/s]",
            "_view_count": null,
            "_view_module_version": "1.5.0",
            "description_tooltip": null,
            "_model_module": "@jupyter-widgets/controls",
            "layout": "IPY_MODEL_33469d53350a40fa8cabe4c010039dda"
          }
        },
        "034fc5e28a1d469eb0a77bc1a122abd9": {
          "model_module": "@jupyter-widgets/controls",
          "model_name": "DescriptionStyleModel",
          "model_module_version": "1.5.0",
          "state": {
            "_view_name": "StyleView",
            "_model_name": "DescriptionStyleModel",
            "description_width": "",
            "_view_module": "@jupyter-widgets/base",
            "_model_module_version": "1.5.0",
            "_view_count": null,
            "_view_module_version": "1.2.0",
            "_model_module": "@jupyter-widgets/controls"
          }
        },
        "49e79ff69ded4850a717d0ed963f887e": {
          "model_module": "@jupyter-widgets/base",
          "model_name": "LayoutModel",
          "model_module_version": "1.2.0",
          "state": {
            "_view_name": "LayoutView",
            "grid_template_rows": null,
            "right": null,
            "justify_content": null,
            "_view_module": "@jupyter-widgets/base",
            "overflow": null,
            "_model_module_version": "1.2.0",
            "_view_count": null,
            "flex_flow": null,
            "width": null,
            "min_width": null,
            "border": null,
            "align_items": null,
            "bottom": null,
            "_model_module": "@jupyter-widgets/base",
            "top": null,
            "grid_column": null,
            "overflow_y": null,
            "overflow_x": null,
            "grid_auto_flow": null,
            "grid_area": null,
            "grid_template_columns": null,
            "flex": null,
            "_model_name": "LayoutModel",
            "justify_items": null,
            "grid_row": null,
            "max_height": null,
            "align_content": null,
            "visibility": null,
            "align_self": null,
            "height": null,
            "min_height": null,
            "padding": null,
            "grid_auto_rows": null,
            "grid_gap": null,
            "max_width": null,
            "order": null,
            "_view_module_version": "1.2.0",
            "grid_template_areas": null,
            "object_position": null,
            "object_fit": null,
            "grid_auto_columns": null,
            "margin": null,
            "display": null,
            "left": null
          }
        },
        "99e3c7e693b44a1f9b3f209dde20206a": {
          "model_module": "@jupyter-widgets/controls",
          "model_name": "ProgressStyleModel",
          "model_module_version": "1.5.0",
          "state": {
            "_view_name": "StyleView",
            "_model_name": "ProgressStyleModel",
            "description_width": "",
            "_view_module": "@jupyter-widgets/base",
            "_model_module_version": "1.5.0",
            "_view_count": null,
            "_view_module_version": "1.2.0",
            "bar_color": null,
            "_model_module": "@jupyter-widgets/controls"
          }
        },
        "472d0d945d8f4401bfc7d28fb4d9adfc": {
          "model_module": "@jupyter-widgets/base",
          "model_name": "LayoutModel",
          "model_module_version": "1.2.0",
          "state": {
            "_view_name": "LayoutView",
            "grid_template_rows": null,
            "right": null,
            "justify_content": null,
            "_view_module": "@jupyter-widgets/base",
            "overflow": null,
            "_model_module_version": "1.2.0",
            "_view_count": null,
            "flex_flow": null,
            "width": null,
            "min_width": null,
            "border": null,
            "align_items": null,
            "bottom": null,
            "_model_module": "@jupyter-widgets/base",
            "top": null,
            "grid_column": null,
            "overflow_y": null,
            "overflow_x": null,
            "grid_auto_flow": null,
            "grid_area": null,
            "grid_template_columns": null,
            "flex": null,
            "_model_name": "LayoutModel",
            "justify_items": null,
            "grid_row": null,
            "max_height": null,
            "align_content": null,
            "visibility": null,
            "align_self": null,
            "height": null,
            "min_height": null,
            "padding": null,
            "grid_auto_rows": null,
            "grid_gap": null,
            "max_width": null,
            "order": null,
            "_view_module_version": "1.2.0",
            "grid_template_areas": null,
            "object_position": null,
            "object_fit": null,
            "grid_auto_columns": null,
            "margin": null,
            "display": null,
            "left": null
          }
        },
        "86be6ff951714cba91795377f28101c3": {
          "model_module": "@jupyter-widgets/controls",
          "model_name": "DescriptionStyleModel",
          "model_module_version": "1.5.0",
          "state": {
            "_view_name": "StyleView",
            "_model_name": "DescriptionStyleModel",
            "description_width": "",
            "_view_module": "@jupyter-widgets/base",
            "_model_module_version": "1.5.0",
            "_view_count": null,
            "_view_module_version": "1.2.0",
            "_model_module": "@jupyter-widgets/controls"
          }
        },
        "33469d53350a40fa8cabe4c010039dda": {
          "model_module": "@jupyter-widgets/base",
          "model_name": "LayoutModel",
          "model_module_version": "1.2.0",
          "state": {
            "_view_name": "LayoutView",
            "grid_template_rows": null,
            "right": null,
            "justify_content": null,
            "_view_module": "@jupyter-widgets/base",
            "overflow": null,
            "_model_module_version": "1.2.0",
            "_view_count": null,
            "flex_flow": null,
            "width": null,
            "min_width": null,
            "border": null,
            "align_items": null,
            "bottom": null,
            "_model_module": "@jupyter-widgets/base",
            "top": null,
            "grid_column": null,
            "overflow_y": null,
            "overflow_x": null,
            "grid_auto_flow": null,
            "grid_area": null,
            "grid_template_columns": null,
            "flex": null,
            "_model_name": "LayoutModel",
            "justify_items": null,
            "grid_row": null,
            "max_height": null,
            "align_content": null,
            "visibility": null,
            "align_self": null,
            "height": null,
            "min_height": null,
            "padding": null,
            "grid_auto_rows": null,
            "grid_gap": null,
            "max_width": null,
            "order": null,
            "_view_module_version": "1.2.0",
            "grid_template_areas": null,
            "object_position": null,
            "object_fit": null,
            "grid_auto_columns": null,
            "margin": null,
            "display": null,
            "left": null
          }
        },
        "ee9655163570447296661f89e1680113": {
          "model_module": "@jupyter-widgets/controls",
          "model_name": "HBoxModel",
          "model_module_version": "1.5.0",
          "state": {
            "_view_name": "HBoxView",
            "_dom_classes": [],
            "_model_name": "HBoxModel",
            "_view_module": "@jupyter-widgets/controls",
            "_model_module_version": "1.5.0",
            "_view_count": null,
            "_view_module_version": "1.5.0",
            "box_style": "",
            "layout": "IPY_MODEL_1313ff19042542468d51bbcd240ca952",
            "_model_module": "@jupyter-widgets/controls",
            "children": [
              "IPY_MODEL_fe0647c2756d4cbdbafd3eaa11103706",
              "IPY_MODEL_72f18e54a63548f79bb694718b07c103",
              "IPY_MODEL_f7f9b54457bc4e009686b0e25b390c74"
            ]
          }
        },
        "1313ff19042542468d51bbcd240ca952": {
          "model_module": "@jupyter-widgets/base",
          "model_name": "LayoutModel",
          "model_module_version": "1.2.0",
          "state": {
            "_view_name": "LayoutView",
            "grid_template_rows": null,
            "right": null,
            "justify_content": null,
            "_view_module": "@jupyter-widgets/base",
            "overflow": null,
            "_model_module_version": "1.2.0",
            "_view_count": null,
            "flex_flow": null,
            "width": null,
            "min_width": null,
            "border": null,
            "align_items": null,
            "bottom": null,
            "_model_module": "@jupyter-widgets/base",
            "top": null,
            "grid_column": null,
            "overflow_y": null,
            "overflow_x": null,
            "grid_auto_flow": null,
            "grid_area": null,
            "grid_template_columns": null,
            "flex": null,
            "_model_name": "LayoutModel",
            "justify_items": null,
            "grid_row": null,
            "max_height": null,
            "align_content": null,
            "visibility": null,
            "align_self": null,
            "height": null,
            "min_height": null,
            "padding": null,
            "grid_auto_rows": null,
            "grid_gap": null,
            "max_width": null,
            "order": null,
            "_view_module_version": "1.2.0",
            "grid_template_areas": null,
            "object_position": null,
            "object_fit": null,
            "grid_auto_columns": null,
            "margin": null,
            "display": null,
            "left": null
          }
        },
        "fe0647c2756d4cbdbafd3eaa11103706": {
          "model_module": "@jupyter-widgets/controls",
          "model_name": "HTMLModel",
          "model_module_version": "1.5.0",
          "state": {
            "_view_name": "HTMLView",
            "style": "IPY_MODEL_bbc7c5fdc47e48d1babf0b9018b3ec39",
            "_dom_classes": [],
            "description": "",
            "_model_name": "HTMLModel",
            "placeholder": "​",
            "_view_module": "@jupyter-widgets/controls",
            "_model_module_version": "1.5.0",
            "value": "",
            "_view_count": null,
            "_view_module_version": "1.5.0",
            "description_tooltip": null,
            "_model_module": "@jupyter-widgets/controls",
            "layout": "IPY_MODEL_4bd3d324f5d146209976f5adc4ec4d44"
          }
        },
        "72f18e54a63548f79bb694718b07c103": {
          "model_module": "@jupyter-widgets/controls",
          "model_name": "FloatProgressModel",
          "model_module_version": "1.5.0",
          "state": {
            "_view_name": "ProgressView",
            "style": "IPY_MODEL_0544bfde9ff24172bfae74e1dccd37a2",
            "_dom_classes": [],
            "description": "",
            "_model_name": "FloatProgressModel",
            "bar_style": "success",
            "max": 1648877,
            "_view_module": "@jupyter-widgets/controls",
            "_model_module_version": "1.5.0",
            "value": 1648877,
            "_view_count": null,
            "_view_module_version": "1.5.0",
            "orientation": "horizontal",
            "min": 0,
            "description_tooltip": null,
            "_model_module": "@jupyter-widgets/controls",
            "layout": "IPY_MODEL_cef093c679114659acce76cd8fa447b8"
          }
        },
        "f7f9b54457bc4e009686b0e25b390c74": {
          "model_module": "@jupyter-widgets/controls",
          "model_name": "HTMLModel",
          "model_module_version": "1.5.0",
          "state": {
            "_view_name": "HTMLView",
            "style": "IPY_MODEL_4adec642d2f14eeea213fa1ebdfdb37f",
            "_dom_classes": [],
            "description": "",
            "_model_name": "HTMLModel",
            "placeholder": "​",
            "_view_module": "@jupyter-widgets/controls",
            "_model_module_version": "1.5.0",
            "value": " 1649664/? [00:00&lt;00:00, 19360449.47it/s]",
            "_view_count": null,
            "_view_module_version": "1.5.0",
            "description_tooltip": null,
            "_model_module": "@jupyter-widgets/controls",
            "layout": "IPY_MODEL_13f99a89319b41eea2bf90f61f22226c"
          }
        },
        "bbc7c5fdc47e48d1babf0b9018b3ec39": {
          "model_module": "@jupyter-widgets/controls",
          "model_name": "DescriptionStyleModel",
          "model_module_version": "1.5.0",
          "state": {
            "_view_name": "StyleView",
            "_model_name": "DescriptionStyleModel",
            "description_width": "",
            "_view_module": "@jupyter-widgets/base",
            "_model_module_version": "1.5.0",
            "_view_count": null,
            "_view_module_version": "1.2.0",
            "_model_module": "@jupyter-widgets/controls"
          }
        },
        "4bd3d324f5d146209976f5adc4ec4d44": {
          "model_module": "@jupyter-widgets/base",
          "model_name": "LayoutModel",
          "model_module_version": "1.2.0",
          "state": {
            "_view_name": "LayoutView",
            "grid_template_rows": null,
            "right": null,
            "justify_content": null,
            "_view_module": "@jupyter-widgets/base",
            "overflow": null,
            "_model_module_version": "1.2.0",
            "_view_count": null,
            "flex_flow": null,
            "width": null,
            "min_width": null,
            "border": null,
            "align_items": null,
            "bottom": null,
            "_model_module": "@jupyter-widgets/base",
            "top": null,
            "grid_column": null,
            "overflow_y": null,
            "overflow_x": null,
            "grid_auto_flow": null,
            "grid_area": null,
            "grid_template_columns": null,
            "flex": null,
            "_model_name": "LayoutModel",
            "justify_items": null,
            "grid_row": null,
            "max_height": null,
            "align_content": null,
            "visibility": null,
            "align_self": null,
            "height": null,
            "min_height": null,
            "padding": null,
            "grid_auto_rows": null,
            "grid_gap": null,
            "max_width": null,
            "order": null,
            "_view_module_version": "1.2.0",
            "grid_template_areas": null,
            "object_position": null,
            "object_fit": null,
            "grid_auto_columns": null,
            "margin": null,
            "display": null,
            "left": null
          }
        },
        "0544bfde9ff24172bfae74e1dccd37a2": {
          "model_module": "@jupyter-widgets/controls",
          "model_name": "ProgressStyleModel",
          "model_module_version": "1.5.0",
          "state": {
            "_view_name": "StyleView",
            "_model_name": "ProgressStyleModel",
            "description_width": "",
            "_view_module": "@jupyter-widgets/base",
            "_model_module_version": "1.5.0",
            "_view_count": null,
            "_view_module_version": "1.2.0",
            "bar_color": null,
            "_model_module": "@jupyter-widgets/controls"
          }
        },
        "cef093c679114659acce76cd8fa447b8": {
          "model_module": "@jupyter-widgets/base",
          "model_name": "LayoutModel",
          "model_module_version": "1.2.0",
          "state": {
            "_view_name": "LayoutView",
            "grid_template_rows": null,
            "right": null,
            "justify_content": null,
            "_view_module": "@jupyter-widgets/base",
            "overflow": null,
            "_model_module_version": "1.2.0",
            "_view_count": null,
            "flex_flow": null,
            "width": null,
            "min_width": null,
            "border": null,
            "align_items": null,
            "bottom": null,
            "_model_module": "@jupyter-widgets/base",
            "top": null,
            "grid_column": null,
            "overflow_y": null,
            "overflow_x": null,
            "grid_auto_flow": null,
            "grid_area": null,
            "grid_template_columns": null,
            "flex": null,
            "_model_name": "LayoutModel",
            "justify_items": null,
            "grid_row": null,
            "max_height": null,
            "align_content": null,
            "visibility": null,
            "align_self": null,
            "height": null,
            "min_height": null,
            "padding": null,
            "grid_auto_rows": null,
            "grid_gap": null,
            "max_width": null,
            "order": null,
            "_view_module_version": "1.2.0",
            "grid_template_areas": null,
            "object_position": null,
            "object_fit": null,
            "grid_auto_columns": null,
            "margin": null,
            "display": null,
            "left": null
          }
        },
        "4adec642d2f14eeea213fa1ebdfdb37f": {
          "model_module": "@jupyter-widgets/controls",
          "model_name": "DescriptionStyleModel",
          "model_module_version": "1.5.0",
          "state": {
            "_view_name": "StyleView",
            "_model_name": "DescriptionStyleModel",
            "description_width": "",
            "_view_module": "@jupyter-widgets/base",
            "_model_module_version": "1.5.0",
            "_view_count": null,
            "_view_module_version": "1.2.0",
            "_model_module": "@jupyter-widgets/controls"
          }
        },
        "13f99a89319b41eea2bf90f61f22226c": {
          "model_module": "@jupyter-widgets/base",
          "model_name": "LayoutModel",
          "model_module_version": "1.2.0",
          "state": {
            "_view_name": "LayoutView",
            "grid_template_rows": null,
            "right": null,
            "justify_content": null,
            "_view_module": "@jupyter-widgets/base",
            "overflow": null,
            "_model_module_version": "1.2.0",
            "_view_count": null,
            "flex_flow": null,
            "width": null,
            "min_width": null,
            "border": null,
            "align_items": null,
            "bottom": null,
            "_model_module": "@jupyter-widgets/base",
            "top": null,
            "grid_column": null,
            "overflow_y": null,
            "overflow_x": null,
            "grid_auto_flow": null,
            "grid_area": null,
            "grid_template_columns": null,
            "flex": null,
            "_model_name": "LayoutModel",
            "justify_items": null,
            "grid_row": null,
            "max_height": null,
            "align_content": null,
            "visibility": null,
            "align_self": null,
            "height": null,
            "min_height": null,
            "padding": null,
            "grid_auto_rows": null,
            "grid_gap": null,
            "max_width": null,
            "order": null,
            "_view_module_version": "1.2.0",
            "grid_template_areas": null,
            "object_position": null,
            "object_fit": null,
            "grid_auto_columns": null,
            "margin": null,
            "display": null,
            "left": null
          }
        },
        "fefa75c3b40d4341afe7a24e14d3a2f4": {
          "model_module": "@jupyter-widgets/controls",
          "model_name": "HBoxModel",
          "model_module_version": "1.5.0",
          "state": {
            "_view_name": "HBoxView",
            "_dom_classes": [],
            "_model_name": "HBoxModel",
            "_view_module": "@jupyter-widgets/controls",
            "_model_module_version": "1.5.0",
            "_view_count": null,
            "_view_module_version": "1.5.0",
            "box_style": "",
            "layout": "IPY_MODEL_900227cc45ea4ab199a0621a19cb9250",
            "_model_module": "@jupyter-widgets/controls",
            "children": [
              "IPY_MODEL_d753536bd83a46adbc3db476841de681",
              "IPY_MODEL_01f6ac41f7fc467bb0476cb4416dbe64",
              "IPY_MODEL_7e0b022014d44e5da018dc81d8c3fa28"
            ]
          }
        },
        "900227cc45ea4ab199a0621a19cb9250": {
          "model_module": "@jupyter-widgets/base",
          "model_name": "LayoutModel",
          "model_module_version": "1.2.0",
          "state": {
            "_view_name": "LayoutView",
            "grid_template_rows": null,
            "right": null,
            "justify_content": null,
            "_view_module": "@jupyter-widgets/base",
            "overflow": null,
            "_model_module_version": "1.2.0",
            "_view_count": null,
            "flex_flow": null,
            "width": null,
            "min_width": null,
            "border": null,
            "align_items": null,
            "bottom": null,
            "_model_module": "@jupyter-widgets/base",
            "top": null,
            "grid_column": null,
            "overflow_y": null,
            "overflow_x": null,
            "grid_auto_flow": null,
            "grid_area": null,
            "grid_template_columns": null,
            "flex": null,
            "_model_name": "LayoutModel",
            "justify_items": null,
            "grid_row": null,
            "max_height": null,
            "align_content": null,
            "visibility": null,
            "align_self": null,
            "height": null,
            "min_height": null,
            "padding": null,
            "grid_auto_rows": null,
            "grid_gap": null,
            "max_width": null,
            "order": null,
            "_view_module_version": "1.2.0",
            "grid_template_areas": null,
            "object_position": null,
            "object_fit": null,
            "grid_auto_columns": null,
            "margin": null,
            "display": null,
            "left": null
          }
        },
        "d753536bd83a46adbc3db476841de681": {
          "model_module": "@jupyter-widgets/controls",
          "model_name": "HTMLModel",
          "model_module_version": "1.5.0",
          "state": {
            "_view_name": "HTMLView",
            "style": "IPY_MODEL_34de80d6cf8f44e2b84277a557aa7432",
            "_dom_classes": [],
            "description": "",
            "_model_name": "HTMLModel",
            "placeholder": "​",
            "_view_module": "@jupyter-widgets/controls",
            "_model_module_version": "1.5.0",
            "value": "",
            "_view_count": null,
            "_view_module_version": "1.5.0",
            "description_tooltip": null,
            "_model_module": "@jupyter-widgets/controls",
            "layout": "IPY_MODEL_5ea0db86e4e94dacad961a6fcb8dde65"
          }
        },
        "01f6ac41f7fc467bb0476cb4416dbe64": {
          "model_module": "@jupyter-widgets/controls",
          "model_name": "FloatProgressModel",
          "model_module_version": "1.5.0",
          "state": {
            "_view_name": "ProgressView",
            "style": "IPY_MODEL_de4bc2c241dd4df9877288d4d3dbed2f",
            "_dom_classes": [],
            "description": "",
            "_model_name": "FloatProgressModel",
            "bar_style": "success",
            "max": 4542,
            "_view_module": "@jupyter-widgets/controls",
            "_model_module_version": "1.5.0",
            "value": 4542,
            "_view_count": null,
            "_view_module_version": "1.5.0",
            "orientation": "horizontal",
            "min": 0,
            "description_tooltip": null,
            "_model_module": "@jupyter-widgets/controls",
            "layout": "IPY_MODEL_9f4d87b047ec4895b42cbe89ab45cdb3"
          }
        },
        "7e0b022014d44e5da018dc81d8c3fa28": {
          "model_module": "@jupyter-widgets/controls",
          "model_name": "HTMLModel",
          "model_module_version": "1.5.0",
          "state": {
            "_view_name": "HTMLView",
            "style": "IPY_MODEL_02f8367c911a4ca7a7b7067e6621adba",
            "_dom_classes": [],
            "description": "",
            "_model_name": "HTMLModel",
            "placeholder": "​",
            "_view_module": "@jupyter-widgets/controls",
            "_model_module_version": "1.5.0",
            "value": " 5120/? [00:00&lt;00:00, 161861.68it/s]",
            "_view_count": null,
            "_view_module_version": "1.5.0",
            "description_tooltip": null,
            "_model_module": "@jupyter-widgets/controls",
            "layout": "IPY_MODEL_ab2a905711114d75a6a9b0f5f7fd7633"
          }
        },
        "34de80d6cf8f44e2b84277a557aa7432": {
          "model_module": "@jupyter-widgets/controls",
          "model_name": "DescriptionStyleModel",
          "model_module_version": "1.5.0",
          "state": {
            "_view_name": "StyleView",
            "_model_name": "DescriptionStyleModel",
            "description_width": "",
            "_view_module": "@jupyter-widgets/base",
            "_model_module_version": "1.5.0",
            "_view_count": null,
            "_view_module_version": "1.2.0",
            "_model_module": "@jupyter-widgets/controls"
          }
        },
        "5ea0db86e4e94dacad961a6fcb8dde65": {
          "model_module": "@jupyter-widgets/base",
          "model_name": "LayoutModel",
          "model_module_version": "1.2.0",
          "state": {
            "_view_name": "LayoutView",
            "grid_template_rows": null,
            "right": null,
            "justify_content": null,
            "_view_module": "@jupyter-widgets/base",
            "overflow": null,
            "_model_module_version": "1.2.0",
            "_view_count": null,
            "flex_flow": null,
            "width": null,
            "min_width": null,
            "border": null,
            "align_items": null,
            "bottom": null,
            "_model_module": "@jupyter-widgets/base",
            "top": null,
            "grid_column": null,
            "overflow_y": null,
            "overflow_x": null,
            "grid_auto_flow": null,
            "grid_area": null,
            "grid_template_columns": null,
            "flex": null,
            "_model_name": "LayoutModel",
            "justify_items": null,
            "grid_row": null,
            "max_height": null,
            "align_content": null,
            "visibility": null,
            "align_self": null,
            "height": null,
            "min_height": null,
            "padding": null,
            "grid_auto_rows": null,
            "grid_gap": null,
            "max_width": null,
            "order": null,
            "_view_module_version": "1.2.0",
            "grid_template_areas": null,
            "object_position": null,
            "object_fit": null,
            "grid_auto_columns": null,
            "margin": null,
            "display": null,
            "left": null
          }
        },
        "de4bc2c241dd4df9877288d4d3dbed2f": {
          "model_module": "@jupyter-widgets/controls",
          "model_name": "ProgressStyleModel",
          "model_module_version": "1.5.0",
          "state": {
            "_view_name": "StyleView",
            "_model_name": "ProgressStyleModel",
            "description_width": "",
            "_view_module": "@jupyter-widgets/base",
            "_model_module_version": "1.5.0",
            "_view_count": null,
            "_view_module_version": "1.2.0",
            "bar_color": null,
            "_model_module": "@jupyter-widgets/controls"
          }
        },
        "9f4d87b047ec4895b42cbe89ab45cdb3": {
          "model_module": "@jupyter-widgets/base",
          "model_name": "LayoutModel",
          "model_module_version": "1.2.0",
          "state": {
            "_view_name": "LayoutView",
            "grid_template_rows": null,
            "right": null,
            "justify_content": null,
            "_view_module": "@jupyter-widgets/base",
            "overflow": null,
            "_model_module_version": "1.2.0",
            "_view_count": null,
            "flex_flow": null,
            "width": null,
            "min_width": null,
            "border": null,
            "align_items": null,
            "bottom": null,
            "_model_module": "@jupyter-widgets/base",
            "top": null,
            "grid_column": null,
            "overflow_y": null,
            "overflow_x": null,
            "grid_auto_flow": null,
            "grid_area": null,
            "grid_template_columns": null,
            "flex": null,
            "_model_name": "LayoutModel",
            "justify_items": null,
            "grid_row": null,
            "max_height": null,
            "align_content": null,
            "visibility": null,
            "align_self": null,
            "height": null,
            "min_height": null,
            "padding": null,
            "grid_auto_rows": null,
            "grid_gap": null,
            "max_width": null,
            "order": null,
            "_view_module_version": "1.2.0",
            "grid_template_areas": null,
            "object_position": null,
            "object_fit": null,
            "grid_auto_columns": null,
            "margin": null,
            "display": null,
            "left": null
          }
        },
        "02f8367c911a4ca7a7b7067e6621adba": {
          "model_module": "@jupyter-widgets/controls",
          "model_name": "DescriptionStyleModel",
          "model_module_version": "1.5.0",
          "state": {
            "_view_name": "StyleView",
            "_model_name": "DescriptionStyleModel",
            "description_width": "",
            "_view_module": "@jupyter-widgets/base",
            "_model_module_version": "1.5.0",
            "_view_count": null,
            "_view_module_version": "1.2.0",
            "_model_module": "@jupyter-widgets/controls"
          }
        },
        "ab2a905711114d75a6a9b0f5f7fd7633": {
          "model_module": "@jupyter-widgets/base",
          "model_name": "LayoutModel",
          "model_module_version": "1.2.0",
          "state": {
            "_view_name": "LayoutView",
            "grid_template_rows": null,
            "right": null,
            "justify_content": null,
            "_view_module": "@jupyter-widgets/base",
            "overflow": null,
            "_model_module_version": "1.2.0",
            "_view_count": null,
            "flex_flow": null,
            "width": null,
            "min_width": null,
            "border": null,
            "align_items": null,
            "bottom": null,
            "_model_module": "@jupyter-widgets/base",
            "top": null,
            "grid_column": null,
            "overflow_y": null,
            "overflow_x": null,
            "grid_auto_flow": null,
            "grid_area": null,
            "grid_template_columns": null,
            "flex": null,
            "_model_name": "LayoutModel",
            "justify_items": null,
            "grid_row": null,
            "max_height": null,
            "align_content": null,
            "visibility": null,
            "align_self": null,
            "height": null,
            "min_height": null,
            "padding": null,
            "grid_auto_rows": null,
            "grid_gap": null,
            "max_width": null,
            "order": null,
            "_view_module_version": "1.2.0",
            "grid_template_areas": null,
            "object_position": null,
            "object_fit": null,
            "grid_auto_columns": null,
            "margin": null,
            "display": null,
            "left": null
          }
        }
      }
    }
  },
  "cells": [
    {
      "cell_type": "markdown",
      "metadata": {
        "id": "PWDWtoAn70JK"
      },
      "source": [
        "<div style=\"background:#222222; color:#ffffff; padding:20px\">\n",
        "    <h2 align=\"center\">Deep Learning Fundamentals</h2>\n",
        "    <h2 align=\"center\" style=\"color:#01ff84\">Multiclass Clasification: MNIST</h2>\n",
        "<div>"
      ]
    },
    {
      "cell_type": "markdown",
      "metadata": {
        "id": "_oNPBEmU70JQ"
      },
      "source": [
        "## Imports"
      ]
    },
    {
      "cell_type": "code",
      "metadata": {
        "id": "wxXMKXjs70JR"
      },
      "source": [
        "%matplotlib inline\n",
        "%config InlineBackend.figure_format = 'retina'\n",
        "\n",
        "from collections import OrderedDict\n",
        "\n",
        "import numpy as np\n",
        "import matplotlib.pyplot as plt\n",
        "import time\n",
        "\n",
        "import torch\n",
        "from torch import nn\n",
        "from torch import optim\n",
        "import torch.nn.functional as F\n",
        "\n",
        "from torchvision import datasets, transforms"
      ],
      "execution_count": 1,
      "outputs": []
    },
    {
      "cell_type": "markdown",
      "metadata": {
        "id": "zfsNF65S70JT"
      },
      "source": [
        "## Auxliary plotting function"
      ]
    },
    {
      "cell_type": "code",
      "metadata": {
        "id": "WVx0XHrf70JU"
      },
      "source": [
        "# https://discuss.pytorch.org/t/view-classify-in-module-helper/30279/6\n",
        "\n",
        "def view_classify(img, ps):\n",
        "\n",
        "    ps = ps.data.numpy().squeeze()\n",
        "\n",
        "    fig, (ax1, ax2) = plt.subplots(figsize=(6,9), ncols=2)\n",
        "    ax1.imshow(img.resize_(1, 28, 28).numpy().squeeze())\n",
        "    ax1.axis('off')\n",
        "    ax2.barh(np.arange(10), ps)\n",
        "    ax2.set_aspect(0.1)\n",
        "    ax2.set_yticks(np.arange(10))\n",
        "    ax2.set_yticklabels(np.arange(10))\n",
        "    ax2.set_title('Class Probability')\n",
        "    ax2.set_xlim(0, 1.1)"
      ],
      "execution_count": 2,
      "outputs": []
    },
    {
      "cell_type": "markdown",
      "metadata": {
        "id": "t9jddrFl70JU"
      },
      "source": [
        "# Load MNIST Dataset\n",
        "First up, we need to get our dataset. This is provided through the `torchvision` package. The code below will download the MNIST dataset, then create training and test datasets for us. Don't worry too much about the details here, you'll learn more about this later."
      ]
    },
    {
      "cell_type": "code",
      "metadata": {
        "id": "GDNObh1W70JV",
        "colab": {
          "base_uri": "https://localhost:8080/",
          "height": 423,
          "referenced_widgets": [
            "f1b6b30742c44735a774f06097fd4c81",
            "25534febc32e4a86879949cba07e421a",
            "11ca616f6909437583135817329fdb00",
            "89e4420504094c98819df7ea9700be98",
            "e634dcc5dbf5489ab5831b7cd2014f5a",
            "5daa0006dc4442e79d18486a3489df9e",
            "ab27a84439ed44fcbb5192bb7b8658a3",
            "821c254682aa4a68a72817f31c7ae6c6",
            "6e33d0db099946b190bd1dd6a3d1eb2e",
            "10d70e6ffe3b4c9bb39d75bbf1c41097",
            "1df98a44c5a84c8d9353aced7db28299",
            "c5cdcd4f8b764c918a82389db733924c",
            "32fac0728f024fc197b3c5c599bb8ed8",
            "af423d73848a40f2b830d7d4f6a548de",
            "78472710110c4532b984d5efcc02bb8f",
            "2d25e8adba984e07b985da1f2232d968",
            "034fc5e28a1d469eb0a77bc1a122abd9",
            "49e79ff69ded4850a717d0ed963f887e",
            "99e3c7e693b44a1f9b3f209dde20206a",
            "472d0d945d8f4401bfc7d28fb4d9adfc",
            "86be6ff951714cba91795377f28101c3",
            "33469d53350a40fa8cabe4c010039dda",
            "ee9655163570447296661f89e1680113",
            "1313ff19042542468d51bbcd240ca952",
            "fe0647c2756d4cbdbafd3eaa11103706",
            "72f18e54a63548f79bb694718b07c103",
            "f7f9b54457bc4e009686b0e25b390c74",
            "bbc7c5fdc47e48d1babf0b9018b3ec39",
            "4bd3d324f5d146209976f5adc4ec4d44",
            "0544bfde9ff24172bfae74e1dccd37a2",
            "cef093c679114659acce76cd8fa447b8",
            "4adec642d2f14eeea213fa1ebdfdb37f",
            "13f99a89319b41eea2bf90f61f22226c",
            "fefa75c3b40d4341afe7a24e14d3a2f4",
            "900227cc45ea4ab199a0621a19cb9250",
            "d753536bd83a46adbc3db476841de681",
            "01f6ac41f7fc467bb0476cb4416dbe64",
            "7e0b022014d44e5da018dc81d8c3fa28",
            "34de80d6cf8f44e2b84277a557aa7432",
            "5ea0db86e4e94dacad961a6fcb8dde65",
            "de4bc2c241dd4df9877288d4d3dbed2f",
            "9f4d87b047ec4895b42cbe89ab45cdb3",
            "02f8367c911a4ca7a7b7067e6621adba",
            "ab2a905711114d75a6a9b0f5f7fd7633"
          ]
        },
        "outputId": "ce593ac2-a8b5-438f-c885-1e79b184611e"
      },
      "source": [
        "# Define a transform to normalize the data (Preprocessing)\n",
        "transform = transforms.Compose([transforms.ToTensor(), transforms.Normalize((0.5,), (0.5,)) ])\n",
        "\n",
        "# Download and load the training data\n",
        "trainset    = datasets.MNIST('MNIST_data/', download=True, train=True, transform=transform)\n",
        "trainloader = torch.utils.data.DataLoader(trainset, batch_size=64, shuffle=True)\n",
        "\n",
        "# Download and load the test data\n",
        "testset    = datasets.MNIST('MNIST_data/', download=True, train=False, transform=transform)\n",
        "testloader = torch.utils.data.DataLoader(testset, batch_size=64, shuffle=True)"
      ],
      "execution_count": 3,
      "outputs": [
        {
          "output_type": "stream",
          "name": "stdout",
          "text": [
            "Downloading http://yann.lecun.com/exdb/mnist/train-images-idx3-ubyte.gz\n",
            "Downloading http://yann.lecun.com/exdb/mnist/train-images-idx3-ubyte.gz to MNIST_data/MNIST/raw/train-images-idx3-ubyte.gz\n"
          ]
        },
        {
          "output_type": "display_data",
          "data": {
            "application/vnd.jupyter.widget-view+json": {
              "model_id": "f1b6b30742c44735a774f06097fd4c81",
              "version_minor": 0,
              "version_major": 2
            },
            "text/plain": [
              "  0%|          | 0/9912422 [00:00<?, ?it/s]"
            ]
          },
          "metadata": {}
        },
        {
          "output_type": "stream",
          "name": "stdout",
          "text": [
            "Extracting MNIST_data/MNIST/raw/train-images-idx3-ubyte.gz to MNIST_data/MNIST/raw\n",
            "\n",
            "Downloading http://yann.lecun.com/exdb/mnist/train-labels-idx1-ubyte.gz\n",
            "Downloading http://yann.lecun.com/exdb/mnist/train-labels-idx1-ubyte.gz to MNIST_data/MNIST/raw/train-labels-idx1-ubyte.gz\n"
          ]
        },
        {
          "output_type": "display_data",
          "data": {
            "application/vnd.jupyter.widget-view+json": {
              "model_id": "c5cdcd4f8b764c918a82389db733924c",
              "version_minor": 0,
              "version_major": 2
            },
            "text/plain": [
              "  0%|          | 0/28881 [00:00<?, ?it/s]"
            ]
          },
          "metadata": {}
        },
        {
          "output_type": "stream",
          "name": "stdout",
          "text": [
            "Extracting MNIST_data/MNIST/raw/train-labels-idx1-ubyte.gz to MNIST_data/MNIST/raw\n",
            "\n",
            "Downloading http://yann.lecun.com/exdb/mnist/t10k-images-idx3-ubyte.gz\n",
            "Downloading http://yann.lecun.com/exdb/mnist/t10k-images-idx3-ubyte.gz to MNIST_data/MNIST/raw/t10k-images-idx3-ubyte.gz\n"
          ]
        },
        {
          "output_type": "display_data",
          "data": {
            "application/vnd.jupyter.widget-view+json": {
              "model_id": "ee9655163570447296661f89e1680113",
              "version_minor": 0,
              "version_major": 2
            },
            "text/plain": [
              "  0%|          | 0/1648877 [00:00<?, ?it/s]"
            ]
          },
          "metadata": {}
        },
        {
          "output_type": "stream",
          "name": "stdout",
          "text": [
            "Extracting MNIST_data/MNIST/raw/t10k-images-idx3-ubyte.gz to MNIST_data/MNIST/raw\n",
            "\n",
            "Downloading http://yann.lecun.com/exdb/mnist/t10k-labels-idx1-ubyte.gz\n",
            "Downloading http://yann.lecun.com/exdb/mnist/t10k-labels-idx1-ubyte.gz to MNIST_data/MNIST/raw/t10k-labels-idx1-ubyte.gz\n"
          ]
        },
        {
          "output_type": "display_data",
          "data": {
            "application/vnd.jupyter.widget-view+json": {
              "model_id": "fefa75c3b40d4341afe7a24e14d3a2f4",
              "version_minor": 0,
              "version_major": 2
            },
            "text/plain": [
              "  0%|          | 0/4542 [00:00<?, ?it/s]"
            ]
          },
          "metadata": {}
        },
        {
          "output_type": "stream",
          "name": "stdout",
          "text": [
            "Extracting MNIST_data/MNIST/raw/t10k-labels-idx1-ubyte.gz to MNIST_data/MNIST/raw\n",
            "\n"
          ]
        }
      ]
    },
    {
      "cell_type": "code",
      "metadata": {
        "id": "yoBgyNDO70JW"
      },
      "source": [
        "dataiter = iter(trainloader)\n",
        "images, labels = dataiter.next()"
      ],
      "execution_count": 4,
      "outputs": []
    },
    {
      "cell_type": "markdown",
      "metadata": {
        "id": "SVcPzEgr70JX"
      },
      "source": [
        "We have the training data loaded into `trainloader` and we make that an iterator with `iter(trainloader)`. We'd use this to loop through the dataset for training, but here I'm just grabbing the first batch so we can check out the data. We can see below that `images` is just a tensor with size (64, 1, 28, 28). So, 64 images per batch, 1 color channel, and 28x28 images."
      ]
    },
    {
      "cell_type": "code",
      "metadata": {
        "colab": {
          "base_uri": "https://localhost:8080/",
          "height": 283
        },
        "id": "ruvfkqve70JX",
        "outputId": "1ccc5a31-9cdb-4c23-f7dc-859829893788"
      },
      "source": [
        "img = images[0]\n",
        "#plt.imshow(img) #this wont directly work since we have a 3rd dimension of the image\n",
        "\n",
        "# we can use .squeeze() to remove the dimension of the image\n",
        "plt.imshow(img.squeeze())\t"
      ],
      "execution_count": 5,
      "outputs": [
        {
          "output_type": "execute_result",
          "data": {
            "text/plain": [
              "<matplotlib.image.AxesImage at 0x7f93fac62410>"
            ]
          },
          "metadata": {},
          "execution_count": 5
        },
        {
          "output_type": "display_data",
          "data": {
            "image/png": "[encoded data removed]",
            "text/plain": [
              "<Figure size 432x288 with 1 Axes>"
            ]
          },
          "metadata": {
            "image/png": {
              "width": 251,
              "height": 248
            },
            "needs_background": "light"
          }
        }
      ]
    },
    {
      "cell_type": "markdown",
      "metadata": {
        "id": "irH7b0Id70JY"
      },
      "source": [
        "## Building networks with PyTorch\n",
        "\n",
        "Here I'll use PyTorch to build a simple feedfoward network to classify the MNIST images. That is, the network will receive a digit image as input and predict the digit in the image.\n",
        "\n",
        "<img src=\"assets/mlp_mnist.png\" width=600px>\n",
        "\n",
        "To build a neural network with PyTorch, you use the `torch.nn` module. The network itself is a class inheriting from `torch.nn.Module`. You define each of the operations separately, like `nn.Linear(784, 128)` for a fully connected linear layer with 784 inputs and 128 units.\n",
        "\n",
        "The class needs to include a `forward` method that implements the forward pass through the network. In this method, you pass some input tensor `x` through each of the operations you defined earlier. The `torch.nn` module also has functional equivalents for things like ReLUs in `torch.nn.functional`. This module is usually imported as `F`. Then to use a ReLU activation on some layer (which is just a tensor), you'd do `F.relu(x)`. Below are a few different commonly used activation functions.\n",
        "\n",
        "<img src=\"assets/activation.png\" width=700px>\n",
        "\n",
        "So, for this network, I'll build it with three fully connected layers, then a softmax output for predicting classes. The softmax function is similar to the sigmoid in that it squashes inputs between 0 and 1, but it's also normalized so that all the values sum to one like a proper probability distribution."
      ]
    },
    {
      "cell_type": "code",
      "metadata": {
        "colab": {
          "base_uri": "https://localhost:8080/"
        },
        "id": "r2vmKZVg70JZ",
        "outputId": "abe9631d-0b61-4c5e-838a-f9838dfd3c78"
      },
      "source": [
        "class Network(nn.Module):\n",
        "    \n",
        "    # Defining the layers, 128, 64, 10 units each\n",
        "    def __init__(self):\n",
        "        super().__init__()\n",
        "        self.fc1 = nn.Linear(784, 128)\n",
        "        self.fc2 = nn.Linear(128, 64)\n",
        "        self.fc3 = nn.Linear(64, 10)\n",
        "        \n",
        "    # Forward pass through the network, returns the output logits\n",
        "    def forward(self, x):\n",
        "        x = self.fc1(x)\n",
        "        x = F.relu(x)\n",
        "        x = self.fc2(x)\n",
        "        x = F.relu(x)\n",
        "        x = self.fc3(x)\n",
        "        x = F.softmax(x, dim=1)\n",
        "        return x\n",
        "\n",
        "model = Network()\n",
        "model"
      ],
      "execution_count": 6,
      "outputs": [
        {
          "output_type": "execute_result",
          "data": {
            "text/plain": [
              "Network(\n",
              "  (fc1): Linear(in_features=784, out_features=128, bias=True)\n",
              "  (fc2): Linear(in_features=128, out_features=64, bias=True)\n",
              "  (fc3): Linear(in_features=64, out_features=10, bias=True)\n",
              ")"
            ]
          },
          "metadata": {},
          "execution_count": 6
        }
      ]
    },
    {
      "cell_type": "markdown",
      "metadata": {
        "id": "LUW3u9nu70Ja"
      },
      "source": [
        "### Sequential API\n",
        "PyTorch provides a convenient way to build networks like this where a tensor is passed sequentially through operations, `nn.Sequential` ([documentation](https://pytorch.org/docs/master/nn.html#torch.nn.Sequential)). Using this to build the equivalent network:"
      ]
    },
    {
      "cell_type": "code",
      "metadata": {
        "colab": {
          "base_uri": "https://localhost:8080/"
        },
        "id": "g0HkAX0L70Jb",
        "outputId": "e685657b-517b-4618-dd10-39ae03572aca"
      },
      "source": [
        "# Hyperparameters for our network\n",
        "input_size   = 784\n",
        "hidden_sizes = [128, 64]\n",
        "output_size   = 10\n",
        "\n",
        "# Build a feed-forward network\n",
        "model = nn.Sequential(nn.Linear(input_size, hidden_sizes[0]),\n",
        "                      nn.ReLU(),\n",
        "                      nn.Linear(hidden_sizes[0], hidden_sizes[1]),\n",
        "                      nn.ReLU(),\n",
        "                      nn.Linear(hidden_sizes[1], output_size),\n",
        "                      nn.Softmax(dim=1))\n",
        "print(model)"
      ],
      "execution_count": 7,
      "outputs": [
        {
          "output_type": "stream",
          "name": "stdout",
          "text": [
            "Sequential(\n",
            "  (0): Linear(in_features=784, out_features=128, bias=True)\n",
            "  (1): ReLU()\n",
            "  (2): Linear(in_features=128, out_features=64, bias=True)\n",
            "  (3): ReLU()\n",
            "  (4): Linear(in_features=64, out_features=10, bias=True)\n",
            "  (5): Softmax(dim=1)\n",
            ")\n"
          ]
        }
      ]
    },
    {
      "cell_type": "markdown",
      "metadata": {
        "id": "qkeaHuoB70Jb"
      },
      "source": [
        "You can also pass in an `OrderedDict` to name the individual layers and operations. Note that a dictionary keys must be unique, so _each operation must have a different name_."
      ]
    },
    {
      "cell_type": "code",
      "metadata": {
        "colab": {
          "base_uri": "https://localhost:8080/"
        },
        "id": "tJwS0xrY70Jb",
        "outputId": "29276e41-1b29-43c2-83e6-3b4d853f3de7"
      },
      "source": [
        "model = nn.Sequential(OrderedDict([\n",
        "          ('fc1',   nn.Linear(input_size, hidden_sizes[0])),\n",
        "          ('relu1', nn.ReLU()),\n",
        "          ('fc2',   nn.Linear(hidden_sizes[0], hidden_sizes[1])),\n",
        "          ('relu2', nn.ReLU()),\n",
        "          ('output', nn.Linear(hidden_sizes[1], output_size)),\n",
        "          ('softmax', nn.Softmax(dim=1))]))\n",
        "model"
      ],
      "execution_count": 8,
      "outputs": [
        {
          "output_type": "execute_result",
          "data": {
            "text/plain": [
              "Sequential(\n",
              "  (fc1): Linear(in_features=784, out_features=128, bias=True)\n",
              "  (relu1): ReLU()\n",
              "  (fc2): Linear(in_features=128, out_features=64, bias=True)\n",
              "  (relu2): ReLU()\n",
              "  (output): Linear(in_features=64, out_features=10, bias=True)\n",
              "  (softmax): Softmax(dim=1)\n",
              ")"
            ]
          },
          "metadata": {},
          "execution_count": 8
        }
      ]
    },
    {
      "cell_type": "markdown",
      "metadata": {
        "id": "duHnjFnT70Jc"
      },
      "source": [
        "### Initializing weights and biases\n",
        "\n",
        "The weights and such are automatically initialized for you, but it's possible to customize how they are initialized. The weights and biases are tensors attached to the layer you defined, you can get them with `model.fc1.weight` for instance."
      ]
    },
    {
      "cell_type": "code",
      "metadata": {
        "colab": {
          "base_uri": "https://localhost:8080/"
        },
        "id": "rCH6j39f70Jc",
        "outputId": "0be471e4-193a-4c54-89be-dbcb82d78e5d"
      },
      "source": [
        "print(model.fc1.weight)\n",
        "print(model.fc1.bias)"
      ],
      "execution_count": 9,
      "outputs": [
        {
          "output_type": "stream",
          "name": "stdout",
          "text": [
            "Parameter containing:\n",
            "tensor([[ 1.8485e-02, -2.4056e-02,  2.9027e-02,  ...,  1.0747e-02,\n",
            "         -1.3428e-02, -2.0462e-02],\n",
            "        [-2.4728e-02, -2.5986e-02, -1.3693e-02,  ..., -1.5993e-02,\n",
            "          1.2217e-02, -3.6142e-05],\n",
            "        [ 1.0288e-03,  1.9785e-02, -3.0476e-02,  ..., -3.0833e-02,\n",
            "         -2.5537e-02, -2.1256e-02],\n",
            "        ...,\n",
            "        [-1.0891e-02,  2.3158e-02,  2.3994e-02,  ..., -1.8271e-02,\n",
            "         -7.2042e-03,  1.4797e-02],\n",
            "        [-7.0329e-03, -3.2471e-02, -2.5938e-02,  ..., -3.0801e-02,\n",
            "         -2.3619e-02,  1.6837e-02],\n",
            "        [-1.5074e-02,  2.6743e-02, -2.3866e-02,  ...,  1.6966e-02,\n",
            "         -3.3311e-02, -4.0128e-03]], requires_grad=True)\n",
            "Parameter containing:\n",
            "tensor([ 3.2420e-02,  1.4197e-02, -1.3767e-04, -1.5886e-02,  6.5715e-03,\n",
            "         7.0377e-03, -1.2982e-02,  1.4922e-02,  5.3522e-03, -1.4428e-02,\n",
            "         6.6600e-03,  3.0468e-02,  2.4515e-03, -2.8279e-02,  2.6516e-02,\n",
            "         9.8348e-05, -8.3086e-03,  3.6664e-04, -2.2633e-02, -2.4324e-02,\n",
            "        -3.5385e-03, -1.8589e-02,  3.3355e-02, -2.4798e-03,  3.5513e-02,\n",
            "        -2.6745e-03, -3.2647e-02, -1.0693e-02, -1.1760e-02, -2.3545e-02,\n",
            "         8.4262e-03,  1.0543e-02,  8.4709e-03, -3.0245e-02,  1.8091e-03,\n",
            "         3.2846e-02,  1.3419e-02,  2.0289e-03,  3.2499e-02, -2.6107e-02,\n",
            "         1.1773e-02, -1.9476e-02, -1.8780e-02,  2.1037e-02, -1.6489e-02,\n",
            "        -1.1404e-03,  1.0358e-02,  2.4352e-02,  2.4592e-02, -3.0001e-02,\n",
            "        -3.1380e-02,  1.3216e-02,  3.3678e-02,  1.6195e-02, -9.2982e-03,\n",
            "         1.3434e-02,  1.2007e-02, -1.9185e-02,  2.9903e-02,  1.5727e-03,\n",
            "         3.5633e-02, -3.2399e-02, -6.2109e-03, -1.4863e-02,  1.4258e-02,\n",
            "        -1.3507e-02, -2.3201e-02, -3.9094e-03, -3.1669e-02,  2.8648e-02,\n",
            "         2.0250e-03,  2.5146e-02, -1.2099e-02, -2.3046e-02,  6.1681e-03,\n",
            "         3.1583e-02,  3.1114e-02,  3.3097e-02,  8.1144e-03,  2.3593e-02,\n",
            "         2.9604e-02,  1.9502e-02, -3.3684e-02, -6.2349e-03,  2.7116e-02,\n",
            "        -1.6704e-02, -1.3378e-03, -1.3881e-02,  2.9410e-02,  1.2535e-02,\n",
            "         2.6741e-02, -2.4885e-02, -1.9914e-02, -3.2491e-02, -2.3751e-02,\n",
            "        -1.5098e-02,  2.8505e-02,  2.0842e-03,  3.3393e-02,  1.8479e-02,\n",
            "        -3.1875e-02, -1.6535e-02, -2.4406e-02, -2.0525e-02, -1.2243e-03,\n",
            "         2.4602e-02,  2.4539e-02, -3.7376e-03,  1.6955e-02, -1.7026e-02,\n",
            "         7.1485e-03, -4.2362e-03, -2.4688e-02,  2.5761e-02, -2.9415e-02,\n",
            "         1.3686e-02,  6.6982e-03,  3.1546e-02, -3.2826e-02, -3.0668e-02,\n",
            "         2.7229e-02,  1.9892e-03,  1.0853e-02, -2.2210e-02,  1.1221e-02,\n",
            "         2.7662e-02,  5.5520e-03, -2.2624e-02], requires_grad=True)\n"
          ]
        }
      ]
    },
    {
      "cell_type": "markdown",
      "metadata": {
        "id": "FHPgbb8c70Jc"
      },
      "source": [
        "For custom initialization, we want to modify these tensors in place. These are actually autograd *Variables*, so we need to get back the actual tensors with `model.fc1.weight.data`. Once we have the tensors, we can fill them with zeros (for biases) or random normal values."
      ]
    },
    {
      "cell_type": "code",
      "metadata": {
        "colab": {
          "base_uri": "https://localhost:8080/"
        },
        "id": "Mj0VaSMe70Jc",
        "outputId": "10f119b1-551c-4d57-991c-94651f1ecc8f"
      },
      "source": [
        "# Set biases to all zeros\n",
        "model.fc1.bias.data.fill_(0)"
      ],
      "execution_count": 10,
      "outputs": [
        {
          "output_type": "execute_result",
          "data": {
            "text/plain": [
              "tensor([0., 0., 0., 0., 0., 0., 0., 0., 0., 0., 0., 0., 0., 0., 0., 0., 0., 0., 0., 0., 0., 0., 0., 0.,\n",
              "        0., 0., 0., 0., 0., 0., 0., 0., 0., 0., 0., 0., 0., 0., 0., 0., 0., 0., 0., 0., 0., 0., 0., 0.,\n",
              "        0., 0., 0., 0., 0., 0., 0., 0., 0., 0., 0., 0., 0., 0., 0., 0., 0., 0., 0., 0., 0., 0., 0., 0.,\n",
              "        0., 0., 0., 0., 0., 0., 0., 0., 0., 0., 0., 0., 0., 0., 0., 0., 0., 0., 0., 0., 0., 0., 0., 0.,\n",
              "        0., 0., 0., 0., 0., 0., 0., 0., 0., 0., 0., 0., 0., 0., 0., 0., 0., 0., 0., 0., 0., 0., 0., 0.,\n",
              "        0., 0., 0., 0., 0., 0., 0., 0.])"
            ]
          },
          "metadata": {},
          "execution_count": 10
        }
      ]
    },
    {
      "cell_type": "code",
      "metadata": {
        "colab": {
          "base_uri": "https://localhost:8080/"
        },
        "id": "Q-CogCOI70Jd",
        "outputId": "579ca8ad-7059-40fa-bbe6-2a63206a2c24"
      },
      "source": [
        "# sample from random normal with standard dev = 0.01\n",
        "model.fc1.weight.data.normal_(std=0.01)"
      ],
      "execution_count": 11,
      "outputs": [
        {
          "output_type": "execute_result",
          "data": {
            "text/plain": [
              "tensor([[ 0.0007,  0.0044,  0.0041,  ..., -0.0001,  0.0045,  0.0080],\n",
              "        [-0.0123, -0.0211, -0.0090,  ..., -0.0230,  0.0060, -0.0082],\n",
              "        [-0.0154,  0.0065,  0.0056,  ...,  0.0092, -0.0060,  0.0151],\n",
              "        ...,\n",
              "        [-0.0066,  0.0052, -0.0091,  ...,  0.0046, -0.0111, -0.0107],\n",
              "        [ 0.0040,  0.0102, -0.0036,  ...,  0.0132,  0.0084, -0.0026],\n",
              "        [ 0.0138,  0.0132,  0.0112,  ...,  0.0021,  0.0010,  0.0009]])"
            ]
          },
          "metadata": {},
          "execution_count": 11
        }
      ]
    },
    {
      "cell_type": "markdown",
      "metadata": {
        "id": "IGnza1Oz70Jd"
      },
      "source": [
        "### STEP 1: Forward pass\n",
        "\n",
        "Now that we have a network, let's see what happens when we pass in an image. This is called the forward pass. We're going to convert the image data into a tensor, then pass it through the operations defined by the network architecture."
      ]
    },
    {
      "cell_type": "code",
      "metadata": {
        "colab": {
          "base_uri": "https://localhost:8080/",
          "height": 212
        },
        "id": "JdqU-RVR70Jd",
        "outputId": "dcba250d-e589-4423-c06b-0b455e9db04b"
      },
      "source": [
        "# Grab some data \n",
        "dataiter = iter(trainloader)\n",
        "images, labels = dataiter.next()\n",
        "\n",
        "# Resize images into a 1D vector, new shape is (batch size, color channels, image pixels) \n",
        "images.resize_(64, 1, 784)\n",
        "# or images.resize_(images.shape[0], 1, 784) to not automatically get batch size\n",
        "\n",
        "# Forward pass through the network\n",
        "img_idx = 0\n",
        "ps = model.forward(images[img_idx,:])\n",
        "\n",
        "img = images[img_idx]\n",
        "view_classify(img.view(1, 28, 28), ps)"
      ],
      "execution_count": 12,
      "outputs": [
        {
          "output_type": "display_data",
          "data": {
            "image/png": "[encoded data removed]",
            "text/plain": [
              "<Figure size 432x648 with 2 Axes>"
            ]
          },
          "metadata": {
            "image/png": {
              "width": 349,
              "height": 195
            },
            "needs_background": "light"
          }
        }
      ]
    },
    {
      "cell_type": "markdown",
      "metadata": {
        "id": "DJPCYK4470Je"
      },
      "source": [
        "As you can see above, our network has basically no idea what this digit is. It's because we haven't trained it yet, all the weights are random!"
      ]
    },
    {
      "cell_type": "markdown",
      "metadata": {
        "id": "WEVTIUOH70Je"
      },
      "source": [
        "# Training Neural Networks\n",
        "\n",
        "The network we built isn't so smart, it doesn't know anything about our handwritten digits. Neural networks with non-linear activations work like universal function approximators. There is some function that maps your input to the output. For example, images of handwritten digits to class probabilities. The power of neural networks is that we can train them to approximate this function, and basically any function given enough data and compute time.\n",
        "\n",
        "<img src=\"assets/function_approx.png\" width=500px>\n",
        "\n",
        "At first the network is naive, it doesn't know the function mapping the inputs to the outputs. We train the network by showing it examples of real data, then adjusting the network parameters such that it approximates this function.\n",
        "\n",
        "To find these parameters, we need to know how poorly the network is predicting the real outputs. For this we calculate a **loss function** (also called the cost), a measure of our prediction error. For example, the mean squared loss is often used in regression and binary classification problems\n",
        "\n",
        "$$\n",
        "\\ell = \\frac{1}{2n}\\sum_i^n{\\left(y_i - \\hat{y}_i\\right)^2}\n",
        "$$\n",
        "\n",
        "where $n$ is the number of training examples, $y_i$ are the true labels, and $\\hat{y}_i$ are the predicted labels.\n",
        "\n",
        "By minimizing this loss with respect to the network parameters, we can find configurations where the loss is at a minimum and the network is able to predict the correct labels with high accuracy. We find this minimum using a process called **gradient descent**. The gradient is the slope of the loss function and points in the direction of fastest change. To get to the minimum in the least amount of time, we then want to follow the gradient (downwards). You can think of this like descending a mountain by following the steepest slope to the base.\n",
        "\n",
        "<img src='assets/gradient_descent.png' width=350px>"
      ]
    },
    {
      "cell_type": "markdown",
      "metadata": {
        "id": "Qi410xzg70Je"
      },
      "source": [
        "## Backpropagation\n",
        "\n",
        "For single layer networks, gradient descent is simple to implement. However, it's more complicated for deeper, multilayer neural networks like the one we've built. Complicated enough that it took about 30 years before researchers figured out how to train multilayer networks, although it's straightforward once you learn about it. \n",
        "\n",
        "This is done through **backpropagation** which is really just an application of the chain rule from calculus. It's easiest to understand if we convert a two layer network into a graph representation.\n",
        "\n",
        "<img src='assets/w1_backprop_graph.png' width=400px>\n",
        "\n",
        "In the forward pass through the network, our data and operations go from right to left here. To train the weights with gradient descent, we propagate the gradient of the cost backwards through the network. Mathematically, this is really just calculating the gradient of the loss with respect to the weights using the chain rule.\n",
        "\n",
        "$$\n",
        "\\frac{\\partial \\ell}{\\partial w_1} = \\frac{\\partial l_1}{\\partial w_1} \\frac{\\partial s}{\\partial l_1} \\frac{\\partial l_2}{\\partial s} \\frac{\\partial \\ell}{\\partial l_2}\n",
        "$$\n",
        "\n",
        "We update our weights using this gradient with some learning rate $\\alpha$. \n",
        "\n",
        "$$\n",
        "w^\\prime = w - \\alpha \\frac{\\partial \\ell}{\\partial w}\n",
        "$$\n",
        "\n",
        "The learning rate is set such that the weight update steps are small enough that the iterative method settles in a minimum.\n",
        "\n",
        "The first thing we need to do for training is define our loss function. In PyTorch, you'll usually see this as `criterion`. Here we're using softmax output, so we want to use `criterion = nn.CrossEntropyLoss()` as our loss. Later when training, you use `loss = criterion(output, targets)` to calculate the actual loss.\n",
        "\n",
        "We also need to define the optimizer we're using, SGD or Adam, or something along those lines. Here I'll just use SGD with `torch.optim.SGD`, passing in the network parameters and the learning rate."
      ]
    },
    {
      "cell_type": "markdown",
      "metadata": {
        "id": "HN8pEUF-70Je"
      },
      "source": [
        "## Autograd\n",
        "\n",
        "Torch provides a module, `autograd`, for automatically calculating the gradient of tensors. It does this by keeping track of operations performed on tensors. To make sure PyTorch keeps track of operations on a tensor and calculates the gradients, you need to set `requires_grad` on a tensor. You can do this at creation with the `requires_grad` keyword, or at any time with `x.requires_grad_(True)`.\n",
        "\n",
        "You can turn off gradients for a block of code with the `torch.no_grad()` content:\n",
        "```python\n",
        "x = torch.zeros(1, requires_grad=True)\n",
        ">>> with torch.no_grad():\n",
        "...     y = x * 2\n",
        ">>> y.requires_grad\n",
        "False\n",
        "```\n",
        "\n",
        "Also, you can turn on or off gradients altogether with `torch.set_grad_enabled(True|False)`.\n",
        "\n",
        "The gradients are computed with respect to some variable `z` with `z.backward()`. This does a backward pass through the operations that created `z`."
      ]
    },
    {
      "cell_type": "code",
      "metadata": {
        "colab": {
          "base_uri": "https://localhost:8080/"
        },
        "id": "bOaPoA6n70Jf",
        "outputId": "ed0819a8-994b-4133-aaba-33e055b9c4f1"
      },
      "source": [
        "x = torch.randn(2,2, requires_grad=True)\n",
        "print(x)"
      ],
      "execution_count": 13,
      "outputs": [
        {
          "output_type": "stream",
          "name": "stdout",
          "text": [
            "tensor([[ 0.8831,  0.2086],\n",
            "        [-0.8741,  0.4856]], requires_grad=True)\n"
          ]
        }
      ]
    },
    {
      "cell_type": "code",
      "metadata": {
        "colab": {
          "base_uri": "https://localhost:8080/"
        },
        "id": "-d7YbK3570Jf",
        "outputId": "dcdbb8a3-d150-4410-aa79-0408fff60054"
      },
      "source": [
        "y = x**2\n",
        "print(y)"
      ],
      "execution_count": 14,
      "outputs": [
        {
          "output_type": "stream",
          "name": "stdout",
          "text": [
            "tensor([[0.7798, 0.0435],\n",
            "        [0.7640, 0.2358]], grad_fn=<PowBackward0>)\n"
          ]
        }
      ]
    },
    {
      "cell_type": "markdown",
      "metadata": {
        "id": "Sj2ceBwm70Jf"
      },
      "source": [
        "Below we can see the operation that created `y`, a power operation `PowBackward0`."
      ]
    },
    {
      "cell_type": "code",
      "metadata": {
        "colab": {
          "base_uri": "https://localhost:8080/"
        },
        "id": "_WyviDsN70Jg",
        "outputId": "cf94f273-2334-4f49-b7b0-aade8adfd7c3"
      },
      "source": [
        "## grad_fn shows the function that generated this variable\n",
        "print(y.grad_fn)"
      ],
      "execution_count": 15,
      "outputs": [
        {
          "output_type": "stream",
          "name": "stdout",
          "text": [
            "<PowBackward0 object at 0x7f93fabc0e90>\n"
          ]
        }
      ]
    },
    {
      "cell_type": "markdown",
      "metadata": {
        "id": "xd8ZhZXI70Jg"
      },
      "source": [
        "The autgrad module keeps track of these operations and knows how to calculate the gradient for each one. In this way, it's able to calculate the gradients for a chain of operations, with respect to any one tensor. Let's reduce the tensor `y` to a scalar value, the mean."
      ]
    },
    {
      "cell_type": "code",
      "metadata": {
        "colab": {
          "base_uri": "https://localhost:8080/"
        },
        "id": "q5Eqr6Hi70Jg",
        "outputId": "a2bf6e8d-29c2-4aa3-8847-beaa6e18d686"
      },
      "source": [
        "z = y.mean()\n",
        "print(z)"
      ],
      "execution_count": 16,
      "outputs": [
        {
          "output_type": "stream",
          "name": "stdout",
          "text": [
            "tensor(0.4558, grad_fn=<MeanBackward0>)\n"
          ]
        }
      ]
    },
    {
      "cell_type": "markdown",
      "metadata": {
        "id": "0pVr9Vhz70Jh"
      },
      "source": [
        "You can check the gradients for `x` and `y` but they are empty currently."
      ]
    },
    {
      "cell_type": "code",
      "metadata": {
        "colab": {
          "base_uri": "https://localhost:8080/"
        },
        "id": "fhOaGQDG70Jh",
        "outputId": "a261fa3d-d9f2-40f3-e5a2-4369db509b28"
      },
      "source": [
        "print(x.grad)"
      ],
      "execution_count": 17,
      "outputs": [
        {
          "output_type": "stream",
          "name": "stdout",
          "text": [
            "None\n"
          ]
        }
      ]
    },
    {
      "cell_type": "markdown",
      "metadata": {
        "id": "VF0E_F4O70Jh"
      },
      "source": [
        "To calculate the gradients, you need to run the `.backward` method on a Variable, `z` for example. This will calculate the gradient for `z` with respect to `x`\n",
        "\n",
        "$$\n",
        "\\frac{\\partial z}{\\partial x} = \\frac{\\partial}{\\partial x}\\left[\\frac{1}{n}\\sum_i^n x_i^2\\right] = \\frac{x}{2}\n",
        "$$"
      ]
    },
    {
      "cell_type": "code",
      "metadata": {
        "colab": {
          "base_uri": "https://localhost:8080/"
        },
        "id": "Bu0x2pEi70Jh",
        "outputId": "1057be50-cfb6-408b-9985-09c41a23395f"
      },
      "source": [
        "z.backward()\n",
        "print(x.grad)\n",
        "print(x/2)"
      ],
      "execution_count": 18,
      "outputs": [
        {
          "output_type": "stream",
          "name": "stdout",
          "text": [
            "tensor([[ 0.4415,  0.1043],\n",
            "        [-0.4370,  0.2428]])\n",
            "tensor([[ 0.4415,  0.1043],\n",
            "        [-0.4370,  0.2428]], grad_fn=<DivBackward0>)\n"
          ]
        }
      ]
    },
    {
      "cell_type": "markdown",
      "metadata": {
        "id": "srGs6ATm70Ji"
      },
      "source": [
        "These gradients calculations are particularly useful for neural networks. For training we need the gradients of the weights with respect to the cost. With PyTorch, we run data forward through the network to calculate the cost, then, go backwards to calculate the gradients with respect to the cost. Once we have the gradients we can make a gradient descent step. "
      ]
    },
    {
      "cell_type": "markdown",
      "metadata": {
        "id": "wvwGci0v70Ji"
      },
      "source": [
        "I'll build a network with `nn.Sequential` here. Only difference from the last part is I'm not actually using softmax on the output, but instead just using the raw output from the last layer. This is because the output from softmax is a probability distribution. Often, the output will have values really close to zero or really close to one. Due to [inaccuracies with representing numbers as floating points](https://docs.python.org/3/tutorial/floatingpoint.html), computations with a softmax output can lose accuracy and become unstable. To get around this, we'll use the raw output, called the **logits**, to calculate the loss."
      ]
    },
    {
      "cell_type": "code",
      "metadata": {
        "id": "BE3_gva670Ji"
      },
      "source": [
        "# Hyperparameters for our network\n",
        "input_size   = 784\n",
        "hidden_sizes = [128, 64]\n",
        "output_size  = 10\n",
        "\n",
        "# Build a feed-forward network\n",
        "model = nn.Sequential(OrderedDict([\n",
        "          ('fc1', nn.Linear(input_size, hidden_sizes[0])),\n",
        "          ('relu1', nn.ReLU()),\n",
        "          ('fc2', nn.Linear(hidden_sizes[0], hidden_sizes[1])),\n",
        "          ('relu2', nn.ReLU()),\n",
        "          ('logits', nn.Linear(hidden_sizes[1], output_size))]))"
      ],
      "execution_count": 19,
      "outputs": []
    },
    {
      "cell_type": "markdown",
      "metadata": {
        "id": "NIbGY21T70Ji"
      },
      "source": [
        "## Training the network!\n",
        "\n",
        "The first thing we need to do for training is define our loss function. In PyTorch, you'll usually see this as `criterion`. Here we're using softmax output, so we want to use `criterion = nn.CrossEntropyLoss()` as our loss. Later when training, you use `loss = criterion(output, targets)` to calculate the actual loss.\n",
        "\n",
        "We also need to define the optimizer we're using, SGD or Adam, or something along those lines. Here I'll just use SGD with `torch.optim.SGD`, passing in the network parameters and the learning rate."
      ]
    },
    {
      "cell_type": "code",
      "metadata": {
        "id": "DXvmM_fo70Ji"
      },
      "source": [
        "criterion = nn.CrossEntropyLoss()\n",
        "optimizer = optim.SGD(model.parameters(), lr=0.01)"
      ],
      "execution_count": 20,
      "outputs": []
    },
    {
      "cell_type": "markdown",
      "metadata": {
        "id": "_PfjstBJ70Jj"
      },
      "source": [
        "First, let's consider just one learning step before looping through all the data. The general process with PyTorch:\n",
        "\n",
        "* Make a forward pass through the network to get the logits \n",
        "* Use the logits to calculate the loss\n",
        "* Perform a backward pass through the network with `loss.backward()` to calculate the gradients\n",
        "* Take a step with the optimizer to update the weights\n",
        "\n",
        "Below I'll go through one training step and print out the weights and gradients so you can see how it changes."
      ]
    },
    {
      "cell_type": "code",
      "metadata": {
        "colab": {
          "base_uri": "https://localhost:8080/"
        },
        "id": "BPQyDgfL70Jj",
        "outputId": "7dfec984-2252-4cbf-9553-65d96fcfc4ae"
      },
      "source": [
        "print('Initial weights - ', model.fc1.weight)\n",
        "\n",
        "images, labels = next(iter(trainloader))\n",
        "images.resize_(64, 784)\n",
        "\n",
        "# Clear the gradients, do this because gradients are accumulated\n",
        "optimizer.zero_grad()\n",
        "\n",
        "# Forward pass, then backward pass, then update weights\n",
        "output = model.forward(images)\n",
        "loss = criterion(output, labels)\n",
        "loss.backward()\n",
        "print('Gradient -', model.fc1.weight.grad)\n",
        "optimizer.step()"
      ],
      "execution_count": 21,
      "outputs": [
        {
          "output_type": "stream",
          "name": "stdout",
          "text": [
            "Initial weights -  Parameter containing:\n",
            "tensor([[ 0.0101,  0.0201, -0.0121,  ..., -0.0271, -0.0321, -0.0232],\n",
            "        [ 0.0326, -0.0268,  0.0342,  ..., -0.0132, -0.0340,  0.0181],\n",
            "        [ 0.0031,  0.0321,  0.0340,  ..., -0.0311, -0.0350,  0.0356],\n",
            "        ...,\n",
            "        [-0.0330,  0.0110,  0.0271,  ..., -0.0166,  0.0131, -0.0099],\n",
            "        [ 0.0079, -0.0244,  0.0134,  ...,  0.0264,  0.0245, -0.0297],\n",
            "        [-0.0064, -0.0119,  0.0229,  ...,  0.0128,  0.0307,  0.0181]],\n",
            "       requires_grad=True)\n",
            "Gradient - tensor([[ 0.0006,  0.0006,  0.0006,  ...,  0.0006,  0.0006,  0.0006],\n",
            "        [-0.0007, -0.0007, -0.0007,  ..., -0.0007, -0.0007, -0.0007],\n",
            "        [ 0.0009,  0.0009,  0.0009,  ...,  0.0009,  0.0009,  0.0009],\n",
            "        ...,\n",
            "        [-0.0004, -0.0004, -0.0004,  ..., -0.0004, -0.0004, -0.0004],\n",
            "        [ 0.0009,  0.0009,  0.0009,  ...,  0.0009,  0.0009,  0.0009],\n",
            "        [-0.0010, -0.0010, -0.0010,  ..., -0.0010, -0.0010, -0.0010]])\n"
          ]
        }
      ]
    },
    {
      "cell_type": "code",
      "metadata": {
        "colab": {
          "base_uri": "https://localhost:8080/"
        },
        "id": "tVAOsZ-h70Jj",
        "outputId": "43215bd1-e84d-48a5-9e92-a9e94a42ec19"
      },
      "source": [
        "print('Updated weights - ', model.fc1.weight)"
      ],
      "execution_count": 22,
      "outputs": [
        {
          "output_type": "stream",
          "name": "stdout",
          "text": [
            "Updated weights -  Parameter containing:\n",
            "tensor([[ 0.0101,  0.0201, -0.0121,  ..., -0.0272, -0.0321, -0.0232],\n",
            "        [ 0.0326, -0.0268,  0.0342,  ..., -0.0132, -0.0340,  0.0181],\n",
            "        [ 0.0030,  0.0321,  0.0340,  ..., -0.0311, -0.0350,  0.0356],\n",
            "        ...,\n",
            "        [-0.0330,  0.0110,  0.0271,  ..., -0.0166,  0.0131, -0.0099],\n",
            "        [ 0.0079, -0.0244,  0.0134,  ...,  0.0264,  0.0245, -0.0297],\n",
            "        [-0.0064, -0.0119,  0.0229,  ...,  0.0128,  0.0307,  0.0181]],\n",
            "       requires_grad=True)\n"
          ]
        }
      ]
    },
    {
      "cell_type": "markdown",
      "metadata": {
        "id": "kYo-oMaE70Jk"
      },
      "source": [
        "### Training for real\n",
        "\n",
        "Now we'll put this algorithm into a loop so we can go through all the images. This is fairly straightforward. We'll loop through the mini-batches in our dataset, pass the data through the network to calculate the losses, get the gradients, then run the optimizer."
      ]
    },
    {
      "cell_type": "code",
      "metadata": {
        "id": "TLEwy_B370Jk"
      },
      "source": [
        "optimizer = optim.SGD(model.parameters(), lr=0.003)"
      ],
      "execution_count": 23,
      "outputs": []
    },
    {
      "cell_type": "code",
      "metadata": {
        "colab": {
          "base_uri": "https://localhost:8080/"
        },
        "id": "a3MTcZXi70Jk",
        "outputId": "99572844-025d-4b7a-dd36-19f414693285"
      },
      "source": [
        "epochs = 3\n",
        "print_every = 40\n",
        "\n",
        "for e in range(epochs):\n",
        "    running_loss = 0\n",
        "    print(f\"Epoch: {e+1}/{epochs}\")\n",
        "\n",
        "    for i, (images, labels) in enumerate(iter(trainloader)):\n",
        "\n",
        "        # Flatten MNIST images into a 784 long vector\n",
        "        images.resize_(images.size()[0], 784)\n",
        "        \n",
        "        optimizer.zero_grad()\n",
        "        \n",
        "        output = model.forward(images)   # 1) Forward pass\n",
        "        loss = criterion(output, labels) # 2) Compute loss\n",
        "        loss.backward()                  # 3) Backward pass\n",
        "        optimizer.step()                 # 4) Update model\n",
        "        \n",
        "        running_loss += loss.item()\n",
        "        \n",
        "        if i % print_every == 0:\n",
        "            print(f\"\\tIteration: {i}\\t Loss: {running_loss/print_every:.4f}\")\n",
        "            running_loss = 0"
      ],
      "execution_count": 24,
      "outputs": [
        {
          "output_type": "stream",
          "name": "stdout",
          "text": [
            "Epoch: 1/3\n",
            "\tIteration: 0\t Loss: 0.0584\n",
            "\tIteration: 40\t Loss: 2.2980\n",
            "\tIteration: 80\t Loss: 2.2755\n",
            "\tIteration: 120\t Loss: 2.2593\n",
            "\tIteration: 160\t Loss: 2.2325\n",
            "\tIteration: 200\t Loss: 2.2103\n",
            "\tIteration: 240\t Loss: 2.1798\n",
            "\tIteration: 280\t Loss: 2.1504\n",
            "\tIteration: 320\t Loss: 2.1129\n",
            "\tIteration: 360\t Loss: 2.0820\n",
            "\tIteration: 400\t Loss: 2.0427\n",
            "\tIteration: 440\t Loss: 1.9999\n",
            "\tIteration: 480\t Loss: 1.9394\n",
            "\tIteration: 520\t Loss: 1.8948\n",
            "\tIteration: 560\t Loss: 1.8250\n",
            "\tIteration: 600\t Loss: 1.7767\n",
            "\tIteration: 640\t Loss: 1.7082\n",
            "\tIteration: 680\t Loss: 1.6285\n",
            "\tIteration: 720\t Loss: 1.5914\n",
            "\tIteration: 760\t Loss: 1.4889\n",
            "\tIteration: 800\t Loss: 1.4596\n",
            "\tIteration: 840\t Loss: 1.4001\n",
            "\tIteration: 880\t Loss: 1.3437\n",
            "\tIteration: 920\t Loss: 1.2675\n",
            "Epoch: 2/3\n",
            "\tIteration: 0\t Loss: 0.0322\n",
            "\tIteration: 40\t Loss: 1.1713\n",
            "\tIteration: 80\t Loss: 1.1483\n",
            "\tIteration: 120\t Loss: 1.0999\n",
            "\tIteration: 160\t Loss: 1.0579\n",
            "\tIteration: 200\t Loss: 1.0261\n",
            "\tIteration: 240\t Loss: 0.9738\n",
            "\tIteration: 280\t Loss: 0.9612\n",
            "\tIteration: 320\t Loss: 0.9212\n",
            "\tIteration: 360\t Loss: 0.9108\n",
            "\tIteration: 400\t Loss: 0.8607\n",
            "\tIteration: 440\t Loss: 0.8242\n",
            "\tIteration: 480\t Loss: 0.8092\n",
            "\tIteration: 520\t Loss: 0.8016\n",
            "\tIteration: 560\t Loss: 0.7800\n",
            "\tIteration: 600\t Loss: 0.7523\n",
            "\tIteration: 640\t Loss: 0.7409\n",
            "\tIteration: 680\t Loss: 0.7580\n",
            "\tIteration: 720\t Loss: 0.6968\n",
            "\tIteration: 760\t Loss: 0.6913\n",
            "\tIteration: 800\t Loss: 0.6772\n",
            "\tIteration: 840\t Loss: 0.6551\n",
            "\tIteration: 880\t Loss: 0.6828\n",
            "\tIteration: 920\t Loss: 0.6162\n",
            "Epoch: 3/3\n",
            "\tIteration: 0\t Loss: 0.0142\n",
            "\tIteration: 40\t Loss: 0.6436\n",
            "\tIteration: 80\t Loss: 0.6140\n",
            "\tIteration: 120\t Loss: 0.6092\n",
            "\tIteration: 160\t Loss: 0.5877\n",
            "\tIteration: 200\t Loss: 0.6145\n",
            "\tIteration: 240\t Loss: 0.5686\n",
            "\tIteration: 280\t Loss: 0.5699\n",
            "\tIteration: 320\t Loss: 0.5833\n",
            "\tIteration: 360\t Loss: 0.5395\n",
            "\tIteration: 400\t Loss: 0.5502\n",
            "\tIteration: 440\t Loss: 0.5211\n",
            "\tIteration: 480\t Loss: 0.5097\n",
            "\tIteration: 520\t Loss: 0.5187\n",
            "\tIteration: 560\t Loss: 0.5136\n",
            "\tIteration: 600\t Loss: 0.5022\n",
            "\tIteration: 640\t Loss: 0.5073\n",
            "\tIteration: 680\t Loss: 0.5047\n",
            "\tIteration: 720\t Loss: 0.4897\n",
            "\tIteration: 760\t Loss: 0.5316\n",
            "\tIteration: 800\t Loss: 0.4743\n",
            "\tIteration: 840\t Loss: 0.4655\n",
            "\tIteration: 880\t Loss: 0.4757\n",
            "\tIteration: 920\t Loss: 0.4954\n"
          ]
        }
      ]
    },
    {
      "cell_type": "markdown",
      "metadata": {
        "id": "2NDmj60i70Jk"
      },
      "source": [
        "With the network trained, we can check out it's predictions."
      ]
    },
    {
      "cell_type": "code",
      "metadata": {
        "colab": {
          "base_uri": "https://localhost:8080/",
          "height": 212
        },
        "id": "W0bIjoO970Jk",
        "outputId": "5dc031e2-9ccb-4982-b75c-b5dfc434fc4e"
      },
      "source": [
        "images, labels = next(iter(trainloader))\n",
        "\n",
        "img = images[0].view(1, 784)\n",
        "# Turn off gradients to speed up this part\n",
        "with torch.no_grad():\n",
        "    logits = model.forward(img)\n",
        "\n",
        "# Output of the network are logits, need to take softmax for probabilities\n",
        "ps = F.softmax(logits, dim=1)\n",
        "view_classify(img.view(1, 28, 28), ps)"
      ],
      "execution_count": 25,
      "outputs": [
        {
          "output_type": "display_data",
          "data": {
            "image/png": "[encoded data removed]",
            "text/plain": [
              "<Figure size 432x648 with 2 Axes>"
            ]
          },
          "metadata": {
            "image/png": {
              "width": 349,
              "height": 195
            },
            "needs_background": "light"
          }
        }
      ]
    },
    {
      "cell_type": "markdown",
      "metadata": {
        "id": "mRicmjIT70Jk"
      },
      "source": [
        "Now our network is brilliant. It can accurately predict the digits in our images."
      ]
    },
    {
      "cell_type": "markdown",
      "metadata": {
        "id": "lb_GDLYs70Jk"
      },
      "source": [
        "<div style=\"background:#222222; color:#ffffff; padding:20px\">\n",
        "    <h2 align=\"center\" style=\"color:#01ff84\">MNIST Clasification: Exercise</h2>\n",
        "<div>"
      ]
    },
    {
      "cell_type": "markdown",
      "metadata": {
        "id": "LKkqA9pW70Jl"
      },
      "source": [
        "<div style=\"background:#222222; color:#ffffff; padding:20px\">\n",
        "  <h3 style=\"color:#01ff84; margin-top:4px\">Exercise 1:</h3>\n",
        "  <p>Now it's your turn to build a simple network, use any method I've covered so far. In the next notebook, you'll learn how to train a network so it can make good predictions.</p>\n",
        "  <p>Build a network to classify the MNIST images with 3 hidden layers. Use 400 units in the first hidden layer, 200 units in the second layer, and 100 units in the third layer. Each hidden layer should have a ReLU activation function, and use softmax on the output layer.</p>\n",
        "<div>"
      ]
    },
    {
      "cell_type": "code",
      "metadata": {
        "id": "ry3djU5X70Jl"
      },
      "source": [
        "## TODO: Your network here\n",
        "\n",
        "model1 = nn.Sequential(nn.Linear(input_size, 400),\n",
        "                      nn.ReLU(),\n",
        "                      nn.Linear(400, 200),\n",
        "                      nn.ReLU(),\n",
        "                      nn.Linear(200, 100),\n",
        "                      nn.ReLU(),\n",
        "                      nn.Linear(100, 10),\n",
        "                      nn.Softmax(dim=1))"
      ],
      "execution_count": 26,
      "outputs": []
    },
    {
      "cell_type": "code",
      "metadata": {
        "colab": {
          "base_uri": "https://localhost:8080/",
          "height": 212
        },
        "id": "dOxdByUu70Jl",
        "outputId": "f3561b41-4eb0-4d4e-9f9a-be1f127e8260"
      },
      "source": [
        "# Run this cell with your model to make sure it works\n",
        "# Forward pass through the network and display output\n",
        "images, labels = next(iter(trainloader))\n",
        "images.resize_(images.shape[0], 1, 784)\n",
        "ps = model1.forward(images[0,:])\n",
        "view_classify(images[0].view(1, 28, 28), ps)"
      ],
      "execution_count": 27,
      "outputs": [
        {
          "output_type": "display_data",
          "data": {
            "image/png": "[encoded data removed]",
            "text/plain": [
              "<Figure size 432x648 with 2 Axes>"
            ]
          },
          "metadata": {
            "image/png": {
              "width": 349,
              "height": 195
            },
            "needs_background": "light"
          }
        }
      ]
    },
    {
      "cell_type": "markdown",
      "metadata": {
        "id": "W6XTL1tS70Jl"
      },
      "source": [
        "<div style=\"background:#222222; color:#ffffff; padding:20px\">\n",
        "  <h3 style=\"color:#01ff84; margin-top:4px\">Exercise 2:</h3>\n",
        "  <p>Train your network implementing the Pytorch training loop and <strong style=\"color:#01ff84\">after each epoch, use the model for predicting the test (validation) MNIST data.</strong></p>\n",
        "  <p>Note: If your model does not fit with the final softmax layer, you can remove this layer.</p>\n",
        "  <p>Hint: <a href=\"https://discuss.pytorch.org/t/training-loop-checking-validation-accuracy/78399\">Training loop checking validation accuracy\n",
        "</a></p>\n",
        "  <p>Research about <code>model.train()</code>, <code>model.eval()</code> and <code>with torch.no_grad()</code> in Pytorch.\n",
        "<div>"
      ]
    },
    {
      "cell_type": "code",
      "metadata": {
        "colab": {
          "base_uri": "https://localhost:8080/"
        },
        "id": "EkjrVdxj70Jl",
        "outputId": "4a4b9156-4ecd-4028-f9dc-169aa8e85a03"
      },
      "source": [
        "## TODO: Your training loop here\n",
        "\n",
        "epochs = 100\n",
        "optimizer = optim.SGD(model1.parameters(), lr=0.003)\n",
        "\n",
        "\n",
        "for e in range(epochs):\n",
        "    for i, (images, labels) in enumerate(iter(trainloader)):\n",
        "\n",
        "        # Flatten MNIST images into a 784 long vector\n",
        "\n",
        "        images.resize_(images.size()[0], 784)\n",
        "        model1.train()\n",
        "        optimizer.zero_grad()\n",
        "        output = model1.forward(images)\n",
        "        loss = criterion(output, labels)\n",
        "        loss.backward()\n",
        "        optimizer.step()\n",
        "    model1.eval()\n",
        "    with torch.no_grad():\n",
        "        correct = 0\n",
        "        total = 0\n",
        "        for i, (images, labels) in enumerate(iter(testloader)):\n",
        "            images.resize_(images.size()[0], 784)\n",
        "            test_output = model1.forward(images)\n",
        "            pred_y = torch.max(test_output, 1)[1].data.squeeze()\n",
        "            correct += (pred_y == labels).float().sum()\n",
        "            total += len(labels)\n",
        "            accuracy = (pred_y == labels).sum().item() / float(labels.size(0))\n",
        "            \n",
        "    print(f'epoch {e+1} done: accuracy of {(correct/total).float()}')\n",
        "    model1.train()"
      ],
      "execution_count": 28,
      "outputs": [
        {
          "output_type": "stream",
          "name": "stdout",
          "text": [
            "epoch 1 done: accuracy of 0.1298999935388565\n",
            "epoch 2 done: accuracy of 0.1509999930858612\n",
            "epoch 3 done: accuracy of 0.20170000195503235\n",
            "epoch 4 done: accuracy of 0.2818000018596649\n",
            "epoch 5 done: accuracy of 0.2842000126838684\n",
            "epoch 6 done: accuracy of 0.2732999920845032\n",
            "epoch 7 done: accuracy of 0.25110000371932983\n",
            "epoch 8 done: accuracy of 0.18729999661445618\n",
            "epoch 9 done: accuracy of 0.17000000178813934\n",
            "epoch 10 done: accuracy of 0.3179999887943268\n",
            "epoch 11 done: accuracy of 0.35600000619888306\n",
            "epoch 12 done: accuracy of 0.3862999975681305\n",
            "epoch 13 done: accuracy of 0.3928000032901764\n",
            "epoch 14 done: accuracy of 0.5253999829292297\n",
            "epoch 15 done: accuracy of 0.5666000247001648\n",
            "epoch 16 done: accuracy of 0.6237999796867371\n",
            "epoch 17 done: accuracy of 0.6384999752044678\n",
            "epoch 18 done: accuracy of 0.6478999853134155\n",
            "epoch 19 done: accuracy of 0.6536999940872192\n",
            "epoch 20 done: accuracy of 0.6596999764442444\n",
            "epoch 21 done: accuracy of 0.7088000178337097\n",
            "epoch 22 done: accuracy of 0.7232999801635742\n",
            "epoch 23 done: accuracy of 0.7312999963760376\n",
            "epoch 24 done: accuracy of 0.7358999848365784\n",
            "epoch 25 done: accuracy of 0.7372999787330627\n",
            "epoch 26 done: accuracy of 0.7405999898910522\n",
            "epoch 27 done: accuracy of 0.7430999875068665\n",
            "epoch 28 done: accuracy of 0.7458999752998352\n",
            "epoch 29 done: accuracy of 0.7644000053405762\n",
            "epoch 30 done: accuracy of 0.7853999733924866\n",
            "epoch 31 done: accuracy of 0.7932999730110168\n",
            "epoch 32 done: accuracy of 0.8012999892234802\n",
            "epoch 33 done: accuracy of 0.8023999929428101\n",
            "epoch 34 done: accuracy of 0.807200014591217\n",
            "epoch 35 done: accuracy of 0.810699999332428\n",
            "epoch 36 done: accuracy of 0.8115000128746033\n",
            "epoch 37 done: accuracy of 0.8141999840736389\n",
            "epoch 38 done: accuracy of 0.8147000074386597\n",
            "epoch 39 done: accuracy of 0.8177000284194946\n",
            "epoch 40 done: accuracy of 0.8187000155448914\n",
            "epoch 41 done: accuracy of 0.8180000185966492\n",
            "epoch 42 done: accuracy of 0.8202999830245972\n",
            "epoch 43 done: accuracy of 0.8206999897956848\n",
            "epoch 44 done: accuracy of 0.8230000138282776\n",
            "epoch 45 done: accuracy of 0.8234000205993652\n",
            "epoch 46 done: accuracy of 0.8234000205993652\n",
            "epoch 47 done: accuracy of 0.8246999979019165\n",
            "epoch 48 done: accuracy of 0.8264999985694885\n",
            "epoch 49 done: accuracy of 0.8267999887466431\n",
            "epoch 50 done: accuracy of 0.8277000188827515\n",
            "epoch 51 done: accuracy of 0.8281999826431274\n",
            "epoch 52 done: accuracy of 0.8285999894142151\n",
            "epoch 53 done: accuracy of 0.8291000127792358\n",
            "epoch 54 done: accuracy of 0.8313999772071838\n",
            "epoch 55 done: accuracy of 0.8302000164985657\n",
            "epoch 56 done: accuracy of 0.8317000269889832\n",
            "epoch 57 done: accuracy of 0.8303999900817871\n",
            "epoch 58 done: accuracy of 0.833299994468689\n",
            "epoch 59 done: accuracy of 0.8338000178337097\n",
            "epoch 60 done: accuracy of 0.8335999846458435\n",
            "epoch 61 done: accuracy of 0.8345000147819519\n",
            "epoch 62 done: accuracy of 0.8324000239372253\n",
            "epoch 63 done: accuracy of 0.8335999846458435\n",
            "epoch 64 done: accuracy of 0.8356000185012817\n",
            "epoch 65 done: accuracy of 0.835099995136261\n",
            "epoch 66 done: accuracy of 0.8367000222206116\n",
            "epoch 67 done: accuracy of 0.8370000123977661\n",
            "epoch 68 done: accuracy of 0.8366000056266785\n",
            "epoch 69 done: accuracy of 0.8379999995231628\n",
            "epoch 70 done: accuracy of 0.8378000259399414\n",
            "epoch 71 done: accuracy of 0.8385000228881836\n",
            "epoch 72 done: accuracy of 0.8396000266075134\n",
            "epoch 73 done: accuracy of 0.839900016784668\n",
            "epoch 74 done: accuracy of 0.8409000039100647\n",
            "epoch 75 done: accuracy of 0.8410000205039978\n",
            "epoch 76 done: accuracy of 0.8398000001907349\n",
            "epoch 77 done: accuracy of 0.8416000008583069\n",
            "epoch 78 done: accuracy of 0.842199981212616\n",
            "epoch 79 done: accuracy of 0.8421000242233276\n",
            "epoch 80 done: accuracy of 0.8432999849319458\n",
            "epoch 81 done: accuracy of 0.8440999984741211\n",
            "epoch 82 done: accuracy of 0.8418999910354614\n",
            "epoch 83 done: accuracy of 0.8439000248908997\n",
            "epoch 84 done: accuracy of 0.8445000052452087\n",
            "epoch 85 done: accuracy of 0.8427000045776367\n",
            "epoch 86 done: accuracy of 0.8445000052452087\n",
            "epoch 87 done: accuracy of 0.8454999923706055\n",
            "epoch 88 done: accuracy of 0.8456000089645386\n",
            "epoch 89 done: accuracy of 0.8456000089645386\n",
            "epoch 90 done: accuracy of 0.8464999794960022\n",
            "epoch 91 done: accuracy of 0.8465999960899353\n",
            "epoch 92 done: accuracy of 0.845300018787384\n",
            "epoch 93 done: accuracy of 0.8467000126838684\n",
            "epoch 94 done: accuracy of 0.8478999733924866\n",
            "epoch 95 done: accuracy of 0.8482000231742859\n",
            "epoch 96 done: accuracy of 0.8474000096321106\n",
            "epoch 97 done: accuracy of 0.8465999960899353\n",
            "epoch 98 done: accuracy of 0.8496000170707703\n",
            "epoch 99 done: accuracy of 0.8482000231742859\n",
            "epoch 100 done: accuracy of 0.8490999937057495\n"
          ]
        }
      ]
    },
    {
      "cell_type": "code",
      "metadata": {
        "colab": {
          "base_uri": "https://localhost:8080/",
          "height": 212
        },
        "id": "nWCS2NVM70Jl",
        "outputId": "3fabd996-7e6b-4672-f2d7-edc6c6d1d905"
      },
      "source": [
        "# Run this cell with your model to make sure it works and predicts well for the validation data\n",
        "images, labels = next(iter(testloader))\n",
        "images.resize_(images.shape[0], 1, 784)\n",
        "ps = model1.forward(images[0,:])\n",
        "view_classify(images[0].view(1, 28, 28), ps)"
      ],
      "execution_count": 29,
      "outputs": [
        {
          "output_type": "display_data",
          "data": {
            "image/png": "[encoded data removed]",
            "text/plain": [
              "<Figure size 432x648 with 2 Axes>"
            ]
          },
          "metadata": {
            "image/png": {
              "width": 349,
              "height": 195
            },
            "needs_background": "light"
          }
        }
      ]
    },
    {
      "cell_type": "markdown",
      "metadata": {
        "id": "ivlR1H2h70Jm"
      },
      "source": [
        "<div style=\"background:#222222; color:#ffffff; padding:20px\">\n",
        "  <h3 style=\"color:#01ff84; margin-top:4px\">Exercise 3:</h3>\n",
        "  <p>Write the code for adding <strong style=\"color:#01ff84\">Early Stopping with patience = 2</strong> to the training loop from scratch.</p>\n",
        "  <p><strong style=\"color:#01ff84\">Hint:</strong> Monitor the Validation loss every epoch, and if in 2 epochs, the validation loss does not improve, stop the training loop with <code>break</code>.</p>\n",
        "<div>"
      ]
    },
    {
      "cell_type": "code",
      "metadata": {
        "colab": {
          "base_uri": "https://localhost:8080/"
        },
        "id": "hO7PTury70Jm",
        "outputId": "2573bd12-12f1-409f-a3d2-6faaaf7157c6"
      },
      "source": [
        "## TODO: Your training loop here\n",
        "\n",
        "epochs = 3\n",
        "optimizer = optim.SGD(model1.parameters(), lr=0.0001)\n",
        "\n",
        "loss_anterior = 0\n",
        "while True:\n",
        "    for i, (images, labels) in enumerate(iter(trainloader)):\n",
        "        # Flatten MNIST images into a 784 long vector\n",
        "\n",
        "        images.resize_(images.size()[0], 784)\n",
        "        model1.train()\n",
        "        optimizer.zero_grad()\n",
        "        output = model1.forward(images)\n",
        "        loss = criterion(output, labels)\n",
        "        loss.backward()\n",
        "        optimizer.step()\n",
        "        \n",
        "    print(round(loss.item(),3),loss_anterior)\n",
        "    model1.eval()\n",
        "    with torch.no_grad():\n",
        "        correct = 0\n",
        "        total = 0\n",
        "        for i, (images, labels) in enumerate(iter(testloader)):\n",
        "            images.resize_(images.size()[0], 784)\n",
        "            test_output = model1.forward(images)\n",
        "            pred_y = torch.max(test_output, 1)[1].data.squeeze()\n",
        "            correct += (pred_y == labels).float().sum()\n",
        "            total += len(labels)\n",
        "            accuracy = (pred_y == labels).sum().item() / float(labels.size(0))\n",
        "    print(f'epoch {e+1} done: accuracy of {(correct/total).float()}')\n",
        "    model1.train()\n",
        "    if round(loss.item(),3) == loss_anterior:\n",
        "        break\n",
        "    else:\n",
        "        loss_anterior = round(loss.item(),3)"
      ],
      "execution_count": null,
      "outputs": [
        {
          "output_type": "stream",
          "name": "stdout",
          "text": [
            "1.603 0\n",
            "epoch 100 done: accuracy of 0.8497999906539917\n",
            "1.615 1.603\n",
            "epoch 100 done: accuracy of 0.8496000170707703\n",
            "1.59 1.615\n",
            "epoch 100 done: accuracy of 0.8496000170707703\n",
            "1.565 1.59\n",
            "epoch 100 done: accuracy of 0.8493000268936157\n",
            "1.517 1.565\n",
            "epoch 100 done: accuracy of 0.849399983882904\n",
            "1.537 1.517\n",
            "epoch 100 done: accuracy of 0.8493000268936157\n",
            "1.733 1.537\n",
            "epoch 100 done: accuracy of 0.849399983882904\n",
            "1.673 1.733\n",
            "epoch 100 done: accuracy of 0.849399983882904\n",
            "1.563 1.673\n",
            "epoch 100 done: accuracy of 0.8493000268936157\n",
            "1.625 1.563\n",
            "epoch 100 done: accuracy of 0.8493000268936157\n",
            "1.57 1.625\n",
            "epoch 100 done: accuracy of 0.849399983882904\n",
            "1.593 1.57\n",
            "epoch 100 done: accuracy of 0.8496000170707703\n",
            "1.6 1.593\n",
            "epoch 100 done: accuracy of 0.8492000102996826\n",
            "1.618 1.6\n",
            "epoch 100 done: accuracy of 0.849399983882904\n"
          ]
        }
      ]
    }
  ]
}