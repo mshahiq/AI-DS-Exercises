{
  "cells": [
    {
      "cell_type": "markdown",
      "metadata": {
        "id": "PWDWtoAn70JK"
      },
      "source": [
        "<div style=\"background:#222222; color:#ffffff; padding:20px\">\n",
        "    <h2 align=\"center\">Deep Learning Fundamentals</h2>\n",
        "    <h2 align=\"center\" style=\"color:#01ff84\">Multiclass Clasification: MNIST</h2>\n",
        "<div>"
      ]
    },
    {
      "cell_type": "markdown",
      "metadata": {
        "id": "_oNPBEmU70JQ"
      },
      "source": [
        "## Imports"
      ]
    },
    {
      "cell_type": "code",
      "execution_count": 2,
      "metadata": {
        "id": "wxXMKXjs70JR"
      },
      "outputs": [],
      "source": [
        "%matplotlib inline\n",
        "%config InlineBackend.figure_format = 'retina'\n",
        "\n",
        "from collections import OrderedDict\n",
        "\n",
        "import numpy as np\n",
        "import matplotlib.pyplot as plt\n",
        "import time\n",
        "\n",
        "import torch\n",
        "from torch import nn\n",
        "from torch import optim\n",
        "import torch.nn.functional as F\n",
        "\n",
        "from torchvision import datasets, transforms"
      ]
    },
    {
      "cell_type": "markdown",
      "metadata": {
        "id": "zfsNF65S70JT"
      },
      "source": [
        "## Auxliary plotting function"
      ]
    },
    {
      "cell_type": "code",
      "execution_count": 4,
      "metadata": {
        "id": "WVx0XHrf70JU"
      },
      "outputs": [],
      "source": [
        "# https://discuss.pytorch.org/t/view-classify-in-module-helper/30279/6\n",
        "\n",
        "def view_classify(img, ps):\n",
        "\n",
        "    ps = ps.data.numpy().squeeze()\n",
        "\n",
        "    fig, (ax1, ax2) = plt.subplots(figsize=(6,9), ncols=2)\n",
        "    ax1.imshow(img.resize_(1, 28, 28).numpy().squeeze())\n",
        "    ax1.axis('off')\n",
        "    ax2.barh(np.arange(10), ps)\n",
        "    ax2.set_aspect(0.1)\n",
        "    ax2.set_yticks(np.arange(10))\n",
        "    ax2.set_yticklabels(np.arange(10))\n",
        "    ax2.set_title('Class Probability')\n",
        "    ax2.set_xlim(0, 1.1)"
      ]
    },
    {
      "cell_type": "markdown",
      "metadata": {
        "id": "t9jddrFl70JU"
      },
      "source": [
        "# Load MNIST Dataset\n",
        "First up, we need to get our dataset. This is provided through the `torchvision` package. The code below will download the MNIST dataset, then create training and test datasets for us. Don't worry too much about the details here, you'll learn more about this later."
      ]
    },
    {
      "cell_type": "code",
      "execution_count": 5,
      "metadata": {
        "id": "GDNObh1W70JV"
      },
      "outputs": [],
      "source": [
        "# Define a transform to normalize the data (Preprocessing)\n",
        "transform = transforms.Compose([transforms.ToTensor(), transforms.Normalize((0.5,), (0.5,)) ])\n",
        "\n",
        "# Download and load the training data\n",
        "trainset    = datasets.MNIST('MNIST_data/', download=True, train=True, transform=transform)\n",
        "trainloader = torch.utils.data.DataLoader(trainset, batch_size=64, shuffle=True)\n",
        "\n",
        "# Download and load the test data\n",
        "testset    = datasets.MNIST('MNIST_data/', download=True, train=False, transform=transform)\n",
        "testloader = torch.utils.data.DataLoader(testset, batch_size=64, shuffle=True)"
      ]
    },
    {
      "cell_type": "code",
      "execution_count": 6,
      "metadata": {
        "id": "yoBgyNDO70JW"
      },
      "outputs": [],
      "source": [
        "dataiter = iter(trainloader)\n",
        "images, labels = dataiter.next()"
      ]
    },
    {
      "cell_type": "markdown",
      "metadata": {
        "id": "SVcPzEgr70JX"
      },
      "source": [
        "We have the training data loaded into `trainloader` and we make that an iterator with `iter(trainloader)`. We'd use this to loop through the dataset for training, but here I'm just grabbing the first batch so we can check out the data. We can see below that `images` is just a tensor with size (64, 1, 28, 28). So, 64 images per batch, 1 color channel, and 28x28 images."
      ]
    },
    {
      "cell_type": "code",
      "execution_count": 7,
      "metadata": {
        "colab": {
          "base_uri": "https://localhost:8080/",
          "height": 283
        },
        "id": "ruvfkqve70JX",
        "outputId": "ff74accd-af51-4dba-9ee7-e4782d0363b1"
      },
      "outputs": [],
      "source": [
        "img = images[0]\n",
        "#plt.imshow(img) #this wont directly work since we have a 3rd dimension of the image\n",
        "\n",
        "# we can use .squeeze() to remove the dimension of the image\n",
        "plt.imshow(img.squeeze())\t"
      ]
    },
    {
      "cell_type": "markdown",
      "metadata": {
        "id": "irH7b0Id70JY"
      },
      "source": [
        "## Building networks with PyTorch\n",
        "\n",
        "Here I'll use PyTorch to build a simple feedfoward network to classify the MNIST images. That is, the network will receive a digit image as input and predict the digit in the image.\n",
        "\n",
        "<img src=\"assets/mlp_mnist.png\" width=600px>\n",
        "\n",
        "To build a neural network with PyTorch, you use the `torch.nn` module. The network itself is a class inheriting from `torch.nn.Module`. You define each of the operations separately, like `nn.Linear(784, 128)` for a fully connected linear layer with 784 inputs and 128 units.\n",
        "\n",
        "The class needs to include a `forward` method that implements the forward pass through the network. In this method, you pass some input tensor `x` through each of the operations you defined earlier. The `torch.nn` module also has functional equivalents for things like ReLUs in `torch.nn.functional`. This module is usually imported as `F`. Then to use a ReLU activation on some layer (which is just a tensor), you'd do `F.relu(x)`. Below are a few different commonly used activation functions.\n",
        "\n",
        "<img src=\"assets/activation.png\" width=700px>\n",
        "\n",
        "So, for this network, I'll build it with three fully connected layers, then a softmax output for predicting classes. The softmax function is similar to the sigmoid in that it squashes inputs between 0 and 1, but it's also normalized so that all the values sum to one like a proper probability distribution."
      ]
    },
    {
      "cell_type": "code",
      "execution_count": 202,
      "metadata": {
        "colab": {
          "base_uri": "https://localhost:8080/"
        },
        "id": "r2vmKZVg70JZ",
        "outputId": "ac59b9af-c143-491e-d8f8-6a3a618c7bd7"
      },
      "outputs": [
        {
          "data": {
            "text/plain": [
              "Network(\n",
              "  (fc1): Linear(in_features=784, out_features=128, bias=True)\n",
              "  (fc2): Linear(in_features=128, out_features=64, bias=True)\n",
              "  (fc3): Linear(in_features=64, out_features=10, bias=True)\n",
              ")"
            ]
          },
          "execution_count": 202,
          "metadata": {},
          "output_type": "execute_result"
        }
      ],
      "source": [
        "class Network(nn.Module):\n",
        "    \n",
        "    # Defining the layers, 128, 64, 10 units each\n",
        "    def __init__(self):\n",
        "        super().__init__()\n",
        "        self.fc1 = nn.Linear(784, 128)\n",
        "        self.fc2 = nn.Linear(128, 64)\n",
        "        self.fc3 = nn.Linear(64, 10)\n",
        "        \n",
        "    # Forward pass through the network, returns the output logits\n",
        "    def forward(self, x):\n",
        "        x = self.fc1(x)\n",
        "        x = F.relu(x)\n",
        "        x = self.fc2(x)\n",
        "        x = F.relu(x)\n",
        "        x = self.fc3(x)\n",
        "        x = F.softmax(x, dim=1)\n",
        "        return x\n",
        "\n",
        "model = Network()\n",
        "model"
      ]
    },
    {
      "cell_type": "markdown",
      "metadata": {
        "id": "LUW3u9nu70Ja"
      },
      "source": [
        "### Sequential API\n",
        "PyTorch provides a convenient way to build networks like this where a tensor is passed sequentially through operations, `nn.Sequential` ([documentation](https://pytorch.org/docs/master/nn.html#torch.nn.Sequential)). Using this to build the equivalent network:"
      ]
    },
    {
      "cell_type": "code",
      "execution_count": 203,
      "metadata": {
        "colab": {
          "base_uri": "https://localhost:8080/"
        },
        "id": "g0HkAX0L70Jb",
        "outputId": "16b3d9c2-0752-4ccb-85fd-fddae693c89c"
      },
      "outputs": [
        {
          "name": "stdout",
          "output_type": "stream",
          "text": [
            "Sequential(\n",
            "  (0): Linear(in_features=784, out_features=128, bias=True)\n",
            "  (1): ReLU()\n",
            "  (2): Linear(in_features=128, out_features=64, bias=True)\n",
            "  (3): ReLU()\n",
            "  (4): Linear(in_features=64, out_features=10, bias=True)\n",
            "  (5): Softmax(dim=1)\n",
            ")\n"
          ]
        }
      ],
      "source": [
        "# Hyperparameters for our network\n",
        "input_size   = 784\n",
        "hidden_sizes = [128, 64]\n",
        "output_size   = 10\n",
        "\n",
        "# Build a feed-forward network\n",
        "model = nn.Sequential(nn.Linear(input_size, hidden_sizes[0]),\n",
        "                      nn.ReLU(),\n",
        "                      nn.Linear(hidden_sizes[0], hidden_sizes[1]),\n",
        "                      nn.ReLU(),\n",
        "                      nn.Linear(hidden_sizes[1], output_size),\n",
        "                      nn.Softmax(dim=1))\n",
        "print(model)"
      ]
    },
    {
      "cell_type": "markdown",
      "metadata": {
        "id": "qkeaHuoB70Jb"
      },
      "source": [
        "You can also pass in an `OrderedDict` to name the individual layers and operations. Note that a dictionary keys must be unique, so _each operation must have a different name_."
      ]
    },
    {
      "cell_type": "code",
      "execution_count": 204,
      "metadata": {
        "colab": {
          "base_uri": "https://localhost:8080/"
        },
        "id": "tJwS0xrY70Jb",
        "outputId": "61c9724f-b0ed-4a82-c33d-b5449460aebb"
      },
      "outputs": [
        {
          "data": {
            "text/plain": [
              "Sequential(\n",
              "  (fc1): Linear(in_features=784, out_features=128, bias=True)\n",
              "  (relu1): ReLU()\n",
              "  (fc2): Linear(in_features=128, out_features=64, bias=True)\n",
              "  (relu2): ReLU()\n",
              "  (output): Linear(in_features=64, out_features=10, bias=True)\n",
              "  (softmax): Softmax(dim=1)\n",
              ")"
            ]
          },
          "execution_count": 204,
          "metadata": {},
          "output_type": "execute_result"
        }
      ],
      "source": [
        "model = nn.Sequential(OrderedDict([\n",
        "          ('fc1',   nn.Linear(input_size, hidden_sizes[0])),\n",
        "          ('relu1', nn.ReLU()),\n",
        "          ('fc2',   nn.Linear(hidden_sizes[0], hidden_sizes[1])),\n",
        "          ('relu2', nn.ReLU()),\n",
        "          ('output', nn.Linear(hidden_sizes[1], output_size)),\n",
        "          ('softmax', nn.Softmax(dim=1))]))\n",
        "model"
      ]
    },
    {
      "cell_type": "markdown",
      "metadata": {
        "id": "duHnjFnT70Jc"
      },
      "source": [
        "### Initializing weights and biases\n",
        "\n",
        "The weights and such are automatically initialized for you, but it's possible to customize how they are initialized. The weights and biases are tensors attached to the layer you defined, you can get them with `model.fc1.weight` for instance."
      ]
    },
    {
      "cell_type": "code",
      "execution_count": 205,
      "metadata": {
        "colab": {
          "base_uri": "https://localhost:8080/"
        },
        "id": "rCH6j39f70Jc",
        "outputId": "2a7fc91f-03c9-4aed-f2e8-652250b06ff8"
      },
      "outputs": [
        {
          "name": "stdout",
          "output_type": "stream",
          "text": [
            "Parameter containing:\n",
            "tensor([[-0.0169,  0.0340,  0.0080,  ..., -0.0341,  0.0136,  0.0167],\n",
            "        [ 0.0186, -0.0192, -0.0315,  ..., -0.0003, -0.0302, -0.0143],\n",
            "        [ 0.0070,  0.0146,  0.0121,  ..., -0.0300,  0.0263, -0.0299],\n",
            "        ...,\n",
            "        [ 0.0252,  0.0148,  0.0188,  ...,  0.0316,  0.0243, -0.0226],\n",
            "        [ 0.0215,  0.0332, -0.0348,  ..., -0.0073, -0.0043, -0.0165],\n",
            "        [-0.0317,  0.0153, -0.0036,  ..., -0.0140, -0.0275, -0.0314]],\n",
            "       requires_grad=True)\n",
            "Parameter containing:\n",
            "tensor([-0.0226, -0.0170,  0.0030, -0.0074,  0.0335, -0.0284, -0.0356, -0.0305,\n",
            "        -0.0088,  0.0326,  0.0134, -0.0143,  0.0226, -0.0234,  0.0199,  0.0113,\n",
            "         0.0205,  0.0046,  0.0191, -0.0244,  0.0155, -0.0241, -0.0351,  0.0062,\n",
            "         0.0182, -0.0107, -0.0205, -0.0124,  0.0123,  0.0241, -0.0265,  0.0280,\n",
            "        -0.0182, -0.0341, -0.0044, -0.0192, -0.0026,  0.0335,  0.0164,  0.0296,\n",
            "         0.0137,  0.0144,  0.0107, -0.0271, -0.0009,  0.0341,  0.0022, -0.0152,\n",
            "        -0.0346, -0.0232, -0.0030,  0.0291, -0.0055,  0.0262,  0.0080, -0.0077,\n",
            "        -0.0083, -0.0298,  0.0173, -0.0090,  0.0335,  0.0177, -0.0103, -0.0212,\n",
            "        -0.0192,  0.0198, -0.0229, -0.0152,  0.0015, -0.0326, -0.0264,  0.0342,\n",
            "        -0.0342,  0.0026, -0.0289,  0.0031,  0.0095,  0.0061, -0.0176, -0.0085,\n",
            "         0.0326,  0.0071, -0.0229,  0.0004, -0.0216,  0.0187,  0.0211, -0.0003,\n",
            "        -0.0304, -0.0240, -0.0147, -0.0232,  0.0262, -0.0256, -0.0106,  0.0019,\n",
            "        -0.0187, -0.0061,  0.0241,  0.0236,  0.0185, -0.0106,  0.0130,  0.0228,\n",
            "         0.0213, -0.0317, -0.0333, -0.0109,  0.0224,  0.0288, -0.0125,  0.0227,\n",
            "        -0.0149,  0.0083,  0.0204, -0.0162, -0.0331,  0.0325, -0.0022,  0.0147,\n",
            "        -0.0122, -0.0219, -0.0116,  0.0265, -0.0172, -0.0163,  0.0212, -0.0304],\n",
            "       requires_grad=True)\n"
          ]
        }
      ],
      "source": [
        "print(model.fc1.weight)\n",
        "print(model.fc1.bias)"
      ]
    },
    {
      "cell_type": "markdown",
      "metadata": {
        "id": "FHPgbb8c70Jc"
      },
      "source": [
        "For custom initialization, we want to modify these tensors in place. These are actually autograd *Variables*, so we need to get back the actual tensors with `model.fc1.weight.data`. Once we have the tensors, we can fill them with zeros (for biases) or random normal values."
      ]
    },
    {
      "cell_type": "code",
      "execution_count": 206,
      "metadata": {
        "colab": {
          "base_uri": "https://localhost:8080/"
        },
        "id": "Mj0VaSMe70Jc",
        "outputId": "a3ecbdb5-09d0-4c63-9415-997eef6bc4d9"
      },
      "outputs": [
        {
          "data": {
            "text/plain": [
              "tensor([0., 0., 0., 0., 0., 0., 0., 0., 0., 0., 0., 0., 0., 0., 0., 0., 0., 0., 0., 0., 0., 0., 0., 0.,\n",
              "        0., 0., 0., 0., 0., 0., 0., 0., 0., 0., 0., 0., 0., 0., 0., 0., 0., 0., 0., 0., 0., 0., 0., 0.,\n",
              "        0., 0., 0., 0., 0., 0., 0., 0., 0., 0., 0., 0., 0., 0., 0., 0., 0., 0., 0., 0., 0., 0., 0., 0.,\n",
              "        0., 0., 0., 0., 0., 0., 0., 0., 0., 0., 0., 0., 0., 0., 0., 0., 0., 0., 0., 0., 0., 0., 0., 0.,\n",
              "        0., 0., 0., 0., 0., 0., 0., 0., 0., 0., 0., 0., 0., 0., 0., 0., 0., 0., 0., 0., 0., 0., 0., 0.,\n",
              "        0., 0., 0., 0., 0., 0., 0., 0.])"
            ]
          },
          "execution_count": 206,
          "metadata": {},
          "output_type": "execute_result"
        }
      ],
      "source": [
        "# Set biases to all zeros\n",
        "model.fc1.bias.data.fill_(0)"
      ]
    },
    {
      "cell_type": "code",
      "execution_count": 207,
      "metadata": {
        "colab": {
          "base_uri": "https://localhost:8080/"
        },
        "id": "Q-CogCOI70Jd",
        "outputId": "eb0f8258-8667-4a3b-8b5f-c3df3c92063e"
      },
      "outputs": [
        {
          "data": {
            "text/plain": [
              "tensor([[-8.6391e-05, -3.6425e-03,  1.0414e-02,  ...,  3.4433e-03,\n",
              "         -1.0328e-02,  1.4433e-02],\n",
              "        [-2.3785e-03, -6.8865e-03, -8.9154e-03,  ...,  2.3796e-02,\n",
              "          5.0079e-03, -1.4656e-02],\n",
              "        [-3.0083e-03,  8.3653e-03,  2.2233e-03,  ...,  5.7876e-03,\n",
              "         -7.6625e-03,  1.0026e-02],\n",
              "        ...,\n",
              "        [-8.6367e-03, -1.2727e-03, -1.4683e-02,  ...,  4.0867e-03,\n",
              "         -6.7825e-03, -1.3889e-02],\n",
              "        [-7.7875e-03,  2.0977e-02,  1.1297e-03,  ..., -2.0912e-03,\n",
              "         -3.1481e-03,  1.3090e-02],\n",
              "        [-1.2854e-02, -1.9424e-02, -2.8845e-03,  ..., -1.7678e-02,\n",
              "         -5.5907e-03, -1.8777e-02]])"
            ]
          },
          "execution_count": 207,
          "metadata": {},
          "output_type": "execute_result"
        }
      ],
      "source": [
        "# sample from random normal with standard dev = 0.01\n",
        "model.fc1.weight.data.normal_(std=0.01)"
      ]
    },
    {
      "cell_type": "markdown",
      "metadata": {
        "id": "IGnza1Oz70Jd"
      },
      "source": [
        "### STEP 1: Forward pass\n",
        "\n",
        "Now that we have a network, let's see what happens when we pass in an image. This is called the forward pass. We're going to convert the image data into a tensor, then pass it through the operations defined by the network architecture."
      ]
    },
    {
      "cell_type": "code",
      "execution_count": 208,
      "metadata": {
        "colab": {
          "base_uri": "https://localhost:8080/",
          "height": 212
        },
        "id": "JdqU-RVR70Jd",
        "outputId": "d117f7e0-b466-4596-8040-1b18914fefed"
      },
      "outputs": [
        {
          "data": {
            "image/png": "[encoded data removed]",
            "text/plain": [
              "<Figure size 432x648 with 2 Axes>"
            ]
          },
          "metadata": {
            "image/png": {
              "height": 195,
              "width": 349
            },
            "needs_background": "light"
          },
          "output_type": "display_data"
        }
      ],
      "source": [
        "# Grab some data \n",
        "dataiter = iter(trainloader)\n",
        "images, labels = dataiter.next()\n",
        "\n",
        "# Resize images into a 1D vector, new shape is (batch size, color channels, image pixels) \n",
        "images.resize_(64, 1, 784)\n",
        "# or images.resize_(images.shape[0], 1, 784) to not automatically get batch size\n",
        "\n",
        "# Forward pass through the network\n",
        "img_idx = 0\n",
        "ps = model.forward(images[img_idx,:])\n",
        "\n",
        "img = images[img_idx]\n",
        "view_classify(img.view(1, 28, 28), ps)"
      ]
    },
    {
      "cell_type": "markdown",
      "metadata": {
        "id": "DJPCYK4470Je"
      },
      "source": [
        "As you can see above, our network has basically no idea what this digit is. It's because we haven't trained it yet, all the weights are random!"
      ]
    },
    {
      "cell_type": "markdown",
      "metadata": {
        "id": "WEVTIUOH70Je"
      },
      "source": [
        "# Training Neural Networks\n",
        "\n",
        "The network we built isn't so smart, it doesn't know anything about our handwritten digits. Neural networks with non-linear activations work like universal function approximators. There is some function that maps your input to the output. For example, images of handwritten digits to class probabilities. The power of neural networks is that we can train them to approximate this function, and basically any function given enough data and compute time.\n",
        "\n",
        "<img src=\"assets/function_approx.png\" width=500px>\n",
        "\n",
        "At first the network is naive, it doesn't know the function mapping the inputs to the outputs. We train the network by showing it examples of real data, then adjusting the network parameters such that it approximates this function.\n",
        "\n",
        "To find these parameters, we need to know how poorly the network is predicting the real outputs. For this we calculate a **loss function** (also called the cost), a measure of our prediction error. For example, the mean squared loss is often used in regression and binary classification problems\n",
        "\n",
        "$$\n",
        "\\ell = \\frac{1}{2n}\\sum_i^n{\\left(y_i - \\hat{y}_i\\right)^2}\n",
        "$$\n",
        "\n",
        "where $n$ is the number of training examples, $y_i$ are the true labels, and $\\hat{y}_i$ are the predicted labels.\n",
        "\n",
        "By minimizing this loss with respect to the network parameters, we can find configurations where the loss is at a minimum and the network is able to predict the correct labels with high accuracy. We find this minimum using a process called **gradient descent**. The gradient is the slope of the loss function and points in the direction of fastest change. To get to the minimum in the least amount of time, we then want to follow the gradient (downwards). You can think of this like descending a mountain by following the steepest slope to the base.\n",
        "\n",
        "<img src='assets/gradient_descent.png' width=350px>"
      ]
    },
    {
      "cell_type": "markdown",
      "metadata": {
        "id": "Qi410xzg70Je"
      },
      "source": [
        "## Backpropagation\n",
        "\n",
        "For single layer networks, gradient descent is simple to implement. However, it's more complicated for deeper, multilayer neural networks like the one we've built. Complicated enough that it took about 30 years before researchers figured out how to train multilayer networks, although it's straightforward once you learn about it. \n",
        "\n",
        "This is done through **backpropagation** which is really just an application of the chain rule from calculus. It's easiest to understand if we convert a two layer network into a graph representation.\n",
        "\n",
        "<img src='assets/w1_backprop_graph.png' width=400px>\n",
        "\n",
        "In the forward pass through the network, our data and operations go from right to left here. To train the weights with gradient descent, we propagate the gradient of the cost backwards through the network. Mathematically, this is really just calculating the gradient of the loss with respect to the weights using the chain rule.\n",
        "\n",
        "$$\n",
        "\\frac{\\partial \\ell}{\\partial w_1} = \\frac{\\partial l_1}{\\partial w_1} \\frac{\\partial s}{\\partial l_1} \\frac{\\partial l_2}{\\partial s} \\frac{\\partial \\ell}{\\partial l_2}\n",
        "$$\n",
        "\n",
        "We update our weights using this gradient with some learning rate $\\alpha$. \n",
        "\n",
        "$$\n",
        "w^\\prime = w - \\alpha \\frac{\\partial \\ell}{\\partial w}\n",
        "$$\n",
        "\n",
        "The learning rate is set such that the weight update steps are small enough that the iterative method settles in a minimum.\n",
        "\n",
        "The first thing we need to do for training is define our loss function. In PyTorch, you'll usually see this as `criterion`. Here we're using softmax output, so we want to use `criterion = nn.CrossEntropyLoss()` as our loss. Later when training, you use `loss = criterion(output, targets)` to calculate the actual loss.\n",
        "\n",
        "We also need to define the optimizer we're using, SGD or Adam, or something along those lines. Here I'll just use SGD with `torch.optim.SGD`, passing in the network parameters and the learning rate."
      ]
    },
    {
      "cell_type": "markdown",
      "metadata": {
        "id": "HN8pEUF-70Je"
      },
      "source": [
        "## Autograd\n",
        "\n",
        "Torch provides a module, `autograd`, for automatically calculating the gradient of tensors. It does this by keeping track of operations performed on tensors. To make sure PyTorch keeps track of operations on a tensor and calculates the gradients, you need to set `requires_grad` on a tensor. You can do this at creation with the `requires_grad` keyword, or at any time with `x.requires_grad_(True)`.\n",
        "\n",
        "You can turn off gradients for a block of code with the `torch.no_grad()` content:\n",
        "```python\n",
        "x = torch.zeros(1, requires_grad=True)\n",
        ">>> with torch.no_grad():\n",
        "...     y = x * 2\n",
        ">>> y.requires_grad\n",
        "False\n",
        "```\n",
        "\n",
        "Also, you can turn on or off gradients altogether with `torch.set_grad_enabled(True|False)`.\n",
        "\n",
        "The gradients are computed with respect to some variable `z` with `z.backward()`. This does a backward pass through the operations that created `z`."
      ]
    },
    {
      "cell_type": "code",
      "execution_count": 209,
      "metadata": {
        "colab": {
          "base_uri": "https://localhost:8080/"
        },
        "id": "bOaPoA6n70Jf",
        "outputId": "7ed01bef-81fe-4441-bed7-179340955346"
      },
      "outputs": [
        {
          "name": "stdout",
          "output_type": "stream",
          "text": [
            "tensor([[-0.4137,  0.3757],\n",
            "        [-1.0661,  0.7121]], requires_grad=True)\n"
          ]
        }
      ],
      "source": [
        "x = torch.randn(2,2, requires_grad=True)\n",
        "print(x)"
      ]
    },
    {
      "cell_type": "code",
      "execution_count": 210,
      "metadata": {
        "colab": {
          "base_uri": "https://localhost:8080/"
        },
        "id": "-d7YbK3570Jf",
        "outputId": "2b6909fe-41c6-4cd6-918b-4d4d36c4a2d4"
      },
      "outputs": [
        {
          "name": "stdout",
          "output_type": "stream",
          "text": [
            "tensor([[0.1711, 0.1411],\n",
            "        [1.1366, 0.5071]], grad_fn=<PowBackward0>)\n"
          ]
        }
      ],
      "source": [
        "y = x**2\n",
        "print(y)"
      ]
    },
    {
      "cell_type": "markdown",
      "metadata": {
        "id": "Sj2ceBwm70Jf"
      },
      "source": [
        "Below we can see the operation that created `y`, a power operation `PowBackward0`."
      ]
    },
    {
      "cell_type": "code",
      "execution_count": 211,
      "metadata": {
        "colab": {
          "base_uri": "https://localhost:8080/"
        },
        "id": "_WyviDsN70Jg",
        "outputId": "82b47bba-dcdf-4224-9394-52322f987a16"
      },
      "outputs": [
        {
          "name": "stdout",
          "output_type": "stream",
          "text": [
            "<PowBackward0 object at 0x7fb5b87598d0>\n"
          ]
        }
      ],
      "source": [
        "## grad_fn shows the function that generated this variable\n",
        "print(y.grad_fn)"
      ]
    },
    {
      "cell_type": "markdown",
      "metadata": {
        "id": "xd8ZhZXI70Jg"
      },
      "source": [
        "The autgrad module keeps track of these operations and knows how to calculate the gradient for each one. In this way, it's able to calculate the gradients for a chain of operations, with respect to any one tensor. Let's reduce the tensor `y` to a scalar value, the mean."
      ]
    },
    {
      "cell_type": "code",
      "execution_count": 212,
      "metadata": {
        "colab": {
          "base_uri": "https://localhost:8080/"
        },
        "id": "q5Eqr6Hi70Jg",
        "outputId": "e9ca736c-695a-41dd-8f2c-e91df8d7672e"
      },
      "outputs": [
        {
          "name": "stdout",
          "output_type": "stream",
          "text": [
            "tensor(0.4890, grad_fn=<MeanBackward0>)\n"
          ]
        }
      ],
      "source": [
        "z = y.mean()\n",
        "print(z)"
      ]
    },
    {
      "cell_type": "markdown",
      "metadata": {
        "id": "0pVr9Vhz70Jh"
      },
      "source": [
        "You can check the gradients for `x` and `y` but they are empty currently."
      ]
    },
    {
      "cell_type": "code",
      "execution_count": 213,
      "metadata": {
        "colab": {
          "base_uri": "https://localhost:8080/"
        },
        "id": "fhOaGQDG70Jh",
        "outputId": "3dd9a5fa-1f7f-4aca-b321-f6e38311f453"
      },
      "outputs": [
        {
          "name": "stdout",
          "output_type": "stream",
          "text": [
            "None\n"
          ]
        }
      ],
      "source": [
        "print(x.grad)"
      ]
    },
    {
      "cell_type": "markdown",
      "metadata": {
        "id": "VF0E_F4O70Jh"
      },
      "source": [
        "To calculate the gradients, you need to run the `.backward` method on a Variable, `z` for example. This will calculate the gradient for `z` with respect to `x`\n",
        "\n",
        "$$\n",
        "\\frac{\\partial z}{\\partial x} = \\frac{\\partial}{\\partial x}\\left[\\frac{1}{n}\\sum_i^n x_i^2\\right] = \\frac{x}{2}\n",
        "$$"
      ]
    },
    {
      "cell_type": "code",
      "execution_count": 214,
      "metadata": {
        "colab": {
          "base_uri": "https://localhost:8080/"
        },
        "id": "Bu0x2pEi70Jh",
        "outputId": "53a540b2-5310-4b27-d12f-93758e4e7a06"
      },
      "outputs": [
        {
          "name": "stdout",
          "output_type": "stream",
          "text": [
            "tensor([[-0.2069,  0.1878],\n",
            "        [-0.5331,  0.3561]])\n",
            "tensor([[-0.2069,  0.1878],\n",
            "        [-0.5331,  0.3561]], grad_fn=<DivBackward0>)\n"
          ]
        }
      ],
      "source": [
        "z.backward()\n",
        "print(x.grad)\n",
        "print(x/2)"
      ]
    },
    {
      "cell_type": "markdown",
      "metadata": {
        "id": "srGs6ATm70Ji"
      },
      "source": [
        "These gradients calculations are particularly useful for neural networks. For training we need the gradients of the weights with respect to the cost. With PyTorch, we run data forward through the network to calculate the cost, then, go backwards to calculate the gradients with respect to the cost. Once we have the gradients we can make a gradient descent step. "
      ]
    },
    {
      "cell_type": "markdown",
      "metadata": {
        "id": "wvwGci0v70Ji"
      },
      "source": [
        "I'll build a network with `nn.Sequential` here. Only difference from the last part is I'm not actually using softmax on the output, but instead just using the raw output from the last layer. This is because the output from softmax is a probability distribution. Often, the output will have values really close to zero or really close to one. Due to [inaccuracies with representing numbers as floating points](https://docs.python.org/3/tutorial/floatingpoint.html), computations with a softmax output can lose accuracy and become unstable. To get around this, we'll use the raw output, called the **logits**, to calculate the loss."
      ]
    },
    {
      "cell_type": "code",
      "execution_count": 215,
      "metadata": {
        "id": "BE3_gva670Ji"
      },
      "outputs": [],
      "source": [
        "# Hyperparameters for our network\n",
        "input_size   = 784\n",
        "hidden_sizes = [128, 64]\n",
        "output_size  = 10\n",
        "\n",
        "# Build a feed-forward network\n",
        "model = nn.Sequential(OrderedDict([\n",
        "          ('fc1', nn.Linear(input_size, hidden_sizes[0])),\n",
        "          ('relu1', nn.ReLU()),\n",
        "          ('fc2', nn.Linear(hidden_sizes[0], hidden_sizes[1])),\n",
        "          ('relu2', nn.ReLU()),\n",
        "          ('logits', nn.Linear(hidden_sizes[1], output_size))]))"
      ]
    },
    {
      "cell_type": "markdown",
      "metadata": {
        "id": "NIbGY21T70Ji"
      },
      "source": [
        "## Training the network!\n",
        "\n",
        "The first thing we need to do for training is define our loss function. In PyTorch, you'll usually see this as `criterion`. Here we're using softmax output, so we want to use `criterion = nn.CrossEntropyLoss()` as our loss. Later when training, you use `loss = criterion(output, targets)` to calculate the actual loss.\n",
        "\n",
        "We also need to define the optimizer we're using, SGD or Adam, or something along those lines. Here I'll just use SGD with `torch.optim.SGD`, passing in the network parameters and the learning rate."
      ]
    },
    {
      "cell_type": "code",
      "execution_count": 216,
      "metadata": {
        "id": "DXvmM_fo70Ji"
      },
      "outputs": [],
      "source": [
        "criterion = nn.CrossEntropyLoss()\n",
        "optimizer = optim.SGD(model.parameters(), lr=0.01)"
      ]
    },
    {
      "cell_type": "markdown",
      "metadata": {
        "id": "_PfjstBJ70Jj"
      },
      "source": [
        "First, let's consider just one learning step before looping through all the data. The general process with PyTorch:\n",
        "\n",
        "* Make a forward pass through the network to get the logits \n",
        "* Use the logits to calculate the loss\n",
        "* Perform a backward pass through the network with `loss.backward()` to calculate the gradients\n",
        "* Take a step with the optimizer to update the weights\n",
        "\n",
        "Below I'll go through one training step and print out the weights and gradients so you can see how it changes."
      ]
    },
    {
      "cell_type": "code",
      "execution_count": 217,
      "metadata": {
        "colab": {
          "base_uri": "https://localhost:8080/"
        },
        "id": "BPQyDgfL70Jj",
        "outputId": "3538a143-e15e-4877-f21d-70e684312574"
      },
      "outputs": [
        {
          "name": "stdout",
          "output_type": "stream",
          "text": [
            "Initial weights -  Parameter containing:\n",
            "tensor([[-0.0263,  0.0071,  0.0101,  ...,  0.0129, -0.0256,  0.0222],\n",
            "        [ 0.0075, -0.0338,  0.0027,  ...,  0.0292,  0.0148,  0.0260],\n",
            "        [ 0.0314,  0.0216, -0.0014,  ...,  0.0057, -0.0250, -0.0009],\n",
            "        ...,\n",
            "        [ 0.0288, -0.0295,  0.0290,  ..., -0.0264,  0.0024, -0.0143],\n",
            "        [ 0.0057, -0.0228,  0.0066,  ...,  0.0278,  0.0348,  0.0003],\n",
            "        [-0.0207, -0.0330,  0.0117,  ...,  0.0082, -0.0282,  0.0261]],\n",
            "       requires_grad=True)\n",
            "Gradient - tensor([[-0.0002, -0.0002, -0.0002,  ..., -0.0002, -0.0002, -0.0002],\n",
            "        [ 0.0043,  0.0043,  0.0043,  ...,  0.0043,  0.0043,  0.0043],\n",
            "        [-0.0001, -0.0001, -0.0001,  ..., -0.0001, -0.0001, -0.0001],\n",
            "        ...,\n",
            "        [-0.0003, -0.0003, -0.0003,  ..., -0.0003, -0.0003, -0.0003],\n",
            "        [-0.0002, -0.0002, -0.0002,  ..., -0.0002, -0.0002, -0.0002],\n",
            "        [ 0.0007,  0.0007,  0.0007,  ...,  0.0007,  0.0007,  0.0007]])\n"
          ]
        }
      ],
      "source": [
        "print('Initial weights - ', model.fc1.weight)\n",
        "\n",
        "images, labels = next(iter(trainloader))\n",
        "images.resize_(64, 784)\n",
        "\n",
        "# Clear the gradients, do this because gradients are accumulated\n",
        "optimizer.zero_grad()\n",
        "\n",
        "# Forward pass, then backward pass, then update weights\n",
        "output = model.forward(images)\n",
        "loss = criterion(output, labels)\n",
        "loss.backward()\n",
        "print('Gradient -', model.fc1.weight.grad)\n",
        "optimizer.step()"
      ]
    },
    {
      "cell_type": "code",
      "execution_count": 218,
      "metadata": {
        "colab": {
          "base_uri": "https://localhost:8080/"
        },
        "id": "tVAOsZ-h70Jj",
        "outputId": "ebafa896-8caf-48cd-c8c6-9990725f7b51"
      },
      "outputs": [
        {
          "name": "stdout",
          "output_type": "stream",
          "text": [
            "Updated weights -  Parameter containing:\n",
            "tensor([[-0.0263,  0.0071,  0.0101,  ...,  0.0129, -0.0255,  0.0222],\n",
            "        [ 0.0074, -0.0339,  0.0027,  ...,  0.0292,  0.0148,  0.0259],\n",
            "        [ 0.0314,  0.0216, -0.0014,  ...,  0.0057, -0.0250, -0.0009],\n",
            "        ...,\n",
            "        [ 0.0288, -0.0294,  0.0290,  ..., -0.0264,  0.0024, -0.0143],\n",
            "        [ 0.0057, -0.0228,  0.0066,  ...,  0.0278,  0.0348,  0.0003],\n",
            "        [-0.0207, -0.0330,  0.0117,  ...,  0.0082, -0.0282,  0.0261]],\n",
            "       requires_grad=True)\n"
          ]
        }
      ],
      "source": [
        "print('Updated weights - ', model.fc1.weight)"
      ]
    },
    {
      "cell_type": "markdown",
      "metadata": {
        "id": "kYo-oMaE70Jk"
      },
      "source": [
        "### Training for real\n",
        "\n",
        "Now we'll put this algorithm into a loop so we can go through all the images. This is fairly straightforward. We'll loop through the mini-batches in our dataset, pass the data through the network to calculate the losses, get the gradients, then run the optimizer."
      ]
    },
    {
      "cell_type": "code",
      "execution_count": 219,
      "metadata": {
        "id": "TLEwy_B370Jk"
      },
      "outputs": [],
      "source": [
        "optimizer = optim.SGD(model.parameters(), lr=0.003)"
      ]
    },
    {
      "cell_type": "code",
      "execution_count": 220,
      "metadata": {
        "colab": {
          "base_uri": "https://localhost:8080/"
        },
        "id": "a3MTcZXi70Jk",
        "outputId": "308bd281-6c9d-4b19-977c-c0c802cbc3f9"
      },
      "outputs": [
        {
          "name": "stdout",
          "output_type": "stream",
          "text": [
            "Epoch: 1/3\n",
            "\tIteration: 0\t Loss: 0.0574\n",
            "\tIteration: 40\t Loss: 2.2949\n",
            "\tIteration: 80\t Loss: 2.2699\n",
            "\tIteration: 120\t Loss: 2.2522\n",
            "\tIteration: 160\t Loss: 2.2260\n",
            "\tIteration: 200\t Loss: 2.2072\n",
            "\tIteration: 240\t Loss: 2.1730\n",
            "\tIteration: 280\t Loss: 2.1358\n",
            "\tIteration: 320\t Loss: 2.1012\n",
            "\tIteration: 360\t Loss: 2.0580\n",
            "\tIteration: 400\t Loss: 2.0239\n",
            "\tIteration: 440\t Loss: 1.9819\n",
            "\tIteration: 480\t Loss: 1.9208\n",
            "\tIteration: 520\t Loss: 1.8592\n",
            "\tIteration: 560\t Loss: 1.7961\n",
            "\tIteration: 600\t Loss: 1.7283\n",
            "\tIteration: 640\t Loss: 1.6509\n",
            "\tIteration: 680\t Loss: 1.6143\n",
            "\tIteration: 720\t Loss: 1.5320\n",
            "\tIteration: 760\t Loss: 1.4701\n",
            "\tIteration: 800\t Loss: 1.4108\n",
            "\tIteration: 840\t Loss: 1.3476\n",
            "\tIteration: 880\t Loss: 1.2861\n",
            "\tIteration: 920\t Loss: 1.2218\n",
            "Epoch: 2/3\n",
            "\tIteration: 0\t Loss: 0.0318\n",
            "\tIteration: 40\t Loss: 1.1664\n",
            "\tIteration: 80\t Loss: 1.1005\n",
            "\tIteration: 120\t Loss: 1.0497\n",
            "\tIteration: 160\t Loss: 1.0324\n",
            "\tIteration: 200\t Loss: 0.9892\n",
            "\tIteration: 240\t Loss: 0.9429\n",
            "\tIteration: 280\t Loss: 0.8882\n",
            "\tIteration: 320\t Loss: 0.8749\n",
            "\tIteration: 360\t Loss: 0.8376\n",
            "\tIteration: 400\t Loss: 0.8002\n",
            "\tIteration: 440\t Loss: 0.7958\n",
            "\tIteration: 480\t Loss: 0.7797\n",
            "\tIteration: 520\t Loss: 0.7341\n",
            "\tIteration: 560\t Loss: 0.7486\n",
            "\tIteration: 600\t Loss: 0.7227\n",
            "\tIteration: 640\t Loss: 0.6781\n",
            "\tIteration: 680\t Loss: 0.6685\n",
            "\tIteration: 720\t Loss: 0.6718\n",
            "\tIteration: 760\t Loss: 0.6578\n",
            "\tIteration: 800\t Loss: 0.6442\n",
            "\tIteration: 840\t Loss: 0.6250\n",
            "\tIteration: 880\t Loss: 0.5996\n",
            "\tIteration: 920\t Loss: 0.6096\n",
            "Epoch: 3/3\n",
            "\tIteration: 0\t Loss: 0.0151\n",
            "\tIteration: 40\t Loss: 0.5782\n",
            "\tIteration: 80\t Loss: 0.5762\n",
            "\tIteration: 120\t Loss: 0.5822\n",
            "\tIteration: 160\t Loss: 0.5463\n",
            "\tIteration: 200\t Loss: 0.5708\n",
            "\tIteration: 240\t Loss: 0.5238\n",
            "\tIteration: 280\t Loss: 0.5602\n",
            "\tIteration: 320\t Loss: 0.5405\n",
            "\tIteration: 360\t Loss: 0.5123\n",
            "\tIteration: 400\t Loss: 0.5579\n",
            "\tIteration: 440\t Loss: 0.5034\n",
            "\tIteration: 480\t Loss: 0.4970\n",
            "\tIteration: 520\t Loss: 0.5191\n",
            "\tIteration: 560\t Loss: 0.4983\n",
            "\tIteration: 600\t Loss: 0.5040\n",
            "\tIteration: 640\t Loss: 0.4967\n",
            "\tIteration: 680\t Loss: 0.4812\n",
            "\tIteration: 720\t Loss: 0.4919\n",
            "\tIteration: 760\t Loss: 0.4546\n",
            "\tIteration: 800\t Loss: 0.4877\n",
            "\tIteration: 840\t Loss: 0.4691\n",
            "\tIteration: 880\t Loss: 0.4218\n",
            "\tIteration: 920\t Loss: 0.4608\n"
          ]
        }
      ],
      "source": [
        "epochs = 3\n",
        "print_every = 40\n",
        "\n",
        "for e in range(epochs):\n",
        "    running_loss = 0\n",
        "    print(f\"Epoch: {e+1}/{epochs}\")\n",
        "\n",
        "    for i, (images, labels) in enumerate(iter(trainloader)):\n",
        "\n",
        "        # Flatten MNIST images into a 784 long vector\n",
        "        images.resize_(images.size()[0], 784)\n",
        "        \n",
        "        optimizer.zero_grad()\n",
        "        \n",
        "        output = model.forward(images)   # 1) Forward pass\n",
        "        loss = criterion(output, labels) # 2) Compute loss\n",
        "        loss.backward()                  # 3) Backward pass\n",
        "        optimizer.step()                 # 4) Update model\n",
        "        \n",
        "        running_loss += loss.item()\n",
        "        \n",
        "        if i % print_every == 0:\n",
        "            print(f\"\\tIteration: {i}\\t Loss: {running_loss/print_every:.4f}\")\n",
        "            running_loss = 0"
      ]
    },
    {
      "cell_type": "markdown",
      "metadata": {
        "id": "2NDmj60i70Jk"
      },
      "source": [
        "With the network trained, we can check out it's predictions."
      ]
    },
    {
      "cell_type": "code",
      "execution_count": 221,
      "metadata": {
        "colab": {
          "base_uri": "https://localhost:8080/",
          "height": 212
        },
        "id": "W0bIjoO970Jk",
        "outputId": "1d490549-6b88-41f3-c773-6c7a058b0fe5"
      },
      "outputs": [
        {
          "data": {
            "image/png": "[encoded data removed]",
            "text/plain": [
              "<Figure size 432x648 with 2 Axes>"
            ]
          },
          "metadata": {
            "image/png": {
              "height": 195,
              "width": 349
            },
            "needs_background": "light"
          },
          "output_type": "display_data"
        }
      ],
      "source": [
        "images, labels = next(iter(trainloader))\n",
        "\n",
        "img = images[0].view(1, 784)\n",
        "# Turn off gradients to speed up this part\n",
        "with torch.no_grad():\n",
        "    logits = model.forward(img)\n",
        "\n",
        "# Output of the network are logits, need to take softmax for probabilities\n",
        "ps = F.softmax(logits, dim=1)\n",
        "view_classify(img.view(1, 28, 28), ps)"
      ]
    },
    {
      "cell_type": "markdown",
      "metadata": {
        "id": "mRicmjIT70Jk"
      },
      "source": [
        "Now our network is brilliant. It can accurately predict the digits in our images."
      ]
    },
    {
      "cell_type": "markdown",
      "metadata": {
        "id": "lb_GDLYs70Jk"
      },
      "source": [
        "<div style=\"background:#222222; color:#ffffff; padding:20px\">\n",
        "    <h2 align=\"center\" style=\"color:#01ff84\">MNIST Clasification: Exercise</h2>\n",
        "<div>"
      ]
    },
    {
      "cell_type": "markdown",
      "metadata": {
        "id": "LKkqA9pW70Jl"
      },
      "source": [
        "<div style=\"background:#222222; color:#ffffff; padding:20px\">\n",
        "  <h3 style=\"color:#01ff84; margin-top:4px\">Exercise 1:</h3>\n",
        "  <p>Now it's your turn to build a simple network, use any method I've covered so far. In the next notebook, you'll learn how to train a network so it can make good predictions.</p>\n",
        "  <p>Build a network to classify the MNIST images with 3 hidden layers. Use 400 units in the first hidden layer, 200 units in the second layer, and 100 units in the third layer. Each hidden layer should have a ReLU activation function, and use softmax on the output layer.</p>\n",
        "<div>"
      ]
    },
    {
      "cell_type": "code",
      "execution_count": null,
      "metadata": {
        "id": "ry3djU5X70Jl"
      },
      "outputs": [
        {
          "ename": "Error",
          "evalue": "Session cannot generate requests",
          "output_type": "error",
          "traceback": [
            "Error: Session cannot generate requests",
            "at S.executeCodeCell (c:\\Users\\shahi\\.vscode\\extensions\\ms-toolsai.jupyter-2021.10.1101450599\\out\\client\\extension.js:66:301742)",
            "at S.execute (c:\\Users\\shahi\\.vscode\\extensions\\ms-toolsai.jupyter-2021.10.1101450599\\out\\client\\extension.js:66:300732)",
            "at S.start (c:\\Users\\shahi\\.vscode\\extensions\\ms-toolsai.jupyter-2021.10.1101450599\\out\\client\\extension.js:66:296408)",
            "at runMicrotasks (<anonymous>)",
            "at processTicksAndRejections (internal/process/task_queues.js:93:5)",
            "at async t.CellExecutionQueue.executeQueuedCells (c:\\Users\\shahi\\.vscode\\extensions\\ms-toolsai.jupyter-2021.10.1101450599\\out\\client\\extension.js:66:312326)",
            "at async t.CellExecutionQueue.start (c:\\Users\\shahi\\.vscode\\extensions\\ms-toolsai.jupyter-2021.10.1101450599\\out\\client\\extension.js:66:311862)"
          ]
        }
      ],
      "source": [
        "## TODO: Your network here\n",
        "\n",
        "model1 = nn.Sequential(nn.Linear(input_size, 400),\n",
        "                      nn.ReLU(),\n",
        "                      nn.Linear(400, 200),\n",
        "                      nn.ReLU(),\n",
        "                      nn.Linear(200, 100),\n",
        "                      nn.ReLU(),\n",
        "                      nn.Linear(100, 10),\n",
        "                      nn.Softmax(dim=1))"
      ]
    },
    {
      "cell_type": "code",
      "execution_count": 223,
      "metadata": {
        "colab": {
          "base_uri": "https://localhost:8080/",
          "height": 212
        },
        "id": "dOxdByUu70Jl",
        "outputId": "74d57670-c972-44c5-b2b7-c7ca34e81c26"
      },
      "outputs": [
        {
          "data": {
            "image/png": "[encoded data removed]",
            "text/plain": [
              "<Figure size 432x648 with 2 Axes>"
            ]
          },
          "metadata": {
            "image/png": {
              "height": 195,
              "width": 349
            },
            "needs_background": "light"
          },
          "output_type": "display_data"
        }
      ],
      "source": [
        "# Run this cell with your model to make sure it works\n",
        "# Forward pass through the network and display output\n",
        "images, labels = next(iter(trainloader))\n",
        "images.resize_(images.shape[0], 1, 784)\n",
        "ps = model1.forward(images[0,:])\n",
        "view_classify(images[0].view(1, 28, 28), ps)"
      ]
    },
    {
      "cell_type": "markdown",
      "metadata": {
        "id": "W6XTL1tS70Jl"
      },
      "source": [
        "<div style=\"background:#222222; color:#ffffff; padding:20px\">\n",
        "  <h3 style=\"color:#01ff84; margin-top:4px\">Exercise 2:</h3>\n",
        "  <p>Train your network implementing the Pytorch training loop and <strong style=\"color:#01ff84\">after each epoch, use the model for predicting the test (validation) MNIST data.</strong></p>\n",
        "  <p>Note: If your model does not fit with the final softmax layer, you can remove this layer.</p>\n",
        "  <p>Hint: <a href=\"https://discuss.pytorch.org/t/training-loop-checking-validation-accuracy/78399\">Training loop checking validation accuracy\n",
        "</a></p>\n",
        "  <p>Research about <code>model.train()</code>, <code>model.eval()</code> and <code>with torch.no_grad()</code> in Pytorch.\n",
        "<div>"
      ]
    },
    {
      "cell_type": "code",
      "execution_count": 224,
      "metadata": {
        "colab": {
          "base_uri": "https://localhost:8080/"
        },
        "id": "EkjrVdxj70Jl",
        "outputId": "8429eb74-d882-44f2-fa38-dc992ec4246e"
      },
      "outputs": [
        {
          "name": "stdout",
          "output_type": "stream",
          "text": [
            "epoch 1 done: accuracy of 0.09809999912977219\n",
            "epoch 2 done: accuracy of 0.11159999668598175\n",
            "epoch 3 done: accuracy of 0.1737000048160553\n"
          ]
        }
      ],
      "source": [
        "## TODO: Your training loop here\n",
        "\n",
        "epochs = 3\n",
        "optimizer = optim.SGD(model1.parameters(), lr=0.003)\n",
        "\n",
        "\n",
        "for e in range(epochs):\n",
        "    for i, (images, labels) in enumerate(iter(trainloader)):\n",
        "\n",
        "        # Flatten MNIST images into a 784 long vector\n",
        "\n",
        "        images.resize_(images.size()[0], 784)\n",
        "        model1.train()\n",
        "        optimizer.zero_grad()\n",
        "        output = model1.forward(images)\n",
        "        loss = criterion(output, labels)\n",
        "        loss.backward()\n",
        "        optimizer.step()\n",
        "    model1.eval()\n",
        "    with torch.no_grad():\n",
        "        correct = 0\n",
        "        total = 0\n",
        "        for i, (images, labels) in enumerate(iter(testloader)):\n",
        "            images.resize_(images.size()[0], 784)\n",
        "            test_output = model1.forward(images)\n",
        "            pred_y = torch.max(test_output, 1)[1].data.squeeze()\n",
        "            correct += (pred_y == labels).float().sum()\n",
        "            total += len(labels)\n",
        "            accuracy = (pred_y == labels).sum().item() / float(labels.size(0))\n",
        "            \n",
        "    print(f'epoch {e+1} done: accuracy of {(correct/total).float()}')\n",
        "    model1.train()"
      ]
    },
    {
      "cell_type": "code",
      "execution_count": 225,
      "metadata": {
        "colab": {
          "base_uri": "https://localhost:8080/",
          "height": 212
        },
        "id": "nWCS2NVM70Jl",
        "outputId": "49db8cc7-0ff1-40c4-dbc0-054cf4eb6fbb"
      },
      "outputs": [
        {
          "data": {
            "image/png": "[encoded data removed]",
            "text/plain": [
              "<Figure size 432x648 with 2 Axes>"
            ]
          },
          "metadata": {
            "image/png": {
              "height": 195,
              "width": 349
            },
            "needs_background": "light"
          },
          "output_type": "display_data"
        }
      ],
      "source": [
        "# Run this cell with your model to make sure it works and predicts well for the validation data\n",
        "images, labels = next(iter(testloader))\n",
        "images.resize_(images.shape[0], 1, 784)\n",
        "ps = model1.forward(images[0,:])\n",
        "view_classify(images[0].view(1, 28, 28), ps)"
      ]
    },
    {
      "cell_type": "markdown",
      "metadata": {
        "id": "ivlR1H2h70Jm"
      },
      "source": [
        "<div style=\"background:#222222; color:#ffffff; padding:20px\">\n",
        "  <h3 style=\"color:#01ff84; margin-top:4px\">Exercise 3:</h3>\n",
        "  <p>Write the code for adding <strong style=\"color:#01ff84\">Early Stopping with patience = 2</strong> to the training loop from scratch.</p>\n",
        "  <p><strong style=\"color:#01ff84\">Hint:</strong> Monitor the Validation loss every epoch, and if in 2 epochs, the validation loss does not improve, stop the training loop with <code>break</code>.</p>\n",
        "<div>"
      ]
    },
    {
      "cell_type": "code",
      "execution_count": 226,
      "metadata": {
        "colab": {
          "base_uri": "https://localhost:8080/"
        },
        "id": "hO7PTury70Jm",
        "outputId": "58032925-b208-4f29-b025-0da2d38743a9"
      },
      "outputs": [
        {
          "name": "stdout",
          "output_type": "stream",
          "text": [
            "2.298 0\n",
            "epoch 3 done: accuracy of 0.17820000648498535\n",
            "2.299 2.298\n",
            "epoch 3 done: accuracy of 0.18320000171661377\n",
            "2.3 2.299\n",
            "epoch 3 done: accuracy of 0.1876000016927719\n",
            "2.3 2.3\n",
            "epoch 3 done: accuracy of 0.19300000369548798\n"
          ]
        }
      ],
      "source": [
        "## TODO: Your training loop here\n",
        "\n",
        "epochs = 3\n",
        "optimizer = optim.SGD(model1.parameters(), lr=0.0001)\n",
        "\n",
        "loss_anterior = 0\n",
        "while True:\n",
        "    for i, (images, labels) in enumerate(iter(trainloader)):\n",
        "        # Flatten MNIST images into a 784 long vector\n",
        "\n",
        "        images.resize_(images.size()[0], 784)\n",
        "        model1.train()\n",
        "        optimizer.zero_grad()\n",
        "        output = model1.forward(images)\n",
        "        loss = criterion(output, labels)\n",
        "        loss.backward()\n",
        "        optimizer.step()\n",
        "        \n",
        "    print(round(loss.item(),3),loss_anterior)\n",
        "    model1.eval()\n",
        "    with torch.no_grad():\n",
        "        correct = 0\n",
        "        total = 0\n",
        "        for i, (images, labels) in enumerate(iter(testloader)):\n",
        "            images.resize_(images.size()[0], 784)\n",
        "            test_output = model1.forward(images)\n",
        "            pred_y = torch.max(test_output, 1)[1].data.squeeze()\n",
        "            correct += (pred_y == labels).float().sum()\n",
        "            total += len(labels)\n",
        "            accuracy = (pred_y == labels).sum().item() / float(labels.size(0))\n",
        "    print(f'epoch {e+1} done: accuracy of {(correct/total).float()}')\n",
        "    model1.train()\n",
        "    if round(loss.item(),3) == loss_anterior:\n",
        "        break\n",
        "    else:\n",
        "        loss_anterior = round(loss.item(),3)"
      ]
    }
  ],
  "metadata": {
    "colab": {
      "collapsed_sections": [],
      "name": "4.3 Pytorch MNIST - Exercise.ipynb",
      "provenance": []
    },
    "kernelspec": {
      "display_name": "Python 3",
      "language": "python",
      "name": "python3"
    },
    "language_info": {
      "codemirror_mode": {
        "name": "ipython",
        "version": 3
      },
      "file_extension": ".py",
      "mimetype": "text/x-python",
      "name": "python",
      "nbconvert_exporter": "python",
      "pygments_lexer": "ipython3",
      "version": "3.9.4"
    }
  },
  "nbformat": 4,
  "nbformat_minor": 0
}
