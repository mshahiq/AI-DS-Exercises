{
 "cells": [
  {
   "cell_type": "code",
   "execution_count": 1,
   "id": "hazardous-weather",
   "metadata": {
    "ExecuteTime": {
     "end_time": "2021-05-26T07:47:37.551793Z",
     "start_time": "2021-05-26T07:47:35.439944Z"
    }
   },
   "outputs": [],
   "source": [
    "import torch\n",
    "import torch.nn as nn\n",
    "import numpy as np\n",
    "import matplotlib.pyplot as plt\n",
    "import pandas as pd"
   ]
  },
  {
   "cell_type": "code",
   "execution_count": 3,
   "id": "clean-racing",
   "metadata": {
    "ExecuteTime": {
     "end_time": "2021-05-26T07:50:32.482086Z",
     "start_time": "2021-05-26T07:50:32.456893Z"
    }
   },
   "outputs": [],
   "source": [
    "# create a neural network class inheriting from the nn.Module\n",
    "# Call it NeuralNetwork and make, and use \"pass\" in the constructor\n",
    "# so that it doesn't give an error\n",
    "# Instantiate one instance of it in variable net\n",
    "\n",
    "net = 0\n",
    "\n",
    "class NeuralNetwork(nn.Module):\n",
    "    def __init__(self, input_dim, hidden_dim, output_dim):\n",
    "        super(NeuralNetwork, self).__init__()\n",
    "        self.linear1 = nn.Linear(input_dim, hidden_dim)\n",
    "        self.activation = nn.Sigmoid()\n",
    "        self.linear2 = nn.Linear(hidden_dim, output_dim)\n",
    "        \n",
    "        \n",
    "    def forward(self, x):\n",
    "        layer1 = self.linear1(x)\n",
    "        layer1_output = self.activation(layer1)\n",
    "        layer2 = self.linear2(layer1_output)\n",
    "        layer2_output = self.activation(layer2)\n",
    "        \n",
    "        return layer2_output\n",
    "    \n",
    "net = NeuralNetwork(10,5,1)"
   ]
  },
  {
   "cell_type": "code",
   "execution_count": null,
   "id": "c0478774",
   "metadata": {},
   "outputs": [],
   "source": []
  },
  {
   "cell_type": "code",
   "execution_count": 4,
   "id": "3791c972",
   "metadata": {},
   "outputs": [
    {
     "data": {
      "text/plain": [
       "NeuralNetwork(\n",
       "  (linear1): Linear(in_features=10, out_features=5, bias=True)\n",
       "  (activation): Sigmoid()\n",
       "  (linear2): Linear(in_features=5, out_features=1, bias=True)\n",
       ")"
      ]
     },
     "execution_count": 4,
     "metadata": {},
     "output_type": "execute_result"
    }
   ],
   "source": [
    "## get model\n",
    "net"
   ]
  },
  {
   "cell_type": "code",
   "execution_count": 5,
   "id": "1ea8ddb5",
   "metadata": {},
   "outputs": [
    {
     "data": {
      "text/plain": [
       "[Parameter containing:\n",
       " tensor([[ 0.2587,  0.2740, -0.0734, -0.0729, -0.0730, -0.1021,  0.2262,  0.2939,\n",
       "           0.2815, -0.1206],\n",
       "         [ 0.2188, -0.0104, -0.1066,  0.1146, -0.0283, -0.3108,  0.1707, -0.1249,\n",
       "           0.2108,  0.2360],\n",
       "         [ 0.2846, -0.2920,  0.2381,  0.2420, -0.0855,  0.1476, -0.0183, -0.0709,\n",
       "          -0.0758, -0.2736],\n",
       "         [-0.0085, -0.1384,  0.0322,  0.2843,  0.1669, -0.0934,  0.0736, -0.0115,\n",
       "           0.0068,  0.2048],\n",
       "         [ 0.0345,  0.0314, -0.1117,  0.2373,  0.1249, -0.1180, -0.0164, -0.2661,\n",
       "           0.2221, -0.2056]], requires_grad=True),\n",
       " Parameter containing:\n",
       " tensor([-0.3111,  0.2302, -0.1079,  0.1451,  0.0702], requires_grad=True),\n",
       " Parameter containing:\n",
       " tensor([[-0.0347, -0.0787,  0.0521,  0.1156, -0.1472]], requires_grad=True),\n",
       " Parameter containing:\n",
       " tensor([-0.3380], requires_grad=True)]"
      ]
     },
     "execution_count": 5,
     "metadata": {},
     "output_type": "execute_result"
    }
   ],
   "source": [
    "## check the weights \n",
    "list(net.parameters())"
   ]
  },
  {
   "cell_type": "code",
   "execution_count": null,
   "id": "de0ef65e",
   "metadata": {},
   "outputs": [],
   "source": [
    "## check individual weights\n",
    "# list(net.linear1.parameters())"
   ]
  },
  {
   "cell_type": "code",
   "execution_count": 8,
   "id": "demographic-honor",
   "metadata": {
    "ExecuteTime": {
     "end_time": "2021-05-26T07:51:28.420569Z",
     "start_time": "2021-05-26T07:51:28.412916Z"
    }
   },
   "outputs": [],
   "source": [
    "assert isinstance(net, NeuralNetwork)"
   ]
  },
  {
   "cell_type": "code",
   "execution_count": 12,
   "id": "curious-syndrome",
   "metadata": {
    "ExecuteTime": {
     "end_time": "2021-05-26T07:56:11.203531Z",
     "start_time": "2021-05-26T07:56:11.199729Z"
    }
   },
   "outputs": [],
   "source": [
    "# Rewrite the NeuralNetwork class so that the constructor receives\n",
    "# as input the input_dim and num_hidden, respectively the dimension of \n",
    "# the input and the number of hidden neurons\n",
    "# use pass again\n",
    "\n",
    "class NeuralNetwork(nn.Module):\n",
    "    pass\n",
    "    def __init__(self, input_dim, num_hidden):\n",
    "        super().__init__()\n",
    "        pass\n"
   ]
  },
  {
   "cell_type": "code",
   "execution_count": 13,
   "id": "recreational-macro",
   "metadata": {
    "ExecuteTime": {
     "end_time": "2021-05-26T07:56:32.252906Z",
     "start_time": "2021-05-26T07:56:32.247913Z"
    }
   },
   "outputs": [],
   "source": [
    "assert NeuralNetwork(input_dim=10, num_hidden=16)"
   ]
  },
  {
   "cell_type": "code",
   "execution_count": 6,
   "id": "bigger-inclusion",
   "metadata": {
    "ExecuteTime": {
     "end_time": "2021-05-26T08:04:27.491588Z",
     "start_time": "2021-05-26T08:04:27.484159Z"
    }
   },
   "outputs": [],
   "source": [
    "# Rewrite the NeuralNetwork class so that the constructor receives\n",
    "# as input the input_dim, num_hidden1 and num_hidden2, respectively the dimension of \n",
    "# the input and the number of hidden neurons for the first fully connected\n",
    "# layer and the second. Define the attributes in the constructor\n",
    "# that consists of the layers, call them fc1, fc2 and fc3 and a sigmoid.\n",
    "# use pass again. Be careful to put the dimensions in the right places!\n",
    "# Since we will do a binary classification problem, fc3 will have 1 neuron\n",
    "# as output\n",
    "\n",
    "class NeuralNetwork(nn.Module):\n",
    "    def __init__(self, input_dim, num_hidden1, num_hidden2):\n",
    "        super().__init__()\n",
    "        self.fc1 = nn.Linear(input_dim, num_hidden1)\n",
    "        self.fc2 = nn.Linear(num_hidden1, num_hidden2)\n",
    "        self.fc3 = nn.Linear(num_hidden2, 1)\n",
    "        self.sigmoid = nn.Sigmoid()\n",
    "        \n",
    "    def forward(self, x):\n",
    "        linear1 = self.fc1(x)\n",
    "        activation1 = self.sigmoid(linear1)\n",
    "        linear2 = self.fc2(activation1)\n",
    "        activation2 = self.sigmoid(linear2)\n",
    "        linear3 = self.fc3(activation2)\n",
    "        output = self.sigmoid(linear3)\n",
    "        return output\n",
    "        \n",
    "        "
   ]
  },
  {
   "cell_type": "code",
   "execution_count": null,
   "id": "6b89ee26",
   "metadata": {},
   "outputs": [],
   "source": []
  },
  {
   "cell_type": "code",
   "execution_count": 46,
   "id": "hawaiian-noise",
   "metadata": {
    "ExecuteTime": {
     "end_time": "2021-05-26T08:04:48.612004Z",
     "start_time": "2021-05-26T08:04:48.606773Z"
    }
   },
   "outputs": [],
   "source": [
    "net = NeuralNetwork(2, 16, 16)\n"
   ]
  },
  {
   "cell_type": "code",
   "execution_count": 47,
   "id": "f6fb0066",
   "metadata": {},
   "outputs": [
    {
     "data": {
      "text/plain": [
       "NeuralNetwork(\n",
       "  (fc1): Linear(in_features=2, out_features=16, bias=True)\n",
       "  (fc2): Linear(in_features=16, out_features=16, bias=True)\n",
       "  (fc3): Linear(in_features=16, out_features=1, bias=True)\n",
       "  (sigmoid): Sigmoid()\n",
       ")"
      ]
     },
     "execution_count": 47,
     "metadata": {},
     "output_type": "execute_result"
    }
   ],
   "source": [
    "net"
   ]
  },
  {
   "cell_type": "code",
   "execution_count": 48,
   "id": "latest-sacramento",
   "metadata": {},
   "outputs": [],
   "source": [
    "# For training a model, use the following optimizer and loss\n",
    "\n",
    "optimizer = torch.optim.Adam(net.parameters(), lr=0.01)\n",
    "loss = nn.BCELoss()\n"
   ]
  },
  {
   "cell_type": "code",
   "execution_count": 49,
   "id": "179ed79d",
   "metadata": {},
   "outputs": [],
   "source": [
    "data = pd.read_csv(\"data.csv\", header =None)\n"
   ]
  },
  {
   "cell_type": "code",
   "execution_count": 50,
   "id": "15d91d79",
   "metadata": {},
   "outputs": [
    {
     "data": {
      "text/html": [
       "<div>\n",
       "<style scoped>\n",
       "    .dataframe tbody tr th:only-of-type {\n",
       "        vertical-align: middle;\n",
       "    }\n",
       "\n",
       "    .dataframe tbody tr th {\n",
       "        vertical-align: top;\n",
       "    }\n",
       "\n",
       "    .dataframe thead th {\n",
       "        text-align: right;\n",
       "    }\n",
       "</style>\n",
       "<table border=\"1\" class=\"dataframe\">\n",
       "  <thead>\n",
       "    <tr style=\"text-align: right;\">\n",
       "      <th></th>\n",
       "      <th>0</th>\n",
       "      <th>1</th>\n",
       "      <th>2</th>\n",
       "    </tr>\n",
       "  </thead>\n",
       "  <tbody>\n",
       "    <tr>\n",
       "      <th>0</th>\n",
       "      <td>0.78051</td>\n",
       "      <td>-0.063669</td>\n",
       "      <td>1</td>\n",
       "    </tr>\n",
       "    <tr>\n",
       "      <th>1</th>\n",
       "      <td>0.28774</td>\n",
       "      <td>0.291390</td>\n",
       "      <td>1</td>\n",
       "    </tr>\n",
       "    <tr>\n",
       "      <th>2</th>\n",
       "      <td>0.40714</td>\n",
       "      <td>0.178780</td>\n",
       "      <td>1</td>\n",
       "    </tr>\n",
       "    <tr>\n",
       "      <th>3</th>\n",
       "      <td>0.29230</td>\n",
       "      <td>0.421700</td>\n",
       "      <td>1</td>\n",
       "    </tr>\n",
       "    <tr>\n",
       "      <th>4</th>\n",
       "      <td>0.50922</td>\n",
       "      <td>0.352560</td>\n",
       "      <td>1</td>\n",
       "    </tr>\n",
       "  </tbody>\n",
       "</table>\n",
       "</div>"
      ],
      "text/plain": [
       "         0         1  2\n",
       "0  0.78051 -0.063669  1\n",
       "1  0.28774  0.291390  1\n",
       "2  0.40714  0.178780  1\n",
       "3  0.29230  0.421700  1\n",
       "4  0.50922  0.352560  1"
      ]
     },
     "execution_count": 50,
     "metadata": {},
     "output_type": "execute_result"
    }
   ],
   "source": [
    "data.head()"
   ]
  },
  {
   "cell_type": "code",
   "execution_count": 51,
   "id": "2f9fd37f",
   "metadata": {},
   "outputs": [],
   "source": [
    "# need to have data in array \n",
    "\n",
    "x = data.iloc[:,:2].values\n",
    "y = data.iloc[:,-1].values"
   ]
  },
  {
   "cell_type": "code",
   "execution_count": 52,
   "id": "b1c05eb9",
   "metadata": {},
   "outputs": [],
   "source": [
    "# convert to tensors\n",
    "x_tensor = torch.tensor(x).float()\n",
    "y_tensor = torch.tensor(y).float()\n"
   ]
  },
  {
   "cell_type": "code",
   "execution_count": 53,
   "id": "dfaddb29",
   "metadata": {},
   "outputs": [
    {
     "data": {
      "text/plain": [
       "torch.Size([100, 1])"
      ]
     },
     "execution_count": 53,
     "metadata": {},
     "output_type": "execute_result"
    }
   ],
   "source": [
    "y_tensor_s = y_tensor.view(-1,1)\n",
    "y_tensor_s.shape"
   ]
  },
  {
   "cell_type": "code",
   "execution_count": 54,
   "id": "cfdb5a18",
   "metadata": {},
   "outputs": [
    {
     "name": "stdout",
     "output_type": "stream",
     "text": [
      "Initial loss: 0.70\n"
     ]
    }
   ],
   "source": [
    "y_pred_tensor = net(x_tensor)\n",
    "loss_value = loss(y_pred_tensor, y_tensor_s)\n",
    "print(f\"Initial loss: {loss_value.item():.2f}\")"
   ]
  },
  {
   "cell_type": "code",
   "execution_count": 61,
   "id": "733acfbb",
   "metadata": {},
   "outputs": [
    {
     "name": "stdout",
     "output_type": "stream",
     "text": [
      "loss: 0.14\n",
      "loss: 0.14\n",
      "loss: 0.14\n",
      "loss: 0.14\n",
      "loss: 0.14\n",
      "loss: 0.14\n",
      "loss: 0.14\n",
      "loss: 0.14\n",
      "loss: 0.14\n",
      "loss: 0.14\n",
      "loss: 0.14\n",
      "loss: 0.14\n",
      "loss: 0.14\n",
      "loss: 0.14\n",
      "loss: 0.14\n",
      "loss: 0.14\n",
      "loss: 0.14\n",
      "loss: 0.14\n",
      "loss: 0.14\n",
      "loss: 0.14\n",
      "loss: 0.14\n",
      "loss: 0.14\n",
      "loss: 0.14\n",
      "loss: 0.14\n",
      "loss: 0.14\n",
      "loss: 0.14\n",
      "loss: 0.14\n",
      "loss: 0.14\n",
      "loss: 0.14\n",
      "loss: 0.14\n",
      "loss: 0.14\n",
      "loss: 0.14\n",
      "loss: 0.14\n",
      "loss: 0.14\n",
      "loss: 0.14\n",
      "loss: 0.14\n",
      "loss: 0.14\n",
      "loss: 0.14\n",
      "loss: 0.14\n",
      "loss: 0.14\n",
      "loss: 0.14\n",
      "loss: 0.14\n",
      "loss: 0.14\n",
      "loss: 0.14\n",
      "loss: 0.14\n",
      "loss: 0.14\n",
      "loss: 0.14\n",
      "loss: 0.14\n",
      "loss: 0.14\n",
      "loss: 0.14\n"
     ]
    },
    {
     "data": {
      "text/plain": [
       "NeuralNetwork(\n",
       "  (fc1): Linear(in_features=2, out_features=16, bias=True)\n",
       "  (fc2): Linear(in_features=16, out_features=16, bias=True)\n",
       "  (fc3): Linear(in_features=16, out_features=1, bias=True)\n",
       "  (sigmoid): Sigmoid()\n",
       ")"
      ]
     },
     "execution_count": 61,
     "metadata": {},
     "output_type": "execute_result"
    }
   ],
   "source": [
    "def model_fit(model, loss, optimizer, x,y, num_epochs):\n",
    "    \n",
    "    for epoch in range(num_epochs):\n",
    "        optimizer.zero_grad()\n",
    "        \n",
    "        y_pred = model(x)\n",
    "        \n",
    "        loss_value = loss(y_pred,y)\n",
    "        \n",
    "        loss_value.backward()\n",
    "        \n",
    "        optimizer.step()\n",
    "        print(f\"loss: {loss_value.item():.2f}\")\n",
    "        \n",
    "    return model\n",
    "    \n",
    "model_fit(net, loss, optimizer, x_tensor, y_tensor_s, 50)\n",
    "\n",
    "    \n",
    "    "
   ]
  },
  {
   "cell_type": "code",
   "execution_count": null,
   "id": "5a95582d",
   "metadata": {},
   "outputs": [],
   "source": []
  }
 ],
 "metadata": {
  "kernelspec": {
   "display_name": "Python 3",
   "language": "python",
   "name": "python3"
  },
  "language_info": {
   "codemirror_mode": {
    "name": "ipython",
    "version": 3
   },
   "file_extension": ".py",
   "mimetype": "text/x-python",
   "name": "python",
   "nbconvert_exporter": "python",
   "pygments_lexer": "ipython3",
   "version": "3.7.10"
  },
  "varInspector": {
   "cols": {
    "lenName": 16,
    "lenType": 16,
    "lenVar": 40
   },
   "kernels_config": {
    "python": {
     "delete_cmd_postfix": "",
     "delete_cmd_prefix": "del ",
     "library": "var_list.py",
     "varRefreshCmd": "print(var_dic_list())"
    },
    "r": {
     "delete_cmd_postfix": ") ",
     "delete_cmd_prefix": "rm(",
     "library": "var_list.r",
     "varRefreshCmd": "cat(var_dic_list()) "
    }
   },
   "types_to_exclude": [
    "module",
    "function",
    "builtin_function_or_method",
    "instance",
    "_Feature"
   ],
   "window_display": false
  }
 },
 "nbformat": 4,
 "nbformat_minor": 5
}
