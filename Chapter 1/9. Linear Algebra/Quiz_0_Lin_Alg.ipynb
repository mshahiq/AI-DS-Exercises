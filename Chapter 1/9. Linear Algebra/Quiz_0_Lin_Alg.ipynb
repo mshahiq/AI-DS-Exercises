{
 "cells": [
  {
   "cell_type": "markdown",
   "source": [
    "# Vectors and Matrices\n",
    "Time to work! Do it with numpy first and then if you have time, manually by hand :)"
   ],
   "metadata": {}
  },
  {
   "cell_type": "markdown",
   "source": [
    "## Vectors"
   ],
   "metadata": {}
  },
  {
   "cell_type": "markdown",
   "source": [
    "Lists can be used to represent mathematical vectors. In this exercise and several that follow you will write functions to perform standard operations on vectors. Create a file named vectors.py or use the Jupyter notebook provided\n",
    "\n",
    "Write a function add_vectors(u, v) that takes two lists of numbers of the same length, and returns a new list containing the sums of the corresponding elements of each.\n",
    "\n",
    "**Note that the text in \"\"\" \"\"\" is provided for you to accurately verify that your function works :)**"
   ],
   "metadata": {}
  },
  {
   "cell_type": "code",
   "execution_count": 172,
   "source": [
    "import numpy as np\r\n",
    "\r\n",
    "#1st\r\n",
    "def add_vectors(u, v):\r\n",
    "  add_vectors = u + v\r\n",
    "  return add_vectors\r\n",
    "result = add_vectors(np.array([1,0]), np.array([1,1]))\r\n",
    "result\r\n",
    "\r\n",
    "#2nd\r\n",
    "def add_vectors2(u, v):\r\n",
    "  add_vectors2 = u + v\r\n",
    "  return add_vectors2\r\n",
    "result2 = add_vectors2(np.array([1,2]), np.array([1,4]))\r\n",
    "result2\r\n",
    "\r\n",
    "\r\n",
    "#3rd (3D)\r\n",
    "def add_vectors3(u, v):\r\n",
    "  add_vectors3 = u + v\r\n",
    "  return add_vectors3\r\n",
    "result3 = add_vectors3(np.array([1,2,1]), np.array([1,4,3]))\r\n",
    "result3\r\n",
    "\r\n",
    "\r\n",
    "#4th (4D)\r\n",
    "def add_vectors4(u, v):\r\n",
    "  add_vectors4 = u + v\r\n",
    "  return add_vectors4\r\n",
    "result4 = add_vectors4(np.array([11,0,-4,5]), np.array([2,-4,17,0]))\r\n",
    "result4\r\n",
    "\r\n",
    "#5th (3D)\r\n",
    "def add_vectors5(a, b):\r\n",
    "  add_vectors5 = a + b\r\n",
    "  return add_vectors5\r\n",
    "a = np.array([1,2,3])\r\n",
    "b = np.array([1,1,1])\r\n",
    "result5 = add_vectors5(a,b)\r\n",
    "\r\n",
    "#result4\r\n",
    "#a\r\n",
    "b\r\n",
    "\r\n",
    "\r\n"
   ],
   "outputs": [
    {
     "output_type": "execute_result",
     "data": {
      "text/plain": [
       "array([1, 1, 1])"
      ]
     },
     "metadata": {},
     "execution_count": 172
    }
   ],
   "metadata": {
    "ExecuteTime": {
     "end_time": "2021-06-07T12:55:04.065651Z",
     "start_time": "2021-06-07T12:55:04.052145Z"
    }
   }
  },
  {
   "cell_type": "markdown",
   "source": [
    "Write a function scalar_mult(s, v) that takes a number, s, and a list, v and returns the [scalar multiple](https://en.wikipedia.org/wiki/Scalar_multiplication) of v by s."
   ],
   "metadata": {}
  },
  {
   "cell_type": "code",
   "execution_count": 142,
   "source": [
    "#1st\r\n",
    "def scalar_mult(s, v):\r\n",
    "  mult_vectors = s * v\r\n",
    "  return mult_vectors\r\n",
    "result = scalar_mult(5, np.array([1,2]))\r\n",
    "result\r\n",
    "\r\n",
    "#2nd (3D)\r\n",
    "def scalar_mult2(s, v):\r\n",
    "  mult_vectors = s * v\r\n",
    "  return mult_vectors\r\n",
    "result2 = scalar_mult2(3, np.array([1,0,-1]))\r\n",
    "result2\r\n",
    "\r\n",
    "#3rd (5D)\r\n",
    "def scalar_mult3(s, v):\r\n",
    "  mult_vectors = s * v\r\n",
    "  return mult_vectors\r\n",
    "result3 = scalar_mult3(7, np.array([3,0,5,11,2]))\r\n",
    "result3\r\n",
    "\r\n",
    "#4th (3D)\r\n",
    "def scalar_mult4(s, v):\r\n",
    "  mult_vectors = s * v\r\n",
    "  return mult_vectors\r\n",
    "a = np.array([1,2,3])\r\n",
    "result4 = scalar_mult4(4,a)\r\n",
    "result4\r\n",
    "a\r\n",
    "\r\n"
   ],
   "outputs": [
    {
     "output_type": "execute_result",
     "data": {
      "text/plain": [
       "array([1, 2, 3])"
      ]
     },
     "metadata": {},
     "execution_count": 142
    }
   ],
   "metadata": {
    "ExecuteTime": {
     "end_time": "2021-06-07T12:55:19.258850Z",
     "start_time": "2021-06-07T12:55:19.249823Z"
    }
   }
  },
  {
   "cell_type": "markdown",
   "source": [
    "Write a function dot_product(u, v) that takes two lists of numbers of the same length, and returns the sum of the products of the corresponding elements of each (the [dot_product](https://en.wikipedia.org/wiki/Dot_product)."
   ],
   "metadata": {}
  },
  {
   "cell_type": "code",
   "execution_count": 143,
   "source": [
    "#1st\r\n",
    "def dot_product(u, v):\r\n",
    "  mult_product = np.dot(u,v)\r\n",
    "  return mult_product\r\n",
    "result = dot_product(np.array([1,1]),np.array([1,1]))\r\n",
    "result\r\n",
    "\r\n",
    "#2nd\r\n",
    "def dot_product2(u, v):\r\n",
    "  mult_product = np.dot(u,v)\r\n",
    "  return mult_product\r\n",
    "result2 = dot_product(np.array([1,2]),np.array([1,4]))\r\n",
    "result2\r\n",
    "\r\n",
    "#3rd\r\n",
    "def dot_product3(u, v):\r\n",
    "  mult_product = np.dot(u,v)\r\n",
    "  return mult_product\r\n",
    "result3 = dot_product(np.array([1,2,1]),np.array([1,4,3]))\r\n",
    "result3\r\n",
    "\r\n",
    "#4th\r\n",
    "def dot_product4(u, v):\r\n",
    "  mult_product = np.dot(u,v)\r\n",
    "  return mult_product\r\n",
    "result4 = dot_product(np.array([2,0,-1,1]),np.array([1,5,2,0]))\r\n",
    "result4\r\n"
   ],
   "outputs": [
    {
     "output_type": "execute_result",
     "data": {
      "text/plain": [
       "0"
      ]
     },
     "metadata": {},
     "execution_count": 143
    }
   ],
   "metadata": {
    "ExecuteTime": {
     "end_time": "2021-06-07T12:55:22.647998Z",
     "start_time": "2021-06-07T12:55:22.642607Z"
    }
   }
  },
  {
   "cell_type": "markdown",
   "source": [
    "## Matrices"
   ],
   "metadata": {}
  },
  {
   "cell_type": "markdown",
   "source": [
    "Create a new module named matrices.py or *use the Jupyter notebook provided* and add the following function, which returns a copy of nested lists of numbers such that the lists are not aliases:"
   ],
   "metadata": {}
  },
  {
   "cell_type": "code",
   "execution_count": 505,
   "source": [
    "#1st \r\n",
    "def copy_matrix(matrix):\r\n",
    "  copymatrices = np.array(matrix)\r\n",
    "  return copymatrices\r\n",
    "result = copy_matrix([[1,2],[3,4]])\r\n",
    "result\r\n",
    "\r\n",
    "#2nd \r\n",
    "def copy_matrix2(matrix):\r\n",
    "  copymatrices = np.array(matrix)\r\n",
    "  return copymatrices\r\n",
    "result2 = copy_matrix2([[1,2,3],[4,5,6]])\r\n",
    "result2\r\n",
    "\r\n",
    "#3rd\r\n",
    "def copy_matrix3(matrix):\r\n",
    "  copymatrices = np.array(matrix)\r\n",
    "  return copymatrices\r\n",
    "result3 = copy_matrix3([[1,2],[3,4],[5,6],[7,8]])\r\n",
    "result3\r\n",
    "\r\n",
    "#4th\r\n",
    "def copy_matrix4(m):\r\n",
    "  copymatrices = np.array(m)\r\n",
    "  return copymatrices\r\n",
    "m = [[1, 0, 0], [0, 2, 0], [0, 0, 3]]\r\n",
    "result4 = copy_matrix(m)\r\n",
    "copyofm = copy_matrix(m)\r\n",
    "result4\r\n",
    "\r\n",
    "#5th\r\n",
    "\r\n",
    "for row_num, row in enumerate(copyofm):\r\n",
    "    for col_num, col_val in enumerate(row):\r\n",
    "        copyofm[row_num][col_num] = 42\r\n",
    "copyofm\r\n",
    "\r\n",
    "m\r\n",
    "\r\n",
    "\r\n"
   ],
   "outputs": [
    {
     "output_type": "execute_result",
     "data": {
      "text/plain": [
       "[[1, 0, 0], [0, 2, 0], [0, 0, 3]]"
      ]
     },
     "metadata": {},
     "execution_count": 505
    }
   ],
   "metadata": {
    "ExecuteTime": {
     "end_time": "2021-06-07T12:55:25.891991Z",
     "start_time": "2021-06-07T12:55:25.888466Z"
    }
   }
  },
  {
   "cell_type": "code",
   "execution_count": 161,
   "source": [
    "#1st \r\n",
    "def add_row(m):\r\n",
    "    addition_row = np.append(m,[row],axis= 0)\r\n",
    "    return addition_row\r\n",
    "row = np.array([0,0])\r\n",
    "result = add_row([[0,0],[0,0]])\r\n",
    "#matrix\r\n",
    "result\r\n",
    "\r\n",
    "def add_rown(n):\r\n",
    "    addition_rown = np.append(n,[row],axis= 0)\r\n",
    "    return addition_rown\r\n",
    "n = [[3, 2, 5], [1, 4, 7]]\r\n",
    "row = np.array([0,0,0])\r\n",
    "result = add_rown(n)\r\n",
    "#result\r\n",
    "n\r\n"
   ],
   "outputs": [
    {
     "output_type": "execute_result",
     "data": {
      "text/plain": [
       "[[3, 2, 5], [1, 4, 7]]"
      ]
     },
     "metadata": {},
     "execution_count": 161
    }
   ],
   "metadata": {
    "ExecuteTime": {
     "end_time": "2021-06-07T12:55:28.752996Z",
     "start_time": "2021-06-07T12:55:28.749066Z"
    }
   }
  },
  {
   "cell_type": "code",
   "execution_count": 170,
   "source": [
    "def add_column(m):\r\n",
    "  addition_column = np.append(m,column,axis= 1)\r\n",
    "  return addition_column\r\n",
    "column = [[0],\r\n",
    "         [0]]\r\n",
    "result = add_column([[0,0],[0,0]])\r\n",
    "#matrix\r\n",
    "result\r\n",
    "\r\n",
    "def add_columnn(n):\r\n",
    "    addition_columnn = np.append(n,column,axis= 1)\r\n",
    "    return addition_columnn\r\n",
    "n = [[3,2],[5,1],[4,7]]\r\n",
    "column = [[0],\r\n",
    "          [0],\r\n",
    "          [0]]\r\n",
    "result = add_columnn(n)\r\n",
    "result\r\n",
    "n\r\n",
    "\"\"\"\r\n",
    "m = [[0, 0], [0, 0]]\r\n",
    "add_column(m)\r\n",
    "[[0, 0, 0], [0, 0, 0]]\r\n",
    "n = [[3, 2], [5, 1], [4, 7]]\r\n",
    "add_column(n)\r\n",
    "[[3, 2, 0], [5, 1, 0], [4, 7, 0]]\r\n",
    "n\r\n",
    "[[3, 2], [5, 1], [4, 7]]\r\n",
    "\"\"\"\r\n"
   ],
   "outputs": [
    {
     "output_type": "execute_result",
     "data": {
      "text/plain": [
       "[[3, 2], [5, 1], [4, 7]]"
      ]
     },
     "metadata": {},
     "execution_count": 170
    }
   ],
   "metadata": {
    "ExecuteTime": {
     "end_time": "2021-06-07T12:55:31.190111Z",
     "start_time": "2021-06-07T12:55:31.186840Z"
    }
   }
  },
  {
   "cell_type": "markdown",
   "source": [
    "Write a function add_matrices(m1, m2) that adds m1 and m2 and returns a new matrix containing their sum. You can assume that m1 and m2 are the same size. You add two matrices by adding their corresponding values."
   ],
   "metadata": {}
  },
  {
   "cell_type": "code",
   "execution_count": 497,
   "source": [
    "def add_matrices(a, b):\r\n",
    "  add_matrix = a + b\r\n",
    "  return add_matrix\r\n",
    "a = np.matrix([[1, 2], [3, 4]])\r\n",
    "b = np.matrix([[2, 2], [2, 2]])\r\n",
    "result = add_matrices(a,b)\r\n",
    "result\r\n",
    "    \r\n",
    "def add_matrices2(c, d):\r\n",
    "  add_matrix2 = c + d\r\n",
    "  return add_matrix2\r\n",
    "c = np.array([[8, 2], [3, 4], [5, 7]])\r\n",
    "d = np.array([[3, 2], [9, 2], [10, 12]])\r\n",
    "result = add_matrices2(c, d)\r\n",
    "result\r\n",
    "c\r\n",
    "d\r\n",
    "\"\"\"\r\n",
    "a = [[1, 2], [3, 4]]\r\n",
    "b = [[2, 2], [2, 2]]\r\n",
    "add_matrices(a, b)\r\n",
    "[[3, 4], [5, 6]]\r\n",
    "c = [[8, 2], [3, 4], [5, 7]]\r\n",
    "d = [[3, 2], [9, 2], [10, 12]]\r\n",
    "add_matrices(c, d)\r\n",
    "[[11, 4], [12, 6], [15, 19]]\r\n",
    "c\r\n",
    "[[8, 2], [3, 4], [5, 7]]\r\n",
    "d\r\n",
    "[[3, 2], [9, 2], [10, 12]]\r\n",
    "\"\"\"\r\n"
   ],
   "outputs": [
    {
     "output_type": "execute_result",
     "data": {
      "text/plain": [
       "array([[ 3,  2],\n",
       "       [ 9,  2],\n",
       "       [10, 12]])"
      ]
     },
     "metadata": {},
     "execution_count": 497
    }
   ],
   "metadata": {
    "ExecuteTime": {
     "end_time": "2021-06-07T12:55:42.884497Z",
     "start_time": "2021-06-07T12:55:42.864759Z"
    }
   }
  },
  {
   "cell_type": "markdown",
   "source": [
    "Write a function scalar_mult(s, m) that multiplies a matrix, m, by a scalar, s."
   ],
   "metadata": {}
  },
  {
   "cell_type": "code",
   "execution_count": 494,
   "source": [
    "#1st\r\n",
    "def scalar_mult(s, m):\r\n",
    "  mult_matrix = s * m\r\n",
    "  return mult_matrix\r\n",
    "a = np.array([[1, 2], [3, 4]])\r\n",
    "result = scalar_mult(3, a)\r\n",
    "result\r\n",
    "\r\n",
    "#2nd\r\n",
    "def scalar_mult2(s, m):\r\n",
    "  mult_matrix2 = s * m\r\n",
    "  return mult_matrix2\r\n",
    "b = np.array([[3, 5, 7], [1, 1, 1], [0, 2, 0], [2, 2, 3]])\r\n",
    "result2 = scalar_mult(10, b)\r\n",
    "#result2\r\n",
    "#b\r\n",
    "\"\"\"\r\n",
    "a = [[1, 2], [3, 4]]\r\n",
    "scalar_mult(3, a)\r\n",
    "[[3, 6], [9, 12]]\r\n",
    "b = [[3, 5, 7], [1, 1, 1], [0, 2, 0], [2, 2, 3]]\r\n",
    "scalar_mult(10, b)\r\n",
    "[[30, 50, 70], [10, 10, 10], [0, 20, 0], [20, 20, 30]]\r\n",
    "b\r\n",
    "[[3, 5, 7], [1, 1, 1], [0, 2, 0], [2, 2, 3]]\r\n",
    "\"\"\"\r\n",
    "\r\n"
   ],
   "outputs": [
    {
     "output_type": "execute_result",
     "data": {
      "text/plain": [
       "array([[ 3,  6],\n",
       "       [ 9, 12]])"
      ]
     },
     "metadata": {},
     "execution_count": 494
    }
   ],
   "metadata": {
    "ExecuteTime": {
     "end_time": "2021-06-07T12:55:47.182931Z",
     "start_time": "2021-06-07T12:55:47.178180Z"
    }
   }
  },
  {
   "cell_type": "markdown",
   "source": [
    "Write functions row_times_column and matrix_mult:"
   ],
   "metadata": {}
  },
  {
   "cell_type": "code",
   "execution_count": 485,
   "source": [
    "#row = 0 column = 0\r\n",
    "def row_times_column(m1, row, m2, column):\r\n",
    "  row_time_column = np.dot(row,column)\r\n",
    "  return row_time_column\r\n",
    "m1 = np.array([[1, 2], [3, 4]])\r\n",
    "m2 = np.array([[5, 6], [7, 8]])\r\n",
    "column = m2[:,0]\r\n",
    "row = m1[0,:]\r\n",
    "#print(len(m1),\"x\",len(m1[0])) # reading the dimension of a matrix\r\n",
    "result = row_times_column(m1,row,m2,column)\r\n",
    "print(result)\r\n",
    "\r\n",
    "#row = 0 column = 1\r\n",
    "def row_times_column(m1, row, m2, column):\r\n",
    "  row_time_column = np.dot(row,column)\r\n",
    "  return row_time_column\r\n",
    "m1 = np.array([[1, 2], [3, 4]])\r\n",
    "m2 = np.array([[5, 6], [7, 8]])\r\n",
    "column = m2[:,1]\r\n",
    "row = m1[0,:]\r\n",
    "#print(len(m1),\"x\",len(m1[0])) # reading the dimension of a matrix\r\n",
    "result1 = row_times_column(m1,row,m2,column)\r\n",
    "print(result1)\r\n",
    "\r\n",
    "#row = 1 column = 0\r\n",
    "def row_times_column(m1, row, m2, column):\r\n",
    "  row_time_column = np.dot(row,column)\r\n",
    "  return row_time_column\r\n",
    "m1 = np.array([[1, 2], [3, 4]])\r\n",
    "m2 = np.array([[5, 6], [7, 8]])\r\n",
    "column = m2[:,0]\r\n",
    "row = m1[1,:]\r\n",
    "#print(len(m1),\"x\",len(m1[0])) # reading the dimension of a matrix\r\n",
    "result2 = row_times_column(m1,row,m2,column)\r\n",
    "print(result2)\r\n",
    "\r\n",
    "#row = 1 column = 1\r\n",
    "def row_times_column(m1, row, m2, column):\r\n",
    "  row_time_column = np.dot(row,column)\r\n",
    "  return row_time_column\r\n",
    "m1 = np.array([[1, 2], [3, 4]])\r\n",
    "m2 = np.array([[5, 6], [7, 8]])\r\n",
    "column = m2[:,1]\r\n",
    "row = m1[1,:]\r\n",
    "#print(len(m1),\"x\",len(m1[0])) # reading the dimension of a matrix\r\n",
    "result3 = row_times_column(m1,row,m2,column)\r\n",
    "print(result3)"
   ],
   "outputs": [
    {
     "output_type": "stream",
     "name": "stdout",
     "text": [
      "19\n",
      "22\n",
      "43\n",
      "50\n"
     ]
    }
   ],
   "metadata": {
    "ExecuteTime": {
     "end_time": "2021-06-07T12:55:52.098971Z",
     "start_time": "2021-06-07T12:55:52.095060Z"
    }
   }
  },
  {
   "cell_type": "code",
   "execution_count": 487,
   "source": [
    "#1st\r\n",
    "def matrix_mult(m1,m2):\r\n",
    "  m_mult = np.dot(m1,m2) # same dimensions i.e. (2x2) & (2x2)\r\n",
    "  return m_mult\r\n",
    "\r\n",
    "m1 = np.array([[1, 2], [3, 4]])\r\n",
    "m2 = np.array([[5, 6], [7, 8]])\r\n",
    "result = matrix_mult(m1,m2)\r\n",
    "for r1 in result:\r\n",
    "  print(r1)\r\n",
    "\r\n",
    "#2nd\r\n",
    "m3 = np.array([[1, 2, 3],[4, 5, 6]])\r\n",
    "m4 = np.array([[7, 8], [9, 1], [2, 3]])\r\n",
    "result2 = [[0,0],\r\n",
    "          [0,0]] # result returns 2x2 matrix\r\n",
    "\r\n",
    "for i in range(len(m3)): # rows of m3\r\n",
    "    for j in range(len(m4[0])): # columns of m4\r\n",
    "        for k in range(len(m4)): # rows of m4\r\n",
    "            result2[i][j] += m3[i][k] * m4[k][j] \r\n",
    "for r2 in result2:\r\n",
    "    print(r2)\r\n",
    "\r\n",
    "#3rd\r\n",
    "m5 = np.array([[7, 8], [9, 1], [2, 3]])\r\n",
    "m6 = np.array([[1, 2, 3], [4, 5, 6]])\r\n",
    "\r\n",
    "result3 = [[0,0,0],\r\n",
    "           [0,0,0],\r\n",
    "           [0,0,0]] # returns 3x3 matrix\r\n",
    "for i in range(len(m5)): # rows of m5\r\n",
    "    for j in range(len(m6[0])): # columns of m6\r\n",
    "        for k in range(len(m6)): # rows of m6\r\n",
    "            result3[i][j] += m5[i][k] * m6[k][j] \r\n",
    "for r3 in result3:\r\n",
    "    print(r3)\r\n",
    "\r\n"
   ],
   "outputs": [
    {
     "output_type": "stream",
     "name": "stdout",
     "text": [
      "[19 22]\n",
      "[43 50]\n",
      "[31, 19]\n",
      "[85, 55]\n",
      "[39, 54, 69]\n",
      "[13, 23, 33]\n",
      "[14, 19, 24]\n"
     ]
    }
   ],
   "metadata": {
    "ExecuteTime": {
     "end_time": "2021-06-07T12:56:10.904256Z",
     "start_time": "2021-06-07T12:56:10.900955Z"
    }
   }
  },
  {
   "cell_type": "markdown",
   "source": [
    "Write a function transpose that takes a matrix as an argument and returns is transpose:"
   ],
   "metadata": {}
  },
  {
   "cell_type": "code",
   "execution_count": 509,
   "source": [
    "#1st\r\n",
    "def transpose(m):\r\n",
    "  result_T = m.T\r\n",
    "  return result_T\r\n",
    "\r\n",
    "m = np.array([[3, 4, 6]])\r\n",
    "result = transpose(m)\r\n",
    "print(result)\r\n",
    "print(m)\r\n",
    "\r\n",
    "#2nd\r\n",
    "def transpose2(m):\r\n",
    "  result_T1 = m.T\r\n",
    "  return result_T1\r\n",
    "m = np.array([[3, 4, 6],[1, 5, 9]])\r\n",
    "result1 = transpose(m)\r\n",
    "print(result1)\r\n"
   ],
   "outputs": [
    {
     "output_type": "stream",
     "name": "stdout",
     "text": [
      "[[3]\n",
      " [4]\n",
      " [6]]\n",
      "[[3 4 6]]\n",
      "[[3 1]\n",
      " [4 5]\n",
      " [6 9]]\n"
     ]
    }
   ],
   "metadata": {
    "ExecuteTime": {
     "end_time": "2021-06-07T12:56:20.280054Z",
     "start_time": "2021-06-07T12:56:20.276651Z"
    }
   }
  },
  {
   "cell_type": "code",
   "execution_count": null,
   "source": [],
   "outputs": [],
   "metadata": {}
  }
 ],
 "metadata": {
  "kernelspec": {
   "name": "python3",
   "display_name": "Python 3.9.4 64-bit ('strive': conda)"
  },
  "language_info": {
   "codemirror_mode": {
    "name": "ipython",
    "version": 3
   },
   "file_extension": ".py",
   "mimetype": "text/x-python",
   "name": "python",
   "nbconvert_exporter": "python",
   "pygments_lexer": "ipython3",
   "version": "3.9.4"
  },
  "varInspector": {
   "cols": {
    "lenName": 16,
    "lenType": 16,
    "lenVar": 40
   },
   "kernels_config": {
    "python": {
     "delete_cmd_postfix": "",
     "delete_cmd_prefix": "del ",
     "library": "var_list.py",
     "varRefreshCmd": "print(var_dic_list())"
    },
    "r": {
     "delete_cmd_postfix": ") ",
     "delete_cmd_prefix": "rm(",
     "library": "var_list.r",
     "varRefreshCmd": "cat(var_dic_list()) "
    }
   },
   "types_to_exclude": [
    "module",
    "function",
    "builtin_function_or_method",
    "instance",
    "_Feature"
   ],
   "window_display": false
  },
  "interpreter": {
   "hash": "7016010205a98451d52b0c4cab227365108095c7ad70437c80600f3976844f69"
  }
 },
 "nbformat": 4,
 "nbformat_minor": 2
}