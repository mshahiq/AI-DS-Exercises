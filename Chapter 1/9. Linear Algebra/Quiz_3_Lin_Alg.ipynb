{
 "cells": [
  {
   "cell_type": "markdown",
   "metadata": {},
   "source": [
    "## Linear Algebra Quiz #3\n",
    "\n",
    "![title](./img/3_0.jpeg)\n",
    "\n",
    "We strongly suggest working with numpy :)"
   ]
  },
  {
   "cell_type": "code",
   "execution_count": 1,
   "metadata": {},
   "outputs": [],
   "source": [
    "#Do your imports here\n",
    "import numpy as np\n"
   ]
  },
  {
   "cell_type": "markdown",
   "metadata": {},
   "source": [
    "![title](./img/3_2.png)\n",
    "![title](./img/3_3.png)\n",
    "Create a program that can output\n",
    "\n",
    "- What is the value of element c23​ of Matrix C where C=A x B ?\n",
    "- What is the value of element c23​ of Matrix C where C=B x A ?"
   ]
  },
  {
   "cell_type": "code",
   "execution_count": 5,
   "metadata": {},
   "outputs": [
    {
     "name": "stdout",
     "output_type": "stream",
     "text": [
      "(In C = A x B) Value of c23 is: 5.0\n",
      "[23.0, 18.0, 4.0]\n",
      "[22.0, -16.5, 5.0]\n",
      "[-71.0, 2.0, -35.0]\n",
      "(In C = B x A) Value of c23 is: 16.0\n",
      "[-25.0, 17.0, 13.0]\n",
      "[-1.0, 8.0, 16.0]\n",
      "[27.5, 24.0, -11.5]\n",
      "\n",
      "\n",
      "Inverse of matrix A is:\n",
      " [[ 0.2        -0.08        0.04      ]\n",
      " [ 0.22857143  0.13714286  0.07428571]\n",
      " [ 0.08571429  0.05142857 -0.09714286]]\n"
     ]
    }
   ],
   "source": [
    "\n",
    "# C = A x B\n",
    "A = np.array([[3, 1, 2],[-5, 4, 1],[0, 3, -8]])\n",
    "'''\n",
    "def inverse_matrix(A):\n",
    "    inverse = np.linalg.inv(A)\n",
    "    return inverse\n",
    "'''\n",
    "B = np.array([[0, 5, -1],[3, 2, -1],[10, 0.5, 4]])\n",
    "C = [[0,0,0],\n",
    "              [0,0,0],\n",
    "              [0,0,0]] # result returns 3x3 matrix\n",
    "C1 = [[0,0,0],\n",
    "              [0,0,0],\n",
    "              [0,0,0]]          \n",
    "\n",
    "for i in range(len(A)): # rows of A\n",
    "    for j in range(len(B[0])): # columns of B\n",
    "        \n",
    "        for k in range(len(B)): # rows of B\n",
    "            \n",
    "            C[i][j] += A[i][k] * B[k][j] \n",
    "\n",
    "print(\"(In C = A x B) Value of c23 is:\",C[1][2]) # to read c23\n",
    "\n",
    "for r in C:\n",
    "   print(r)\n",
    "\n",
    "# C = B x A\n",
    "for i1 in range(len(B)): # rows of B\n",
    "    for j1 in range(len(A[0])): # columns of A\n",
    "        for k1 in range(len(A)): # rows of A\n",
    "            C1[i1][j1] += B[i1][k1] * A[k1][j1] \n",
    "print(\"(In C = B x A) Value of c23 is:\",C1[1][2]) # to read c23\n",
    "\n",
    "for r2 in C1:\n",
    "    print(r2)\n",
    "\n",
    "# okay numpy is great but... how would you inverse a matrix by hand?\n",
    "'''\n",
    "def inverse_matrix(A):\n",
    "    return \"\"\n",
    "'''\n",
    "print('\\n')\n",
    "def inverse_matrix(A):\n",
    "    return np.linalg.inv(A)\n",
    "print(\"Inverse of matrix A is:\\n\", inverse_matrix(A))"
   ]
  },
  {
   "cell_type": "markdown",
   "metadata": {},
   "source": [
    "![title](./img/3_1.png)\n",
    "Create a program that can output\n",
    "\n",
    "- What is the value of the ijth element if i = 2 and j=3?\n",
    "- What is the value of the ijth element if i = 3 and j=1?"
   ]
  },
  {
   "cell_type": "code",
   "execution_count": 6,
   "metadata": {},
   "outputs": [
    {
     "name": "stdout",
     "output_type": "stream",
     "text": [
      "[[ 6.000000e+00 -1.014160e+03  1.157849e+02 -9.300000e+01]\n",
      " [ 7.000000e-01 -3.000000e+00 -2.700000e+00  1.767000e+01]\n",
      " [ 5.700000e+00  0.000000e+00 -8.000000e+00  6.000000e-03]]\n",
      "Value of d23 is: -2.7\n",
      "Value of d31 is: 5.7\n"
     ]
    }
   ],
   "source": [
    "# Just answer using code --> easy stuff!\n",
    "\n",
    "A = np.array([[3,0.6,4,-3],[-1.3,4,0,8.6],[7,0,-8,0.006]])\n",
    "B = np.array([[3,-5.76,45,0],[2,-2,1.3,9],[-9,0,0,0]])\n",
    "C = np.array([[0,1009,-66.7849,90],[0,5,4,-0.07],[-7.7,0,0,0]])\n",
    "\n",
    "D = [[0,0,0,0],\n",
    "     [0,0,0,0],\n",
    "     [0,0,0,0]] # Dimensions 3x4\n",
    "\n",
    "D = A + B - C\n",
    "print(D)\n",
    "print(\"Value of d23 is:\",D[1][2]) # to read D[2][3]\n",
    "\n",
    "print(\"Value of d31 is:\",D[2][0]) # to read D[3][1]\n",
    "\n",
    "# Harder\n",
    "# Can you build a matrix solver that can do output the result given n matrices and a sequence of operations such as [add subtract multiply transpose?]\n",
    "#Some ideas on valid operations: Multiplication Addition Subtraction Inverstion Transposed. \n",
    "\n",
    "\n",
    "\n"
   ]
  },
  {
   "cell_type": "code",
   "execution_count": null,
   "metadata": {},
   "outputs": [],
   "source": [
    "# Harder\n",
    "# Can you build a matrix solver that can do output the result given n matrices and a sequence of operations such as [add subtract multiply transpose?]\n",
    "#Some ideas on valid operations: Multiplication Addition Subtraction Inverstion Transposed. \n",
    "\n"
   ]
  },
  {
   "cell_type": "markdown",
   "metadata": {},
   "source": [
    "![title](./img/3_3.png)\n",
    "Create a program that can output\n",
    "- How many rows will C have?\n",
    "- How many columns will C have?\n",
    "- What will be the value of c13​?"
   ]
  },
  {
   "cell_type": "code",
   "execution_count": 7,
   "metadata": {},
   "outputs": [
    {
     "name": "stdout",
     "output_type": "stream",
     "text": [
      "[[-102.80000000000001, 255.2, 595.6]]\n",
      "1\n",
      "3\n",
      "595.6\n"
     ]
    }
   ],
   "source": [
    "A = np.array([[0.6, -15, 2, 5, 98]])\n",
    "\n",
    "B = np.array([[2,2,-4],[9,-14,0],[13,-0.5,44],[1,9,4],[0,0,5]])\n",
    "\n",
    "C = [[0,0,0]]\n",
    "\n",
    "\n",
    "for i in range(len(A)): # rows of A\n",
    "    \n",
    "    for j in range(len(B[0])): # columns of B\n",
    "        \n",
    "        for k in range(len(B)): # rows of B\n",
    "            \n",
    "            C[i][j] += A[i][k] * B[k][j] \n",
    "\n",
    "\n",
    "print(C) # to read c23\n",
    "print(len(C)) # read rows\n",
    "print(len(C[0])) # read column\n",
    "print(C[0][2]) # read c13"
   ]
  }
 ],
 "metadata": {
  "interpreter": {
   "hash": "7016010205a98451d52b0c4cab227365108095c7ad70437c80600f3976844f69"
  },
  "kernelspec": {
   "display_name": "Python 3.9.4 64-bit ('strive': conda)",
   "name": "python3"
  },
  "language_info": {
   "codemirror_mode": {
    "name": "ipython",
    "version": 3
   },
   "file_extension": ".py",
   "mimetype": "text/x-python",
   "name": "python",
   "nbconvert_exporter": "python",
   "pygments_lexer": "ipython3",
   "version": "3.9.4"
  },
  "varInspector": {
   "cols": {
    "lenName": 16,
    "lenType": 16,
    "lenVar": 40
   },
   "kernels_config": {
    "python": {
     "delete_cmd_postfix": "",
     "delete_cmd_prefix": "del ",
     "library": "var_list.py",
     "varRefreshCmd": "print(var_dic_list())"
    },
    "r": {
     "delete_cmd_postfix": ") ",
     "delete_cmd_prefix": "rm(",
     "library": "var_list.r",
     "varRefreshCmd": "cat(var_dic_list()) "
    }
   },
   "types_to_exclude": [
    "module",
    "function",
    "builtin_function_or_method",
    "instance",
    "_Feature"
   ],
   "window_display": false
  }
 },
 "nbformat": 4,
 "nbformat_minor": 2
}
