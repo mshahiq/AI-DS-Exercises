{
 "cells": [
  {
   "cell_type": "markdown",
   "source": [
    "## Linear Algebra Quiz #1\r\n",
    "\r\n",
    "![title](./img/1_0.jpeg)\r\n",
    "\r\n",
    "We strongly suggest working with numpy :)"
   ],
   "metadata": {}
  },
  {
   "cell_type": "code",
   "execution_count": 41,
   "source": [
    "#Do your imports here\r\n",
    "import numpy as np"
   ],
   "outputs": [],
   "metadata": {}
  },
  {
   "cell_type": "markdown",
   "source": [
    "![title](./img/1_1.png)"
   ],
   "metadata": {}
  },
  {
   "cell_type": "code",
   "execution_count": 55,
   "source": [
    "# type a function that given a 3_dimensional vector it is able to calculate its magnitude\r\n",
    "\r\n",
    "# For 3D Vector\r\n",
    "\r\n",
    "def magnitude_3(a,b,c):\r\n",
    "    vector_3d = np.array([a,b,c])\r\n",
    "    return vector_3d\r\n",
    "\r\n",
    "result = magnitude_3(1,2,3)\r\n",
    "magnitude = np.linalg.norm(result)\r\n",
    "#print(magnitude).round(3)\r\n",
    "\r\n",
    "# For 1D Vector\r\n",
    "def magnitude_complete(a):\r\n",
    "    vector = np.array([a])\r\n",
    "    return vector\r\n",
    "d1 = magnitude_complete(1)\r\n",
    "result_magnitude1D = np.linalg.norm(d1)\r\n",
    "result_magnitude1D.round(3)\r\n",
    "\r\n",
    "\r\n",
    "# For 2D Vector\r\n",
    "def magnitude_complete(a,b):\r\n",
    "    vector = np.array([a,b])\r\n",
    "    return vector\r\n",
    "d2 = magnitude_complete(1,2)\r\n",
    "result_magnitude2D = np.linalg.norm(d2)\r\n",
    "result_magnitude2D.round(3)\r\n",
    "\r\n",
    "\r\n",
    "# For 4D Vector\r\n",
    "def magnitude_complete(a,b,c,d):\r\n",
    "    vector = np.array([a,b,c,d])\r\n",
    "    return vector\r\n",
    "d4 = magnitude_complete(1,2,3,4)\r\n",
    "result_magnitude4D = np.linalg.norm(d4)\r\n",
    "result_magnitude4D.round(3)\r\n",
    "\r\n",
    "# For 5D Vector\r\n",
    "def magnitude_complete(a,b,c,d,e):\r\n",
    "    vector = np.array([a,b,c,d,e])\r\n",
    "    return vector\r\n",
    "d5 = magnitude_complete(1,2,3,4,5)\r\n",
    "result_magnitude5D = np.linalg.norm(d5)\r\n",
    "result_magnitude5D.round(3)\r\n",
    "\r\n",
    "\r\n",
    "\r\n"
   ],
   "outputs": [
    {
     "output_type": "execute_result",
     "data": {
      "text/plain": [
       "7.416"
      ]
     },
     "metadata": {},
     "execution_count": 55
    }
   ],
   "metadata": {}
  },
  {
   "cell_type": "markdown",
   "source": [
    "uncomment the following line when you are ready to test"
   ],
   "metadata": {}
  },
  {
   "cell_type": "code",
   "execution_count": null,
   "source": [
    "assert magnitude_complete(1) == 1.0\r\n",
    "assert magnitude_complete(1,2) >= 2.236\r\n",
    "assert magnitude_complete(1,2,3) >= 3.741\r\n",
    "assert magnitude_complete(1,2,3,4,5) >= 5.477\r\n",
    "assert magnitude_complete(1,2,3,4,5) >= 7.416"
   ],
   "outputs": [],
   "metadata": {}
  },
  {
   "cell_type": "markdown",
   "source": [
    "![title](./img/1_2.png)"
   ],
   "metadata": {}
  },
  {
   "cell_type": "code",
   "execution_count": 61,
   "source": [
    "def magnitude_vectors(x, y):\r\n",
    "    #checks that size is equal\r\n",
    "    if x.size == y.size:\r\n",
    "        print(\"Size of x vector and y vector are same\")\r\n",
    "    else:\r\n",
    "        print(\"Size are not same\")\r\n",
    "    #returns the magnitude\r\n",
    "    pass\r\n",
    "x = np.array([5,1])\r\n",
    "y = np.array([-4,-1])\r\n",
    "magnitude_vectors(x,y)\r\n",
    "sum = x + y\r\n",
    "\r\n",
    "print(\"magnitude of x + y:\", np.linalg.norm(sum),\"i + 0 j\")\r\n",
    " "
   ],
   "outputs": [
    {
     "output_type": "stream",
     "name": "stdout",
     "text": [
      "Size of x vector and y vector are same\n",
      "magnitude of x + y: 1.0 i + 0 j\n"
     ]
    }
   ],
   "metadata": {}
  },
  {
   "cell_type": "markdown",
   "source": [
    "![title](./img/1_3.png)"
   ],
   "metadata": {}
  },
  {
   "cell_type": "code",
   "execution_count": 86,
   "source": [
    "def direction_vectors(x, y):\r\n",
    "    if x.size == y.size:           #checks that size is equal\r\n",
    "        print(\"Size of x vector and y vector are same\")\r\n",
    "    else:\r\n",
    "        print(\"Size are not same\")\r\n",
    "    pass\r\n",
    "\r\n",
    "x = np.array([5,1])\r\n",
    "y = np.array([-4,-1])\r\n",
    "direction_vectors (x,y)\r\n",
    "sum = x + y\r\n",
    "#print(sum)\r\n",
    "\r\n",
    "array = sum[0:]\r\n",
    "i = array [0] #locating the value of i  \r\n",
    "#print(i)\r\n",
    "\r\n",
    "j = array[1] #locating the value of j \r\n",
    "#print(j)\r\n",
    "\r\n",
    "magnitude = np.sqrt(i^2 + j^2) #print(magnitude)\r\n",
    "#print(magnitude)\r\n",
    "\r\n",
    "#returns the angle. Hint: use the arctan\r\n",
    "\r\n",
    "angle = np.arctan(j/i)\r\n",
    "#print(angle)\r\n",
    "\r\n",
    "print(\"The magnitude of x + y is\", magnitude, \"and the direction is\", angle.round(2), \"degrees\")"
   ],
   "outputs": [
    {
     "output_type": "stream",
     "name": "stdout",
     "text": [
      "Size of x vector and y vector are same\n",
      "The magnitude of x + y is 1.0 and the direction is 0.0 degrees\n"
     ]
    }
   ],
   "metadata": {}
  },
  {
   "cell_type": "markdown",
   "source": [
    "![title](./img/1_4.png)\r\n",
    "- What is the magnitude of αx⃗? \r\n",
    "- If α>0, will the direction of the resulting vector change?\r\n",
    "- If α<0, will the direction of the resulting vector change?\r\n",
    "- If −1<α<1, will ∥αx⃗∥  increase, decrease or stay the same?"
   ],
   "metadata": {}
  },
  {
   "cell_type": "code",
   "execution_count": 98,
   "source": [
    "def alpha_magnitude(alpha, v):\r\n",
    "    mult_vectors = alpha * v\r\n",
    "    return mult_vectors         #returns the resulting magnitude,\r\n",
    "v = np.array([3, 4])  # array declared as [3, 4]\r\n",
    "alpha = 2\r\n",
    "result = alpha_magnitude(alpha,v)    # alpha = 2\r\n",
    "#print(result)\r\n",
    "\r\n",
    "array = result[0:]\r\n",
    "i = array [0] #locating the value of i  \r\n",
    "#print(i)\r\n",
    "\r\n",
    "j = array[1] #locating the value of j \r\n",
    "#print(j)\r\n",
    "\r\n",
    "magnitude_alpha = np.sqrt(i**2 + j**2) \r\n",
    "\r\n",
    "print(magnitude_alpha)   #print(magnitude)\r\n",
    "\r\n",
    "    # as alternative, just print it\r\n",
    "\r\n",
    "\r\n",
    "\r\n"
   ],
   "outputs": [
    {
     "output_type": "stream",
     "name": "stdout",
     "text": [
      "10.0\n"
     ]
    }
   ],
   "metadata": {}
  },
  {
   "cell_type": "markdown",
   "source": [
    "For the above exercise, write down in markdown or in a comment if the direction has changed and what has happened to the vector."
   ],
   "metadata": {}
  },
  {
   "cell_type": "code",
   "execution_count": null,
   "source": [
    "'''\r\n",
    ">>If α>0, will the direction of the resulting vector change?\r\n",
    "# Ans: No, it will remain the same.\r\n",
    ">>If α<0, will the direction of the resulting vector change?\r\n",
    "# Ans: yes, if the vectors moves, it will change its direction also\r\n",
    ">>If −1<α<1, will ∥αx⃗∥  increase, decrease or stay the same?\r\n",
    "# Ans: the magnitude will always remain the same, provided that the alpha remains between -1 and 1. \r\n",
    "'''"
   ],
   "outputs": [],
   "metadata": {}
  }
 ],
 "metadata": {
  "kernelspec": {
   "name": "python3",
   "display_name": "Python 3.9.4 64-bit ('strive': conda)"
  },
  "language_info": {
   "codemirror_mode": {
    "name": "ipython",
    "version": 3
   },
   "file_extension": ".py",
   "mimetype": "text/x-python",
   "name": "python",
   "nbconvert_exporter": "python",
   "pygments_lexer": "ipython3",
   "version": "3.9.4"
  },
  "varInspector": {
   "cols": {
    "lenName": 16,
    "lenType": 16,
    "lenVar": 40
   },
   "kernels_config": {
    "python": {
     "delete_cmd_postfix": "",
     "delete_cmd_prefix": "del ",
     "library": "var_list.py",
     "varRefreshCmd": "print(var_dic_list())"
    },
    "r": {
     "delete_cmd_postfix": ") ",
     "delete_cmd_prefix": "rm(",
     "library": "var_list.r",
     "varRefreshCmd": "cat(var_dic_list()) "
    }
   },
   "types_to_exclude": [
    "module",
    "function",
    "builtin_function_or_method",
    "instance",
    "_Feature"
   ],
   "window_display": false
  },
  "interpreter": {
   "hash": "7016010205a98451d52b0c4cab227365108095c7ad70437c80600f3976844f69"
  }
 },
 "nbformat": 4,
 "nbformat_minor": 2
}