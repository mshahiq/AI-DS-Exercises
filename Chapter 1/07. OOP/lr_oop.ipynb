{
 "cells": [
  {
   "cell_type": "markdown",
   "metadata": {},
   "source": [
    "# Inheritance with ML"
   ]
  },
  {
   "cell_type": "markdown",
   "metadata": {},
   "source": [
    " We introuduced the concept of OOP in python and how it can be used to create a class.  We will also discuss how to create a class and how to use the class using inheritance.\n",
    " We will work just using Numpy to create a machine learning technique: **Linear Regression.**"
   ]
  },
  {
   "cell_type": "code",
   "execution_count": 1,
   "metadata": {},
   "outputs": [],
   "source": [
    "import numpy as np"
   ]
  },
  {
   "cell_type": "markdown",
   "metadata": {},
   "source": [
    "A very simple class *MyLinearRegression* that implements the linear regression."
   ]
  },
  {
   "cell_type": "markdown",
   "metadata": {},
   "source": [
    "You have to implement the following inside the class in **__init__ method.**\n",
    "arguments:\\\n",
    "\n",
    "**fit_intercept**:  boolean, optional, default True, specifies if a constant (a.k.a. bias or intercept) should be\n",
    "                    added to the decision function.\n",
    "\n",
    "Attributes:\n",
    "**coefficients**:   with a value of None: array of shape (n_features), are the estimated coefficients for the linear regression problem.\n",
    "\n",
    "**intercept**:      with a value of None: float, is the estimated intercept (a.k.a. bias) for the linear regression problem.\n",
    "\n",
    "finally you have to call the **fit_intercept** attribute as a *private attribute*. i.e. this is a attribute that is not accessible outside the class to the user of the class."
   ]
  },
  {
   "cell_type": "code",
   "execution_count": 2,
   "metadata": {},
   "outputs": [],
   "source": [
    "class MyLinearRegression:\n",
    "    \n",
    "    def __init__(self, fit_intercept=True):\n",
    "        \n",
    "        self.coefficients = None\n",
    "        self.intercept = None\n",
    "\n",
    "        self.fit_intercept = fit_intercept"
   ]
  },
  {
   "cell_type": "markdown",
   "metadata": {},
   "source": [
    "#### Create an instance and check attributes"
   ]
  },
  {
   "cell_type": "markdown",
   "metadata": {},
   "source": []
  },
  {
   "cell_type": "code",
   "execution_count": 3,
   "metadata": {},
   "outputs": [
    {
     "name": "stdout",
     "output_type": "stream",
     "text": [
      "<__main__.MyLinearRegression object at 0x0000017CFEC4E6D0>\n"
     ]
    }
   ],
   "source": [
    "instance = MyLinearRegression()\n",
    "print(instance)"
   ]
  },
  {
   "cell_type": "markdown",
   "metadata": {},
   "source": [
    "#### Built-in description method\n",
    "We can add a special built-in method __str__ to create a short description string which returns the string \" I am a linear regression model\""
   ]
  },
  {
   "cell_type": "code",
   "execution_count": 4,
   "metadata": {},
   "outputs": [],
   "source": [
    "class MyLinearRegression:\n",
    "    \n",
    "    def __init__(self, fit_intercept=True):\n",
    "        \n",
    "        self.coefficients = None\n",
    "        self.intercept = None\n",
    "\n",
    "        self.fit_intercept = fit_intercept\n",
    "        \n",
    "        # y = mx + c \n",
    "\n",
    "    def __str__(self):\n",
    "        return f\"I am a linear regression model\""
   ]
  },
  {
   "cell_type": "markdown",
   "metadata": {},
   "source": [
    "Now that you have created the class, test if the instance you create returns the string \" I am a linear regression model\" by running the following code."
   ]
  },
  {
   "cell_type": "code",
   "execution_count": 5,
   "metadata": {},
   "outputs": [
    {
     "name": "stdout",
     "output_type": "stream",
     "text": [
      "I am a linear regression model\n"
     ]
    }
   ],
   "source": [
    "regression = MyLinearRegression()\n",
    "\n",
    "print(regression)"
   ]
  },
  {
   "cell_type": "markdown",
   "metadata": {},
   "source": [
    "#### Adding the fit method\n",
    "Now, we can add the core fitting method called fit. This uses linear algebra routines from NumPy to solve a linear regression (single or multi-variate) problem."
   ]
  },
  {
   "cell_type": "code",
   "execution_count": 6,
   "metadata": {},
   "outputs": [],
   "source": [
    "class MyLinearRegression:\n",
    "    \n",
    "    def __init__(self, fit_intercept=True):\n",
    "        self.coefficients = None\n",
    "        self.intercept = None\n",
    "\n",
    "        self.fit_intercept = fit_intercept\n",
    "        \n",
    "        # y = mx + c \n",
    "    \n",
    "    def __str__(self):\n",
    "        return f\"I am a linear regression model\"\n",
    "    \n",
    "    def fit(self, X, y):\n",
    "        \"\"\"\n",
    "        Fit model coefficients.\n",
    "\n",
    "        Arguments:\n",
    "        X: 1D or 2D numpy array \n",
    "        y: 1D numpy array\n",
    "        \"\"\"\n",
    "        \n",
    "        # check if X is 1D or 2D array\n",
    "        \n",
    "        #your code here\n",
    "\n",
    "        if len(X.shape) == 1:               \n",
    "            X = X.reshape(-1,1) \n",
    "\n",
    "        \n",
    "            \n",
    "        # adding bias if fit_intercept is True\n",
    "        if self.fit_intercept:\n",
    "            X_biased = np.c_[np.ones(X.shape[0]), X]#\n",
    "        else:\n",
    "            X_biased = X\n",
    "        \n",
    "        \n",
    "        # closed form solution, i will give you the code for now\n",
    "        \n",
    "        \n",
    "        xTx = np.dot(X_biased.T, X_biased)\n",
    "        inverse_xTx = np.linalg.inv(xTx)\n",
    "        xTy = np.dot(X_biased.T, y)\n",
    "        coef = np.dot(inverse_xTx, xTy)\n",
    "        \n",
    "        # set attributes from the init function\n",
    "        if self.fit_intercept:\n",
    "            #pass  # delete the pass statement\n",
    "            # intercept attribute\n",
    "            self.intercept = coef[0]\n",
    "            \n",
    "            # coef attribute\n",
    "            self.coefficients = coef[1:]\n",
    "        else:\n",
    "            #pass  # delete the pass statement\n",
    "            # intercept attribute\n",
    "            self.intercept= 0\n",
    "            \n",
    "            # coef attribute\n",
    "            self.coefficients = coef\n",
    "            "
   ]
  },
  {
   "cell_type": "markdown",
   "metadata": {},
   "source": [
    "Generate some random data for test"
   ]
  },
  {
   "cell_type": "code",
   "execution_count": 7,
   "metadata": {},
   "outputs": [],
   "source": [
    "X = 10*np.random.random(size=(20,2))\n",
    "y = 3.5*X.T[0]-1.2*X.T[1]+2*np.random.randn(20)"
   ]
  },
  {
   "cell_type": "code",
   "execution_count": 8,
   "metadata": {},
   "outputs": [],
   "source": [
    "import matplotlib.pyplot as plt"
   ]
  },
  {
   "cell_type": "code",
   "execution_count": 9,
   "metadata": {},
   "outputs": [
    {
     "data": {
      "image/png": "[encoded data removed]",
      "text/plain": [
       "<Figure size 720x216 with 2 Axes>"
      ]
     },
     "metadata": {
      "needs_background": "light"
     },
     "output_type": "display_data"
    }
   ],
   "source": [
    "fig, ax = plt.subplots(1,2,figsize=(10,3))\n",
    "\n",
    "ax[0].scatter(X.T[0],y)\n",
    "ax[0].set_title(\"Output vs. first feature\")\n",
    "ax[0].grid(True)\n",
    "ax[1].scatter(X.T[1],y)\n",
    "ax[1].set_title(\"Output vs. second feature\")\n",
    "ax[1].grid(True)\n",
    "fig.tight_layout()\n",
    "plt.show()"
   ]
  },
  {
   "cell_type": "markdown",
   "metadata": {},
   "source": [
    "Instantiate a new MyLinearRegression object and fit the data"
   ]
  },
  {
   "cell_type": "code",
   "execution_count": 10,
   "metadata": {},
   "outputs": [],
   "source": [
    "# instantiate \n",
    "lr = MyLinearRegression()"
   ]
  },
  {
   "cell_type": "code",
   "execution_count": 11,
   "metadata": {},
   "outputs": [],
   "source": [
    "#fit the data\n",
    "lr.fit(X,y)"
   ]
  },
  {
   "cell_type": "code",
   "execution_count": 12,
   "metadata": {},
   "outputs": [
    {
     "data": {
      "text/plain": [
       "array([ 3.32312659, -1.08139999])"
      ]
     },
     "execution_count": 12,
     "metadata": {},
     "output_type": "execute_result"
    }
   ],
   "source": [
    "# print the coefficients\n",
    "lr.coefficients"
   ]
  },
  {
   "cell_type": "code",
   "execution_count": 13,
   "metadata": {},
   "outputs": [
    {
     "data": {
      "text/plain": [
       "-0.05067448528549434"
      ]
     },
     "execution_count": 13,
     "metadata": {},
     "output_type": "execute_result"
    }
   ],
   "source": [
    "# print the intercept\n",
    "lr.intercept"
   ]
  },
  {
   "cell_type": "markdown",
   "metadata": {},
   "source": [
    "\n",
    "Comparison of ground truth and fitted values\n",
    "Woudn't it be nice to compare the ground truth with the predictions and see how closely they fit"
   ]
  },
  {
   "cell_type": "code",
   "execution_count": 15,
   "metadata": {},
   "outputs": [],
   "source": [
    "#unccomment the following line to see the plot\n",
    "coef_ = lr.coefficients  # replace mlr with your instance\n",
    "y_pred = np.dot(X,coef_)+lr.intercept  # replace mlr with your instance"
   ]
  },
  {
   "cell_type": "code",
   "execution_count": 16,
   "metadata": {},
   "outputs": [
    {
     "data": {
      "image/png": "[encoded data removed]",
      "text/plain": [
       "<Figure size 432x288 with 1 Axes>"
      ]
     },
     "metadata": {
      "needs_background": "light"
     },
     "output_type": "display_data"
    }
   ],
   "source": [
    "##uncomment the following to see the plot\n",
    "plt.scatter(y,y_pred,s=100,alpha=0.75,color='red',edgecolor='k')\n",
    "plt.plot(y,y,c='k',linestyle='dotted')\n",
    "plt.grid(True)\n",
    "plt.show()"
   ]
  },
  {
   "cell_type": "markdown",
   "metadata": {},
   "source": [
    "\n",
    "**Encapsulation**\n",
    "But we don't want to write stand-alone code. Can we encapsulate the code inside the class?"
   ]
  },
  {
   "cell_type": "code",
   "execution_count": 17,
   "metadata": {},
   "outputs": [],
   "source": [
    "class MyLinearRegression:\n",
    "    \n",
    "    def __init__(self, fit_intercept=True):\n",
    "        self.coefficients = None\n",
    "        self.intercept = None\n",
    "\n",
    "        self.fit_intercept = fit_intercept\n",
    "        \n",
    "        # y = mx + c \n",
    "    \n",
    "    def __str__(self):\n",
    "        return f\"I am a linear regression model\"\n",
    "    \n",
    "    def fit(self, X, y):\n",
    "        \"\"\"\n",
    "        Fit model coefficients.\n",
    "\n",
    "        Arguments:\n",
    "        X: 1D or 2D numpy array \n",
    "        y: 1D numpy array\n",
    "        \"\"\"\n",
    "        \n",
    "        # check if X is 1D or 2D array\n",
    "        \n",
    "        #your code here\n",
    "\n",
    "        if len(X.shape) == 1:               \n",
    "            X = X.reshape(-1,1) \n",
    "           \n",
    "        # adding bias if fit_intercept is True\n",
    "        if self.fit_intercept:\n",
    "            X_biased = np.c_[np.ones(X.shape[0]), X]#\n",
    "        else:\n",
    "            X_biased = X\n",
    "        \n",
    "        # closed form solution, i will give you the code for now\n",
    "        \n",
    "        xTx = np.dot(X_biased.T, X_biased)\n",
    "        inverse_xTx = np.linalg.inv(xTx)\n",
    "        xTy = np.dot(X_biased.T, y)\n",
    "        coef = np.dot(inverse_xTx, xTy)\n",
    "        \n",
    "        # set attributes from the init function\n",
    "        if self.fit_intercept:\n",
    "            #pass  # delete the pass statement\n",
    "            # intercept attribute\n",
    "            self.intercept = coef[0]\n",
    "            \n",
    "            # coef attribute\n",
    "            self.coefficients = coef[1:]\n",
    "        else:\n",
    "            #pass  # delete the pass statement\n",
    "            # intercept attribute\n",
    "            self.intercept= 0\n",
    "            \n",
    "            # coef attribute\n",
    "            self.coefficients = coef\n",
    "\n",
    "        # add the fitted values to the instance, i.e the predicted values seen earlier\n",
    "\n",
    "        # the y_pred formulat and assign it to self.fitted \n",
    "\n",
    "        self.fitted = np.dot(X,coef_)+lr.intercept\n",
    "    \n",
    "    # create a method to plot the data and the fitted line\n",
    "    def plot_fitted(self,reference_line=False):\n",
    "        \"\"\"\n",
    "        Plots fitted values against the true output values from the data\n",
    "        \n",
    "        Arguments:\n",
    "        reference_line: A Boolean switch to draw a 45-degree reference line on the plot\n",
    "        \"\"\"\n",
    "        \n",
    "        # title of the plot\n",
    "        plt.title(\"Fitted values against True values\")\n",
    "        \n",
    "        # plot the data scatter graph\n",
    "        #plt.scatter(y,self.fitted_)\n",
    "        plt.scatter(y,self.fitted,s=100,alpha=0.75,color='red',edgecolor='k')\n",
    "                \n",
    "        # plot the reference line if required\n",
    "        if reference_line:\n",
    "            #pass # delete the pass statement\n",
    "            plt.plot(y,y,c='k')\n",
    "        # set the x and y labels of the plot \n",
    "        plt.xlabel(\"True Values\")\n",
    "        plt.ylabel(\"Fitted Values\")\n",
    "        \n",
    "        # show the plot\n",
    "        plt.grid(True)\n",
    "        plt.show()"
   ]
  },
  {
   "cell_type": "markdown",
   "metadata": {},
   "source": [
    "#### Demo the new plot_fitted method\n",
    "Now the MyLinearRegression class has the ability (aka methods) to both fit the data and visualize the fitted/true output values in a plot"
   ]
  },
  {
   "cell_type": "code",
   "execution_count": 18,
   "metadata": {},
   "outputs": [],
   "source": [
    "# A fresh instance\n",
    "fresh = MyLinearRegression()\n",
    "# Fitting with the data\n",
    "\n",
    "fresh.fit(X,y)"
   ]
  },
  {
   "cell_type": "code",
   "execution_count": 19,
   "metadata": {},
   "outputs": [
    {
     "data": {
      "image/png": "[encoded data removed]",
      "text/plain": [
       "<Figure size 432x288 with 1 Axes>"
      ]
     },
     "metadata": {
      "needs_background": "light"
     },
     "output_type": "display_data"
    }
   ],
   "source": [
    "# Call the 'plot_fitted' method\n",
    "fresh.plot_fitted()"
   ]
  },
  {
   "cell_type": "code",
   "execution_count": 20,
   "metadata": {},
   "outputs": [
    {
     "data": {
      "image/png": "[encoded data removed]",
      "text/plain": [
       "<Figure size 432x288 with 1 Axes>"
      ]
     },
     "metadata": {
      "needs_background": "light"
     },
     "output_type": "display_data"
    }
   ],
   "source": [
    "# We can pass on a switch 'reference_line' to draw a 45-degree reference line on the plot\n",
    "fresh.plot_fitted(reference_line=True)"
   ]
  },
  {
   "cell_type": "markdown",
   "metadata": {},
   "source": [
    "##  Adding a predict method\n",
    "Now, we want to extend the functionality and add a predict method to enable the class to predict for any arbitrary new dataset"
   ]
  },
  {
   "cell_type": "markdown",
   "metadata": {},
   "source": [
    "#### Re-write the class and add the predict method provide below replacing the intercept and coefficient values with those specified in your class"
   ]
  },
  {
   "cell_type": "markdown",
   "metadata": {},
   "source": [
    "def predict(self, X):\n",
    "        \"\"\"Output model prediction.\n",
    "\n",
    "        Arguments:\n",
    "        X: 1D or 2D numpy array\n",
    "        \"\"\"\n",
    "        # check if X is 1D or 2D array\n",
    "        if len(X.shape) == 1:\n",
    "            X = X.reshape(-1,1)\n",
    "        self.predicted_ = self.intercept_ + np.dot(X, self.coef_)  #change attr here\n",
    "        \n",
    "        return self.predicted_"
   ]
  },
  {
   "cell_type": "code",
   "execution_count": 21,
   "metadata": {},
   "outputs": [],
   "source": [
    "class MyLinearRegression:\n",
    "    \n",
    "    def __init__(self, fit_intercept=True):\n",
    "        self.coefficients = None\n",
    "        self.intercept = None\n",
    "\n",
    "        self.fit_intercept = fit_intercept\n",
    "        \n",
    "        # y = mx + c \n",
    "    \n",
    "    def __str__(self):\n",
    "        return f\"I am a linear regression model\"\n",
    "    \n",
    "    def fit(self, X, y):\n",
    "        \"\"\"\n",
    "        Fit model coefficients.\n",
    "\n",
    "        Arguments:\n",
    "        X: 1D or 2D numpy array \n",
    "        y: 1D numpy array\n",
    "        \"\"\"\n",
    "        \n",
    "        # check if X is 1D or 2D array\n",
    "        \n",
    "        #your code here\n",
    "\n",
    "        if len(X.shape) == 1:               \n",
    "            X = X.reshape(-1,1) \n",
    "           \n",
    "        # adding bias if fit_intercept is True\n",
    "        if self.fit_intercept:\n",
    "            X_biased = np.c_[np.ones(X.shape[0]), X]#\n",
    "        else:\n",
    "            X_biased = X\n",
    "        \n",
    "        # closed form solution, i will give you the code for now\n",
    "        \n",
    "        xTx = np.dot(X_biased.T, X_biased)\n",
    "        inverse_xTx = np.linalg.inv(xTx)\n",
    "        xTy = np.dot(X_biased.T, y)\n",
    "        coef = np.dot(inverse_xTx, xTy)\n",
    "        \n",
    "        # set attributes from the init function\n",
    "        if self.fit_intercept:\n",
    "            #pass  # delete the pass statement\n",
    "            # intercept attribute\n",
    "            self.intercept = coef[0]\n",
    "            \n",
    "            # coef attribute\n",
    "            self.coefficients = coef[1:]\n",
    "        else:\n",
    "            #pass  # delete the pass statement\n",
    "            # intercept attribute\n",
    "            self.intercept= 0\n",
    "            \n",
    "            # coef attribute\n",
    "            self.coefficients = coef\n",
    "\n",
    "        # add the fitted values to the instance, i.e the predicted values seen earlier\n",
    "\n",
    "        # the y_pred formulat and assign it to self.fitted \n",
    "\n",
    "        \n",
    "    \n",
    "    # create a method to plot the data and the fitted line\n",
    "    def plot_fitted(self,reference_line=False):\n",
    "        \"\"\"\n",
    "        Plots fitted values against the true output values from the data\n",
    "        \n",
    "        Arguments:\n",
    "        reference_line: A Boolean switch to draw a 45-degree reference line on the plot\n",
    "        \"\"\"\n",
    "        \n",
    "        # title of the plot\n",
    "        plt.title(\"Plots fitted values against the true output values from the data\")\n",
    "        \n",
    "        # plot the data scatter graph\n",
    "        #plt.scatter(y,self.fitted_)\n",
    "        plt.scatter(y,y_pred,s=100,alpha=0.75,color='red',edgecolor='k')\n",
    "                \n",
    "        # plot the reference line if required\n",
    "        if reference_line:\n",
    "            #pass # delete the pass statement\n",
    "            plt.plot(y,y,c='k')\n",
    "        # set the x and y labels of the plot \n",
    "        plt.xlabel(\"True Values\")\n",
    "        plt.ylabel(\"Fitted Values\")\n",
    "        \n",
    "        # show the plot\n",
    "        plt.grid(True)\n",
    "        plt.show()\n",
    "\n",
    "\n",
    "\n",
    "def predict(self, X):\n",
    "        \"\"\"Output model prediction.\n",
    "\n",
    "        Arguments:\n",
    "        X: 1D or 2D numpy array\n",
    "        \"\"\"\n",
    "        # check if X is 1D or 2D array\n",
    "        if len(X.shape) == 1:\n",
    "            X = X.reshape(-1,1)\n",
    "        self.predicted_ = self.intercept_ + np.dot(X, self.coef_)  #change attr here\n",
    "        \n",
    "        return self.predicted_"
   ]
  },
  {
   "cell_type": "markdown",
   "metadata": {},
   "source": [
    "### Metrics class\n",
    "We could have added a whole bunch of methods directly into the MyLinearRegression class. But, instead, we will show the power of inheritance and define a separate class Metrics for computing common metrics of a regression model."
   ]
  },
  {
   "cell_type": "markdown",
   "metadata": {},
   "source": [
    "Note, this class has no __init__ method because we will never instantiate an object using this class. Rather, we will sort of absorb this class into the MyLinearRegression class."
   ]
  },
  {
   "cell_type": "markdown",
   "metadata": {},
   "source": [
    "def sse(self):\n",
    "        '''returns sum of squared errors (model vs actual)'''\n",
    "        squared_errors = (self.resid_) ** 2\n",
    "        self.sq_error_ = np.sum(squared_errors)\n",
    "        return self.sq_error_\n",
    "        \n",
    "    def sst(self):\n",
    "        '''returns total sum of squared errors (actual vs avg(actual))'''\n",
    "        avg_y = np.mean(self.y)\n",
    "        squared_errors = (self.y - avg_y) ** 2\n",
    "        self.sst_ = np.sum(squared_errors)\n",
    "        return self.sst_\n",
    "    \n",
    "    def r_squared(self):\n",
    "        '''returns calculated value of r^2'''\n",
    "        self.r_sq_ = 1 - self.sse()/self.sst()\n",
    "        return self.r_sq_\n",
    "\n",
    "    \n",
    "    def mse(self):\n",
    "        '''returns calculated value of mse'''\n",
    "        self.mse_ = np.mean( (self.predict(self.X) - self.y) ** 2 )\n",
    "        return self.mse_\n",
    "    \n",
    "    def pretty_print_stats(self):\n",
    "        '''returns report of statistics for a given model object'''\n",
    "        items = ( ('sse:', self.sse()), ('sst:', self.sst()), \n",
    "                 ('mse:', self.mse()), ('r^2:', self.r_squared()), \n",
    "                  )\n",
    "        for item in items:\n",
    "            print('{0:8} {1:.4f}'.format(item[0], item[1]))"
   ]
  },
  {
   "cell_type": "markdown",
   "metadata": {},
   "source": [
    "Use the above functions and wrap in a class called Metrics."
   ]
  },
  {
   "cell_type": "code",
   "execution_count": 22,
   "metadata": {},
   "outputs": [],
   "source": [
    "class Metrics:\n",
    "    def sse(self):\n",
    "        '''returns sum of squared errors (model vs actual)'''\n",
    "        squared_errors = (self.resid_) ** 2\n",
    "        self.sq_error_ = np.sum(squared_errors)\n",
    "        return self.sq_error_\n",
    "        \n",
    "    def sst(self):\n",
    "        '''returns total sum of squared errors (actual vs avg(actual))'''\n",
    "        avg_y = np.mean(self.target_)\n",
    "        squared_errors = (self.target_ - avg_y) ** 2\n",
    "        self.sst_ = np.sum(squared_errors)\n",
    "        return self.sst_\n",
    "    \n",
    "    def r_squared(self):\n",
    "        '''returns calculated value of r^2'''\n",
    "        self.r_sq_ = 1 - self.sse()/self.sst()\n",
    "        return self.r_sq_\n",
    "\n",
    "    \n",
    "    def mse(self):\n",
    "        '''returns calculated value of mse'''\n",
    "        self.mse_ = np.mean( (self.predict(self.features_) - self.target_) ** 2 )\n",
    "        return self.mse_\n",
    "    \n",
    "    def pretty_print_stats(self):\n",
    "        '''returns report of statistics for a given model object'''\n",
    "        items = ( ('sse:', self.sse()), ('sst:', self.sst()), \n",
    "                 ('mse:', self.mse()), ('r^2:', self.r_squared()), \n",
    "                  )\n",
    "        for item in items:\n",
    "            print('{0:8} {1:.4f}'.format(item[0], item[1]))"
   ]
  },
  {
   "cell_type": "markdown",
   "metadata": {},
   "source": [
    "#### Class with inheritance\n",
    "Now we inherit the Metrics class in the MyLinearRegression class by passing on Metrics in the very defination of the MyLinearRegression class.\n",
    "\n",
    "We also need to add a new attribute - resid_. These are the residuals (the difference between the fitted values and true target_/output values), which are used by the methods in the Metrics perform the necessary computations.\n",
    "\n",
    "Add the attribute resid_ to the MyLinearRegression class after the fitted attribute that we had added earlier."
   ]
  },
  {
   "cell_type": "code",
   "execution_count": 23,
   "metadata": {},
   "outputs": [],
   "source": [
    "# inherited class here\n",
    "class MyLinearRegression(Metrics):\n",
    "    \n",
    "    def __init__(self, fit_intercept=True):\n",
    "        self.coefficients = None\n",
    "        self.intercept = None\n",
    "\n",
    "        self.fit_intercept = fit_intercept\n",
    "        \n",
    "        # y = mx + c \n",
    "    \n",
    "    def __str__(self):\n",
    "        return f\"I am a linear regression model\"\n",
    "    \n",
    "    def fit(self, X, y):\n",
    "        \"\"\"\n",
    "        Fit model coefficients.\n",
    "\n",
    "        Arguments:\n",
    "        X: 1D or 2D numpy array \n",
    "        y: 1D numpy array\n",
    "        \"\"\"\n",
    "        \n",
    "        # check if X is 1D or 2D array\n",
    "        \n",
    "        #your code here\n",
    "\n",
    "        if len(X.shape) == 1:               \n",
    "            X = X.reshape(-1,1) \n",
    "           \n",
    "        # adding bias if fit_intercept is True\n",
    "        if self.fit_intercept:\n",
    "            X_biased = np.c_[np.ones(X.shape[0]), X]#\n",
    "        else:\n",
    "            X_biased = X\n",
    "        \n",
    "        # closed form solution, i will give you the code for now\n",
    "        \n",
    "        xTx = np.dot(X_biased.T, X_biased)\n",
    "        inverse_xTx = np.linalg.inv(xTx)\n",
    "        xTy = np.dot(X_biased.T, y)\n",
    "        coef = np.dot(inverse_xTx, xTy)\n",
    "        \n",
    "        # set attributes from the init function\n",
    "        if self.fit_intercept:\n",
    "            #pass  # delete the pass statement\n",
    "            # intercept attribute\n",
    "            self.intercept = coef[0]\n",
    "            \n",
    "            # coef attribute\n",
    "            self.coefficients = coef[1:]\n",
    "        else:\n",
    "            #pass  # delete the pass statement\n",
    "            # intercept attribute\n",
    "            self.intercept= 0\n",
    "            \n",
    "            # coef attribute\n",
    "            self.coefficients = coef\n",
    "\n",
    "        # add the fitted values to the instance, i.e the predicted values seen earlier\n",
    "\n",
    "        # the y_pred formulat and assign it to self.fitted \n",
    "\n",
    "        self.features_ = X\n",
    "        self.target_ = y\n",
    "\n",
    "        residual = self.target_ - y_pred\n",
    "        self.resid_ = residual\n",
    "\n",
    "    def plot_fitted(self,reference_line=False):\n",
    "        \"\"\"\n",
    "        Plots fitted values against the true output values from the data\n",
    "        \n",
    "        Arguments:\n",
    "        reference_line: A Boolean switch to draw a 45-degree reference line on the plot\n",
    "        \"\"\"\n",
    "        \n",
    "        # title of the plot\n",
    "        plt.title(\"Plots fitted values against the true output values from the data\")\n",
    "        \n",
    "        # plot the data scatter graph\n",
    "        #plt.scatter(y,self.fitted_)\n",
    "        plt.scatter(y,y_pred,s=100,alpha=0.75,color='red',edgecolor='k')\n",
    "                \n",
    "        # plot the reference line if required\n",
    "        if reference_line:\n",
    "            #pass # delete the pass statement\n",
    "            plt.plot(y,y,c='k')\n",
    "        # set the x and y labels of the plot \n",
    "        plt.xlabel(\"True Values\")\n",
    "        plt.ylabel(\"Fitted Values\")\n",
    "        \n",
    "        # show the plot\n",
    "        plt.grid(True)\n",
    "        plt.show()\n",
    "\n",
    "\n",
    "    def predict(self, X):\n",
    "            \"\"\"Output model prediction.\n",
    "\n",
    "            Arguments:\n",
    "            X: 1D or 2D numpy array\n",
    "            \"\"\"\n",
    "            # check if X is 1D or 2D array\n",
    "            if len(X.shape) == 1:\n",
    "                X = X.reshape(-1,1)\n",
    "            self.predicted_ = self.intercept + np.dot(X, self.coefficients)  #change attr here\n",
    "            \n",
    "            return self.predicted_"
   ]
  },
  {
   "cell_type": "code",
   "execution_count": 24,
   "metadata": {},
   "outputs": [],
   "source": [
    "#Demo the newly acquired power of MyLinearRegression - the metrics\n",
    "\n",
    "# create an instance of MyLinearRegression\n",
    "metLR = MyLinearRegression(Metrics)\n",
    "# fit the data\n",
    "metLR.fit(X,y)"
   ]
  },
  {
   "cell_type": "code",
   "execution_count": 25,
   "metadata": {},
   "outputs": [
    {
     "data": {
      "text/plain": [
       "51.25962961960412"
      ]
     },
     "execution_count": 25,
     "metadata": {},
     "output_type": "execute_result"
    }
   ],
   "source": [
    "# call sse() method\n",
    "metLR.sse()\n"
   ]
  },
  {
   "cell_type": "code",
   "execution_count": 26,
   "metadata": {},
   "outputs": [
    {
     "data": {
      "text/plain": [
       "2.562981480980206"
      ]
     },
     "execution_count": 26,
     "metadata": {},
     "output_type": "execute_result"
    }
   ],
   "source": [
    "# call mse() method\n",
    "metLR.mse()"
   ]
  },
  {
   "cell_type": "code",
   "execution_count": 27,
   "metadata": {},
   "outputs": [
    {
     "name": "stdout",
     "output_type": "stream",
     "text": [
      "sse:     51.2596\n",
      "sst:     2826.1783\n",
      "mse:     2.5630\n",
      "r^2:     0.9819\n"
     ]
    }
   ],
   "source": [
    "# call pretty_print() method\n",
    "metLR.pretty_print_stats()"
   ]
  },
  {
   "cell_type": "code",
   "execution_count": null,
   "metadata": {},
   "outputs": [],
   "source": []
  },
  {
   "cell_type": "markdown",
   "metadata": {},
   "source": [
    "You have successfully completed the following:\n",
    "- Created a class called MyLinearRegression\n",
    "- Created a class called Metrics\n",
    "- Inherited the Metrics class in the MyLinearRegression class"
   ]
  }
 ],
 "metadata": {
  "interpreter": {
   "hash": "fe4e7c1bf9679d3b908f4d796b2c3e442580d4c9734557cf87ddce7613d77533"
  },
  "kernelspec": {
   "display_name": "Python 3.8.5 64-bit ('base': conda)",
   "language": "python",
   "name": "python3"
  },
  "language_info": {
   "codemirror_mode": {
    "name": "ipython",
    "version": 3
   },
   "file_extension": ".py",
   "mimetype": "text/x-python",
   "name": "python",
   "nbconvert_exporter": "python",
   "pygments_lexer": "ipython3",
   "version": "3.9.7"
  },
  "orig_nbformat": 4
 },
 "nbformat": 4,
 "nbformat_minor": 2
}
