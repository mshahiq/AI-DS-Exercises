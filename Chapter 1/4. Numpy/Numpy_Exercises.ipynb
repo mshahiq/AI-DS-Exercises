{
 "cells": [
  {
   "cell_type": "markdown",
   "source": [
    "## Remember that the solutions need to be saved int variable provided."
   ],
   "metadata": {}
  },
  {
   "cell_type": "code",
   "execution_count": 1,
   "source": [
    "# Import the needed libraries\r\n",
    "import numpy as np"
   ],
   "outputs": [],
   "metadata": {}
  },
  {
   "cell_type": "markdown",
   "source": [
    "**13. Create a 10x10 array with random values and find the minimum and maximum values**"
   ],
   "metadata": {
    "deletable": false,
    "editable": false,
    "nbgrader": {
     "cell_type": "markdown",
     "checksum": "1a39df2a0ee2ece9e42fc92195613df8",
     "grade": false,
     "grade_id": "cell-ae105ff48d81e52c",
     "locked": true,
     "schema_version": 3,
     "solution": false,
     "task": false
    }
   }
  },
  {
   "cell_type": "code",
   "execution_count": 3,
   "source": [
    "# 1 point\r\n",
    "sol1 = 0\r\n",
    "# YOUR CODE HERE\r\n",
    "arr = np.random.uniform(size=(10,10))\r\n",
    "#print(arr)\r\n",
    "min1 = arr.min()\r\n",
    "max1 = arr.max()\r\n",
    "print(min1, max1)"
   ],
   "outputs": [
    {
     "output_type": "stream",
     "name": "stdout",
     "text": [
      "0.00756251725602386 0.9971990210543153\n"
     ]
    }
   ],
   "metadata": {
    "deletable": false,
    "nbgrader": {
     "cell_type": "code",
     "checksum": "e939193eeb6a59d4260517d4af3eaadb",
     "grade": false,
     "grade_id": "cell-d37d68df72162149",
     "locked": false,
     "schema_version": 3,
     "solution": true,
     "task": false
    }
   }
  },
  {
   "cell_type": "code",
   "execution_count": 10,
   "source": [
    "assert sol1.shape == (10,10)"
   ],
   "outputs": [
    {
     "output_type": "error",
     "ename": "AssertionError",
     "evalue": "",
     "traceback": [
      "\u001b[1;31m---------------------------------------------------------------------------\u001b[0m",
      "\u001b[1;31mAssertionError\u001b[0m                            Traceback (most recent call last)",
      "\u001b[1;32m<ipython-input-10-7a880fa73fd9>\u001b[0m in \u001b[0;36m<module>\u001b[1;34m\u001b[0m\n\u001b[1;32m----> 1\u001b[1;33m \u001b[1;32massert\u001b[0m \u001b[0msol1\u001b[0m\u001b[1;33m.\u001b[0m\u001b[0mshape\u001b[0m \u001b[1;33m==\u001b[0m \u001b[1;33m(\u001b[0m\u001b[1;36m10\u001b[0m\u001b[1;33m,\u001b[0m\u001b[1;36m10\u001b[0m\u001b[1;33m)\u001b[0m\u001b[1;33m\u001b[0m\u001b[1;33m\u001b[0m\u001b[0m\n\u001b[0m",
      "\u001b[1;31mAssertionError\u001b[0m: "
     ]
    }
   ],
   "metadata": {
    "deletable": false,
    "editable": false,
    "nbgrader": {
     "cell_type": "code",
     "checksum": "783f9069dd18b6ec27701770f225a148",
     "grade": true,
     "grade_id": "cell-f1d4fa08074f4dcd",
     "locked": true,
     "points": 1,
     "schema_version": 3,
     "solution": false,
     "task": false
    }
   }
  },
  {
   "cell_type": "markdown",
   "source": [
    "**15. Create a 2d 10x10 array with 1 on the border and 0 inside**"
   ],
   "metadata": {}
  },
  {
   "cell_type": "code",
   "execution_count": 9,
   "source": [
    "#1 points\r\n",
    "sol2 = 0\r\n",
    "\r\n",
    "# YOUR CODE HERE\r\n",
    "A = np.ones((10,10))\r\n",
    "A[1:-1,1:-1] = 0\r\n",
    "print(A)\r\n"
   ],
   "outputs": [
    {
     "output_type": "stream",
     "name": "stdout",
     "text": [
      "[[1. 1. 1. 1. 1. 1. 1. 1. 1. 1.]\n",
      " [1. 0. 0. 0. 0. 0. 0. 0. 0. 1.]\n",
      " [1. 0. 0. 0. 0. 0. 0. 0. 0. 1.]\n",
      " [1. 0. 0. 0. 0. 0. 0. 0. 0. 1.]\n",
      " [1. 0. 0. 0. 0. 0. 0. 0. 0. 1.]\n",
      " [1. 0. 0. 0. 0. 0. 0. 0. 0. 1.]\n",
      " [1. 0. 0. 0. 0. 0. 0. 0. 0. 1.]\n",
      " [1. 0. 0. 0. 0. 0. 0. 0. 0. 1.]\n",
      " [1. 0. 0. 0. 0. 0. 0. 0. 0. 1.]\n",
      " [1. 1. 1. 1. 1. 1. 1. 1. 1. 1.]]\n"
     ]
    }
   ],
   "metadata": {
    "deletable": false,
    "nbgrader": {
     "cell_type": "code",
     "checksum": "4f00b53c9ecc26403bf5bd660c3f033c",
     "grade": false,
     "grade_id": "cell-6584e6c544771f0c",
     "locked": false,
     "schema_version": 3,
     "solution": true,
     "task": false
    }
   }
  },
  {
   "cell_type": "code",
   "execution_count": null,
   "source": [
    "assert sol2.shape == (10,10)\r\n",
    "assert sol2[0].all() == 1\r\n",
    "assert sol2[:,0].all() == 1\r\n",
    "assert sol2[1][1] == 0\r\n",
    "assert sol2[2][2] == 0\r\n",
    "assert sol2[3][3] == 0\r\n",
    "assert sol2[4][4] == 0\r\n",
    "assert sol2[1][2] == 0\r\n",
    "assert sol2[2][3] == 0\r\n",
    "assert sol2[3][4] == 0\r\n",
    "assert sol2[4][5] == 0"
   ],
   "outputs": [],
   "metadata": {
    "deletable": false,
    "editable": false,
    "nbgrader": {
     "cell_type": "code",
     "checksum": "06bd7af6a0273b28869865b4dd35fef5",
     "grade": true,
     "grade_id": "cell-9429aab0f4477a86",
     "locked": true,
     "points": 1,
     "schema_version": 3,
     "solution": false,
     "task": false
    }
   }
  },
  {
   "cell_type": "markdown",
   "source": [
    "**34. How to get all the dates corresponding to the month of July 2016**"
   ],
   "metadata": {}
  },
  {
   "cell_type": "code",
   "execution_count": null,
   "source": [
    "#2 points\r\n",
    "sol3 = 0\r\n",
    "\r\n",
    "# YOUR CODE HERE\r\n",
    "raise NotImplementedError()"
   ],
   "outputs": [],
   "metadata": {
    "deletable": false,
    "nbgrader": {
     "cell_type": "code",
     "checksum": "0c0c212e8014f00f5ede5ec4ea42e584",
     "grade": false,
     "grade_id": "cell-9784b014be5fdf5a",
     "locked": false,
     "schema_version": 3,
     "solution": true,
     "task": false
    }
   }
  },
  {
   "cell_type": "code",
   "execution_count": null,
   "source": [
    "assert sol3.shape == (31,)\r\n",
    "assert type(sol3[0]) is np.datetime64"
   ],
   "outputs": [],
   "metadata": {
    "deletable": false,
    "editable": false,
    "nbgrader": {
     "cell_type": "code",
     "checksum": "b208a834c29619be08b9f9a7887b7087",
     "grade": true,
     "grade_id": "cell-8beeae591e9b50ed",
     "locked": true,
     "points": 2,
     "schema_version": 3,
     "solution": false,
     "task": false
    }
   }
  },
  {
   "cell_type": "markdown",
   "source": [
    "**42. Consider two random arrays based on the normal and uniform distributions 10x10 sol41 and sol42, check if they are equal**"
   ],
   "metadata": {}
  },
  {
   "cell_type": "code",
   "execution_count": null,
   "source": [
    "#2 points\n",
    "sol41 = 0\n",
    "sol42 = 0\n",
    "comparisson = 0\n",
    "# YOUR CODE HERE\n",
    "raise NotImplementedError()"
   ],
   "outputs": [],
   "metadata": {
    "deletable": false,
    "nbgrader": {
     "cell_type": "code",
     "checksum": "52c996342988d9baa17167d47cf5701c",
     "grade": false,
     "grade_id": "cell-5000744434ae05a2",
     "locked": false,
     "schema_version": 3,
     "solution": true,
     "task": false
    }
   }
  },
  {
   "cell_type": "code",
   "execution_count": null,
   "source": [
    "bol = True\n",
    "\n",
    "for l in comparisson:\n",
    "    for c in l:\n",
    "        if c:\n",
    "            bol = False\n",
    "\n",
    "\n",
    "assert bol"
   ],
   "outputs": [],
   "metadata": {
    "deletable": false,
    "editable": false,
    "nbgrader": {
     "cell_type": "code",
     "checksum": "6b10c43e0c33791bc40a0b3e2e9cc071",
     "grade": true,
     "grade_id": "cell-807bf6c3ff3f3b0d",
     "locked": true,
     "points": 2,
     "schema_version": 3,
     "solution": false,
     "task": false
    }
   }
  },
  {
   "cell_type": "markdown",
   "source": [
    "**72. How to swap two rows of an array?** "
   ],
   "metadata": {}
  },
  {
   "cell_type": "code",
   "execution_count": null,
   "source": [
    "#3 points\n",
    "sol5 = np.array([[1,2,3],[4,5,6]])\n",
    "\n",
    "# YOUR CODE HERE\n",
    "raise NotImplementedError()"
   ],
   "outputs": [],
   "metadata": {
    "deletable": false,
    "nbgrader": {
     "cell_type": "code",
     "checksum": "ccca804156ed12777f188de3084a7145",
     "grade": false,
     "grade_id": "cell-079026f268b5211c",
     "locked": false,
     "schema_version": 3,
     "solution": true,
     "task": false
    }
   }
  },
  {
   "cell_type": "code",
   "execution_count": null,
   "source": [
    "assert sol5[0][0] == 4\n",
    "assert sol5[0][1] == 5\n",
    "assert sol5[0][2] == 6\n",
    "\n",
    "assert sol5[1][0] == 1\n",
    "assert sol5[1][1] == 2\n",
    "assert sol5[1][2] == 3\n"
   ],
   "outputs": [],
   "metadata": {
    "deletable": false,
    "editable": false,
    "nbgrader": {
     "cell_type": "code",
     "checksum": "1ad68d0086b2abc9dd89dc54d9868d2c",
     "grade": true,
     "grade_id": "cell-e4f878f0864f33bd",
     "locked": true,
     "points": 3,
     "schema_version": 3,
     "solution": false,
     "task": false
    }
   }
  },
  {
   "cell_type": "markdown",
   "source": [
    "**75. How to compute averages using a sliding window over an array?**"
   ],
   "metadata": {}
  },
  {
   "cell_type": "code",
   "execution_count": null,
   "source": [
    "arr = np.array([1,2,3,4,5,6,7,8,9,10])\n",
    "sol6 = 0\n",
    "# YOUR CODE HERE\n",
    "raise NotImplementedError()\n"
   ],
   "outputs": [],
   "metadata": {
    "deletable": false,
    "nbgrader": {
     "cell_type": "code",
     "checksum": "ff4ef295ceace892027e6fce4f7eb266",
     "grade": false,
     "grade_id": "cell-ccafbda4e4cb7996",
     "locked": false,
     "schema_version": 3,
     "solution": true,
     "task": false
    }
   }
  },
  {
   "cell_type": "code",
   "execution_count": null,
   "source": [
    "assert sol6[-1] == 5.5\n",
    "assert sol6[0] == 0.1\n",
    "assert sol6[4] == 1.5"
   ],
   "outputs": [],
   "metadata": {
    "deletable": false,
    "editable": false,
    "nbgrader": {
     "cell_type": "code",
     "checksum": "fabc3056e9ed22951d83c4012d5ec189",
     "grade": true,
     "grade_id": "cell-1983fc0078a860ff",
     "locked": true,
     "points": 3,
     "schema_version": 3,
     "solution": false,
     "task": false
    }
   }
  },
  {
   "cell_type": "code",
   "execution_count": null,
   "source": [],
   "outputs": [],
   "metadata": {}
  }
 ],
 "metadata": {
  "kernelspec": {
   "name": "python3",
   "display_name": "Python 3.8.8 64-bit ('base': conda)"
  },
  "language_info": {
   "codemirror_mode": {
    "name": "ipython",
    "version": 3
   },
   "file_extension": ".py",
   "mimetype": "text/x-python",
   "name": "python",
   "nbconvert_exporter": "python",
   "pygments_lexer": "ipython3",
   "version": "3.8.8"
  },
  "interpreter": {
   "hash": "84bb68b6704c5e45a3c6f9b0b73c19df905f14a546e9dcd13d8a1772f75e660b"
  }
 },
 "nbformat": 4,
 "nbformat_minor": 5
}