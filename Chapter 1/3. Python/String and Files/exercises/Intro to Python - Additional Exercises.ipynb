{
 "cells": [
  {
   "cell_type": "markdown",
   "metadata": {},
   "source": [
    "**Exercise 2.2 (optional):** Write code that classifies a given amount of money (which you store in a variable `amount`), specified in cents, as greater monetary units. Your code lists the monetary equivalent in dollars (100 ct), quarters (25 ct), dimes (10 ct), nickels (5 ct), and pennies (1 ct). Your program should report the maximum number of dollars that fit in the amount, then the maximum number of quarters that fit in the remainder after you subtract the dollars, then the maximum number of dimes that fit in the remainder after you subtract the dollars and quarters, and so on for nickels and pennies. The result is that you express the amount as the minimum number of coins needed.  \n",
    "\n",
    "**Can you do it again? Would you change anything from the last time you had to do this?**"
   ]
  },
  {
   "cell_type": "code",
   "execution_count": 82,
   "metadata": {},
   "outputs": [
    {
     "name": "stdout",
     "output_type": "stream",
     "text": [
      "Dollars: 1 \n",
      "Quarters: 0 \n",
      "Dimes 2 \n",
      "Nickels: 0 \n",
      "Pennies 0\n"
     ]
    }
   ],
   "source": [
    "# Your Code Here\n",
    "def amount_money(money):\n",
    "    dollars = money//100\n",
    "    money -= dollars*100\n",
    "    quarters = money//25\n",
    "    money -= quarters*25\n",
    "    dimes = money//10\n",
    "    money -= dimes*10\n",
    "    nickles = money//5\n",
    "    money -= nickles*5\n",
    "    pennies = money\n",
    "    print(\"Dollars:\",dollars, \"\\nQuarters:\", quarters ,\"\\nDimes\",dimes,\"\\nNickels:\",nickles,\"\\nPennies\",pennies)\n",
    "\n",
    "amount_money(120)\n"
   ]
  },
  {
   "cell_type": "markdown",
   "metadata": {},
   "source": [
    "**Exercise (optional)**: The factorial of a positive integer is that integer, multiplied by all positive integers that are lower (excluding zero). You write the factorial as the number with an exclamation mark after it. E.g., the factorial of 5 is `5! = 5 * 4 * 3 * 2 * 1 = 120`. Write a function that calculates the factorial of its (integer) parameter. Test your function for different parameter values, but do not use very large numbers as factorials grow exponentially. Hint: to do this with a `while` loop, you need at least one more variable."
   ]
  },
  {
   "cell_type": "code",
   "execution_count": 83,
   "metadata": {},
   "outputs": [
    {
     "name": "stdout",
     "output_type": "stream",
     "text": [
      "120\n"
     ]
    }
   ],
   "source": [
    "# Factorial\n",
    "def factorial(number):                                \n",
    "\n",
    "    #Your Code Here\n",
    "    i = 1\n",
    "    answer = 1\n",
    "    while i<=number:\n",
    "        answer *= i\n",
    "        i+=1\n",
    "    return answer\n",
    "\n",
    "print(factorial(5))"
   ]
  },
  {
   "cell_type": "markdown",
   "metadata": {},
   "source": [
    "**Exercise 5.1 (optional):** Write a function that prints a multiplication table for digits 1 to 10. A multiplication table for the numbers 1 to `num = 3` looks as follows:\n",
    "\n",
    "`. |  1  2  3`<br>\n",
    "`------------`<br>\n",
    "`1 |  1  2  3`<br>\n",
    "`2 |  2  4  6`<br>\n",
    "`3 |  3  6  9`\n",
    "\n",
    "So the labels on the rows are multiplied by the labels on the columns, and the result is shown in the cell that is on that row/column combination. "
   ]
  },
  {
   "cell_type": "code",
   "execution_count": 84,
   "metadata": {},
   "outputs": [
    {
     "name": "stdout",
     "output_type": "stream",
     "text": [
      ". | 1 2 3\n",
      "---------\n",
      "1 | 1 2 3\n",
      "2 | 2 4 6\n",
      "3 | 3 6 9\n"
     ]
    }
   ],
   "source": [
    "# Print multiplication table\n",
    "def print_multiplication_table(n):\n",
    "    \n",
    "    #Your Code Here\n",
    "    first_row = \". |\"\n",
    "    for a in range(1,n+1):\n",
    "        first_row += f' {str(a)}' \n",
    "    \n",
    "    print(first_row)\n",
    "    \n",
    "    print (\"-\"*len(first_row))\n",
    "\n",
    "    for a in range(1,n+1):\n",
    "        row = '{} |'.format(a)\n",
    "        for b in range(1,n+1):\n",
    "            row += ' {}'.format(a*b)\n",
    "        print(row)\n",
    "        \n",
    "print_multiplication_table(3)"
   ]
  },
  {
   "cell_type": "markdown",
   "metadata": {},
   "source": [
    "**Exercise 5.2 (optional):** If you did the previous exercise with a `while` loop, then do it again with a `for` loop. If you did it with a `for` loop, then do it again with a `while` loop. If you did not use a loop at all, you should be ashamed of yourself."
   ]
  },
  {
   "cell_type": "code",
   "execution_count": 85,
   "metadata": {},
   "outputs": [
    {
     "name": "stdout",
     "output_type": "stream",
     "text": [
      ".  |   1   2   3   4   5   6   7   8   9  10  11  12  13  14  15  16  17  18  19  20\n",
      "------------------------------------------------------------------------------------\n",
      "1  |   1   2   3   4   5   6   7   8   9  10  11  12  13  14  15  16  17  18  19  20\n",
      "2  |   2   4   6   8  10  12  14  16  18  20  22  24  26  28  30  32  34  36  38  40\n",
      "3  |   3   6   9  12  15  18  21  24  27  30  33  36  39  42  45  48  51  54  57  60\n",
      "4  |   4   8  12  16  20  24  28  32  36  40  44  48  52  56  60  64  68  72  76  80\n",
      "5  |   5  10  15  20  25  30  35  40  45  50  55  60  65  70  75  80  85  90  95 100\n",
      "6  |   6  12  18  24  30  36  42  48  54  60  66  72  78  84  90  96 102 108 114 120\n",
      "7  |   7  14  21  28  35  42  49  56  63  70  77  84  91  98 105 112 119 126 133 140\n",
      "8  |   8  16  24  32  40  48  56  64  72  80  88  96 104 112 120 128 136 144 152 160\n",
      "9  |   9  18  27  36  45  54  63  72  81  90  99 108 117 126 135 144 153 162 171 180\n",
      "10 |  10  20  30  40  50  60  70  80  90 100 110 120 130 140 150 160 170 180 190 200\n",
      "11 |  11  22  33  44  55  66  77  88  99 110 121 132 143 154 165 176 187 198 209 220\n",
      "12 |  12  24  36  48  60  72  84  96 108 120 132 144 156 168 180 192 204 216 228 240\n",
      "13 |  13  26  39  52  65  78  91 104 117 130 143 156 169 182 195 208 221 234 247 260\n",
      "14 |  14  28  42  56  70  84  98 112 126 140 154 168 182 196 210 224 238 252 266 280\n",
      "15 |  15  30  45  60  75  90 105 120 135 150 165 180 195 210 225 240 255 270 285 300\n",
      "16 |  16  32  48  64  80  96 112 128 144 160 176 192 208 224 240 256 272 288 304 320\n",
      "17 |  17  34  51  68  85 102 119 136 153 170 187 204 221 238 255 272 289 306 323 340\n",
      "18 |  18  36  54  72  90 108 126 144 162 180 198 216 234 252 270 288 306 324 342 360\n",
      "19 |  19  38  57  76  95 114 133 152 171 190 209 228 247 266 285 304 323 342 361 380\n",
      "20 |  20  40  60  80 100 120 140 160 180 200 220 240 260 280 300 320 340 360 380 400\n"
     ]
    }
   ],
   "source": [
    "# Print multiplication table\n",
    "def print_multiplication_table(n):\n",
    "    \n",
    "    #Your Code Here\n",
    "    total = len(str(n*n))+1\n",
    "    first_row = f'.{len(str(n)) *\" \"}|'   \n",
    "\n",
    "    a = 1\n",
    "    while a <= n:\n",
    "        first_row += f'{(total-len(str(a))) * \" \"}{str(a)}'\n",
    "        a += 1\n",
    "    print(first_row)\n",
    "\n",
    "    print(\"-\" * len(first_row))\n",
    "    a = 1\n",
    "    while a <= n:\n",
    "        \n",
    "        row = f'{a}{(len(str(n)) - len(str(a))) * \" \"} |'\n",
    "        b = 1\n",
    "        while b <= n:\n",
    "            row += f'{(total-len(str(a*b))) * \" \"}{a * b}'\n",
    "            b += 1\n",
    "        a += 1\n",
    "        print(row)\n",
    "\n",
    "\n",
    "print_multiplication_table(20)"
   ]
  },
  {
   "cell_type": "markdown",
   "metadata": {},
   "source": [
    "**Exercise 6.5 (optional):** Typical autocorrect functions are the following: \n",
    "1. if a word starts with two capitals, followed by a lower-case letter, the second capital is made lower case; \n",
    "2. if a sentence contains a word that is immediately followed by the same word, the second occurrence is removed; \n",
    "3. if a sentence starts with a lower-case letter, that letter is turned into a capital; \n",
    "4. if a word consists entirely of capitals, except for the first letter which is lower case, then the case of the letters in the word is reversed; and \n",
    "5. if the sentence contains the name of a day (in English) which does not start with a capital, the first letter is turned into a capital. \n",
    "\n",
    "Write a program that takes a sentence and makes these auto-corrections."
   ]
  },
  {
   "cell_type": "code",
   "execution_count": 86,
   "metadata": {},
   "outputs": [
    {
     "name": "stdout",
     "output_type": "stream",
     "text": [
      "As it turned out our chance meeting with Reverend Arthur Belling was to change our whole way of life, and every sunday we'd hurry along to St Loony up the Cream Bun and Jam.\n"
     ]
    }
   ],
   "source": [
    "# Autocorrect.\n",
    "sentence = \"as it turned out our chance meeting with REverend aRTHUR BElling was \\\n",
    "was to change our whole way of life, and every sunday we'd hurry along to St lOONY up the Cream BUn and Jam.\"\n",
    "\n",
    "text_tb_printed = \"\" \n",
    "a = 0\n",
    "while a < len(sentence):\n",
    "    if a==0 or sentence[a-1]==\".\":\n",
    "        text_tb_printed += sentence[a].upper()\n",
    "    elif sentence[a].isupper() and sentence[a-1].isupper() and sentence[a+1].islower():\n",
    "        text_tb_printed += sentence[a].lower()\n",
    "    else:\n",
    "        text_tb_printed += sentence[a]\n",
    "    a += 1\n",
    "\n",
    "text_tb_printed = text_tb_printed.split()\n",
    "\n",
    "b = 0\n",
    "\n",
    "final_text_tb_printed = []\n",
    "while b<len(text_tb_printed):\n",
    "    if len(text_tb_printed[b])> 2 and text_tb_printed[b][0].islower() and text_tb_printed[b][2].isupper():\n",
    "        final_text_tb_printed.append(text_tb_printed[b].swapcase())\n",
    "    elif text_tb_printed[b] == text_tb_printed[b-1]:\n",
    "        pass\n",
    "    else:\n",
    "        final_text_tb_printed.append(text_tb_printed[b])\n",
    "    b += 1\n",
    "    \n",
    "print(\" \".join(final_text_tb_printed))\n"
   ]
  },
  {
   "cell_type": "markdown",
   "metadata": {},
   "source": [
    "### Exercise 11.3 (Optional)\n",
    "In this directory you find a file `blakepoems.txt`. Write a program that processes the contents of this file, line by line. It creates an output file in the current working directory called `blkpms.txt`, which has the same contents as `blakepoems.txt`, except that all the vowels are removed (case-insensitively). At the end, display how many characters you read, and how many characters you wrote. If you want to check the contents of `blkpms.txt`, you can either open it in a text editor, or display the first 10 lines or so at the end of your program."
   ]
  },
  {
   "cell_type": "code",
   "execution_count": 87,
   "metadata": {},
   "outputs": [
    {
     "name": "stdout",
     "output_type": "stream",
     "text": [
      "There are only 37870 characters but written are 27722.\n"
     ]
    }
   ],
   "source": [
    "## Your Code Here\n",
    "with open(r'./text-files/backup/blakepoems.txt','r') as poem:\n",
    "    text_to_be_printed = \"\"\n",
    "    read_poem = poem.read()\n",
    "    for letter in read_poem:\n",
    "        if letter.lower() not in 'aeiou':\n",
    "            text_to_be_printed += letter\n",
    "\n",
    "    file = open(r'.\\text-files\\blkpms.txt','w')\n",
    "    file.write(text_to_be_printed)\n",
    "    file.close()\n",
    "    print('There are only {} characters but written are {}.'.format(len(read_poem),len(text_to_be_printed)))"
   ]
  }
 ],
 "metadata": {
  "kernelspec": {
   "display_name": "Python 3",
   "language": "python",
   "name": "python3"
  },
  "language_info": {
   "codemirror_mode": {
    "name": "ipython",
    "version": 3
   },
   "file_extension": ".py",
   "mimetype": "text/x-python",
   "name": "python",
   "nbconvert_exporter": "python",
   "pygments_lexer": "ipython3",
   "version": "3.9.7"
  }
 },
 "nbformat": 4,
 "nbformat_minor": 2
}
