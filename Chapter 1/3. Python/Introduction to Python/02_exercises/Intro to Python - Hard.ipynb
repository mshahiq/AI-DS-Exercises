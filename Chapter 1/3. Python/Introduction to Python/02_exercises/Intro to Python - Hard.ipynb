{
 "cells": [
  {
   "cell_type": "markdown",
   "metadata": {},
   "source": [
    "Here you have a collection of guided exercises for the first class on Python. <br>\n",
    "The exercises are divided by topic, following the topics reviewed during the theory session, and for each topic you have some mandatory exercises, and other optional exercises, which you are invited to do if you still have time after the mandatory exercises. <br>\n",
    "\n",
    "Remember that you have 5 hours to solve these exercises, after which we will review the most interesting exercises together. If you don't finish all the exercises, you can work on them tonightor tomorrow. \n",
    "\n",
    "At the end of the class, we will upload the code with the solutions of the exercises so that you can review them again if needed. If you still have not finished some exercises, try to do them first by yourself, before taking a look at the solutions: you are doing these exercises for yourself, so it is always the best to do them your way first, as it is the fastest way to learn!"
   ]
  },
  {
   "cell_type": "markdown",
   "metadata": {},
   "source": [
    "**Exercise 4.1 (🌶️🌶️):** Define a function that receives a string parameter, and returns an integer indicating the count for all the letters of the alphabet that there are in the string. The expected output format is in a **dictionary** with the relevant keys and values. The capital version of a lower case letter is considered to be the same letter.\n",
    "\n",
    "This should sound quite familiar, try to do it without looking at your old code ;)\n",
    "\n",
    "**What is the challenge?**: Don't code 27 times the same line of code, learn how to do things that scale well."
   ]
  },
  {
   "cell_type": "code",
   "execution_count": 20,
   "metadata": {},
   "outputs": [
    {
     "data": {
      "text/plain": [
       "{'a': 3,\n",
       " ' ': 9,\n",
       " 'q': 1,\n",
       " 'u': 3,\n",
       " 'i': 2,\n",
       " 'c': 1,\n",
       " 'k': 1,\n",
       " 'r': 2,\n",
       " 'n': 5,\n",
       " 'g': 2,\n",
       " 'b': 1,\n",
       " 'o': 4,\n",
       " 'w': 1,\n",
       " 'f': 1,\n",
       " 'x': 1,\n",
       " 'j': 1,\n",
       " 'm': 1,\n",
       " 'p': 1,\n",
       " 's': 1,\n",
       " 'l': 1,\n",
       " 'z': 1,\n",
       " 'y': 1,\n",
       " 'd': 1}"
      ]
     },
     "execution_count": 20,
     "metadata": {},
     "output_type": "execute_result"
    }
   ],
   "source": [
    "#Your Code Here\n",
    "\n",
    "import collections\n",
    "\n",
    "def countingletters(string):\n",
    "    return collections.Counter(string)\n",
    "dict(countingletters(\"a quick running brown fox jumps on a lazy dog\"))"
   ]
  },
  {
   "cell_type": "markdown",
   "metadata": {},
   "source": [
    "**Exercise 5.6 (🌶️🌶️):** A prime number is a positive integer that is dividable by exactly two different numbers, namely 1 and itself. The lowest (and only even) prime number is 2. The first 10 prime numbers are 2, 3, 5, 7, 11, 13, 17, 19, 23, and 29. Write a function that returns a **list off all prime numbers** below a given number.\n",
    "\n",
    "Hint: In a loop where you test the possible dividers of the number, you can conclude that the number is not prime as soon as you encounter a number other than 1 or the number itself that divides it. However, you can *only* conclude that it actually *is* prime after you have tested all possible dividers.\n",
    "\n",
    "**What is the challenge here? You have to try to optimize your code and try to make it work for the highest prime number you can encounter before you run out of memory. For low numbers you should know how to do it already**"
   ]
  },
  {
   "cell_type": "code",
   "execution_count": 15,
   "metadata": {},
   "outputs": [
    {
     "data": {
      "text/plain": [
       "[2,\n",
       " 3,\n",
       " 5,\n",
       " 7,\n",
       " 11,\n",
       " 13,\n",
       " 17,\n",
       " 19,\n",
       " 23,\n",
       " 29,\n",
       " 31,\n",
       " 37,\n",
       " 41,\n",
       " 43,\n",
       " 47,\n",
       " 53,\n",
       " 59,\n",
       " 61,\n",
       " 67,\n",
       " 71,\n",
       " 73,\n",
       " 79,\n",
       " 83,\n",
       " 89,\n",
       " 97]"
      ]
     },
     "execution_count": 15,
     "metadata": {},
     "output_type": "execute_result"
    }
   ],
   "source": [
    "#Your Code Here\n",
    "def get_Primes(max_num):\n",
    "    n=0\n",
    "    primes = [2,3]\n",
    "    if max_num < 2:\n",
    "        return []\n",
    "    if max_num == 2:\n",
    "        return [2]\n",
    "    if max_num >= 3 and max_num < 5:\n",
    "        return [2,3]\n",
    "\n",
    "    while True:\n",
    "        n += 1\n",
    "\n",
    "        prime_1 = 6*n - 1\n",
    "        if prime_1 > max_num:\n",
    "            break\n",
    "        prime1Checker = True\n",
    "        for i in range(5,prime_1):\n",
    "            if prime_1 % i == 0 and prime_1 != i:\n",
    "                prime1Checker = False\n",
    "                break\n",
    "        if prime1Checker:\n",
    "            primes.append(prime_1)\n",
    "\n",
    "        prime_2 = 6*n + 1\n",
    "        if prime_2 > max_num:\n",
    "            break\n",
    "        prime2Checker = True\n",
    "        for i in range(5,prime_2):\n",
    "            if prime_2 % i == 0 and prime_1 != i:\n",
    "                prime2Checker = False\n",
    "                break\n",
    "        if prime2Checker:\n",
    "            primes.append(prime_2)\n",
    "    return primes\n",
    "\n",
    "get_Primes(100)"
   ]
  },
  {
   "cell_type": "markdown",
   "metadata": {},
   "source": [
    "**Exercise 5.7 (🌶️🌶️):** Write a function that prints all integers between the parameters `a` and `b` that can be written as the sum of two squares. Produce output in the form of `z = x**2 + y**2`, e.g., `58 = 3**2 + 7**2`. If a number occurs on the list with multiple *different* ways of writing it as the sum of two squares, that is acceptable. "
   ]
  },
  {
   "cell_type": "code",
   "execution_count": 12,
   "metadata": {},
   "outputs": [
    {
     "name": "stdout",
     "output_type": "stream",
     "text": [
      "2 = 1**2 + 1**2\n",
      "4 = 0**2 + 2**2\n",
      "4 = 2**2 + 0**2\n",
      "5 = 1**2 + 2**2\n",
      "5 = 2**2 + 1**2\n",
      "8 = 2**2 + 2**2\n",
      "9 = 0**2 + 3**2\n",
      "9 = 3**2 + 0**2\n"
     ]
    }
   ],
   "source": [
    "import math\n",
    "#Your Code Here\n",
    "def sum_squares(number):\n",
    "    i = 0\n",
    "    a = math.floor(math.sqrt(number))+1\n",
    "    while i <= a:\n",
    "        j = 0\n",
    "        while j <= a:\n",
    "            if i**2 + j**2 == number:\n",
    "                print(str(number)+ ' = ' + str(i)+ '**2 + '+str(j)+ '**2')\n",
    "            if i**2 + j**2 > number:\n",
    "                break\n",
    "            j += 1\n",
    "        i += 1\n",
    "    return\n",
    "sum_squares(2)\n",
    "sum_squares(4)\n",
    "sum_squares(5)\n",
    "sum_squares(8)\n",
    "sum_squares(9)\n",
    "\n",
    "\n",
    "#2 = 1**2 + 1**2\n",
    "#4 = 0**2 + 2**2\n",
    "#4 = 2**2 + 0**2\n",
    "#5 = 1**2 + 2**2\n",
    "#5 = 2**2 + 1**2\n",
    "#8 = 2**2 + 2**2\n",
    "#9 = 0**2 + 3**2\n",
    "#9 = 3**2 + 0**2\n",
    "\n",
    "\n"
   ]
  },
  {
   "cell_type": "code",
   "execution_count": null,
   "metadata": {},
   "outputs": [],
   "source": []
  }
 ],
 "metadata": {
  "interpreter": {
   "hash": "7016010205a98451d52b0c4cab227365108095c7ad70437c80600f3976844f69"
  },
  "kernelspec": {
   "display_name": "Python 3.9.4 64-bit ('strive': conda)",
   "name": "python3"
  },
  "language_info": {
   "codemirror_mode": {
    "name": "ipython",
    "version": 3
   },
   "file_extension": ".py",
   "mimetype": "text/x-python",
   "name": "python",
   "nbconvert_exporter": "python",
   "pygments_lexer": "ipython3",
   "version": "3.9.4"
  }
 },
 "nbformat": 4,
 "nbformat_minor": 4
}
