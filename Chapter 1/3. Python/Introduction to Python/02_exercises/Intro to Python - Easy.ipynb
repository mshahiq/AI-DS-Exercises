{
 "cells": [
  {
   "cell_type": "markdown",
   "metadata": {},
   "source": [
    "Here you have a collection of guided exercises for the first class on Python. <br>\n",
    "The exercises are divided by topic, following the topics reviewed during the theory session, and for each topic you have some mandatory exercises, and other optional exercises, which you are invited to do if you still have time after the mandatory exercises. <br>\n",
    "\n",
    "Remember that you have 5 hours to solve these exercises, after which we will review the most interesting exercises together. If you don't finish all the exercises, you can work on them tonightor tomorrow. \n",
    "\n",
    "At the end of the class, we will upload the code with the solutions of the exercises so that you can review them again if needed. If you still have not finished some exercises, try to do them first by yourself, before taking a look at the solutions: you are doing these exercises for yourself, so it is always the best to do them your way first, as it is the fastest way to learn!"
   ]
  },
  {
   "cell_type": "markdown",
   "metadata": {},
   "source": [
    "**Exercise 1.1:** The cover price of a book is 24.95 EUR, but bookstores get a 40 percent discount. Shipping costs 3 EUR for the first copy and 75 cents for each additional copy. **Calculate the total wholesale costs for 60 copies**. "
   ]
  },
  {
   "cell_type": "code",
   "execution_count": 1,
   "metadata": {},
   "outputs": [
    {
     "name": "stdout",
     "output_type": "stream",
     "text": [
      "945.45 Euro\n"
     ]
    }
   ],
   "source": [
    "def totalcostbooks(coverprice, totalcopies):               # coverprice = 24.95, Total copies = 60\n",
    "    result = coverprice * totalcopies\n",
    "    return result\n",
    "result_totalcostbooks = totalcostbooks(24.95, 60)\n",
    "\n",
    "result_afterdiscount = (1-0.4) * (result_totalcostbooks) # 40% discount\n",
    "\n",
    "def shippingcost(shipcost1, shipcost2):                 #shipping cost for one book = 3.0 Eur & for additinal 0.75 Euro\n",
    "    result1 = ((1*shipcost1)+(59*shipcost2))\n",
    "    return result1\n",
    "result1_shippingcost = shippingcost(3, 0.75)\n",
    "\n",
    "x = result_afterdiscount + result1_shippingcost         # total cost\n",
    "y = round(x,3)                                          # rounding the results\n",
    "\n",
    "print (y, \"Euro\")\n"
   ]
  },
  {
   "cell_type": "markdown",
   "metadata": {},
   "source": [
    "**Exercise 1.2:** When something is wrong with your code, Python will raise errors. Often these will be \"syntax errors\" that signal that something is wrong with the form of your code (e.g., the code in the previous exercise raised a `SyntaxError`). There are also \"runtime errors\", which signal that your code was in itself formally correct, but that something went wrong during the code's execution. A good example is the `ZeroDivisionError`, which indicates that you tried to divide a number by zero (which, as you may know, is not allowed). Try to make Python **raise such a `ZeroDivisionError`.**"
   ]
  },
  {
   "cell_type": "code",
   "execution_count": 8,
   "metadata": {},
   "outputs": [
    {
     "ename": "ZeroDivisionError",
     "evalue": "integer division or modulo by zero",
     "output_type": "error",
     "traceback": [
      "\u001b[1;31m---------------------------------------------------------------------------\u001b[0m",
      "\u001b[1;31mZeroDivisionError\u001b[0m                         Traceback (most recent call last)",
      "\u001b[1;32m<ipython-input-8-0a286f616691>\u001b[0m in \u001b[0;36m<module>\u001b[1;34m\u001b[0m\n\u001b[0;32m      3\u001b[0m \u001b[0mvar1\u001b[0m \u001b[1;33m=\u001b[0m \u001b[1;36m0\u001b[0m\u001b[1;33m\u001b[0m\u001b[1;33m\u001b[0m\u001b[0m\n\u001b[0;32m      4\u001b[0m \u001b[1;33m\u001b[0m\u001b[0m\n\u001b[1;32m----> 5\u001b[1;33m \u001b[0mprint\u001b[0m\u001b[1;33m(\u001b[0m\u001b[0mx\u001b[0m \u001b[1;33m%\u001b[0m \u001b[0mvar1\u001b[0m\u001b[1;33m)\u001b[0m\u001b[1;33m\u001b[0m\u001b[1;33m\u001b[0m\u001b[0m\n\u001b[0m",
      "\u001b[1;31mZeroDivisionError\u001b[0m: integer division or modulo by zero"
     ]
    }
   ],
   "source": [
    "#Your Code Here\n",
    "x = 20\n",
    "var1 = 0\n",
    "\n",
    "print(x % var1)"
   ]
  },
  {
   "cell_type": "markdown",
   "metadata": {},
   "source": [
    "**Exercise 5.1**: Create a countdown function that starts at a certain count, and counts down to zero. Instead of zero, print \"Blast off!\". Use a `for` loop. \n"
   ]
  },
  {
   "cell_type": "code",
   "execution_count": 7,
   "metadata": {},
   "outputs": [
    {
     "name": "stdout",
     "output_type": "stream",
     "text": [
      "20\n",
      "19\n",
      "18\n",
      "17\n",
      "16\n",
      "15\n",
      "14\n",
      "13\n",
      "12\n",
      "11\n",
      "10\n",
      "9\n",
      "8\n",
      "7\n",
      "6\n",
      "5\n",
      "4\n",
      "3\n",
      "2\n",
      "1\n",
      "Blast Off!\n"
     ]
    }
   ],
   "source": [
    "# Countdown\n",
    "'''def countdown():\n",
    "    \"\"\"\n",
    "    20\n",
    "    19\n",
    "    18\n",
    "    17\n",
    "    16\n",
    "    15\n",
    "    14\n",
    "    13\n",
    "    12\n",
    "    11\n",
    "    10\n",
    "    9\n",
    "    8\n",
    "    7\n",
    "    6\n",
    "    5\n",
    "    4\n",
    "    3\n",
    "    2\n",
    "    1\n",
    "    Blast off!\n",
    "    \"\"\"\n",
    "    return\n",
    "    \n",
    "    \n",
    "for i in range(20, 0, -1):\n",
    "        print (i)\n",
    "print (\"Blast off!\")\n",
    "'''\n",
    "def countdown():\n",
    "    count = 20\n",
    "    while count >= 1:\n",
    "        print(count)\n",
    "        count -= 1\n",
    "    print(\"Blast Off!\")\n",
    "countdown()\n"
   ]
  },
  {
   "cell_type": "markdown",
   "metadata": {},
   "source": [
    "**Exercise 5.2:** Write and test three functions that return the largest, the smallest, and the number of dividables by 3 in a given collection of numbers. Use the algorithm described earlier in the Part 5 lecture :)"
   ]
  },
  {
   "cell_type": "code",
   "execution_count": 18,
   "metadata": {},
   "outputs": [
    {
     "name": "stdout",
     "output_type": "stream",
     "text": [
      "100\n",
      "2\n",
      "5\n"
     ]
    }
   ],
   "source": [
    "'''\n",
    "var1 = 2\n",
    "var2 = 4\n",
    "var3 = 6\n",
    "var4 = 12\n",
    "var5 = 15\n",
    "var6 = 99\n",
    "var7 = 100\n",
    "print(max(var1, var2, var3, var4, var5, var6, var7))\n",
    "print(min(var1, var2, var3, var4, var5, var6, var7))\n",
    "'''\n",
    "list = [2, 4, 6, 12, 15, 99, 100, 45]\n",
    "'''\n",
    "def largest(list):\n",
    "    max = l[0]\n",
    "    for i in l:\n",
    "        if i > max:\n",
    "            max = i\n",
    "    return max\n",
    "    print (largest(list))\n",
    "\n",
    "def smallest(list):\n",
    "    min = l[0]\n",
    "    for j in l:\n",
    "        if j < min:\n",
    "            min = j\n",
    "    return min\n",
    "    print (smallest(list))\n",
    "\n",
    "def div_by3 (list):\n",
    "    div = 0\n",
    "    for k in l:\n",
    "        if k%3 == 0:\n",
    "            div += 1\n",
    "    return div\n",
    "    \n",
    "    print(div_by3(list))\n",
    "'''\n",
    "\n",
    "maximum = max(list)\n",
    "print (maximum)\n",
    "\n",
    "minimum = min(list)\n",
    "print(minimum)\n",
    "\n",
    "div = []\n",
    "for i in list:\n",
    "    if i % 3 == 0:\n",
    "        div.append(1)\n",
    "print (len(div))\n",
    "\n",
    "\n"
   ]
  }
 ],
 "metadata": {
  "interpreter": {
   "hash": "84bb68b6704c5e45a3c6f9b0b73c19df905f14a546e9dcd13d8a1772f75e660b"
  },
  "kernelspec": {
   "display_name": "Python 3.8.8 64-bit ('base': conda)",
   "name": "python3"
  },
  "language_info": {
   "codemirror_mode": {
    "name": "ipython",
    "version": 3
   },
   "file_extension": ".py",
   "mimetype": "text/x-python",
   "name": "python",
   "nbconvert_exporter": "python",
   "pygments_lexer": "ipython3",
   "version": "3.8.8"
  }
 },
 "nbformat": 4,
 "nbformat_minor": 4
}
