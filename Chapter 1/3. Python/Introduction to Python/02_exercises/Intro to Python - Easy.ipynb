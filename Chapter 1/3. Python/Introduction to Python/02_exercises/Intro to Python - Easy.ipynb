{
 "cells": [
  {
   "cell_type": "markdown",
   "source": [
    "Here you have a collection of guided exercises for the first class on Python. <br>\n",
    "The exercises are divided by topic, following the topics reviewed during the theory session, and for each topic you have some mandatory exercises, and other optional exercises, which you are invited to do if you still have time after the mandatory exercises. <br>\n",
    "\n",
    "Remember that you have 5 hours to solve these exercises, after which we will review the most interesting exercises together. If you don't finish all the exercises, you can work on them tonightor tomorrow. \n",
    "\n",
    "At the end of the class, we will upload the code with the solutions of the exercises so that you can review them again if needed. If you still have not finished some exercises, try to do them first by yourself, before taking a look at the solutions: you are doing these exercises for yourself, so it is always the best to do them your way first, as it is the fastest way to learn!"
   ],
   "metadata": {}
  },
  {
   "cell_type": "markdown",
   "source": [
    "**Exercise 1.1:** The cover price of a book is 24.95 EUR, but bookstores get a 40 percent discount. Shipping costs 3 EUR for the first copy and 75 cents for each additional copy. **Calculate the total wholesale costs for 60 copies**. "
   ],
   "metadata": {}
  },
  {
   "cell_type": "code",
   "execution_count": null,
   "source": [
    "def totalcostbooks(coverprice, totalcopies):               # coverprice = 24.95, Total copies = 60\r\n",
    "    result = coverprice * totalcopies\r\n",
    "    return result\r\n",
    "result_totalcostbooks = totalcostbooks(24.95, 60)\r\n",
    "\r\n",
    "result_afterdiscount = (1-0.4) * (result_totalcostbooks) # 40% discount\r\n",
    "\r\n",
    "def shippingcost(shipcost1, shipcost2):                 #shipping cost for one book = 3.0 Eur & for additinal 0.75 Euro\r\n",
    "    result1 = ((1*shipcost1)+(59*shipcost2))\r\n",
    "    return result1\r\n",
    "result1_shippingcost = shippingcost(3, 0.75)\r\n",
    "\r\n",
    "x = result_afterdiscount + result1_shippingcost         # total cost\r\n",
    "y = round(x,3)                                          # rounding the results\r\n",
    "\r\n",
    "print (y, \"Euro\")\r\n"
   ],
   "outputs": [],
   "metadata": {}
  },
  {
   "cell_type": "markdown",
   "source": [
    "**Exercise 1.2:** When something is wrong with your code, Python will raise errors. Often these will be \"syntax errors\" that signal that something is wrong with the form of your code (e.g., the code in the previous exercise raised a `SyntaxError`). There are also \"runtime errors\", which signal that your code was in itself formally correct, but that something went wrong during the code's execution. A good example is the `ZeroDivisionError`, which indicates that you tried to divide a number by zero (which, as you may know, is not allowed). Try to make Python **raise such a `ZeroDivisionError`.**"
   ],
   "metadata": {}
  },
  {
   "cell_type": "code",
   "execution_count": 8,
   "source": [
    "#Your Code Here\r\n",
    "x = 20\r\n",
    "var1 = 0\r\n",
    "\r\n",
    "print(x % var1)"
   ],
   "outputs": [
    {
     "output_type": "error",
     "ename": "ZeroDivisionError",
     "evalue": "integer division or modulo by zero",
     "traceback": [
      "\u001b[1;31m---------------------------------------------------------------------------\u001b[0m",
      "\u001b[1;31mZeroDivisionError\u001b[0m                         Traceback (most recent call last)",
      "\u001b[1;32m<ipython-input-8-0a286f616691>\u001b[0m in \u001b[0;36m<module>\u001b[1;34m\u001b[0m\n\u001b[0;32m      3\u001b[0m \u001b[0mvar1\u001b[0m \u001b[1;33m=\u001b[0m \u001b[1;36m0\u001b[0m\u001b[1;33m\u001b[0m\u001b[1;33m\u001b[0m\u001b[0m\n\u001b[0;32m      4\u001b[0m \u001b[1;33m\u001b[0m\u001b[0m\n\u001b[1;32m----> 5\u001b[1;33m \u001b[0mprint\u001b[0m\u001b[1;33m(\u001b[0m\u001b[0mx\u001b[0m \u001b[1;33m%\u001b[0m \u001b[0mvar1\u001b[0m\u001b[1;33m)\u001b[0m\u001b[1;33m\u001b[0m\u001b[1;33m\u001b[0m\u001b[0m\n\u001b[0m",
      "\u001b[1;31mZeroDivisionError\u001b[0m: integer division or modulo by zero"
     ]
    }
   ],
   "metadata": {}
  },
  {
   "cell_type": "markdown",
   "source": [
    "**Exercise 5.1**: Create a countdown function that starts at a certain count, and counts down to zero. Instead of zero, print \"Blast off!\". Use a `for` loop. \n"
   ],
   "metadata": {}
  },
  {
   "cell_type": "code",
   "execution_count": 12,
   "source": [
    "# Countdown\r\n",
    "'''def countdown():\r\n",
    "    \"\"\"\r\n",
    "    20\r\n",
    "    19\r\n",
    "    18\r\n",
    "    17\r\n",
    "    16\r\n",
    "    15\r\n",
    "    14\r\n",
    "    13\r\n",
    "    12\r\n",
    "    11\r\n",
    "    10\r\n",
    "    9\r\n",
    "    8\r\n",
    "    7\r\n",
    "    6\r\n",
    "    5\r\n",
    "    4\r\n",
    "    3\r\n",
    "    2\r\n",
    "    1\r\n",
    "    Blast off!\r\n",
    "    \"\"\"\r\n",
    "    return\r\n",
    "    \r\n",
    "    \r\n",
    "for i in range(20, 0, -1):\r\n",
    "        print (i)\r\n",
    "print (\"Blast off!\")\r\n",
    "'''\r\n",
    "def countdown():\r\n",
    "    count = 20\r\n",
    "    while count >= 1:\r\n",
    "        print(count)\r\n",
    "        count -= 1\r\n",
    "    print(\"Blast Off!\")\r\n",
    "countdown()\r\n"
   ],
   "outputs": [
    {
     "output_type": "stream",
     "name": "stdout",
     "text": [
      "20\n",
      "19\n",
      "18\n",
      "17\n",
      "16\n",
      "15\n",
      "14\n",
      "13\n",
      "12\n",
      "11\n",
      "10\n",
      "9\n",
      "8\n",
      "7\n",
      "6\n",
      "5\n",
      "4\n",
      "3\n",
      "2\n",
      "1\n",
      "Blast Off!\n"
     ]
    }
   ],
   "metadata": {}
  },
  {
   "cell_type": "markdown",
   "source": [
    "**Exercise 5.2:** Write and test three functions that return the largest, the smallest, and the number of dividables by 3 in a given collection of numbers. Use the algorithm described earlier in the Part 5 lecture :)"
   ],
   "metadata": {}
  },
  {
   "cell_type": "code",
   "execution_count": 18,
   "source": [
    "'''\r\n",
    "var1 = 2\r\n",
    "var2 = 4\r\n",
    "var3 = 6\r\n",
    "var4 = 12\r\n",
    "var5 = 15\r\n",
    "var6 = 99\r\n",
    "var7 = 100\r\n",
    "print(max(var1, var2, var3, var4, var5, var6, var7))\r\n",
    "print(min(var1, var2, var3, var4, var5, var6, var7))\r\n",
    "'''\r\n",
    "list = [2, 4, 6, 12, 15, 99, 100, 45]\r\n",
    "'''\r\n",
    "def largest(list):\r\n",
    "    max = l[0]\r\n",
    "    for i in l:\r\n",
    "        if i > max:\r\n",
    "            max = i\r\n",
    "    return max\r\n",
    "    print (largest(list))\r\n",
    "\r\n",
    "def smallest(list):\r\n",
    "    min = l[0]\r\n",
    "    for j in l:\r\n",
    "        if j < min:\r\n",
    "            min = j\r\n",
    "    return min\r\n",
    "    print (smallest(list))\r\n",
    "\r\n",
    "def div_by3 (list):\r\n",
    "    div = 0\r\n",
    "    for k in l:\r\n",
    "        if k%3 == 0:\r\n",
    "            div += 1\r\n",
    "    return div\r\n",
    "    \r\n",
    "    print(div_by3(list))\r\n",
    "'''\r\n",
    "\r\n",
    "maximum = max(list)\r\n",
    "print (maximum)\r\n",
    "\r\n",
    "minimum = min(list)\r\n",
    "print(minimum)\r\n",
    "\r\n",
    "div = []\r\n",
    "for i in list:\r\n",
    "    if i % 3 == 0:\r\n",
    "        div.append(1)\r\n",
    "print (len(div))\r\n",
    "\r\n",
    "\r\n"
   ],
   "outputs": [
    {
     "output_type": "stream",
     "name": "stdout",
     "text": [
      "100\n",
      "2\n",
      "5\n"
     ]
    }
   ],
   "metadata": {}
  }
 ],
 "metadata": {
  "kernelspec": {
   "name": "python3",
   "display_name": "Python 3.8.8 64-bit ('base': conda)"
  },
  "language_info": {
   "codemirror_mode": {
    "name": "ipython",
    "version": 3
   },
   "file_extension": ".py",
   "mimetype": "text/x-python",
   "name": "python",
   "nbconvert_exporter": "python",
   "pygments_lexer": "ipython3",
   "version": "3.8.8"
  },
  "interpreter": {
   "hash": "84bb68b6704c5e45a3c6f9b0b73c19df905f14a546e9dcd13d8a1772f75e660b"
  }
 },
 "nbformat": 4,
 "nbformat_minor": 4
}