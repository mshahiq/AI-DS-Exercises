{
 "cells": [
  {
   "cell_type": "markdown",
   "source": [
    "# Intro to Python - Lecture - Part 1"
   ],
   "metadata": {}
  },
  {
   "cell_type": "markdown",
   "source": [
    "## 1. Introduction"
   ],
   "metadata": {}
  },
  {
   "cell_type": "markdown",
   "source": [
    "### Data types - Strings"
   ],
   "metadata": {}
  },
  {
   "cell_type": "markdown",
   "source": [
    "A string is a text, consisting of zero or more characters. In Python, a string is enclosed by either double quotes, or single quotes. In principle, it does not matter which of the two you use, i.e., `\"orange\"` is equivalent to `'orange'`. However, if you have a text which contains a single quote, if you want to avoid problems you have to enclose it in double quotes, i.e., `\"I can't stand it\"` is a legal string, while `'I can't stand it'` is not. Vice versa for double quotes in a string, of course."
   ],
   "metadata": {}
  },
  {
   "cell_type": "markdown",
   "source": [
    "### Data types - Integers"
   ],
   "metadata": {}
  },
  {
   "cell_type": "markdown",
   "source": [
    "Integers are whole numbers, which can be positive or negative (or zero). There is a certain maximum size that integers can become, which depends on the kind of computer and operating system you are running. For most purposes, however, you will not run into those boundaries. Python is not like those calculators with a 10-digit display that cannot use numbers higher than 10 billion.\n",
    "\n",
    "There are different ways of writing integers that result in the same value. `1` is the same as `+1` (there are other ways than these to write the value `1`, but these follow in a later chapter). So the following two commands produce the same output:"
   ],
   "metadata": {}
  },
  {
   "cell_type": "code",
   "execution_count": 1,
   "source": [
    "print(1)\r\n",
    "print(+1)"
   ],
   "outputs": [
    {
     "output_type": "stream",
     "name": "stdout",
     "text": [
      "1\n",
      "1\n"
     ]
    }
   ],
   "metadata": {}
  },
  {
   "cell_type": "markdown",
   "source": [
    "**Now, print `-1`**"
   ],
   "metadata": {}
  },
  {
   "cell_type": "code",
   "execution_count": 2,
   "source": [
    "# Print -1\r\n",
    "print(-1)"
   ],
   "outputs": [
    {
     "output_type": "stream",
     "name": "stdout",
     "text": [
      "-1\n"
     ]
    }
   ],
   "metadata": {}
  },
  {
   "cell_type": "markdown",
   "source": [
    "This is different for strings, of course. The string `\"1\"` is not the same as the string `\"+1\"`.\n",
    "\n",
    "When you use integers in Python, you cannot write them with \"thousands separators\" (commas in English) to make them more readable. I.e., the number one billion should be written as `1000000000` rather than `1,000,000,000`.\n",
    "\n",
    "Check out the following code and think about what it will display when you run it. Then run it."
   ],
   "metadata": {}
  },
  {
   "cell_type": "code",
   "execution_count": 3,
   "source": [
    "print(100,0000000)"
   ],
   "outputs": [
    {
     "output_type": "stream",
     "name": "stdout",
     "text": [
      "100 0\n"
     ]
    }
   ],
   "metadata": {}
  },
  {
   "cell_type": "markdown",
   "source": [
    "**Exercise**: If your prediction of what this code would do was not correct, find out why it produces this result. Hint: the syntax highlighting applied by the notebooks might provide an idea."
   ],
   "metadata": {}
  },
  {
   "cell_type": "markdown",
   "source": [
    "### Floats"
   ],
   "metadata": {}
  },
  {
   "cell_type": "markdown",
   "source": [
    "Floats, or \"floating-point numbers\", are numbers with decimals. For instance, `3.14159265` is a float. Note that you have to use a period as the decimal separator. Many countries use a comma as the decimal separator, but Python uses the convention of English-speaking countries and uses the period.\n",
    "\n",
    "If there is an integer that for some reason you want to use as a float, you can do so by adding `.0` to it. I.e., `13` is an integer, while `13.0` is a float. Still, they represent the same value, and if you use Python to compare them (which we will get to in a short while), Python will tell you that they are the same value.\n",
    "\n",
    "Just like with integers, there are certain maximum boundaries for floats, and there is also a maximum precision. You are unlikely to ever reach those maximum boundaries, as Python will switch over to scientific notation when the numbers get very big, but if you use Python to do very precise calculations, you might run into problems with precision. That will not happen during this course, and it is unlikely to happen for most applications, but if you are a physicist whose calculations involve huge numbers of particles on the molecular or quantum level, it is something to be aware of.\n",
    "\n",
    "Note that due to the way that Python stores floats, certain numbers cannot be expressed exactly. For instance, if you run the following code:"
   ],
   "metadata": {}
  },
  {
   "cell_type": "code",
   "execution_count": 4,
   "source": [
    "print((431/100)*100)"
   ],
   "outputs": [
    {
     "output_type": "stream",
     "name": "stdout",
     "text": [
      "430.99999999999994\n"
     ]
    }
   ],
   "metadata": {}
  },
  {
   "cell_type": "markdown",
   "source": [
    "you will see that the answer is not 431 as you might expect."
   ],
   "metadata": {}
  },
  {
   "cell_type": "markdown",
   "source": [
    "### Basic calculations"
   ],
   "metadata": {}
  },
  {
   "cell_type": "markdown",
   "source": [
    "Basic calculations combine two values with one operator in between them. Some straightforward operators are:\n",
    "\n",
    "    +   addition\n",
    "    -   subtraction\n",
    "    *   multiplication\n",
    "    /   division\n",
    "    //  integer division\n",
    "    **  power\n",
    "    %   modulo\n",
    "    \n",
    "Here are some examples:"
   ],
   "metadata": {}
  },
  {
   "cell_type": "code",
   "execution_count": 5,
   "source": [
    "print(15+4) \r\n",
    "print(15-4)\r\n",
    "print(15*4)\r\n",
    "print(\"this one\", 17/4)\r\n",
    "print(17//4)\r\n",
    "print(15**4)\r\n",
    "print(14%5)"
   ],
   "outputs": [
    {
     "output_type": "stream",
     "name": "stdout",
     "text": [
      "19\n",
      "11\n",
      "60\n",
      "this one 4.25\n",
      "4\n",
      "50625\n",
      "4\n"
     ]
    }
   ],
   "metadata": {}
  },
  {
   "cell_type": "markdown",
   "source": [
    "We assume you know what each of these operators entails, except perhaps the integer division and\n",
    "modulo operators. \n",
    "\n",
    "The integer division (also called \"floor division\") is simply a division that rounds down to a whole number. If you involve floats in the calculation, the result will still be a float, but rounded down. If you only involve integers in the calculation, the result will be an integer.\n",
    "\n",
    "The modulo operator (`%`) takes the remainder of a division. For example: If we divide 14 by 5, the result is 2.8, right? This means we can subtract 5 twice from 14, and still have a positive result, but if we subtract it a third time, the result will become negative. So, after subtracting 5 twice from 14 we have a remainder that is less than 5. This remainder is what the modulo operator produces.\n",
    "\n",
    "In very simplistic terms: if we have 14 cookies which we have to divide over 5 children, each child gets 2 cookies. And we still have 4 cookies left, because there are more children than we have cookies at that point. Thus, dividing 14 by 5 as an integer division is 2 (cookies per child), while 14 modulo 5 is the remainder 4 (cookies we have left on our hand).\n",
    "\n",
    "**Side note**: The code shown above consists of multiple lines. Each line is said to be a \"statement\", and it consists of one command that Python executes (in the code above, a `print()` function on every line). Most programming languages make it mandatory to end each statement with a special character, usually a semi-colon (`;`). Python does not require a semi-colon after each statement, but each statement must (in general) be on its own line. In principle, you are allowed to place multiple Python statements on one line, but then you should put semi-colons between the statements. However, it is Python practice and convention not to do that, as it makes code ugly, hard to read, and difficult to maintain. So, please stick to the convention and give each statement its own line."
   ],
   "metadata": {}
  },
  {
   "cell_type": "markdown",
   "source": [
    "### More complex calculations"
   ],
   "metadata": {}
  },
  {
   "cell_type": "markdown",
   "source": [
    "You are allowed to combine operators into bigger calculations, just as you can do on the more advanced calculators. To avoid confusion, you are also allowed to use parentheses in your calculations, and you can even nest these parentheses. Python will process the operators in the order prescribed by mathematicians, often referred to as PEMDAS. \n",
    "\n",
    "Check out the calculation below, and try to predict what it will result in before you run the code."
   ],
   "metadata": {}
  },
  {
   "cell_type": "code",
   "execution_count": 6,
   "source": [
    "print(5*2-3+4/2)"
   ],
   "outputs": [
    {
     "output_type": "stream",
     "name": "stdout",
     "text": [
      "9.0\n"
     ]
    }
   ],
   "metadata": {}
  },
  {
   "cell_type": "markdown",
   "source": [
    "There are a couple of things to note about this calculation. \n",
    "\n",
    "First, the end result is a float (even though it has no decimals, or, if you will, only zero as a decimal). The reason is that a division is part of the calculation, and for Python that means that it should turn this into a floating-point calculation.\n",
    "\n",
    "**Exercise (optional):** try to convert the returned value into an integer (more on type casting later)."
   ],
   "metadata": {}
  },
  {
   "cell_type": "code",
   "execution_count": 6,
   "source": [
    "print(5*2-3+4//2)\r\n",
    "print(type(5*2-3+4//2))"
   ],
   "outputs": [
    {
     "output_type": "stream",
     "name": "stdout",
     "text": [
      "9\n",
      "<class 'int'>\n"
     ]
    }
   ],
   "metadata": {}
  },
  {
   "cell_type": "markdown",
   "source": [
    "Second, spaces are ignored by Python, so the code above is the same as:"
   ],
   "metadata": {}
  },
  {
   "cell_type": "code",
   "execution_count": 8,
   "source": [
    "print( 5 * 2 - 3 + 4 / 2 )"
   ],
   "outputs": [
    {
     "output_type": "stream",
     "name": "stdout",
     "text": [
      "9.0\n"
     ]
    }
   ],
   "metadata": {}
  },
  {
   "cell_type": "markdown",
   "source": [
    "It is even the same as:"
   ],
   "metadata": {}
  },
  {
   "cell_type": "code",
   "execution_count": 9,
   "source": [
    "print( 5*2 - 3+4    / 2 )"
   ],
   "outputs": [
    {
     "output_type": "stream",
     "name": "stdout",
     "text": [
      "9.0\n"
     ]
    }
   ],
   "metadata": {}
  },
  {
   "cell_type": "markdown",
   "source": [
    "One might think that the code above should result in 6.5 or 1.5, because <i>clearly</i> you have to calculate the `5*2` and the `3+4` before you do the subtraction and division. That is not the case. It does not matter how close you place operands together, spaces are ignored. If you really want to calculate the `3+4` first, you have to put it between parentheses. You can then still use spaces to improve readability, but they mean nothing to Python."
   ],
   "metadata": {}
  },
  {
   "cell_type": "code",
   "execution_count": 10,
   "source": [
    "print( (5*2) - (3+4)/2 )\r\n",
    "print( ((5*2)-(3+4)) / 2 )"
   ],
   "outputs": [
    {
     "output_type": "stream",
     "name": "stdout",
     "text": [
      "6.5\n",
      "1.5\n"
     ]
    }
   ],
   "metadata": {}
  },
  {
   "cell_type": "markdown",
   "source": [
    "**Exercise**: Now it is time to write your first program. In the code block below, write a program that displays the number of seconds in a week. You should, of course, not grab your calculator or smartphone to do the calculation and then just print the resulting number, but you should do the calculation in the Python code."
   ],
   "metadata": {}
  },
  {
   "cell_type": "code",
   "execution_count": 11,
   "source": [
    "# Display the number of seconds in a week\r\n",
    "def seconds(days, hours, minutes, second):\r\n",
    "    result = days * hours * minutes * second\r\n",
    "    return days * hours * minutes * second\r\n",
    "res = seconds (7, 24, 60, 60)\r\n",
    "print(res)"
   ],
   "outputs": [
    {
     "output_type": "stream",
     "name": "stdout",
     "text": [
      "604800\n"
     ]
    }
   ],
   "metadata": {}
  },
  {
   "cell_type": "markdown",
   "source": [
    "Note that we wrote a \"comment line\" in this code block. For Python, if there appears a hash mark (`#`) in a line of code, that means that it should ignore everything on that line to the right of the hash mark. This way you can add textual explanations to your code. More on comments will follow later."
   ],
   "metadata": {}
  },
  {
   "cell_type": "markdown",
   "source": [
    "### String expressions"
   ],
   "metadata": {}
  },
  {
   "cell_type": "markdown",
   "source": [
    "Some of the operators given above can also be used for strings, though not all of them.\n",
    "\n",
    "In particular, you can use the addition operator (`+`) to concatenate two strings, and you can use the multiplication operator (`*`) with a number and a string to create a string that contains a repetition of the original string. Check it out:"
   ],
   "metadata": {}
  },
  {
   "cell_type": "code",
   "execution_count": 12,
   "source": [
    "print( \"hello\"+ \"2\" )\r\n",
    "print( 3*\"hello \" )\r\n",
    "print( \" goodbye\"*3 )"
   ],
   "outputs": [
    {
     "output_type": "stream",
     "name": "stdout",
     "text": [
      "hello2\n",
      "hello hello hello \n",
      " goodbye goodbye goodbye\n"
     ]
    }
   ],
   "metadata": {}
  },
  {
   "cell_type": "markdown",
   "source": [
    "You cannot add a number to a string, or multiply two strings. Such use of the operators is undefined, and will give error messages. None of the other operators listed for numbers will work on strings either.\n",
    "\n",
    "**Exercise (optional):** try to write some opeations on strings that will generate errors."
   ],
   "metadata": {}
  },
  {
   "cell_type": "code",
   "execution_count": 13,
   "source": [
    "# print (\"hello\" * \"hello\") # first example\r\n",
    "print (\"Hello\" + 3) # second example"
   ],
   "outputs": [
    {
     "output_type": "error",
     "ename": "TypeError",
     "evalue": "can only concatenate str (not \"int\") to str",
     "traceback": [
      "\u001b[1;31m---------------------------------------------------------------------------\u001b[0m",
      "\u001b[1;31mTypeError\u001b[0m                                 Traceback (most recent call last)",
      "\u001b[1;32m<ipython-input-13-e3dfd54ced12>\u001b[0m in \u001b[0;36m<module>\u001b[1;34m\u001b[0m\n\u001b[0;32m      1\u001b[0m \u001b[1;31m# print (\"hello\" * \"hello\")\u001b[0m\u001b[1;33m\u001b[0m\u001b[1;33m\u001b[0m\u001b[1;33m\u001b[0m\u001b[0m\n\u001b[1;32m----> 2\u001b[1;33m \u001b[0mprint\u001b[0m \u001b[1;33m(\u001b[0m\u001b[1;34m\"Hello\"\u001b[0m \u001b[1;33m+\u001b[0m \u001b[1;36m3\u001b[0m\u001b[1;33m)\u001b[0m\u001b[1;33m\u001b[0m\u001b[1;33m\u001b[0m\u001b[0m\n\u001b[0m",
      "\u001b[1;31mTypeError\u001b[0m: can only concatenate str (not \"int\") to str"
     ]
    }
   ],
   "metadata": {}
  },
  {
   "cell_type": "markdown",
   "source": [
    "### Type casting"
   ],
   "metadata": {}
  },
  {
   "cell_type": "markdown",
   "source": [
    "Sometimes you need to change the data type of a value into a different data type. You can do that using type casting functions. \n",
    "\n",
    "We will discuss functions in a lot more detail in a Chapter 6, but for now you just need to know that a function has a name, and may have parameters (values) between parentheses after the name. It will do something with the parameters, and then may give back a result. For instance, the `print()` function displays the parameter values that are given to it between the parentheses, and gives nothing in return. \n",
    "\n",
    "The type casting functions take the parameter value between the parentheses and give back a value that is (almost) the same as the parameter value, but of a different data type. The three main type casting functions are the following:\n",
    "\n",
    "- `int()` will return the value between the parentheses as an integer (rounding down if necessary);<br>\n",
    "- `float()` will return the value between the parentheses as a float (adding `.0` if necessary); and<br>\n",
    "- `str()` will return the value between the parentheses as a string.\n",
    "\n",
    "See the difference between the following two lines of code:"
   ],
   "metadata": {}
  },
  {
   "cell_type": "code",
   "execution_count": 16,
   "source": [
    "print(15/4)\r\n",
    "print(int(15/4))"
   ],
   "outputs": [
    {
     "output_type": "stream",
     "name": "stdout",
     "text": [
      "3.75\n",
      "3\n"
     ]
    }
   ],
   "metadata": {}
  },
  {
   "cell_type": "markdown",
   "source": [
    "Or the following two lines of code:"
   ],
   "metadata": {}
  },
  {
   "cell_type": "code",
   "execution_count": 17,
   "source": [
    "print( 15+4 )\r\n",
    "print( float( 15+4 ) )"
   ],
   "outputs": [
    {
     "output_type": "stream",
     "name": "stdout",
     "text": [
      "19\n",
      "19.0\n"
     ]
    }
   ],
   "metadata": {}
  },
  {
   "cell_type": "markdown",
   "source": [
    "We mentioned that you cannot use the addition operator to concatenate a number to a string. However, if you need to do something like that, you can work around the issue by using string type casting:"
   ],
   "metadata": {}
  },
  {
   "cell_type": "code",
   "execution_count": 20,
   "source": [
    "print( \"I own \" + str( 15 ) + \" apples.\" )"
   ],
   "outputs": [
    {
     "output_type": "stream",
     "name": "stdout",
     "text": [
      "I own 15 apples.\n"
     ]
    }
   ],
   "metadata": {}
  },
  {
   "cell_type": "markdown",
   "source": [
    "### Style"
   ],
   "metadata": {}
  },
  {
   "cell_type": "markdown",
   "source": [
    "You might have noticed that in the example code, we use white spaces a lot. For instance, for parentheses attached to functions, we almost always have a white space after the opening parenthesis and before the closing parenthesis. In calculations, we often have white spaces around operators if that makes the calculations more readable. We also often insert empty lines in our code to make it more readable, and consistently use four spaces as indentations.\n",
    "\n",
    "Most of these things are just \"style\". The white spaces next to the parentheses and around operators are not necessary, Python understands the code just as well when they are gone. These four statements are all equivalent:"
   ],
   "metadata": {}
  },
  {
   "cell_type": "code",
   "execution_count": 21,
   "source": [
    "print( 2 + 3 )\r\n",
    "print(2+3)\r\n",
    "print( 2+3)\r\n",
    "print                 (            2             +           3              )"
   ],
   "outputs": [
    {
     "output_type": "stream",
     "name": "stdout",
     "text": [
      "5\n",
      "5\n",
      "5\n",
      "5\n"
     ]
    }
   ],
   "metadata": {}
  },
  {
   "cell_type": "markdown",
   "source": [
    "Attaching the opening parenthesis to a function is something that almost every programmer does, but for the rest, styles of placing white spaces differ between programmers. You can choose your own style in this respect, you do not need to follow the one we use here. But we recommend that you use your chosen style consistently, which will make your code more readable even for programmers who use a different style."
   ],
   "metadata": {}
  },
  {
   "cell_type": "markdown",
   "source": [
    "### What you learned in this section"
   ],
   "metadata": {}
  },
  {
   "cell_type": "markdown",
   "source": [
    "In this section, you learned about:\n",
    "\n",
    "-  Using the `print()` function to display results \n",
    "-  Data types: string, integer, and float\n",
    "-  Calculations\n",
    "-  Basic string expressions\n",
    "-  Type casting between strings, integers, and floats, using `str()`, `int()`, and `float()`\n",
    "\n"
   ],
   "metadata": {}
  },
  {
   "cell_type": "code",
   "execution_count": null,
   "source": [],
   "outputs": [],
   "metadata": {}
  }
 ],
 "metadata": {
  "kernelspec": {
   "name": "python3",
   "display_name": "Python 3.8.8 64-bit ('base': conda)"
  },
  "language_info": {
   "codemirror_mode": {
    "name": "ipython",
    "version": 3
   },
   "file_extension": ".py",
   "mimetype": "text/x-python",
   "name": "python",
   "nbconvert_exporter": "python",
   "pygments_lexer": "ipython3",
   "version": "3.8.8"
  },
  "interpreter": {
   "hash": "84bb68b6704c5e45a3c6f9b0b73c19df905f14a546e9dcd13d8a1772f75e660b"
  }
 },
 "nbformat": 4,
 "nbformat_minor": 2
}