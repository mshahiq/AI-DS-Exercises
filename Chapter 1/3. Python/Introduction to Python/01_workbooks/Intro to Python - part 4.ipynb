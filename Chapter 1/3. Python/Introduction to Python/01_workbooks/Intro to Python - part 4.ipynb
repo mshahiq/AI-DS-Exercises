{
 "cells": [
  {
   "cell_type": "markdown",
   "source": [
    "# Intro to Python - Lecture - Part 4"
   ],
   "metadata": {}
  },
  {
   "cell_type": "markdown",
   "source": [
    "## 4. Conditions"
   ],
   "metadata": {}
  },
  {
   "cell_type": "markdown",
   "source": [
    "In program code, there are often statements that you only want to execute when certain conditions hold. Every programming language therefore supports conditional statements. In this chapter we will explain how to use conditions in Python."
   ],
   "metadata": {}
  },
  {
   "cell_type": "markdown",
   "source": [
    "### Boolean expressions"
   ],
   "metadata": {}
  },
  {
   "cell_type": "markdown",
   "source": [
    "A conditional statement, often called an \"if\"-statement, consists of a test and one or more actions. The test is a so-called \"boolean expression\". The actions are executed when the test evaluates to `True`. For instance, an app on a smartphone might give a warning if the battery level is lower than 5%. This means that the app needs to check if a certain variable `battery_level` is lower than the value 5, i.e., if the comparison `battery_level < 5` evaluates to `True`. If the variable `battery_level` currently holds the value `17`, then `battery_level < 5` evaluates to `False`."
   ],
   "metadata": {}
  },
  {
   "cell_type": "markdown",
   "source": [
    "### Booleans"
   ],
   "metadata": {}
  },
  {
   "cell_type": "markdown",
   "source": [
    "`True` and `False` are so-called \"boolean values\" that are predefined in Python. `True` and `False` are the <i>only</i> boolean values, and anything that is not `False`, is `True`.\n",
    "\n",
    "You might wonder what the data type of `True` and `False` is. The answer is that they are of the type `bool`. However, in Python <i>every</i> value can be interpreted as a boolean value, regardless of its data type. I.e., when you test a condition, and your test is of a value that is not `True` or `False`, it will still be interpreted as either `True` or `False`.\n",
    "\n",
    "The following values are interpreted as `False`:\n",
    "- The special value `False`\n",
    "- The special value `None` (more about that in the next chapter)\n",
    "- Every numerical value that is zero, e.g., `0` and `0.0`\n",
    "- Every empty sequence, e.g., an empty string (`\"\"`)\n",
    "- Every empty \"mapping\", e.g., an empty dictionary (dictionaries follow in a later chapter)\n",
    "- Any function or method call that returns one of these listed values (this includes functions that return nothing; more about that in the next chapter)\n",
    "\n",
    "Every other value is interpreted as `True`. \n",
    "\n",
    "Any expression that is evaluated as `True` or `False` is called a \"boolean expression\"."
   ],
   "metadata": {}
  },
  {
   "cell_type": "markdown",
   "source": [
    "### Comparisons"
   ],
   "metadata": {}
  },
  {
   "cell_type": "markdown",
   "source": [
    "The most common boolean expressions are comparisons. A comparison consists of two values, and a comparison operator in between. Comparison operators are:\r\n",
    "\r\n",
    "    <    less than\r\n",
    "    <=   less than or equal to\r\n",
    "    ==   equal to\r\n",
    "    >=   equal to or greater than\r\n",
    "    >    greater than\r\n",
    "    !=   not equal\r\n",
    "\r\n",
    "A common mistake is to use a single `=` as a comparison operator, but the single `=` is the assignment operator. In general, Python will produce a syntax or runtime error if you try to use a single `=` to make a a comparison.\r\n",
    "\r\n",
    "You can use the comparison operators to compare both numbers and strings. Comparison for strings is an alphabetical comparison, whereby all **capitals come before all lower case letters (and digits come before both of them). ** Numbers, CAPITALS, lowercase\r\n",
    "\r\n",
    "Here are some examples of the results of comparisons:"
   ],
   "metadata": {}
  },
  {
   "cell_type": "code",
   "execution_count": 8,
   "source": [
    "print(\"1.\", 2 < 5 )\r\n",
    "print(\"2.\", 2 <= 5 )\r\n",
    "print(\"3.\", 3 > 3 )\r\n",
    "print(\"4.\", 3 >= 3 )\r\n",
    "print(\"5.\", 3 == 3.0 )\r\n",
    "print(\"6.\", 3 == \"3\" )\r\n",
    "print(\"7.\", \"syntax\" == \"syntax\" )\r\n",
    "print(\"8.\", \"syntax\" == \"semantics\" )\r\n",
    "print(\"9.\", \"syntax\" == \" syntax\" )\r\n",
    "print(\"10.\", \"Python\" != \"rubbish\" )\r\n",
    "print(\"11.\", \"Python\" > \"Perl\")\r\n",
    "print(\"12.\", \"banana\" < \"orange\") \r\n",
    "print(\"13.\", \"banana\" < \"orange\")\r\n",
    "print(\"o\" == int)"
   ],
   "outputs": [
    {
     "output_type": "stream",
     "name": "stdout",
     "text": [
      "1. True\n",
      "2. True\n",
      "3. False\n",
      "4. True\n",
      "5. True\n",
      "6. False\n",
      "7. True\n",
      "8. False\n",
      "9. False\n",
      "10. True\n",
      "11. True\n",
      "12. True\n",
      "13. True\n",
      "False\n"
     ]
    }
   ],
   "metadata": {}
  },
  {
   "cell_type": "markdown",
   "source": [
    "Comparisons of data types that cannot be compared, in general lead to runtime errors."
   ],
   "metadata": {}
  },
  {
   "cell_type": "code",
   "execution_count": 2,
   "source": [
    "# This code gives a runtime error.\r\n",
    "print( 3 < \"3\" )"
   ],
   "outputs": [
    {
     "output_type": "error",
     "ename": "TypeError",
     "evalue": "'<' not supported between instances of 'int' and 'str'",
     "traceback": [
      "\u001b[0;31m---------------------------------------------------------------------------\u001b[0m",
      "\u001b[0;31mTypeError\u001b[0m                                 Traceback (most recent call last)",
      "\u001b[0;32m<ipython-input-2-ee7dc9f694ad>\u001b[0m in \u001b[0;36m<module>\u001b[0;34m\u001b[0m\n\u001b[1;32m      1\u001b[0m \u001b[0;31m# This code gives a runtime error.\u001b[0m\u001b[0;34m\u001b[0m\u001b[0;34m\u001b[0m\u001b[0;34m\u001b[0m\u001b[0m\n\u001b[0;32m----> 2\u001b[0;31m \u001b[0mprint\u001b[0m\u001b[0;34m(\u001b[0m \u001b[0;36m3\u001b[0m \u001b[0;34m<\u001b[0m \u001b[0;34m\"3\"\u001b[0m \u001b[0;34m)\u001b[0m\u001b[0;34m\u001b[0m\u001b[0;34m\u001b[0m\u001b[0m\n\u001b[0m",
      "\u001b[0;31mTypeError\u001b[0m: '<' not supported between instances of 'int' and 'str'"
     ]
    }
   ],
   "metadata": {}
  },
  {
   "cell_type": "markdown",
   "source": [
    "Functions can return a boolean value. The following code defines a function `isPositive` which returns `True` if its parameter is a positive number, and `False` otherwise:"
   ],
   "metadata": {}
  },
  {
   "cell_type": "code",
   "execution_count": 1,
   "source": [
    "def isPositive(number):\r\n",
    "    return number > 0\r\n",
    "\r\n",
    "print(isPositive(4))\r\n",
    "print(isPositive(-12.4))"
   ],
   "outputs": [
    {
     "output_type": "stream",
     "name": "stdout",
     "text": [
      "True\n",
      "False\n"
     ]
    }
   ],
   "metadata": {}
  },
  {
   "cell_type": "markdown",
   "source": [
    "###  `in` operator"
   ],
   "metadata": {}
  },
  {
   "cell_type": "markdown",
   "source": [
    "Python has a special operator called the \"membership test operator\", which is usually abbreviated to the \"in operator\" as it is written as `in`. The `in` operator tests if the value to the left side of the operator is found in the collection to the right side of the operator.\r\n",
    "\r\n",
    "At this time, we have discussed only one \"collection\", which is the string. A string is a collection of characters. You can test if a particular character or a sequence of characters is part of the string using the `in` operator. The opposite of the `in` operator is the `not in` operator, which gives `True` when `in` gives `False`, and which gives `False` when `in` gives `True`. \r\n",
    "\r\n",
    "For example:"
   ],
   "metadata": {}
  },
  {
   "cell_type": "code",
   "execution_count": 12,
   "source": [
    "print(\"1.\",\"y\" in \"Python\")\r\n",
    "print(\"2.\",\"x\" in \"Python\")\r\n",
    "print(\"3.\",\"p\" in \"Python\")\r\n",
    "print(\"4.\",\"th\" in \"Python\")\r\n",
    "print(\"5.\",\"to\" in \"Python\")\r\n",
    "print(\"6.\",\"y\" not in \"Python\")"
   ],
   "outputs": [
    {
     "output_type": "stream",
     "name": "stdout",
     "text": [
      "1. True\n",
      "2. False\n",
      "3. False\n",
      "4. True\n",
      "5. False\n",
      "6. False\n"
     ]
    }
   ],
   "metadata": {}
  },
  {
   "cell_type": "markdown",
   "source": [
    "### Logical operators"
   ],
   "metadata": {}
  },
  {
   "cell_type": "markdown",
   "source": [
    "Boolean expressions can be combined with logical operators. There are three logical operators, `and`, `or`, and `not`.\r\n",
    "\r\n",
    "`and` and `or` are placed between two boolean expressions. When `and` is between two boolean expressions, the result is `True` if and only if both expressions evaluate to `True`; otherwise it is `False`. When `or` is between two boolean expressions, the result is `True` when one or both of the expressions evaluate to `True`; it is only `False` if both expressions evaluate to `False`.\r\n",
    "\r\n",
    "`not` is placed in front of a boolean expression to switch it from `True` to `False` or vice versa.\r\n",
    "\r\n",
    "For example:"
   ],
   "metadata": {}
  },
  {
   "cell_type": "code",
   "execution_count": 13,
   "source": [
    "t = True\r\n",
    "f = False\r\n",
    "\r\n",
    "print(t and t)\r\n",
    "print(t and f)\r\n",
    "print(f and t)\r\n",
    "print(f and f)\r\n",
    "\r\n",
    "print(t or t)\r\n",
    "print(t or f)\r\n",
    "print(f or t)\r\n",
    "print(f or f)\r\n",
    "\r\n",
    "print(not t)\r\n",
    "print(not f)"
   ],
   "outputs": [
    {
     "output_type": "stream",
     "name": "stdout",
     "text": [
      "True\n",
      "False\n",
      "False\n",
      "False\n",
      "True\n",
      "True\n",
      "True\n",
      "False\n",
      "False\n",
      "True\n"
     ]
    }
   ],
   "metadata": {}
  },
  {
   "cell_type": "markdown",
   "source": [
    "### Conditional statements"
   ],
   "metadata": {}
  },
  {
   "cell_type": "markdown",
   "source": [
    "Conditional statements are, as the introduction to this chapter said, statements consisting of a test and one or more actions, whereby the actions only get executed if the test evaluates to `True`. Conditional statements are also called \"if-statements\", as they are written using the special keyword `if`.\n",
    "\n",
    "Here is an example:"
   ],
   "metadata": {}
  },
  {
   "cell_type": "code",
   "execution_count": 14,
   "source": [
    "x = 9\r\n",
    "if x < 10:\r\n",
    "    print(\"x less then 10\")"
   ],
   "outputs": [
    {
     "output_type": "stream",
     "name": "stdout",
     "text": [
      "x less then 10\n"
     ]
    }
   ],
   "metadata": {}
  },
  {
   "cell_type": "markdown",
   "source": [
    "The syntax of the `if` statement is as follows:\n",
    "\n",
    "    if <boolean expression>:\n",
    "        <statements>\n",
    "\n",
    "Note the colon (`:`) after the boolean expression, and the fact that `<statements>` is indented."
   ],
   "metadata": {}
  },
  {
   "cell_type": "markdown",
   "source": [
    "### Code blocks"
   ],
   "metadata": {}
  },
  {
   "cell_type": "markdown",
   "source": [
    "In the syntactic description of the `if` statement shown above, you see that the `<statements>` are \"indented\", i.e., they are placed one tabulation to the right. This is intentional and <u>necessary</u>. Python considers statements that are following each other and that are at the same level of indentation part of a code block. The code block underneath the first line of the `if` statement is considered to be the list of actions that are executed when the boolean expression evaluates to `True`.\r\n",
    "\r\n",
    "For example:"
   ],
   "metadata": {}
  },
  {
   "cell_type": "code",
   "execution_count": 15,
   "source": [
    "x = 7\r\n",
    "if x < 10:\r\n",
    "    print(\"This line is only executed if x < 10.\")\r\n",
    "    print(\"And the same holds for this line.\")\r\n",
    "print(\"This line, however, is always executed.\")"
   ],
   "outputs": [
    {
     "output_type": "stream",
     "name": "stdout",
     "text": [
      "This line is only executed if x < 10.\n",
      "And the same holds for this line.\n",
      "This line, however, is always executed.\n"
     ]
    }
   ],
   "metadata": {}
  },
  {
   "cell_type": "markdown",
   "source": [
    "**Exercise**: Change the value of `x` to see how it affects the outcome of the code.\n",
    "\n",
    "Thus, all the statements under the `if` that are indented, belong to the code block that is executed when the boolean expression of the `if` statement evaluates to `True`. This code block is skipped if the boolean expression evaluates to `False`. Statements which follow the `if` construction which are not indented (as deep as the code block under the `if`), are executed, regardless of whether the boolean expression evaluates to `True` or `False`."
   ],
   "metadata": {}
  },
  {
   "cell_type": "markdown",
   "source": [
    "Naturally, you are not restricted to having just a single `if` statement in your code. You can have as many as you like:"
   ],
   "metadata": {}
  },
  {
   "cell_type": "code",
   "execution_count": 47,
   "source": [
    "def print_status(x):\r\n",
    "    \r\n",
    "    if x > 4:\r\n",
    "        print(x, \"is greater than 4\")\r\n",
    "    elif x == 4:\r\n",
    "        print (x, \"is equal to 4\")\r\n",
    "    else:\r\n",
    "        print(x, \"is less than 4\")\r\n",
    "    return x\r\n",
    "print(print_status(3))"
   ],
   "outputs": [
    {
     "output_type": "stream",
     "name": "stdout",
     "text": [
      "3 is less than 4\n",
      "3\n"
     ]
    }
   ],
   "metadata": {}
  },
  {
   "cell_type": "markdown",
   "source": [
    "**Exercise**: Test this function by giving it different parameters and see how it affects the outcome."
   ],
   "metadata": {}
  },
  {
   "cell_type": "markdown",
   "source": [
    "### Two-way decisions"
   ],
   "metadata": {}
  },
  {
   "cell_type": "markdown",
   "source": [
    "### Indentation"
   ],
   "metadata": {}
  },
  {
   "cell_type": "markdown",
   "source": [
    "In Python, __correct indenting is of the utmost importance__! Without correct indentation, Python will not be able to recognize which statements belong together as one code block, and therefore cannot execute your code correctly.\r\n",
    "\r\n",
    "**Side note**: In many programming languages (actually, in almost all programming languages), code blocks are recognized by having them start and end with a specific symbol or keyword. For instance, in languages such as Java and C++, code blocks are enclosed by curly brackets, while in languages such as Pascal and Modula, code blocks are started with the keyword `begin` and ended with the keyword `end`. That means that in almost all languages, indenting to recognize code blocks is not necessary. However, you will find that code written by capable programmers is always nicely indented, regardless of the language. This makes it easy to see which code belongs together, for instance, which commands belong to an `if` statement. Python makes indenting a requirement. While for experienced programmers who are new to Python this seems strange at first, they quickly find that they do not care -- they were indenting nicely anyway, and Python's strategy makes that beginning programmers are also required to write nice-looking code.\r\n",
    "\r\n",
    "Note that you can indent using the *Tab* key, or indent using spaces. Most editors (including the editor in these notebooks) will auto-indent for you, i.e., if, for instance, you write the first line of an `if` statement, once you press *Enter* to go to the next line, it will automatically \"jump in\" one level of indentation (if it does not, it is very likely that you forgot the colon at the end of the conditional expression). Also, when you have indented one line to a certain level of indentation, the next line will use the same level. You can get rid of indentations using the *Backspace* key.\r\n",
    "\r\n",
    "For Python programs, a normal level of indentation is four spaces, i.e., one press of the *Tab* key should \"jump in\" four spaces. As long as you are in one editor, you can in such a case either use the *Tab* key, or press the spacebar four times, to go up one indentation level. So far so good. You may get into problems, however, if you port your code to another editor, which might have a different setting for the *Tab* key. If you edit your code in a such a different editor, even though it might look okay, Python may see that there are indentation conflicts (a mix of tabulations and space-indentations) and may report a syntax error when you try to run your code. Most editors therefore offer the option to automatically replace tabulations with spaces, so that such problems do not arise. If you use a text editor to write Python code, check if it contains such an option, and if so, ensure that tabulations are set to 4 and are automatically replaced by spaces."
   ],
   "metadata": {}
  },
  {
   "cell_type": "markdown",
   "source": [
    "### Two-way decisions"
   ],
   "metadata": {}
  },
  {
   "cell_type": "markdown",
   "source": [
    "Often a decision branches, e.g., if a certain condition arises, you want to take a particular action, but if it does not arise, you want to take another action. This is supported by Python in the form of an expansion to the `if` statement that adds an `else` branch:"
   ],
   "metadata": {}
  },
  {
   "cell_type": "code",
   "execution_count": 49,
   "source": [
    "def bigger_than_two(x):\r\n",
    "    if x > 2:\r\n",
    "        print(x, \"is bigger than 2\")\r\n",
    "    else:\r\n",
    "        print(\"smaller than or equal to 2\") \r\n",
    "        \r\n",
    "bigger_than_two(4444)"
   ],
   "outputs": [
    {
     "output_type": "stream",
     "name": "stdout",
     "text": [
      "4444 is bigger than 2\n"
     ]
    }
   ],
   "metadata": {}
  },
  {
   "cell_type": "markdown",
   "source": [
    "The syntax is as follows:\n",
    "\n",
    "    if <boolean expression>:\n",
    "        <statements>\n",
    "    else:\n",
    "        <statements>\n",
    "\n",
    "Note the colon (`:`) after both the boolean expression and the `else`.\n",
    "\n",
    "It is important that the word `else` is aligned with the word `if` that it belongs to. If you do not align them correctly, this results in an indentation error.\n",
    "\n",
    "A consequence of adding an `else` branch to an `if` statement is that always exactly one of the two code blocks will be executed. If the boolean expression of the `if` statement evaluates to `True`, the code block directly under the `if` will be executed, and the code block directly under the `else` will be skipped. If it evaluates to `False`, the code block directly under the `if` will be skipped, while the code block directly under the `else` will be executed.\n",
    "\n",
    "**Exercise**: Write a function `isOdd` which returns `True` if its integer parameter is odd or `False` if it's even. You can use the modulo operator. Test your function with different parameter values."
   ],
   "metadata": {}
  },
  {
   "cell_type": "code",
   "execution_count": 72,
   "source": [
    "# function isOdd\r\n",
    "#Your Code Here\r\n",
    "def isOdd (n):\r\n",
    "    if n % 2 == 1:\r\n",
    "        print(n, \"is odd number\")\r\n",
    "    else:\r\n",
    "        print (n, \"is even number\")\r\n",
    "\r\n",
    "(isOdd(22))"
   ],
   "outputs": [
    {
     "output_type": "stream",
     "name": "stdout",
     "text": [
      "22 is even number\n"
     ]
    }
   ],
   "metadata": {}
  },
  {
   "cell_type": "markdown",
   "source": [
    "### Multi-branch decisions"
   ],
   "metadata": {}
  },
  {
   "cell_type": "markdown",
   "source": [
    "Occasionally, you encounter multi-branch decisions, where one of multiple blocks of commands has to be executed, but never more than one block. Such multi-branch decisions can be implemented using a further expansion of the `if` statement, namely in the form of one or more `elif` statements (`elif` stands for \"else if\"):"
   ],
   "metadata": {}
  },
  {
   "cell_type": "code",
   "execution_count": 75,
   "source": [
    "def age_status(age):\r\n",
    "    if age < 12:\r\n",
    "        print(\"You're still a child!\")\r\n",
    "    elif age < 18:\r\n",
    "        print(\"You are a teenager!\")\r\n",
    "    elif age < 30:\r\n",
    "        print(\"You're pretty young!\")\r\n",
    "    elif age < 50:\r\n",
    "        print(\"Wisening up, are we?\")\r\n",
    "    else:\r\n",
    "        print(\"Aren't the years weighing heavy on your shoulders?\")\r\n",
    "        \r\n",
    "age_status(22)"
   ],
   "outputs": [
    {
     "output_type": "stream",
     "name": "stdout",
     "text": [
      "You're pretty young!\n"
     ]
    }
   ],
   "metadata": {}
  },
  {
   "cell_type": "markdown",
   "source": [
    "Change the parameter value and test the function `age_status`.\r\n",
    "\r\n",
    "The syntax is as follows:\r\n",
    "\r\n",
    "    if <boolean expression>:\r\n",
    "        <statements>\r\n",
    "    elif <boolean expression>:\r\n",
    "        <statements>\r\n",
    "    else:\r\n",
    "        <statements>\r\n",
    "\r\n",
    "The syntax above shows only one `elif`, but you can have multiple. The different tests in an `if`-`elif`-`else` construct are executed in order. The first boolean expression that evaluates to `True` will cause the code block that belongs to that expression to be executed. None of the other code blocks of the construct will be executed.\r\n",
    "\r\n",
    "In other words: First the boolean expression next to the `if` will be evaluated. If it evaluates to `True`, the code block underneath the `if` will be executed. If it evaluates to `False`, the boolean expression for the first `elif` will be evaluated. If that turns out to be `True`, the code block underneath it will be executed. If it is `False`, Python will check the boolean expression for the next `elif`. Etcetera. Only when all the boolean expressions for the `if` and all of the `elif`s evaluate to `False`, the code block underneath the `else` will be executed.\r\n",
    "\r\n",
    "The consequence is that in the code above, for the first `elif`, you do not need to test `age >= 12 and age < 18`. Just testing `age < 18` suffices, because if `age` was smaller than `12`, already the boolean expression for the `if` would have evaluated to `True`, and the boolean expression for the first `elif` would not even have been encountered by Python.\r\n",
    "\r\n",
    "Note that the inclusion of the `else` branch is always optional. However, in most cases where we need `elif`s we include it anyway, if only for error checking.\r\n",
    "\r\n",
    "**Exercise:** Write a function that takes a parameter `weight`. If `weight` is greater than 20 (kilo's), print: \"There is a $25 surcharge for luggage that is too heavy.\" If `weight` is smaller than 20, print: \"Thank you for your business.\" If `weight` is exactly 20, print: \"Pfew! The weight is just right!\". Test the function for different values of `weight`to make sure your code works."
   ],
   "metadata": {}
  },
  {
   "cell_type": "code",
   "execution_count": 79,
   "source": [
    "# Weight function\r\n",
    "def weight (weight):\r\n",
    "    #Your Code Here\r\n",
    "    if weight > 20:\r\n",
    "        print(\"There is a $25 surcharge for luggage that is too heavy.\")\r\n",
    "    elif weight == 20:\r\n",
    "        print(\"Pfew! The weight is just right!\")\r\n",
    "    else:\r\n",
    "        print(\"Thankyou for your business\")\r\n",
    "    \r\n",
    "weight(20)"
   ],
   "outputs": [
    {
     "output_type": "stream",
     "name": "stdout",
     "text": [
      "Pfew! The weight is just right!\n"
     ]
    }
   ],
   "metadata": {}
  },
  {
   "cell_type": "markdown",
   "source": [
    "### Nested conditions"
   ],
   "metadata": {}
  },
  {
   "cell_type": "markdown",
   "source": [
    "Given the rules of the `if-elif-else` statements and identation, it is perfectly possible to use an `if` statement within another `if` statement. This second `if` statement is only executed if the condition for the first `if` statement evaluates to `True`, as it belongs to the code block of the first `if` statement. This is called \"nesting\"."
   ],
   "metadata": {}
  },
  {
   "cell_type": "code",
   "execution_count": 84,
   "source": [
    "x = 1092\r\n",
    "if x%7 == 0:\r\n",
    "    # --- Here starts a nested block of code ---\r\n",
    "    if x%11 == 0:\r\n",
    "        print(x, \"is dividable by both 7 and 11.\")\r\n",
    "    else:\r\n",
    "        print(x, \"is dividable by 7, but not by 11.\")\r\n",
    "    # --- Here ends the nested block of code ---\r\n",
    "elif x%11 == 0:\r\n",
    "    print(x, \"is dividable by 11, but not by 7.\")\r\n",
    "else:\r\n",
    "    print(x, \"is dividable by neither 7 nor 11.\")"
   ],
   "outputs": [
    {
     "output_type": "stream",
     "name": "stdout",
     "text": [
      "1092 is dividable by 7, but not by 11.\n"
     ]
    }
   ],
   "metadata": {}
  },
  {
   "cell_type": "markdown",
   "source": [
    "**Exercise**: Change the value of `x` and observe the results."
   ],
   "metadata": {}
  },
  {
   "cell_type": "markdown",
   "source": [
    "### Early exits"
   ],
   "metadata": {}
  },
  {
   "cell_type": "markdown",
   "source": [
    "Occasionally it happens that you want to exit a function (or program) early when a certain condition arises. For instance, your function receives and processes an integer value extensively. But if the value cannot be processed, the function should just return an error message. You could write the function that as follows:"
   ],
   "metadata": {}
  },
  {
   "cell_type": "code",
   "execution_count": 87,
   "source": [
    "def handle_number(num):\r\n",
    "    if num < 0:\r\n",
    "        print(\"I cannot handle a negative integer, you clod!\")\r\n",
    "    else:\r\n",
    "        print(\"Now I am processing your integer\", num)\r\n",
    "        print(\"Lots and lots of processing\")\r\n",
    "        print(\"Hundreds of lines of code here\")\r\n",
    "        \r\n",
    "handle_number(0)"
   ],
   "outputs": [
    {
     "output_type": "stream",
     "name": "stdout",
     "text": [
      "Now I am processing your integer 0\n",
      "Lots and lots of processing\n",
      "Hundreds of lines of code here\n"
     ]
    }
   ],
   "metadata": {}
  },
  {
   "cell_type": "markdown",
   "source": [
    "It is a bit irritating that most of your program is already one indent deep, while you would have preferred to leave the program at the error message, and then have the rest of the program at the top indent level.\n",
    "\n",
    "You can do that using an early `return` statement:"
   ],
   "metadata": {}
  },
  {
   "cell_type": "code",
   "execution_count": 88,
   "source": [
    "def handle_number(num):\r\n",
    "    if num < 0:\r\n",
    "        print(\"I cannot handle a negative integer, you clod!\")\r\n",
    "        return\r\n",
    "    \r\n",
    "    print(\"Now I am processing your integer\", num)\r\n",
    "    print(\"Lots and lots of processing\")\r\n",
    "    print(\"Hundreds of lines of code here\")\r\n",
    "    \r\n",
    "handle_number(-2)"
   ],
   "outputs": [
    {
     "output_type": "stream",
     "name": "stdout",
     "text": [
      "I cannot handle a negative integer, you clod!\n"
     ]
    }
   ],
   "metadata": {}
  },
  {
   "cell_type": "markdown",
   "source": [
    "When you run call this function with a negative parameter value, the function prints an error message and ends without running the rest of its code. "
   ],
   "metadata": {}
  },
  {
   "cell_type": "markdown",
   "source": [
    "### What you learned"
   ],
   "metadata": {}
  },
  {
   "cell_type": "markdown",
   "source": [
    "In this chapter, you learned about:\n",
    "\n",
    "- What boolean expressions are\n",
    "- Boolean values `True` and `False`\n",
    "- Comparisons with `<`, `<=`, `==`, `>`, `>=`, and `!=`\n",
    "- The `in` operator\n",
    "- Logical operators `and`, `or`, and `not`\n",
    "- Conditional statements using `if`, `elif`, and `else`\n",
    "- Code blocks\n",
    "- Indentation\n",
    "- Nested conditions"
   ],
   "metadata": {}
  }
 ],
 "metadata": {
  "kernelspec": {
   "name": "python3",
   "display_name": "Python 3.8.8 64-bit ('base': conda)"
  },
  "language_info": {
   "codemirror_mode": {
    "name": "ipython",
    "version": 3
   },
   "file_extension": ".py",
   "mimetype": "text/x-python",
   "name": "python",
   "nbconvert_exporter": "python",
   "pygments_lexer": "ipython3",
   "version": "3.8.8"
  },
  "interpreter": {
   "hash": "84bb68b6704c5e45a3c6f9b0b73c19df905f14a546e9dcd13d8a1772f75e660b"
  }
 },
 "nbformat": 4,
 "nbformat_minor": 2
}