{
 "cells": [
  {
   "cell_type": "markdown",
   "source": [
    "# Intro to Python - Lecture - Part 3"
   ],
   "metadata": {}
  },
  {
   "cell_type": "markdown",
   "source": [
    "## 3. Functions"
   ],
   "metadata": {}
  },
  {
   "cell_type": "markdown",
   "source": [
    "Up to this point, we have already introduced some basic \"functions\", such as `print()` and `int()`. In this chapter  functions will be discussed a bit more in-depth, and we will teach you how to create your own functions.\n",
    "\n",
    "A function is a block of reusable code that performs some action. To get a function to do its job, you \"call\" it, with some appropriate parameters if the function requires them. The idea is that you do not need to have knowledge about <i>how</i> a function performs its action. You only need to know three things:\n",
    "\n",
    "- The name of the function\n",
    "- The parameters it needs (if any)\n",
    "- The value it returns (if any)\n",
    "\n",
    "These will now be discussed in turn."
   ],
   "metadata": {}
  },
  {
   "cell_type": "markdown",
   "source": [
    "### Function name"
   ],
   "metadata": {}
  },
  {
   "cell_type": "markdown",
   "source": [
    "Each function has a name. Like a variable name, a function name may consist of letters, digits, and underscores, and cannot start with a digit. Almost all standard Python functions consist only of lower case letters. Usually a function name expresses concisely what the function does.\n",
    "\n",
    "When referring to a function, it is convention to use the name, and put an opening and closing parenthesis after the name (for example `print()`), as functions are always called in code with such parentheses."
   ],
   "metadata": {}
  },
  {
   "cell_type": "markdown",
   "source": [
    "### Parameters"
   ],
   "metadata": {}
  },
  {
   "cell_type": "markdown",
   "source": [
    "Some functions are called with parameters (\"arguments\"), which may or may not be mandatory. The parameters are placed between the parentheses that follow the function name. If there are multiple parameters, you place commas between them.\n",
    "\n",
    "The parameters are the values that the user supplies to the function to work with. For instance, the `int()` function must be called with one parameter, which is the value that the function will try to make into an integer. The `print()` function may be called with any number of parameters (even zero), which it will display, after which it will go to a new line:"
   ],
   "metadata": {}
  },
  {
   "cell_type": "code",
   "execution_count": 1,
   "source": [
    "print(5)\r\n",
    "print(5*2)\r\n",
    "print(\"parameter1\", \"parameter2\")"
   ],
   "outputs": [
    {
     "output_type": "stream",
     "name": "stdout",
     "text": [
      "5\n",
      "10\n",
      "parameter1 parameter2\n"
     ]
    }
   ],
   "metadata": {}
  },
  {
   "cell_type": "markdown",
   "source": [
    "In general, a function cannot change parameters. For instance, look at the following code:"
   ],
   "metadata": {}
  },
  {
   "cell_type": "code",
   "execution_count": 2,
   "source": [
    "x = 1.56\r\n",
    "print(int(x))\r\n",
    "print(x)"
   ],
   "outputs": [
    {
     "output_type": "stream",
     "name": "stdout",
     "text": [
      "1\n",
      "1.56\n"
     ]
    }
   ],
   "metadata": {}
  },
  {
   "cell_type": "markdown",
   "source": [
    "As you can see when you run this code, the `int()` function has not changed the actual value of `x`; it only told the `print()` function what the integer value of `x` is. The reason is that, in general, parameters are \"passed by value\". This means that the function does not get access to the actual parameters, but it gets copies of the values of the parameters. I say \"in general\" because not all data types are \"passed by value\", but the ones we have discussed until now are. It will be a while before you get to a chapter that introduces data types that can be changed by functions when they are passed as parameters, and we will make it clear how that works when it comes up.\n",
    "\n",
    "If a function gets multiple parameters, their order matters. For instance, the function `pow()` gets two parameters, and raises the first to the power of the second."
   ],
   "metadata": {}
  },
  {
   "cell_type": "code",
   "execution_count": 7,
   "source": [
    "base = 2\r\n",
    "exponent = 3\r\n",
    "print(pow(base, exponent))"
   ],
   "outputs": [
    {
     "output_type": "stream",
     "name": "stdout",
     "text": [
      "8\n"
     ]
    }
   ],
   "metadata": {}
  },
  {
   "cell_type": "markdown",
   "source": [
    "The names of the variables that are used as parameters do not matter, the first is raised to the power of the second. So the following example will give a different outcome than the first, as the same variables are given to the function in a different (rather confusing) order."
   ],
   "metadata": {}
  },
  {
   "cell_type": "code",
   "execution_count": 4,
   "source": [
    "base = 2\r\n",
    "exponent = 3\r\n",
    "print( pow( exponent, base ) ) # confusing use of variables "
   ],
   "outputs": [
    {
     "output_type": "stream",
     "name": "stdout",
     "text": [
      "9\n"
     ]
    }
   ],
   "metadata": {}
  },
  {
   "cell_type": "markdown",
   "source": [
    "What happens if you try to call a function with parameters that it cannot work with? For instance, what happens if we call the `int()` function with a string that does not contain an integer value, or the `pow()` function with strings instead of numbers? In general, this will lead to runtime errors in your code. For instance, both lines of the code below give a runtime error."
   ],
   "metadata": {}
  },
  {
   "cell_type": "code",
   "execution_count": 5,
   "source": [
    "x = pow(3, \"two\")\r\n",
    "print(x)\r\n",
    "y = int(\"2.5\")\r\n",
    "print(y)"
   ],
   "outputs": [
    {
     "output_type": "error",
     "ename": "TypeError",
     "evalue": "unsupported operand type(s) for ** or pow(): 'int' and 'str'",
     "traceback": [
      "\u001b[0;31m---------------------------------------------------------------------------\u001b[0m",
      "\u001b[0;31mTypeError\u001b[0m                                 Traceback (most recent call last)",
      "\u001b[0;32m<ipython-input-5-781b84f08dfd>\u001b[0m in \u001b[0;36m<module>\u001b[0;34m\u001b[0m\n\u001b[0;32m----> 1\u001b[0;31m \u001b[0mx\u001b[0m \u001b[0;34m=\u001b[0m \u001b[0mpow\u001b[0m\u001b[0;34m(\u001b[0m\u001b[0;36m3\u001b[0m\u001b[0;34m,\u001b[0m \u001b[0;34m\"two\"\u001b[0m\u001b[0;34m)\u001b[0m\u001b[0;34m\u001b[0m\u001b[0;34m\u001b[0m\u001b[0m\n\u001b[0m\u001b[1;32m      2\u001b[0m \u001b[0mprint\u001b[0m\u001b[0;34m(\u001b[0m\u001b[0mx\u001b[0m\u001b[0;34m)\u001b[0m\u001b[0;34m\u001b[0m\u001b[0;34m\u001b[0m\u001b[0m\n\u001b[1;32m      3\u001b[0m \u001b[0my\u001b[0m \u001b[0;34m=\u001b[0m \u001b[0mint\u001b[0m\u001b[0;34m(\u001b[0m\u001b[0;34m\"2.5\"\u001b[0m\u001b[0;34m)\u001b[0m\u001b[0;34m\u001b[0m\u001b[0;34m\u001b[0m\u001b[0m\n\u001b[1;32m      4\u001b[0m \u001b[0mprint\u001b[0m\u001b[0;34m(\u001b[0m\u001b[0my\u001b[0m\u001b[0;34m)\u001b[0m\u001b[0;34m\u001b[0m\u001b[0;34m\u001b[0m\u001b[0m\n",
      "\u001b[0;31mTypeError\u001b[0m: unsupported operand type(s) for ** or pow(): 'int' and 'str'"
     ]
    }
   ],
   "metadata": {}
  },
  {
   "cell_type": "markdown",
   "source": [
    "### Returning a value"
   ],
   "metadata": {}
  },
  {
   "cell_type": "markdown",
   "source": [
    "A function may or may not \"return\" a value. If a function returns a value, that value can be used in your code. For instance, the function `int()` returns an integer representation of the parameter it gets. You can place this return value in a variable, using an assignment, or use it in a different manner, for instance immediately print it. You can even do nothing with it, though there is little reason to call the function in that case."
   ],
   "metadata": {}
  },
  {
   "cell_type": "code",
   "execution_count": 8,
   "source": [
    "x = 2.1\r\n",
    "y = '3'\r\n",
    "z = int(x)\r\n",
    "print(z)\r\n",
    "print(int(y))"
   ],
   "outputs": [
    {
     "output_type": "stream",
     "name": "stdout",
     "text": [
      "2\n",
      "3\n"
     ]
    }
   ],
   "metadata": {}
  },
  {
   "cell_type": "markdown",
   "source": [
    "As you can see from the example above, you can even use function calls as parameters for a function; e.g., the second call to the `print()` function in the example gets as parameter a call to the function `int()`. In this example, the call to the `int()` function is executed before the `print()` function is called, as Python first calculates the values for all the parameters before it makes a function call. \n",
    "\n",
    "Not all functions return a value. For instance, the `print()` function does not. If you are not careful, this may lead to strange behavior of your program. For instance, examine and run the following code:"
   ],
   "metadata": {}
  },
  {
   "cell_type": "code",
   "execution_count": 11,
   "source": [
    "print(print(\"Hello, world!\"))"
   ],
   "outputs": [
    {
     "output_type": "stream",
     "name": "stdout",
     "text": [
      "Hello, world!\n",
      "None\n"
     ]
    }
   ],
   "metadata": {}
  },
  {
   "cell_type": "markdown",
   "source": [
    "You can see that this code prints two lines, the first containing the text \"Hello, world!\", and the second containing the word \"None\". What is that \"None\" doing there? To find that out, let's examine how Python evaluates this statement.\n",
    "\n",
    "When Python first encounters this statement, it sees `print( <something> )`. Since `<something>` is an argument, it starts by evaluating that. `<something>` is actually `print( <something_else> )`. Since `<something_else>` is an argument, it now evaluates that. `<something_else>` is the string `\"Hello, world!\"`. This is not something that needs to be evaluated, so it calls `print()` with this string as argument, and \"captures\" the return value of `print()` because it needs it as the evaluation of `<something>`.\n",
    "\n",
    "Here is the crux: `print()` has *no* return value, so there is nothing that Python can use for `<something>`. For situations such as this, Python has a special value called `None`. So the first `print()` gets called with `None` as argument, and this leads to Python displaying the word \"None\". \n",
    "\n",
    "`None` is a special value that indicates \"no value at all\". If you try to print such a value, Python prints the word `None`, but is not actually printing a string that is \"None\". It only indicates that there was nothing to print. `None` is different from, for instance, an empty string (`\"\"`). An empty string is still a value, namely a string of length zero. `None` is no string at all, no integer, no float, nothing. So be careful when trying to use a function call as a parameter; if the function does not actually return a value, weird things may happen."
   ],
   "metadata": {}
  },
  {
   "cell_type": "markdown",
   "source": [
    "### A function is a black box"
   ],
   "metadata": {}
  },
  {
   "cell_type": "markdown",
   "source": [
    "Let us stress once more that you may consider a function as a \"black box\": you do not need to know <i>how</i> the function works or <i>how</i> it is implemented. The name, parameters, and return value are all you need to know. The function might, internally, create variables and do calculations, but they do not have an effect on the rest of your code... at least if the function is implemented well. A function that has no effect on your code is called a \"pure function\", and the functions that we discuss here are all \"pure functions\". However, sometimes functions are designed that actually do have an effect outside the function (e.g. the user may provide parameters that undergo a change). That may be fine, if it is intentional and well-documented. Such functions are called \"modifiers\". Modifiers will come up in later chapters.\n",
    "\n",
    "For now, you can just assume that any function that you use, has no effect on the rest of your code. So calling a function is safe."
   ],
   "metadata": {}
  },
  {
   "cell_type": "markdown",
   "source": [
    "### Creating functions"
   ],
   "metadata": {}
  },
  {
   "cell_type": "markdown",
   "source": [
    "When you create your own functions, you need to define the name of the function, its parameters, and the value it returns. To create a function, you use the following syntax:\n",
    "\n",
    "    def <function_name>( <parameter_list> ):\n",
    "        <statements>\n",
    "\n",
    "The function name must meet the same requirements as variable names, i.e., only letters, digits, and underscores, and it cannot start with a digit. \n",
    "\n",
    "The parameter list consists of zero or more variable names, with commas in between.\n",
    "\n",
    "The code block below the function definition must be indented.\n",
    "\n",
    "Finally, be aware that Python must have \"seen\" your function definition before it sees the call to it in your code. Therefore it is convention to place all function definitions at the top of a program."
   ],
   "metadata": {}
  },
  {
   "cell_type": "markdown",
   "source": [
    "\r\n",
    "### How Python deals with functions"
   ],
   "metadata": {}
  },
  {
   "cell_type": "markdown",
   "source": [
    "To be able to create functions, you have to know how Python deals with functions.\n",
    "\n",
    "Look at the small Python program below. It defines one function, called `goodbyeWorld()`. That function has no parameters. The code block for the function prints the line \"Goodbye, world!\"\n",
    "\n",
    "The rest of the program is not part of a function. We often call the parts of a program that are not inside a function the \"main\" program. The main program prints the line \"Hello, world!\", and then calls the function `goodbyeWorld()`."
   ],
   "metadata": {}
  },
  {
   "cell_type": "code",
   "execution_count": 15,
   "source": [
    "\r\n",
    "def goodbyeWorld():\r\n",
    "    print(\"Goodbye, world!\")\r\n",
    "\r\n",
    "print(\"Hello, world!\")\r\n",
    "goodbyeWorld()\r\n"
   ],
   "outputs": [
    {
     "output_type": "stream",
     "name": "stdout",
     "text": [
      "Hello, world!\n",
      "Goodbye, world!\n"
     ]
    }
   ],
   "metadata": {}
  },
  {
   "cell_type": "markdown",
   "source": [
    "When you run this program, you see that it first prints \"Hello, world!\", and then \"Goodbye, world!\". This happens *even* though Python processes code top-down, so that it sees the line `print( \"Goodbye, world!\" )` before it sees the line `print( \"Hello, world!\" )`. This is because Python does not actually run the code inside functions, at least, not until the moment that the function gets called. Python does not even look at the code in functions. It just notices the function name, registers that that function is defined so that it can be used, and then continues, searching for the main program to run. "
   ],
   "metadata": {}
  },
  {
   "cell_type": "markdown",
   "source": [
    "### Parameters and arguments"
   ],
   "metadata": {}
  },
  {
   "cell_type": "markdown",
   "source": [
    "Examine the code below. It defines a function `hello()` with one parameter, which is called `name`. The function uses the variable `name` in the code block. There is no explicit assignment of the variable name, it exists because it is a parameter of the function.\n",
    "\n",
    "When a function is called, you must provide a value for every (mandatory) parameter that is defined for the function. Such a value is called an \"argument\". Therefore, to call the function `hello()`, you must provide an argument for the parameter `name`. You place this argument between the parentheses of the function call. Note that in your main program you do not need to know that this parameter is called `name`. What it is called is unimportant. The only thing you need to know is that there is a parameter that needs a value, and preferably what kind of value the function is expecting (i.e., what the author of the function expects you to provide)."
   ],
   "metadata": {}
  },
  {
   "cell_type": "code",
   "execution_count": 17,
   "source": [
    "def person(name):\r\n",
    "    print(\"Hello, \"+ name) \r\n",
    "    \r\n",
    "person(\"Adrian\")\r\n",
    "person(\"Binky\")\r\n",
    "person(\"Caroline\")\r\n",
    "person(\"Dante\")"
   ],
   "outputs": [
    {
     "output_type": "stream",
     "name": "stdout",
     "text": [
      "Hello, Adrian\n",
      "Hello, Binky\n",
      "Hello, Caroline\n",
      "Hello, Dante\n"
     ]
    }
   ],
   "metadata": {}
  },
  {
   "cell_type": "markdown",
   "source": [
    "The parameters of a function are no more and no less than variables that you can use in the function, and  get their value from outside the function (namely by a function call). The parameters are \"local\" to the function, i.e., they are not accessible outside the code block of the function, nor do they influence any variable values outside the function.\n",
    "\n",
    "Functions can have multiple parameters. For example, the following function multiplies two parameters and prints the result:"
   ],
   "metadata": {}
  },
  {
   "cell_type": "code",
   "execution_count": 18,
   "source": [
    "def multiply(x, y):\r\n",
    "    result = x * y\r\n",
    "    print(result)\r\n",
    "       \r\n",
    "multiply(2020, 5278238)\r\n",
    "multiply(2, 3)"
   ],
   "outputs": [
    {
     "output_type": "stream",
     "name": "stdout",
     "text": [
      "10662040760\n",
      "6\n"
     ]
    }
   ],
   "metadata": {}
  },
  {
   "cell_type": "markdown",
   "source": [
    "### `return`"
   ],
   "metadata": {}
  },
  {
   "cell_type": "markdown",
   "source": [
    "Parameters can be used to communicate information from outside a function to the code block of the function. Often, you also want function to communicate information to the program that is outside the function. The keyword `return` accomplishes this.\n",
    "\n",
    "When you use the command `return` in a function, that ends the processing of the function, and Python will continue with the code that needs to be executed after the call to the function. You can put one or more values or variables after the `return` statement. These values, and values of variables, are communicated to the program outside the function. If you want to use them outside the function, you can put them into a variable when you assign the call to the function to that variable.\n",
    "\n",
    "If this sounds a bit convoluted, it will probably become clear after studying the following example:"
   ],
   "metadata": {}
  },
  {
   "cell_type": "code",
   "execution_count": 25,
   "source": [
    "def square(a):\r\n",
    "    return a*a \r\n",
    "\r\n",
    "c = square(3)\r\n",
    "print(c)"
   ],
   "outputs": [
    {
     "output_type": "stream",
     "name": "stdout",
     "text": [
      "9\n"
     ]
    }
   ],
   "metadata": {}
  },
  {
   "cell_type": "markdown",
   "source": [
    "The function `square()` calculates the square of its only parameter. Then it returns that value, using the `return` statement. The main program \"captures\" the value by assigning it to variable `c`, then prints the contents of `c`.\n",
    "\n",
    "Note that the `return` statement in the example above has a complete calculation with it. That calculation is done in the function, which leads to a value. It is the result of the calculation, i.e., the value, which is returned to the main program.\n",
    "\n",
    "Note that every line of code in the function that occurs immediately after a `return` at the same level of indentation will always be ignored. E.g., in the function:"
   ],
   "metadata": {}
  },
  {
   "cell_type": "code",
   "execution_count": 30,
   "source": [
    "def square(a):\r\n",
    "    return a*a \r\n",
    "    print(\"This line will never be printed\")\r\n",
    "\r\n",
    "c = square(3)\r\n",
    "print(c)"
   ],
   "outputs": [
    {
     "output_type": "stream",
     "name": "stdout",
     "text": [
      "9\n"
     ]
    }
   ],
   "metadata": {}
  },
  {
   "cell_type": "markdown",
   "source": [
    "The line below `return a*a` clearly states how useless it is."
   ],
   "metadata": {}
  },
  {
   "cell_type": "markdown",
   "source": [
    "### Difference between `return` and `print`"
   ],
   "metadata": {}
  },
  {
   "cell_type": "markdown",
   "source": [
    "Many students struggle with the difference between a function returning a value and a function printing a value. Compare the following two pieces of code:"
   ],
   "metadata": {}
  },
  {
   "cell_type": "code",
   "execution_count": 31,
   "source": [
    "def print3():\r\n",
    "    print(3)\r\n",
    "print3()"
   ],
   "outputs": [
    {
     "output_type": "stream",
     "name": "stdout",
     "text": [
      "3\n"
     ]
    }
   ],
   "metadata": {}
  },
  {
   "cell_type": "markdown",
   "source": [
    "and:"
   ],
   "metadata": {}
  },
  {
   "cell_type": "code",
   "execution_count": 32,
   "source": [
    "def return3():\r\n",
    "    return 3\r\n",
    "print(return3())"
   ],
   "outputs": [
    {
     "output_type": "stream",
     "name": "stdout",
     "text": [
      "3\n"
     ]
    }
   ],
   "metadata": {}
  },
  {
   "cell_type": "markdown",
   "source": [
    "Both the function `print3()` and `return3()` are called in their respective codes, and result in the printing of the value 3. The difference is that the printing of this value in the case of `print3()` happens in the function, while the function returns nothing, while in the case of `return3()` the function only returns the value 3, which is then printed in the main program. For the user the result of these codes looks the same: both display the number 3. But for the programmer the two functions involved are quite different.\n",
    "\n",
    "The function `print3()` can only be used for one purpose, namely to display the number 3. The function `return3()`, however, can be used wherever we need the number 3, regardless whether we need to display it, use it in a calculation, or assign it to a variable. For instance, the following code raises `2` to the power of `3` and prints the result:"
   ],
   "metadata": {}
  },
  {
   "cell_type": "code",
   "execution_count": 35,
   "source": [
    "def return3():\r\n",
    "    return 3\r\n",
    "\r\n",
    "x = 2 ** return3()\r\n",
    "print(x)"
   ],
   "outputs": [
    {
     "output_type": "stream",
     "name": "stdout",
     "text": [
      "8\n"
     ]
    }
   ],
   "metadata": {}
  },
  {
   "cell_type": "markdown",
   "source": [
    "On the other hand, the following code leads to a runtime error when executed:"
   ],
   "metadata": {}
  },
  {
   "cell_type": "code",
   "execution_count": 36,
   "source": [
    "def print3():\r\n",
    "    print(3)\r\n",
    "    \r\n",
    "x = 2 ** print3()\r\n",
    "print(x)"
   ],
   "outputs": [
    {
     "output_type": "stream",
     "name": "stdout",
     "text": [
      "3\n"
     ]
    },
    {
     "output_type": "error",
     "ename": "TypeError",
     "evalue": "unsupported operand type(s) for ** or pow(): 'int' and 'NoneType'",
     "traceback": [
      "\u001b[1;31m---------------------------------------------------------------------------\u001b[0m",
      "\u001b[1;31mTypeError\u001b[0m                                 Traceback (most recent call last)",
      "\u001b[1;32m<ipython-input-36-55ef99620598>\u001b[0m in \u001b[0;36m<module>\u001b[1;34m\u001b[0m\n\u001b[0;32m      2\u001b[0m     \u001b[0mprint\u001b[0m\u001b[1;33m(\u001b[0m\u001b[1;36m3\u001b[0m\u001b[1;33m)\u001b[0m\u001b[1;33m\u001b[0m\u001b[1;33m\u001b[0m\u001b[0m\n\u001b[0;32m      3\u001b[0m \u001b[1;33m\u001b[0m\u001b[0m\n\u001b[1;32m----> 4\u001b[1;33m \u001b[0mx\u001b[0m \u001b[1;33m=\u001b[0m \u001b[1;36m2\u001b[0m \u001b[1;33m**\u001b[0m \u001b[0mprint3\u001b[0m\u001b[1;33m(\u001b[0m\u001b[1;33m)\u001b[0m\u001b[1;33m\u001b[0m\u001b[1;33m\u001b[0m\u001b[0m\n\u001b[0m\u001b[0;32m      5\u001b[0m \u001b[0mprint\u001b[0m\u001b[1;33m(\u001b[0m\u001b[0mx\u001b[0m\u001b[1;33m)\u001b[0m\u001b[1;33m\u001b[0m\u001b[1;33m\u001b[0m\u001b[0m\n",
      "\u001b[1;31mTypeError\u001b[0m: unsupported operand type(s) for ** or pow(): 'int' and 'NoneType'"
     ]
    }
   ],
   "metadata": {}
  },
  {
   "cell_type": "markdown",
   "source": [
    "The reason is that while `print3()` displays the value of 3 on the screen (you even see it above the runtime error), it does not produce the actual value 3 in such a way that the calculation can use it. The function `print3()` actually returns the special value `None`, which cannot be used in a calculation.\n",
    "\n",
    "So, if you want to create a function that produces a value that can be used in other parts of the program, then the function must `return` that value. If you want to create a function that just displays something on the screen, you can use a `print` statement in the function to do that, but the function does not need to `return` anything."
   ],
   "metadata": {}
  },
  {
   "cell_type": "markdown",
   "source": [
    "### Some basic functions"
   ],
   "metadata": {}
  },
  {
   "cell_type": "markdown",
   "source": [
    "**Type casting:**<br>\n",
    "We already introduced the type casting functions before. Here you can see a complete description of them:\n",
    "\n",
    "- `float()` has one parameter and returns a floating-point representation of the value of that parameter. If the parameter holds an integer, it returns the same value as a float (if you print it, you will see `.0` added). If the parameter holds a float, it returns the same value. If the parameter holds a string which can be interpreted as an integer or a float, it returns that interpretation as a float; otherwise it will give a runtime error.\n",
    "- `int()` has one parameter and returns an integer representation of the value of that parameter. If the parameter holds an integer, it returns the same integer. If the parameter holds a float, it returns the integer part of the float, i.e., the float value rounded down. If the parameter holds a string, and the string contains only digits, optionally with a preceding minus-sign, it returns the integer represented by those digits; otherwise it will give a runtime error.\n",
    "- `str()` has  one parameter and returns a string representation of the value of that parameter."
   ],
   "metadata": {}
  },
  {
   "cell_type": "markdown",
   "source": [
    "**Calculations:**<br>\n",
    "Basic Python functions also have limited support for calculations.\n",
    "\n",
    "- `abs()` has one numerical parameter (an integer or a float). If the value is positive, it will return the value. If the value is negative, it will return the value multiplied by `-1`.\n",
    "- `max()` has two or more numerical parameters, and returns the largest.\n",
    "- `min()` has two or more numerical parameters, and returns the smallest.\n",
    "- `pow()` has two numerical parameters, and returns the first to the power of the second. Optionally, it has a third numerical parameter. If that third parameter is supplied, it will return the value modulo that third parameter.\n",
    "- `round()` has a numerical parameter and rounds it, mathematically, to a whole number. It has an optional second parameter. The second parameter must be an integer, and if it is provided, the function will round the first parameter to the number of decimals specified by the second parameter.\n",
    "\n",
    "**Exercise**: Examine the code below and try to determine what it displays. Then run the code and see if you are correct."
   ],
   "metadata": {}
  },
  {
   "cell_type": "code",
   "execution_count": 1,
   "source": [
    "x = -2\r\n",
    "y = 3\r\n",
    "z = 1.27\r\n",
    "\r\n",
    "print(abs(x))\r\n",
    "print(max(x, y, z))\r\n",
    "print(min(x, y, z))\r\n",
    "print(pow(x, y))\r\n",
    "print(round(z, 1))"
   ],
   "outputs": [
    {
     "output_type": "stream",
     "name": "stdout",
     "text": [
      "2\n",
      "3\n",
      "-2\n",
      "-8\n",
      "1.3\n"
     ]
    }
   ],
   "metadata": {}
  },
  {
   "cell_type": "markdown",
   "source": [
    "**`len()`:**<br>\n",
    "`len()` is a basic function that gets one parameter, and it returns the length of that parameter. For now, the only data type which you will use `len()` for is the string. `len()` returns the length of the string, i.e., its number of characters.\n",
    "\n",
    "**Exercise**: What does the code below print? Run it and check if you are correct."
   ],
   "metadata": {}
  },
  {
   "cell_type": "code",
   "execution_count": 40,
   "source": [
    "print(len('can'))\r\n",
    "print(len('can not '))\r\n",
    "print(len(' '))          # '' is an empty string, i.e., a string with no characters in it."
   ],
   "outputs": [
    {
     "output_type": "stream",
     "name": "stdout",
     "text": [
      "3\n",
      "8\n",
      "1\n"
     ]
    }
   ],
   "metadata": {}
  },
  {
   "cell_type": "markdown",
   "source": [
    "**Exercise**: And what about the code below? Think carefully, then check the result."
   ],
   "metadata": {}
  },
  {
   "cell_type": "code",
   "execution_count": 46,
   "source": [
    "print(len('can\\'t'))\r\n",
    "print('can\\'t')"
   ],
   "outputs": [
    {
     "output_type": "stream",
     "name": "stdout",
     "text": [
      "5\n",
      "can't\n"
     ]
    }
   ],
   "metadata": {}
  }
 ],
 "metadata": {
  "kernelspec": {
   "name": "python3",
   "display_name": "Python 3.8.8 64-bit ('base': conda)"
  },
  "language_info": {
   "codemirror_mode": {
    "name": "ipython",
    "version": 3
   },
   "file_extension": ".py",
   "mimetype": "text/x-python",
   "name": "python",
   "nbconvert_exporter": "python",
   "pygments_lexer": "ipython3",
   "version": "3.8.8"
  },
  "interpreter": {
   "hash": "84bb68b6704c5e45a3c6f9b0b73c19df905f14a546e9dcd13d8a1772f75e660b"
  }
 },
 "nbformat": 4,
 "nbformat_minor": 2
}