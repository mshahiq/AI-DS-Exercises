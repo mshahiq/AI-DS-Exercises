{
 "cells": [
  {
   "cell_type": "markdown",
   "metadata": {},
   "source": [
    "# Logistic Regression From Scratch"
   ]
  },
  {
   "cell_type": "code",
   "execution_count": 1,
   "metadata": {},
   "outputs": [],
   "source": [
    "#import libraries\n",
    "import pandas as pd\n",
    "import numpy as np\n",
    "\n",
    "from sklearn.model_selection import train_test_split\n",
    "from sklearn.datasets import load_breast_cancer\n",
    "from sklearn.preprocessing import StandardScaler\n",
    "import matplotlib.pyplot as plt\n",
    "from sklearn.decomposition import PCA\n",
    "from sklearn.metrics import confusion_matrix\n",
    "\n",
    "# import LogisticRegression from logistic_regression.py\n",
    "from logistic_regression import LogisticRegression\n",
    "from sklearn.linear_model import LogisticRegression as LogisticRegressionSklearn\n"
   ]
  },
  {
   "cell_type": "markdown",
   "metadata": {},
   "source": [
    "## Import dataset\n"
   ]
  },
  {
   "cell_type": "code",
   "execution_count": 2,
   "metadata": {},
   "outputs": [],
   "source": [
    "# Load the dataset included with scikit-learn\n",
    "dataset = load_breast_cancer()\n",
    "# Put data in a pandas DataFrame\n",
    "df_dataset = pd.DataFrame(dataset.data, columns=dataset.feature_names)"
   ]
  },
  {
   "cell_type": "markdown",
   "metadata": {},
   "source": [
    "## Transform data label"
   ]
  },
  {
   "cell_type": "code",
   "execution_count": 14,
   "metadata": {},
   "outputs": [],
   "source": [
    "# Add target and class to DataFrame\n",
    "df_dataset[\"target\"] = dataset.target\n",
    "df_dataset[\"class\"] = dataset.target_names[dataset.target]\n",
    "\n",
    "# Show 10 random samples\n",
    "#print(df_dataset.sample(n=10))\n",
    "\n",
    "#print(df_dataset.shape)"
   ]
  },
  {
   "cell_type": "markdown",
   "metadata": {},
   "source": [
    "## Load your data into X and y"
   ]
  },
  {
   "cell_type": "code",
   "execution_count": 4,
   "metadata": {},
   "outputs": [],
   "source": [
    "# same process as always, identify your X's and your y's\n",
    "X,y = df_dataset.drop(['target','class'],axis=1), df_dataset.target\n"
   ]
  },
  {
   "cell_type": "markdown",
   "metadata": {},
   "source": [
    "## Define train test split"
   ]
  },
  {
   "cell_type": "code",
   "execution_count": 5,
   "metadata": {},
   "outputs": [],
   "source": [
    "#train-test-split\n",
    "X_train, X_test, y_train, y_test = train_test_split(X,y,test_size=.2,stratify=y,random_state=0)\n",
    "\n",
    "# Scale the X's\n",
    "scalar = StandardScaler()\n",
    "X_train = scalar.fit_transform(X_train)\n",
    "X_test = scalar.transform(X_test)\n"
   ]
  },
  {
   "cell_type": "markdown",
   "metadata": {},
   "source": [
    "\n",
    "## Logistics Regression\n",
    "To find the coefficients C, we use the formular\n",
    "$$\n",
    "C = (X{train}^TX{train})^{-1}X{train}^TY{train}\n",
    "$$\n",
    "Given X, to predict Y, use\n",
    "$$\n",
    "\\begin{equation}\n",
    "Y_{score} = \\frac{1}{1+e^{-XC}}\n",
    "\\end{equation}\n",
    "$$\n",
    "$$\n",
    "\\begin{equation}\n",
    "Y{pred} = 0 \\ if \\ Y{score} \\ < \\ 0.5 \\ else \\ 1\n",
    "\\end{equation}\n",
    "$$\n",
    "\n",
    "\n",
    "sources:\n",
    "1. https://www.hackerearth.com/practice/machine-learning/linear-regression/multivariate-linear-regression-1/tutorial/\n",
    "2. https://realpython.com/logistic-regression-python/"
   ]
  },
  {
   "cell_type": "markdown",
   "metadata": {},
   "source": []
  },
  {
   "cell_type": "markdown",
   "metadata": {},
   "source": [
    "## Fit the model"
   ]
  },
  {
   "cell_type": "code",
   "execution_count": 6,
   "metadata": {},
   "outputs": [
    {
     "data": {
      "text/plain": [
       "<logistic_regression.LogisticRegression at 0x269c455baf0>"
      ]
     },
     "execution_count": 6,
     "metadata": {},
     "output_type": "execute_result"
    }
   ],
   "source": [
    "logistic_regression = LogisticRegression()\n",
    "logistic_regression.fit(X_train,y_train)"
   ]
  },
  {
   "cell_type": "markdown",
   "metadata": {},
   "source": [
    "## Make Predictions on Train and Test Set"
   ]
  },
  {
   "cell_type": "code",
   "execution_count": 7,
   "metadata": {},
   "outputs": [],
   "source": [
    "yTrain_pred = logistic_regression.predict(X_train)\n",
    "yTest_pred = logistic_regression.predict(X_test)"
   ]
  },
  {
   "cell_type": "markdown",
   "metadata": {},
   "source": [
    "## Compute Accuracy"
   ]
  },
  {
   "cell_type": "code",
   "execution_count": 8,
   "metadata": {},
   "outputs": [
    {
     "name": "stdout",
     "output_type": "stream",
     "text": [
      "Train Accuracy 98.02%\n",
      "Test Accuracy 95.61%\n"
     ]
    }
   ],
   "source": [
    "yTrain_score = logistic_regression.score(y_train, yTrain_pred)\n",
    "yTest_score = logistic_regression.score(y_test, yTest_pred)\n",
    "\n",
    "print('Train Accuracy {:0.2f}%'.format( yTrain_score ))\n",
    "print('Test Accuracy {:0.2f}%'.format( yTest_score ))"
   ]
  },
  {
   "cell_type": "markdown",
   "metadata": {},
   "source": [
    "## Confusion Matrix"
   ]
  },
  {
   "cell_type": "code",
   "execution_count": 9,
   "metadata": {},
   "outputs": [
    {
     "data": {
      "text/html": [
       "<div>\n",
       "<style scoped>\n",
       "    .dataframe tbody tr th:only-of-type {\n",
       "        vertical-align: middle;\n",
       "    }\n",
       "\n",
       "    .dataframe tbody tr th {\n",
       "        vertical-align: top;\n",
       "    }\n",
       "\n",
       "    .dataframe thead th {\n",
       "        text-align: right;\n",
       "    }\n",
       "</style>\n",
       "<table border=\"1\" class=\"dataframe\">\n",
       "  <thead>\n",
       "    <tr style=\"text-align: right;\">\n",
       "      <th></th>\n",
       "      <th>pred_malignant</th>\n",
       "      <th>pred_benign</th>\n",
       "    </tr>\n",
       "  </thead>\n",
       "  <tbody>\n",
       "    <tr>\n",
       "      <th>act_malignant</th>\n",
       "      <td>41</td>\n",
       "      <td>1</td>\n",
       "    </tr>\n",
       "    <tr>\n",
       "      <th>act_benign</th>\n",
       "      <td>4</td>\n",
       "      <td>68</td>\n",
       "    </tr>\n",
       "  </tbody>\n",
       "</table>\n",
       "</div>"
      ],
      "text/plain": [
       "               pred_malignant  pred_benign\n",
       "act_malignant              41            1\n",
       "act_benign                  4           68"
      ]
     },
     "execution_count": 9,
     "metadata": {},
     "output_type": "execute_result"
    }
   ],
   "source": [
    "y_label = dataset.target_names\n",
    "pd.DataFrame(confusion_matrix(y_test, yTest_pred),\\\n",
    "     columns=['pred_'+str(y_label[i])  for i in y_test.unique()],index=['act_'+str(y_label[i])  for i in y_test.unique()])"
   ]
  },
  {
   "cell_type": "markdown",
   "metadata": {},
   "source": [
    "## Plot words"
   ]
  },
  {
   "cell_type": "code",
   "execution_count": 10,
   "metadata": {},
   "outputs": [
    {
     "data": {
      "image/png": "[encoded data removed]",
      "text/plain": [
       "<Figure size 432x288 with 1 Axes>"
      ]
     },
     "metadata": {
      "needs_background": "light"
     },
     "output_type": "display_data"
    }
   ],
   "source": [
    "pca = PCA(n_components=2)\n",
    "X_train_pca = pca.fit_transform(X_train)\n",
    "X_test_pca = pca.transform(X_test)\n",
    "\n",
    "logistic_regression.make_plot(y_test,X_test_pca,'Original')\n"
   ]
  },
  {
   "cell_type": "code",
   "execution_count": 11,
   "metadata": {},
   "outputs": [
    {
     "data": {
      "image/png": "[encoded data removed]",
      "text/plain": [
       "<Figure size 432x288 with 1 Axes>"
      ]
     },
     "metadata": {
      "needs_background": "light"
     },
     "output_type": "display_data"
    }
   ],
   "source": [
    "logistic_regression.make_plot(yTest_pred,X_test_pca,'Predicted')"
   ]
  },
  {
   "cell_type": "markdown",
   "metadata": {},
   "source": [
    "## Sklearn Fitting"
   ]
  },
  {
   "cell_type": "code",
   "execution_count": 12,
   "metadata": {},
   "outputs": [
    {
     "name": "stdout",
     "output_type": "stream",
     "text": [
      "               pred_malignant  pred_benign\n",
      "act_malignant              40            2\n",
      "act_benign                  0           72\n",
      "\n",
      "Train Accuracy 98.90%\n",
      "Test Accuracy 98.25%\n"
     ]
    },
    {
     "data": {
      "image/png": "[encoded data removed]",
      "text/plain": [
       "<Figure size 432x288 with 1 Axes>"
      ]
     },
     "metadata": {
      "needs_background": "light"
     },
     "output_type": "display_data"
    }
   ],
   "source": [
    "logistic_regression_sklearn = LogisticRegressionSklearn(solver='liblinear')\n",
    "logistic_regression_sklearn.fit(X_train,y_train)\n",
    "\n",
    "yTrain_pred_sklearn = logistic_regression_sklearn.predict(X_train)\n",
    "yTest_pred_sklearn = logistic_regression_sklearn.predict(X_test)\n",
    "\n",
    "yTrain_score_sklearn = (sum(y_train == yTrain_pred_sklearn) / len(yTrain_pred_sklearn))*100\n",
    "yTest_score_sklearn = (sum(y_test == yTest_pred_sklearn) / len(yTest_pred_sklearn))*100\n",
    "\n",
    "#Confussion Matrix\n",
    "y_label_sklearn = dataset.target_names\n",
    "cm = pd.DataFrame(confusion_matrix(y_test, yTest_pred_sklearn),\\\n",
    "     columns=['pred_'+str(y_label_sklearn[i]) for i in y_test.unique()],index=['act_'+str(y_label_sklearn[i])  for i in y_test.unique()])\n",
    "\n",
    "print(cm)\n",
    "print('\\nTrain Accuracy {:0.2f}%'.format( yTrain_score_sklearn ))\n",
    "print('Test Accuracy {:0.2f}%'.format( yTest_score_sklearn ))\n",
    "\n",
    "logistic_regression.make_plot(yTest_pred_sklearn,X_test_pca,'Predicted')"
   ]
  },
  {
   "cell_type": "markdown",
   "metadata": {},
   "source": [
    "## Single value prediction with best model"
   ]
  },
  {
   "cell_type": "code",
   "execution_count": 17,
   "metadata": {},
   "outputs": [
    {
     "name": "stdout",
     "output_type": "stream",
     "text": [
      "Actual:\t malignant\n",
      "L_Pred:\t malignant\n",
      "Skearn:\t malignant\n"
     ]
    }
   ],
   "source": [
    "id=10\n",
    "\n",
    "y_pred = logistic_regression.predict(X_test[id].reshape(1,-1))\n",
    "y_pred_sklearn = logistic_regression_sklearn.predict(X_test[id].reshape(1,-1))\n",
    "y_label = dataset.target_names\n",
    "\n",
    "print(\"Actual:\\t\",y_label[y_test.values[id]])\n",
    "print(\"L_Pred:\\t\",y_label[yTest_pred[0]])\n",
    "print(\"Skearn:\\t\", y_label[y_pred_sklearn[0]])\n"
   ]
  },
  {
   "cell_type": "markdown",
   "metadata": {},
   "source": []
  }
 ],
 "metadata": {
  "interpreter": {
   "hash": "7016010205a98451d52b0c4cab227365108095c7ad70437c80600f3976844f69"
  },
  "kernelspec": {
   "display_name": "Python 3.9.4 64-bit ('strive': conda)",
   "name": "python3"
  },
  "language_info": {
   "codemirror_mode": {
    "name": "ipython",
    "version": 3
   },
   "file_extension": ".py",
   "mimetype": "text/x-python",
   "name": "python",
   "nbconvert_exporter": "python",
   "pygments_lexer": "ipython3",
   "version": "3.9.4"
  },
  "varInspector": {
   "cols": {
    "lenName": 16,
    "lenType": 16,
    "lenVar": 40
   },
   "kernels_config": {
    "python": {
     "delete_cmd_postfix": "",
     "delete_cmd_prefix": "del ",
     "library": "var_list.py",
     "varRefreshCmd": "print(var_dic_list())"
    },
    "r": {
     "delete_cmd_postfix": ") ",
     "delete_cmd_prefix": "rm(",
     "library": "var_list.r",
     "varRefreshCmd": "cat(var_dic_list()) "
    }
   },
   "types_to_exclude": [
    "module",
    "function",
    "builtin_function_or_method",
    "instance",
    "_Feature"
   ],
   "window_display": false
  }
 },
 "nbformat": 4,
 "nbformat_minor": 4
}
