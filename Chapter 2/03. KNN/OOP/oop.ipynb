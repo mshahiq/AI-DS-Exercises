{
 "cells": [
  {
   "cell_type": "code",
   "execution_count": null,
   "metadata": {},
   "outputs": [],
   "source": [
    "\"a class is a blueprint\"\n",
    "\" an instance object, object has data based on the blueprint\"#\n"
   ]
  },
  {
   "cell_type": "markdown",
   "metadata": {},
   "source": [
    "# Cat class\n"
   ]
  },
  {
   "cell_type": "code",
   "execution_count": 72,
   "metadata": {},
   "outputs": [],
   "source": [
    "class Cat:\n",
    "    \n",
    "    # class attribute\n",
    "    species = \"strive-bred\"\n",
    "\n",
    "    def __init__(self, name, age):  # constructor can have as many arguments as you want \n",
    "        self.name = name\n",
    "        self.age = age # self is a reference to the object itself\n",
    "\n",
    "    # a function is known as a method\n",
    "    def decxcr (self,einf): \n",
    "        self.einf = einf \n",
    "        return f\"{self.name} is a very {self.einf}\" \n",
    "\n",
    "    # another method\n",
    "    def gifgin(self):\n",
    "        pass\n",
    "\n",
    "    "
   ]
  },
  {
   "cell_type": "code",
   "execution_count": 87,
   "metadata": {},
   "outputs": [],
   "source": [
    "jack = Cat('jack',3)  #jack is an object and since class Cat requires the 2 positional arguments to initialize we need to provide them else it will throw an error\n",
    "millie = Cat('millie',5)"
   ]
  },
  {
   "cell_type": "code",
   "execution_count": 93,
   "metadata": {},
   "outputs": [
    {
     "name": "stdout",
     "output_type": "stream",
     "text": [
      "<__main__.Cat object at 0x000001452A2909A0>\n",
      "<__main__.Cat object at 0x000001452A290F40>\n",
      "False\n"
     ]
    }
   ],
   "source": [
    "print(jack) \n",
    "print(millie) # note the the value returned is not the same \n",
    "print(jack == millie) # checking if the objects are equal or not "
   ]
  },
  {
   "cell_type": "code",
   "execution_count": 88,
   "metadata": {},
   "outputs": [
    {
     "data": {
      "text/plain": [
       "<bound method Cat.gifgin of <__main__.Cat object at 0x000001452A290F40>>"
      ]
     },
     "execution_count": 88,
     "metadata": {},
     "output_type": "execute_result"
    }
   ],
   "source": [
    "millie.gifgin  #calling a method without parenthesis \n"
   ]
  },
  {
   "cell_type": "code",
   "execution_count": 89,
   "metadata": {},
   "outputs": [],
   "source": [
    "millie.gifgin() #calling a method with parenthesis exectues the method"
   ]
  },
  {
   "cell_type": "code",
   "execution_count": 90,
   "metadata": {},
   "outputs": [
    {
     "data": {
      "text/plain": [
       "'jack is a very cute annoying cat'"
      ]
     },
     "execution_count": 90,
     "metadata": {},
     "output_type": "execute_result"
    }
   ],
   "source": [
    "jack.decxcr(einf =\"cute annoying cat\")"
   ]
  },
  {
   "cell_type": "code",
   "execution_count": 91,
   "metadata": {},
   "outputs": [
    {
     "data": {
      "text/plain": [
       "'millie is a very cute cat'"
      ]
     },
     "execution_count": 91,
     "metadata": {},
     "output_type": "execute_result"
    }
   ],
   "source": [
    "millie.decxcr(einf =\"cute cat\")"
   ]
  }
 ],
 "metadata": {
  "interpreter": {
   "hash": "d234c4fe2f89df02423bbcc46f390a53e6aaadcd3ed7b93aeb5367cbf75c85dd"
  },
  "kernelspec": {
   "display_name": "Python 3.8.11 64-bit ('scrappy': conda)",
   "name": "python3"
  },
  "language_info": {
   "codemirror_mode": {
    "name": "ipython",
    "version": 3
   },
   "file_extension": ".py",
   "mimetype": "text/x-python",
   "name": "python",
   "nbconvert_exporter": "python",
   "pygments_lexer": "ipython3",
   "version": "3.8.11"
  },
  "orig_nbformat": 4
 },
 "nbformat": 4,
 "nbformat_minor": 2
}
